{
 "cells": [
  {
   "cell_type": "code",
   "execution_count": 1,
   "metadata": {},
   "outputs": [],
   "source": [
    "from src import Ofstat, MarketValue, Understat as my_understat\n",
    "from src.Season import Season, get_season\n",
    "from src.Understat import table_team_filter, enum_to_dict, reformat\n",
    "import pandas as pd\n",
    "from selenium import webdriver\n",
    "from understat import Understat\n",
    "import aiohttp\n",
    "from datetime import datetime\n",
    "import warnings\n",
    "warnings.filterwarnings('ignore')"
   ]
  },
  {
   "cell_type": "code",
   "execution_count": 2,
   "metadata": {},
   "outputs": [],
   "source": [
    "temp_table = pd.read_csv('final_py_test.csv')"
   ]
  },
  {
   "cell_type": "code",
   "execution_count": 3,
   "metadata": {},
   "outputs": [],
   "source": [
    "base_url ='https://ofstats.com/'\n",
    "matches_url = 'https://ofstats.com/matches/view/'\n",
    "seasons_url = 'https://ofstats.com/season/'"
   ]
  },
  {
   "cell_type": "code",
   "execution_count": 4,
   "metadata": {},
   "outputs": [],
   "source": [
    "last_dataset_path = '20_21_w_fixed.csv' #20_21_w_fixed.csv\n",
    "last_dataset = pd.read_csv(last_dataset_path)"
   ]
  },
  {
   "cell_type": "code",
   "execution_count": 5,
   "metadata": {},
   "outputs": [],
   "source": [
    "# какую лигу и сезон хотим спарсить\n",
    "liga = 'epl'\n",
    "season = get_season(\"2022-2023\")"
   ]
  },
  {
   "cell_type": "code",
   "execution_count": 5,
   "metadata": {},
   "outputs": [
    {
     "name": "stdout",
     "output_type": "stream",
     "text": [
      "No data on season england-premier-league-2022-2023 in 20_21_w_fixed.csv\n"
     ]
    }
   ],
   "source": [
    "# проверить, на какую дату в датасете последние данные\n",
    "# это все надо спрятать\n",
    "table_season = Ofstat.get_season(liga, season)\n",
    "last_dataset_liga_season = last_dataset[last_dataset['Season'] == table_season]\n",
    "try:\n",
    "    last_match_date = sorted([datetime.strptime(x,'%d.%m.%Y') for x in last_dataset_liga_season['Date']])[-1] \n",
    "    print(f'Latest match in {table_season} was on {last_match_date}')\n",
    "except IndexError:\n",
    "    print(f'No data on season {table_season} in {last_dataset_path}')\n"
   ]
  },
  {
   "cell_type": "code",
   "execution_count": 6,
   "metadata": {},
   "outputs": [
    {
     "data": {
      "text/plain": [
       "<coroutine object ClientSession.close at 0x0000017A3A09A6C0>"
      ]
     },
     "execution_count": 6,
     "metadata": {},
     "output_type": "execute_result"
    }
   ],
   "source": [
    "# получаем таблицу матчей лига-сезон\n",
    "session = aiohttp.ClientSession()\n",
    "understat = Understat(session)\n",
    "fixtures = await understat.get_league_fixtures(\"epl\", 2022)\n",
    "session.close()"
   ]
  },
  {
   "cell_type": "code",
   "execution_count": 7,
   "metadata": {},
   "outputs": [
    {
     "data": {
      "text/html": [
       "<div>\n",
       "<style scoped>\n",
       "    .dataframe tbody tr th:only-of-type {\n",
       "        vertical-align: middle;\n",
       "    }\n",
       "\n",
       "    .dataframe tbody tr th {\n",
       "        vertical-align: top;\n",
       "    }\n",
       "\n",
       "    .dataframe thead th {\n",
       "        text-align: right;\n",
       "    }\n",
       "</style>\n",
       "<table border=\"1\" class=\"dataframe\">\n",
       "  <thead>\n",
       "    <tr style=\"text-align: right;\">\n",
       "      <th></th>\n",
       "      <th>id</th>\n",
       "      <th>isResult</th>\n",
       "      <th>h</th>\n",
       "      <th>a</th>\n",
       "      <th>goals</th>\n",
       "      <th>xG</th>\n",
       "      <th>datetime</th>\n",
       "    </tr>\n",
       "  </thead>\n",
       "  <tbody>\n",
       "    <tr>\n",
       "      <th>14</th>\n",
       "      <td>18362</td>\n",
       "      <td>False</td>\n",
       "      <td>{'id': '83', 'title': 'Arsenal', 'short_title'...</td>\n",
       "      <td>{'id': '81', 'title': 'West Ham', 'short_title...</td>\n",
       "      <td>{'h': None, 'a': None}</td>\n",
       "      <td>{'h': None, 'a': None}</td>\n",
       "      <td>2022-12-26 12:00:00</td>\n",
       "    </tr>\n",
       "    <tr>\n",
       "      <th>15</th>\n",
       "      <td>18363</td>\n",
       "      <td>False</td>\n",
       "      <td>{'id': '71', 'title': 'Aston Villa', 'short_ti...</td>\n",
       "      <td>{'id': '87', 'title': 'Liverpool', 'short_titl...</td>\n",
       "      <td>{'h': None, 'a': None}</td>\n",
       "      <td>{'h': None, 'a': None}</td>\n",
       "      <td>2022-12-26 12:00:00</td>\n",
       "    </tr>\n",
       "    <tr>\n",
       "      <th>16</th>\n",
       "      <td>18364</td>\n",
       "      <td>False</td>\n",
       "      <td>{'id': '244', 'title': 'Brentford', 'short_tit...</td>\n",
       "      <td>{'id': '82', 'title': 'Tottenham', 'short_titl...</td>\n",
       "      <td>{'h': None, 'a': None}</td>\n",
       "      <td>{'h': None, 'a': None}</td>\n",
       "      <td>2022-12-26 12:00:00</td>\n",
       "    </tr>\n",
       "    <tr>\n",
       "      <th>17</th>\n",
       "      <td>18365</td>\n",
       "      <td>False</td>\n",
       "      <td>{'id': '80', 'title': 'Chelsea', 'short_title'...</td>\n",
       "      <td>{'id': '73', 'title': 'Bournemouth', 'short_ti...</td>\n",
       "      <td>{'h': None, 'a': None}</td>\n",
       "      <td>{'h': None, 'a': None}</td>\n",
       "      <td>2022-12-26 12:00:00</td>\n",
       "    </tr>\n",
       "    <tr>\n",
       "      <th>18</th>\n",
       "      <td>18366</td>\n",
       "      <td>False</td>\n",
       "      <td>{'id': '78', 'title': 'Crystal Palace', 'short...</td>\n",
       "      <td>{'id': '228', 'title': 'Fulham', 'short_title'...</td>\n",
       "      <td>{'h': None, 'a': None}</td>\n",
       "      <td>{'h': None, 'a': None}</td>\n",
       "      <td>2022-12-26 12:00:00</td>\n",
       "    </tr>\n",
       "  </tbody>\n",
       "</table>\n",
       "</div>"
      ],
      "text/plain": [
       "       id  isResult                                                  h  \\\n",
       "14  18362     False  {'id': '83', 'title': 'Arsenal', 'short_title'...   \n",
       "15  18363     False  {'id': '71', 'title': 'Aston Villa', 'short_ti...   \n",
       "16  18364     False  {'id': '244', 'title': 'Brentford', 'short_tit...   \n",
       "17  18365     False  {'id': '80', 'title': 'Chelsea', 'short_title'...   \n",
       "18  18366     False  {'id': '78', 'title': 'Crystal Palace', 'short...   \n",
       "\n",
       "                                                    a                   goals  \\\n",
       "14  {'id': '81', 'title': 'West Ham', 'short_title...  {'h': None, 'a': None}   \n",
       "15  {'id': '87', 'title': 'Liverpool', 'short_titl...  {'h': None, 'a': None}   \n",
       "16  {'id': '82', 'title': 'Tottenham', 'short_titl...  {'h': None, 'a': None}   \n",
       "17  {'id': '73', 'title': 'Bournemouth', 'short_ti...  {'h': None, 'a': None}   \n",
       "18  {'id': '228', 'title': 'Fulham', 'short_title'...  {'h': None, 'a': None}   \n",
       "\n",
       "                        xG             datetime  \n",
       "14  {'h': None, 'a': None}  2022-12-26 12:00:00  \n",
       "15  {'h': None, 'a': None}  2022-12-26 12:00:00  \n",
       "16  {'h': None, 'a': None}  2022-12-26 12:00:00  \n",
       "17  {'h': None, 'a': None}  2022-12-26 12:00:00  \n",
       "18  {'h': None, 'a': None}  2022-12-26 12:00:00  "
      ]
     },
     "execution_count": 7,
     "metadata": {},
     "output_type": "execute_result"
    }
   ],
   "source": [
    "# фильтруем матчи по дате: последней дате из датасета, сегодняшней дате, любой дате\n",
    "\n",
    "starting_date = datetime.today() # or last_match_date\n",
    "\n",
    "fixtures = pd.DataFrame(fixtures)\n",
    "fixtures = fixtures[pd.to_datetime(fixtures['datetime'], format='%Y.%m.%d') > starting_date]\n",
    "fixtures.head()"
   ]
  },
  {
   "cell_type": "code",
   "execution_count": 8,
   "metadata": {},
   "outputs": [
    {
     "data": {
      "text/html": [
       "<div>\n",
       "<style scoped>\n",
       "    .dataframe tbody tr th:only-of-type {\n",
       "        vertical-align: middle;\n",
       "    }\n",
       "\n",
       "    .dataframe tbody tr th {\n",
       "        vertical-align: top;\n",
       "    }\n",
       "\n",
       "    .dataframe thead th {\n",
       "        text-align: right;\n",
       "    }\n",
       "</style>\n",
       "<table border=\"1\" class=\"dataframe\">\n",
       "  <thead>\n",
       "    <tr style=\"text-align: right;\">\n",
       "      <th></th>\n",
       "      <th>Date</th>\n",
       "      <th>Host</th>\n",
       "      <th>Guest</th>\n",
       "      <th>Status</th>\n",
       "      <th>Season</th>\n",
       "    </tr>\n",
       "  </thead>\n",
       "  <tbody>\n",
       "    <tr>\n",
       "      <th>0</th>\n",
       "      <td>26.12.2022</td>\n",
       "      <td>Arsenal</td>\n",
       "      <td>West Ham</td>\n",
       "      <td>Upcoming</td>\n",
       "      <td>england-premier-league-2022-2023</td>\n",
       "    </tr>\n",
       "    <tr>\n",
       "      <th>1</th>\n",
       "      <td>26.12.2022</td>\n",
       "      <td>Aston Villa</td>\n",
       "      <td>Liverpool</td>\n",
       "      <td>Upcoming</td>\n",
       "      <td>england-premier-league-2022-2023</td>\n",
       "    </tr>\n",
       "    <tr>\n",
       "      <th>2</th>\n",
       "      <td>26.12.2022</td>\n",
       "      <td>Brentford</td>\n",
       "      <td>Tottenham</td>\n",
       "      <td>Upcoming</td>\n",
       "      <td>england-premier-league-2022-2023</td>\n",
       "    </tr>\n",
       "    <tr>\n",
       "      <th>3</th>\n",
       "      <td>26.12.2022</td>\n",
       "      <td>Chelsea</td>\n",
       "      <td>Bournemouth</td>\n",
       "      <td>Upcoming</td>\n",
       "      <td>england-premier-league-2022-2023</td>\n",
       "    </tr>\n",
       "    <tr>\n",
       "      <th>4</th>\n",
       "      <td>26.12.2022</td>\n",
       "      <td>Crystal Palace</td>\n",
       "      <td>Fulham</td>\n",
       "      <td>Upcoming</td>\n",
       "      <td>england-premier-league-2022-2023</td>\n",
       "    </tr>\n",
       "  </tbody>\n",
       "</table>\n",
       "</div>"
      ],
      "text/plain": [
       "         Date            Host        Guest    Status  \\\n",
       "0  26.12.2022         Arsenal     West Ham  Upcoming   \n",
       "1  26.12.2022     Aston Villa    Liverpool  Upcoming   \n",
       "2  26.12.2022       Brentford    Tottenham  Upcoming   \n",
       "3  26.12.2022         Chelsea  Bournemouth  Upcoming   \n",
       "4  26.12.2022  Crystal Palace       Fulham  Upcoming   \n",
       "\n",
       "                             Season  \n",
       "0  england-premier-league-2022-2023  \n",
       "1  england-premier-league-2022-2023  \n",
       "2  england-premier-league-2022-2023  \n",
       "3  england-premier-league-2022-2023  \n",
       "4  england-premier-league-2022-2023  "
      ]
     },
     "execution_count": 8,
     "metadata": {},
     "output_type": "execute_result"
    }
   ],
   "source": [
    "# форматируем данные из апи\n",
    "# колонки, алиасы\n",
    "\n",
    "_host = [x['title'] for x in fixtures['h']]\n",
    "_guest = [x['title'] for x in fixtures['a']]\n",
    "_date = [x.strftime(\"%d.%m.%Y\") for x in pd.to_datetime(fixtures['datetime'], format='%Y.%m.%d')]\n",
    "_status = 'Upcoming'\n",
    "_season = Ofstat.get_season(liga, season)\n",
    "\n",
    "temp_table = pd.DataFrame({'Date' : _date , 'Host': _host, 'Guest': _guest, 'Status': _status, 'Season' : _season})\n",
    "temp_table.head()"
   ]
  },
  {
   "cell_type": "code",
   "execution_count": 9,
   "metadata": {},
   "outputs": [],
   "source": [
    "# инитим драйвер\n",
    "# когда откроется окно firefox, на него нужно нажать\n",
    "driver = webdriver.Firefox()"
   ]
  },
  {
   "cell_type": "code",
   "execution_count": 13,
   "metadata": {},
   "outputs": [],
   "source": [
    "# получаем статистику offstat за t-1 сезон: \n",
    "# Host: Average shots stvor, Guest: Average shots stvor, Host: Average corner situation, Guest: Average corner situation\n",
    "# Host: SCR, Guest: SCR, Host: Ball control, Guest: Ball control"
   ]
  },
  {
   "cell_type": "code",
   "execution_count": 10,
   "metadata": {},
   "outputs": [],
   "source": [
    "# чтобы парсить Ofstat после Understat, нужно применить алиасы\n",
    "temp_table['Host'] = temp_table['Host'].replace(enum_to_dict(Ofstat.AliasesUnderstatToOfstat)[liga])\n",
    "temp_table['Guest'] = temp_table['Guest'].replace(enum_to_dict(Ofstat.AliasesUnderstatToOfstat)[liga])"
   ]
  },
  {
   "cell_type": "code",
   "execution_count": 12,
   "metadata": {},
   "outputs": [
    {
     "ename": "NoSuchElementException",
     "evalue": "Message: Unable to locate element: //*[@href=\"/matches/statistics/arsenal-west-ham-united-2022-12-26\"]\nStacktrace:\nRemoteError@chrome://remote/content/shared/RemoteError.sys.mjs:8:8\nWebDriverError@chrome://remote/content/shared/webdriver/Errors.sys.mjs:182:5\nNoSuchElementError@chrome://remote/content/shared/webdriver/Errors.sys.mjs:394:5\nelement.find/</<@chrome://remote/content/marionette/element.sys.mjs:280:16\n",
     "output_type": "error",
     "traceback": [
      "\u001b[1;31m---------------------------------------------------------------------------\u001b[0m",
      "\u001b[1;31mNoSuchElementException\u001b[0m                    Traceback (most recent call last)",
      "\u001b[1;32m<ipython-input-12-9ce59da95971>\u001b[0m in \u001b[0;36m<module>\u001b[1;34m\u001b[0m\n\u001b[1;32m----> 1\u001b[1;33m \u001b[0mtemp_table\u001b[0m \u001b[1;33m=\u001b[0m \u001b[0mOfstat\u001b[0m\u001b[1;33m.\u001b[0m\u001b[0mget_matches_statistics\u001b[0m\u001b[1;33m(\u001b[0m\u001b[0mdriver\u001b[0m\u001b[1;33m,\u001b[0m \u001b[0mtemp_table\u001b[0m\u001b[1;33m,\u001b[0m \u001b[0mmatches_url\u001b[0m\u001b[1;33m)\u001b[0m\u001b[1;33m\u001b[0m\u001b[1;33m\u001b[0m\u001b[0m\n\u001b[0m",
      "\u001b[1;32m~\\PycharmProjects\\AI_bot_parsing\\src\\Ofstat.py\u001b[0m in \u001b[0;36mget_matches_statistics\u001b[1;34m(driver, temp_table, matches_url)\u001b[0m\n\u001b[0;32m    174\u001b[0m \u001b[1;33m\u001b[0m\u001b[0m\n\u001b[0;32m    175\u001b[0m         \u001b[0mtime\u001b[0m\u001b[1;33m.\u001b[0m\u001b[0msleep\u001b[0m\u001b[1;33m(\u001b[0m\u001b[1;36m3\u001b[0m\u001b[1;33m)\u001b[0m\u001b[1;33m\u001b[0m\u001b[1;33m\u001b[0m\u001b[0m\n\u001b[1;32m--> 176\u001b[1;33m         \u001b[0mclickable\u001b[0m \u001b[1;33m=\u001b[0m \u001b[0mdriver\u001b[0m\u001b[1;33m.\u001b[0m\u001b[0mfind_element\u001b[0m\u001b[1;33m(\u001b[0m\u001b[0mBy\u001b[0m\u001b[1;33m.\u001b[0m\u001b[0mXPATH\u001b[0m\u001b[1;33m,\u001b[0m \u001b[1;34mf'//*[@href=\"/matches/statistics/{team1}-{team2}-{date_formatted}\"]'\u001b[0m\u001b[1;33m)\u001b[0m\u001b[1;33m\u001b[0m\u001b[1;33m\u001b[0m\u001b[0m\n\u001b[0m\u001b[0;32m    177\u001b[0m         \u001b[0mActionChains\u001b[0m\u001b[1;33m(\u001b[0m\u001b[0mdriver\u001b[0m\u001b[1;33m)\u001b[0m\u001b[1;33m.\u001b[0m\u001b[0mclick\u001b[0m\u001b[1;33m(\u001b[0m\u001b[0mclickable\u001b[0m\u001b[1;33m)\u001b[0m\u001b[1;33m.\u001b[0m\u001b[0mperform\u001b[0m\u001b[1;33m(\u001b[0m\u001b[1;33m)\u001b[0m\u001b[1;33m\u001b[0m\u001b[1;33m\u001b[0m\u001b[0m\n\u001b[0;32m    178\u001b[0m         \u001b[0mtime\u001b[0m\u001b[1;33m.\u001b[0m\u001b[0msleep\u001b[0m\u001b[1;33m(\u001b[0m\u001b[1;36m3\u001b[0m\u001b[1;33m)\u001b[0m\u001b[1;33m\u001b[0m\u001b[1;33m\u001b[0m\u001b[0m\n",
      "\u001b[1;32mc:\\users\\asus\\appdata\\local\\programs\\python\\python38\\lib\\site-packages\\selenium\\webdriver\\remote\\webdriver.py\u001b[0m in \u001b[0;36mfind_element\u001b[1;34m(self, by, value)\u001b[0m\n\u001b[0;32m   1246\u001b[0m             \u001b[0mvalue\u001b[0m \u001b[1;33m=\u001b[0m \u001b[1;34m'[name=\"%s\"]'\u001b[0m \u001b[1;33m%\u001b[0m \u001b[0mvalue\u001b[0m\u001b[1;33m\u001b[0m\u001b[1;33m\u001b[0m\u001b[0m\n\u001b[0;32m   1247\u001b[0m \u001b[1;33m\u001b[0m\u001b[0m\n\u001b[1;32m-> 1248\u001b[1;33m         return self.execute(Command.FIND_ELEMENT, {\n\u001b[0m\u001b[0;32m   1249\u001b[0m             \u001b[1;34m'using'\u001b[0m\u001b[1;33m:\u001b[0m \u001b[0mby\u001b[0m\u001b[1;33m,\u001b[0m\u001b[1;33m\u001b[0m\u001b[1;33m\u001b[0m\u001b[0m\n\u001b[0;32m   1250\u001b[0m             'value': value})['value']\n",
      "\u001b[1;32mc:\\users\\asus\\appdata\\local\\programs\\python\\python38\\lib\\site-packages\\selenium\\webdriver\\remote\\webdriver.py\u001b[0m in \u001b[0;36mexecute\u001b[1;34m(self, driver_command, params)\u001b[0m\n\u001b[0;32m    423\u001b[0m         \u001b[0mresponse\u001b[0m \u001b[1;33m=\u001b[0m \u001b[0mself\u001b[0m\u001b[1;33m.\u001b[0m\u001b[0mcommand_executor\u001b[0m\u001b[1;33m.\u001b[0m\u001b[0mexecute\u001b[0m\u001b[1;33m(\u001b[0m\u001b[0mdriver_command\u001b[0m\u001b[1;33m,\u001b[0m \u001b[0mparams\u001b[0m\u001b[1;33m)\u001b[0m\u001b[1;33m\u001b[0m\u001b[1;33m\u001b[0m\u001b[0m\n\u001b[0;32m    424\u001b[0m         \u001b[1;32mif\u001b[0m \u001b[0mresponse\u001b[0m\u001b[1;33m:\u001b[0m\u001b[1;33m\u001b[0m\u001b[1;33m\u001b[0m\u001b[0m\n\u001b[1;32m--> 425\u001b[1;33m             \u001b[0mself\u001b[0m\u001b[1;33m.\u001b[0m\u001b[0merror_handler\u001b[0m\u001b[1;33m.\u001b[0m\u001b[0mcheck_response\u001b[0m\u001b[1;33m(\u001b[0m\u001b[0mresponse\u001b[0m\u001b[1;33m)\u001b[0m\u001b[1;33m\u001b[0m\u001b[1;33m\u001b[0m\u001b[0m\n\u001b[0m\u001b[0;32m    426\u001b[0m             response['value'] = self._unwrap_value(\n\u001b[0;32m    427\u001b[0m                 response.get('value', None))\n",
      "\u001b[1;32mc:\\users\\asus\\appdata\\local\\programs\\python\\python38\\lib\\site-packages\\selenium\\webdriver\\remote\\errorhandler.py\u001b[0m in \u001b[0;36mcheck_response\u001b[1;34m(self, response)\u001b[0m\n\u001b[0;32m    245\u001b[0m                 \u001b[0malert_text\u001b[0m \u001b[1;33m=\u001b[0m \u001b[0mvalue\u001b[0m\u001b[1;33m[\u001b[0m\u001b[1;34m'alert'\u001b[0m\u001b[1;33m]\u001b[0m\u001b[1;33m.\u001b[0m\u001b[0mget\u001b[0m\u001b[1;33m(\u001b[0m\u001b[1;34m'text'\u001b[0m\u001b[1;33m)\u001b[0m\u001b[1;33m\u001b[0m\u001b[1;33m\u001b[0m\u001b[0m\n\u001b[0;32m    246\u001b[0m             \u001b[1;32mraise\u001b[0m \u001b[0mexception_class\u001b[0m\u001b[1;33m(\u001b[0m\u001b[0mmessage\u001b[0m\u001b[1;33m,\u001b[0m \u001b[0mscreen\u001b[0m\u001b[1;33m,\u001b[0m \u001b[0mstacktrace\u001b[0m\u001b[1;33m,\u001b[0m \u001b[0malert_text\u001b[0m\u001b[1;33m)\u001b[0m  \u001b[1;31m# type: ignore[call-arg]  # mypy is not smart enough here\u001b[0m\u001b[1;33m\u001b[0m\u001b[1;33m\u001b[0m\u001b[0m\n\u001b[1;32m--> 247\u001b[1;33m         \u001b[1;32mraise\u001b[0m \u001b[0mexception_class\u001b[0m\u001b[1;33m(\u001b[0m\u001b[0mmessage\u001b[0m\u001b[1;33m,\u001b[0m \u001b[0mscreen\u001b[0m\u001b[1;33m,\u001b[0m \u001b[0mstacktrace\u001b[0m\u001b[1;33m)\u001b[0m\u001b[1;33m\u001b[0m\u001b[1;33m\u001b[0m\u001b[0m\n\u001b[0m\u001b[0;32m    248\u001b[0m \u001b[1;33m\u001b[0m\u001b[0m\n\u001b[0;32m    249\u001b[0m     \u001b[1;32mdef\u001b[0m \u001b[0m_value_or_default\u001b[0m\u001b[1;33m(\u001b[0m\u001b[0mself\u001b[0m\u001b[1;33m,\u001b[0m \u001b[0mobj\u001b[0m\u001b[1;33m:\u001b[0m \u001b[0mMapping\u001b[0m\u001b[1;33m[\u001b[0m\u001b[0m_KT\u001b[0m\u001b[1;33m,\u001b[0m \u001b[0m_VT\u001b[0m\u001b[1;33m]\u001b[0m\u001b[1;33m,\u001b[0m \u001b[0mkey\u001b[0m\u001b[1;33m:\u001b[0m \u001b[0m_KT\u001b[0m\u001b[1;33m,\u001b[0m \u001b[0mdefault\u001b[0m\u001b[1;33m:\u001b[0m \u001b[0m_VT\u001b[0m\u001b[1;33m)\u001b[0m \u001b[1;33m->\u001b[0m \u001b[0m_VT\u001b[0m\u001b[1;33m:\u001b[0m\u001b[1;33m\u001b[0m\u001b[1;33m\u001b[0m\u001b[0m\n",
      "\u001b[1;31mNoSuchElementException\u001b[0m: Message: Unable to locate element: //*[@href=\"/matches/statistics/arsenal-west-ham-united-2022-12-26\"]\nStacktrace:\nRemoteError@chrome://remote/content/shared/RemoteError.sys.mjs:8:8\nWebDriverError@chrome://remote/content/shared/webdriver/Errors.sys.mjs:182:5\nNoSuchElementError@chrome://remote/content/shared/webdriver/Errors.sys.mjs:394:5\nelement.find/</<@chrome://remote/content/marionette/element.sys.mjs:280:16\n"
     ]
    }
   ],
   "source": [
    "temp_table = Ofstat.get_matches_statistics(driver, temp_table, matches_url)\n",
    "temp_table.head()"
   ]
  },
  {
   "cell_type": "code",
   "execution_count": 16,
   "metadata": {},
   "outputs": [],
   "source": [
    "# получаем market value\n",
    "# Host: market value\n",
    "# Guest: maerket value"
   ]
  },
  {
   "cell_type": "code",
   "execution_count": 11,
   "metadata": {},
   "outputs": [
    {
     "name": "stdout",
     "output_type": "stream",
     "text": [
      "Error: Wolverhampton Wanderers Wanderers\n"
     ]
    },
    {
     "data": {
      "text/html": [
       "<div>\n",
       "<style scoped>\n",
       "    .dataframe tbody tr th:only-of-type {\n",
       "        vertical-align: middle;\n",
       "    }\n",
       "\n",
       "    .dataframe tbody tr th {\n",
       "        vertical-align: top;\n",
       "    }\n",
       "\n",
       "    .dataframe thead th {\n",
       "        text-align: right;\n",
       "    }\n",
       "</style>\n",
       "<table border=\"1\" class=\"dataframe\">\n",
       "  <thead>\n",
       "    <tr style=\"text-align: right;\">\n",
       "      <th></th>\n",
       "      <th>Date</th>\n",
       "      <th>Host</th>\n",
       "      <th>Guest</th>\n",
       "      <th>Status</th>\n",
       "      <th>Season</th>\n",
       "      <th>Host: current season market value</th>\n",
       "      <th>Guest: current season market value</th>\n",
       "    </tr>\n",
       "  </thead>\n",
       "  <tbody>\n",
       "    <tr>\n",
       "      <th>0</th>\n",
       "      <td>26.12.2022</td>\n",
       "      <td>Arsenal</td>\n",
       "      <td>West Ham United</td>\n",
       "      <td>Upcoming</td>\n",
       "      <td>england-premier-league-2022-2023</td>\n",
       "      <td>€749.00m</td>\n",
       "      <td>€459.50m</td>\n",
       "    </tr>\n",
       "    <tr>\n",
       "      <th>1</th>\n",
       "      <td>26.12.2022</td>\n",
       "      <td>Aston Villa</td>\n",
       "      <td>Liverpool</td>\n",
       "      <td>Upcoming</td>\n",
       "      <td>england-premier-league-2022-2023</td>\n",
       "      <td>€464.60m</td>\n",
       "      <td>€867.00m</td>\n",
       "    </tr>\n",
       "    <tr>\n",
       "      <th>2</th>\n",
       "      <td>26.12.2022</td>\n",
       "      <td>Brentford</td>\n",
       "      <td>Tottenham Hotspur</td>\n",
       "      <td>Upcoming</td>\n",
       "      <td>england-premier-league-2022-2023</td>\n",
       "      <td>€305.50m</td>\n",
       "      <td>€678.40m</td>\n",
       "    </tr>\n",
       "    <tr>\n",
       "      <th>3</th>\n",
       "      <td>26.12.2022</td>\n",
       "      <td>Chelsea</td>\n",
       "      <td>Bournemouth</td>\n",
       "      <td>Upcoming</td>\n",
       "      <td>england-premier-league-2022-2023</td>\n",
       "      <td>€846.50m</td>\n",
       "      <td>€179.70m</td>\n",
       "    </tr>\n",
       "    <tr>\n",
       "      <th>4</th>\n",
       "      <td>26.12.2022</td>\n",
       "      <td>Crystal Palace</td>\n",
       "      <td>Fulham</td>\n",
       "      <td>Upcoming</td>\n",
       "      <td>england-premier-league-2022-2023</td>\n",
       "      <td>€293.20m</td>\n",
       "      <td>€240.00m</td>\n",
       "    </tr>\n",
       "  </tbody>\n",
       "</table>\n",
       "</div>"
      ],
      "text/plain": [
       "         Date            Host              Guest    Status  \\\n",
       "0  26.12.2022         Arsenal    West Ham United  Upcoming   \n",
       "1  26.12.2022     Aston Villa          Liverpool  Upcoming   \n",
       "2  26.12.2022       Brentford  Tottenham Hotspur  Upcoming   \n",
       "3  26.12.2022         Chelsea        Bournemouth  Upcoming   \n",
       "4  26.12.2022  Crystal Palace             Fulham  Upcoming   \n",
       "\n",
       "                             Season Host: current season market value  \\\n",
       "0  england-premier-league-2022-2023                          €749.00m   \n",
       "1  england-premier-league-2022-2023                          €464.60m   \n",
       "2  england-premier-league-2022-2023                          €305.50m   \n",
       "3  england-premier-league-2022-2023                          €846.50m   \n",
       "4  england-premier-league-2022-2023                          €293.20m   \n",
       "\n",
       "  Guest: current season market value  \n",
       "0                           €459.50m  \n",
       "1                           €867.00m  \n",
       "2                           €678.40m  \n",
       "3                           €179.70m  \n",
       "4                           €240.00m  "
      ]
     },
     "execution_count": 11,
     "metadata": {},
     "output_type": "execute_result"
    }
   ],
   "source": [
    "# season_num = str(season.value)\n",
    "temp_table = MarketValue.get_market_value_with_alias(temp_table, driver, liga, season, MarketValue.AliasesOfstatToMarket)\n",
    "temp_table.head()"
   ]
  },
  {
   "cell_type": "code",
   "execution_count": 12,
   "metadata": {},
   "outputs": [],
   "source": [
    "# чтобы парсить Understat после Offstat, нужно применить алиасы\n",
    "# чтобы парсить Ofstat после Understat, нужно применить алиасы\n",
    "temp_table['Host'] = temp_table['Host'].replace(enum_to_dict(my_understat.AliasesOfstatToUnderstat)[liga])\n",
    "temp_table['Guest'] = temp_table['Guest'].replace(enum_to_dict(my_understat.AliasesOfstatToUnderstat)[liga])"
   ]
  },
  {
   "cell_type": "code",
   "execution_count": 12,
   "metadata": {},
   "outputs": [
    {
     "name": "stderr",
     "output_type": "stream",
     "text": [
      "Unclosed client session\n",
      "client_session: <aiohttp.client.ClientSession object at 0x00000195689B8F70>\n"
     ]
    }
   ],
   "source": [
    "uliga = my_understat.get_liga(liga) #'EPL' #'Ligue_1' #Serie_A #EPL\n",
    "\n",
    "#берем на 1 сезон раньше текущего\n",
    "\n",
    "t_minus_1_season= int(Ofstat.season_mapping[season.value-1].split('-')[0])\n",
    "session = aiohttp.ClientSession()\n",
    "understat = Understat(session)\n",
    "\n",
    "league_table =  await understat.get_league_table(league_name=uliga, season=t_minus_1_season, with_headers=True)\n",
    "\n",
    "session.close()\n",
    "\n",
    "league_table = my_understat.trim_async_table(league_table)"
   ]
  },
  {
   "cell_type": "code",
   "execution_count": 14,
   "metadata": {},
   "outputs": [
    {
     "name": "stderr",
     "output_type": "stream",
     "text": [
      "Unclosed client session\n",
      "client_session: <aiohttp.client.ClientSession object at 0x00000198EADE5F10>\n",
      "Unclosed connector\n",
      "connections: ['[(<aiohttp.client_proto.ResponseHandler object at 0x00000198EAE127C0>, 102249.046)]']\n",
      "connector: <aiohttp.connector.TCPConnector object at 0x00000198EADE5EE0>\n"
     ]
    }
   ],
   "source": [
    "# получаем статистику за домашние игры из Understat api\n",
    "session = aiohttp.ClientSession()\n",
    "understat = Understat(session)\n",
    "\n",
    "league_table_h =  await understat.get_league_table(league_name=uliga, season=t_minus_1_season, with_headers=True, h_a='home')\n",
    "\n",
    "session.close()\n",
    "\n",
    "league_table_h = my_understat.trim_async_table(league_table_h)"
   ]
  },
  {
   "cell_type": "code",
   "execution_count": 15,
   "metadata": {},
   "outputs": [
    {
     "name": "stderr",
     "output_type": "stream",
     "text": [
      "Unclosed client session\n",
      "client_session: <aiohttp.client.ClientSession object at 0x00000198EAF08E80>\n",
      "Unclosed connector\n",
      "connections: ['[(<aiohttp.client_proto.ResponseHandler object at 0x00000198EABDF820>, 102250.328)]']\n",
      "connector: <aiohttp.connector.TCPConnector object at 0x00000198EAF08EB0>\n"
     ]
    }
   ],
   "source": [
    "# получаем статистику за выездные игры из Understat api\n",
    "session = aiohttp.ClientSession()\n",
    "understat = Understat(session)\n",
    "\n",
    "league_table_a =  await understat.get_league_table(league_name=uliga, season=t_minus_1_season, with_headers=True,  h_a='away')\n",
    "\n",
    "session.close()\n",
    "\n",
    "league_table_a = my_understat.trim_async_table(league_table_a)"
   ]
  },
  {
   "cell_type": "code",
   "execution_count": 18,
   "metadata": {},
   "outputs": [],
   "source": [
    "# Хозяева: считаем показатели и линкуем их к temp_table\n",
    "# 'Host: G average at home last season', 'Host: G average as guests last season',  'Host: GA average last season'\n",
    "# 'Host: G average last season',  'Host: league positon last season',  'Host: GA 1-15 min last season'\n",
    "# 'Host: GA 16-30 min last season', 'Host: GA 31-45 min last season', 'Host: GA 46-60 min last season'\n",
    "# 'Host: GA 61-75 min last season', 'Host: GA 76+ min last season'"
   ]
  },
  {
   "cell_type": "code",
   "execution_count": 19,
   "metadata": {},
   "outputs": [
    {
     "name": "stdout",
     "output_type": "stream",
     "text": [
      "0 Arsenal West Ham 26.12.2022\n",
      "1 Aston Villa Liverpool 26.12.2022\n",
      "2 Brentford Tottenham 26.12.2022\n",
      "3 Chelsea Bournemouth 26.12.2022\n",
      "4 Crystal Palace Fulham 26.12.2022\n",
      "5 Everton Wolverhampton Wanderers 26.12.2022\n",
      "6 Leeds Manchester City 26.12.2022\n",
      "7 Leicester Newcastle United 26.12.2022\n",
      "8 Manchester United Nottingham Forest 26.12.2022\n",
      "9 Southampton Brighton 26.12.2022\n",
      "10 Bournemouth Crystal Palace 31.12.2022\n",
      "Error Bournemouth\n",
      "11 Brighton Arsenal 31.12.2022\n",
      "12 Fulham Southampton 31.12.2022\n",
      "Error Fulham\n",
      "13 Liverpool Leicester 31.12.2022\n",
      "14 Manchester City Everton 31.12.2022\n",
      "15 Newcastle United Leeds 31.12.2022\n",
      "16 Nottingham Forest Chelsea 31.12.2022\n",
      "Error Nottingham Forest\n",
      "17 Tottenham Aston Villa 31.12.2022\n",
      "18 West Ham Brentford 31.12.2022\n",
      "19 Wolverhampton Wanderers Manchester United 31.12.2022\n",
      "20 Arsenal Newcastle United 02.01.2023\n",
      "21 Aston Villa Wolverhampton Wanderers 02.01.2023\n",
      "22 Brentford Liverpool 02.01.2023\n",
      "23 Chelsea Manchester City 02.01.2023\n",
      "24 Crystal Palace Tottenham 02.01.2023\n",
      "25 Everton Brighton 02.01.2023\n",
      "26 Leeds West Ham 02.01.2023\n",
      "27 Leicester Fulham 02.01.2023\n",
      "28 Manchester United Bournemouth 02.01.2023\n",
      "29 Southampton Nottingham Forest 02.01.2023\n",
      "30 Aston Villa Leeds 14.01.2023\n",
      "31 Brentford Bournemouth 14.01.2023\n",
      "32 Brighton Liverpool 14.01.2023\n",
      "33 Chelsea Crystal Palace 14.01.2023\n",
      "34 Everton Southampton 14.01.2023\n",
      "35 Manchester United Manchester City 14.01.2023\n",
      "36 Newcastle United Fulham 14.01.2023\n",
      "37 Nottingham Forest Leicester 14.01.2023\n",
      "Error Nottingham Forest\n",
      "38 Tottenham Arsenal 14.01.2023\n",
      "39 Wolverhampton Wanderers West Ham 14.01.2023\n",
      "40 Arsenal Manchester United 21.01.2023\n",
      "41 Bournemouth Nottingham Forest 21.01.2023\n",
      "Error Bournemouth\n",
      "42 Crystal Palace Newcastle United 21.01.2023\n",
      "43 Fulham Tottenham 21.01.2023\n",
      "Error Fulham\n",
      "44 Leeds Brentford 21.01.2023\n",
      "45 Leicester Brighton 21.01.2023\n",
      "46 Liverpool Chelsea 21.01.2023\n",
      "47 Manchester City Wolverhampton Wanderers 21.01.2023\n",
      "48 Southampton Aston Villa 21.01.2023\n",
      "49 West Ham Everton 21.01.2023\n",
      "50 Aston Villa Leicester 04.02.2023\n",
      "51 Brentford Southampton 04.02.2023\n",
      "52 Brighton Bournemouth 04.02.2023\n",
      "53 Chelsea Fulham 04.02.2023\n",
      "54 Everton Arsenal 04.02.2023\n",
      "55 Manchester United Crystal Palace 04.02.2023\n",
      "56 Newcastle United West Ham 04.02.2023\n",
      "57 Nottingham Forest Leeds 04.02.2023\n",
      "Error Nottingham Forest\n",
      "58 Tottenham Manchester City 04.02.2023\n",
      "59 Wolverhampton Wanderers Liverpool 04.02.2023\n",
      "60 Arsenal Brentford 11.02.2023\n",
      "61 Bournemouth Newcastle United 11.02.2023\n",
      "Error Bournemouth\n",
      "62 Crystal Palace Brighton 11.02.2023\n",
      "63 Fulham Nottingham Forest 11.02.2023\n",
      "Error Fulham\n",
      "64 Leeds Manchester United 11.02.2023\n",
      "65 Leicester Tottenham 11.02.2023\n",
      "66 Liverpool Everton 11.02.2023\n",
      "67 Manchester City Aston Villa 11.02.2023\n",
      "68 Southampton Wolverhampton Wanderers 11.02.2023\n",
      "69 West Ham Chelsea 11.02.2023\n",
      "70 Aston Villa Arsenal 18.02.2023\n",
      "71 Brentford Crystal Palace 18.02.2023\n",
      "72 Brighton Fulham 18.02.2023\n",
      "73 Chelsea Southampton 18.02.2023\n",
      "74 Everton Leeds 18.02.2023\n",
      "75 Manchester United Leicester 18.02.2023\n",
      "76 Newcastle United Liverpool 18.02.2023\n",
      "77 Nottingham Forest Manchester City 18.02.2023\n",
      "Error Nottingham Forest\n",
      "78 Tottenham West Ham 18.02.2023\n",
      "79 Wolverhampton Wanderers Bournemouth 18.02.2023\n",
      "80 Bournemouth Manchester City 25.02.2023\n",
      "Error Bournemouth\n",
      "81 Crystal Palace Liverpool 25.02.2023\n",
      "82 Everton Aston Villa 25.02.2023\n",
      "83 Fulham Wolverhampton Wanderers 25.02.2023\n",
      "Error Fulham\n",
      "84 Leeds Southampton 25.02.2023\n",
      "85 Leicester Arsenal 25.02.2023\n",
      "86 Manchester United Brentford 25.02.2023\n",
      "87 Newcastle United Brighton 25.02.2023\n",
      "88 Tottenham Chelsea 25.02.2023\n",
      "89 West Ham Nottingham Forest 25.02.2023\n",
      "90 Arsenal Bournemouth 04.03.2023\n",
      "91 Aston Villa Crystal Palace 04.03.2023\n",
      "92 Brentford Fulham 04.03.2023\n",
      "93 Brighton West Ham 04.03.2023\n",
      "94 Chelsea Leeds 04.03.2023\n",
      "95 Liverpool Manchester United 04.03.2023\n",
      "96 Manchester City Newcastle United 04.03.2023\n",
      "97 Nottingham Forest Everton 04.03.2023\n",
      "Error Nottingham Forest\n",
      "98 Southampton Leicester 04.03.2023\n",
      "99 Wolverhampton Wanderers Tottenham 04.03.2023\n",
      "100 Bournemouth Liverpool 11.03.2023\n",
      "Error Bournemouth\n",
      "101 Crystal Palace Manchester City 11.03.2023\n",
      "102 Everton Brentford 11.03.2023\n",
      "103 Fulham Arsenal 11.03.2023\n",
      "Error Fulham\n",
      "104 Leeds Brighton 11.03.2023\n",
      "105 Leicester Chelsea 11.03.2023\n",
      "106 Manchester United Southampton 11.03.2023\n",
      "107 Newcastle United Wolverhampton Wanderers 11.03.2023\n",
      "108 Tottenham Nottingham Forest 11.03.2023\n",
      "109 West Ham Aston Villa 11.03.2023\n",
      "110 Arsenal Crystal Palace 18.03.2023\n",
      "111 Aston Villa Bournemouth 18.03.2023\n",
      "112 Brentford Leicester 18.03.2023\n",
      "113 Brighton Manchester United 18.03.2023\n",
      "114 Chelsea Everton 18.03.2023\n",
      "115 Liverpool Fulham 18.03.2023\n",
      "116 Manchester City West Ham 18.03.2023\n",
      "117 Nottingham Forest Newcastle United 18.03.2023\n",
      "Error Nottingham Forest\n",
      "118 Southampton Tottenham 18.03.2023\n",
      "119 Wolverhampton Wanderers Leeds 18.03.2023\n",
      "120 Arsenal Leeds 01.04.2023\n",
      "121 Bournemouth Fulham 01.04.2023\n",
      "Error Bournemouth\n",
      "122 Brighton Brentford 01.04.2023\n",
      "123 Chelsea Aston Villa 01.04.2023\n",
      "124 Crystal Palace Leicester 01.04.2023\n",
      "125 Everton Tottenham 01.04.2023\n",
      "126 Manchester City Liverpool 01.04.2023\n",
      "127 Newcastle United Manchester United 01.04.2023\n",
      "128 Nottingham Forest Wolverhampton Wanderers 01.04.2023\n",
      "Error Nottingham Forest\n",
      "129 West Ham Southampton 01.04.2023\n",
      "130 Aston Villa Nottingham Forest 08.04.2023\n",
      "131 Brentford Newcastle United 08.04.2023\n",
      "132 Fulham West Ham 08.04.2023\n",
      "Error Fulham\n",
      "133 Leeds Crystal Palace 08.04.2023\n",
      "134 Leicester Bournemouth 08.04.2023\n",
      "135 Liverpool Arsenal 08.04.2023\n",
      "136 Manchester United Everton 08.04.2023\n",
      "137 Southampton Manchester City 08.04.2023\n",
      "138 Tottenham Brighton 08.04.2023\n",
      "139 Wolverhampton Wanderers Chelsea 08.04.2023\n",
      "140 Aston Villa Newcastle United 15.04.2023\n",
      "141 Chelsea Brighton 15.04.2023\n",
      "142 Everton Fulham 15.04.2023\n",
      "143 Leeds Liverpool 15.04.2023\n",
      "144 Manchester City Leicester 15.04.2023\n",
      "145 Nottingham Forest Manchester United 15.04.2023\n",
      "Error Nottingham Forest\n",
      "146 Southampton Crystal Palace 15.04.2023\n",
      "147 Tottenham Bournemouth 15.04.2023\n",
      "148 West Ham Arsenal 15.04.2023\n",
      "149 Wolverhampton Wanderers Brentford 15.04.2023\n",
      "150 Arsenal Southampton 22.04.2023\n",
      "151 Bournemouth West Ham 22.04.2023\n",
      "Error Bournemouth\n",
      "152 Brentford Aston Villa 22.04.2023\n",
      "153 Brighton Manchester City 22.04.2023\n",
      "154 Crystal Palace Everton 22.04.2023\n",
      "155 Fulham Leeds 22.04.2023\n",
      "Error Fulham\n",
      "156 Leicester Wolverhampton Wanderers 22.04.2023\n",
      "157 Liverpool Nottingham Forest 22.04.2023\n",
      "158 Manchester United Chelsea 22.04.2023\n",
      "159 Newcastle United Tottenham 22.04.2023\n",
      "160 Everton Newcastle United 25.04.2023\n",
      "161 Leeds Leicester 25.04.2023\n",
      "162 Nottingham Forest Brighton 25.04.2023\n",
      "Error Nottingham Forest\n",
      "163 Tottenham Manchester United 25.04.2023\n",
      "164 West Ham Liverpool 25.04.2023\n",
      "165 Wolverhampton Wanderers Crystal Palace 25.04.2023\n",
      "166 Aston Villa Fulham 25.04.2023\n",
      "167 Chelsea Brentford 26.04.2023\n",
      "168 Southampton Bournemouth 26.04.2023\n",
      "169 Manchester City Arsenal 26.04.2023\n",
      "170 Arsenal Chelsea 29.04.2023\n",
      "171 Bournemouth Leeds 29.04.2023\n",
      "Error Bournemouth\n",
      "172 Brentford Nottingham Forest 29.04.2023\n",
      "173 Brighton Wolverhampton Wanderers 29.04.2023\n",
      "174 Crystal Palace West Ham 29.04.2023\n",
      "175 Fulham Manchester City 29.04.2023\n",
      "Error Fulham\n",
      "176 Leicester Everton 29.04.2023\n",
      "177 Liverpool Tottenham 29.04.2023\n",
      "178 Manchester United Aston Villa 29.04.2023\n",
      "179 Newcastle United Southampton 29.04.2023\n",
      "180 Bournemouth Chelsea 06.05.2023\n",
      "Error Bournemouth\n",
      "181 Brighton Everton 06.05.2023\n",
      "182 Fulham Leicester 06.05.2023\n",
      "Error Fulham\n",
      "183 Liverpool Brentford 06.05.2023\n",
      "184 Manchester City Leeds 06.05.2023\n",
      "185 Newcastle United Arsenal 06.05.2023\n",
      "186 Nottingham Forest Southampton 06.05.2023\n",
      "Error Nottingham Forest\n",
      "187 Tottenham Crystal Palace 06.05.2023\n",
      "188 West Ham Manchester United 06.05.2023\n",
      "189 Wolverhampton Wanderers Aston Villa 06.05.2023\n",
      "190 Arsenal Brighton 13.05.2023\n",
      "191 Aston Villa Tottenham 13.05.2023\n",
      "192 Brentford West Ham 13.05.2023\n",
      "193 Chelsea Nottingham Forest 13.05.2023\n",
      "194 Crystal Palace Bournemouth 13.05.2023\n",
      "195 Everton Manchester City 13.05.2023\n",
      "196 Leeds Newcastle United 13.05.2023\n",
      "197 Leicester Liverpool 13.05.2023\n",
      "198 Manchester United Wolverhampton Wanderers 13.05.2023\n",
      "199 Southampton Fulham 13.05.2023\n",
      "200 Bournemouth Manchester United 20.05.2023\n"
     ]
    },
    {
     "name": "stdout",
     "output_type": "stream",
     "text": [
      "Error Bournemouth\n",
      "201 Brighton Southampton 20.05.2023\n",
      "202 Fulham Crystal Palace 20.05.2023\n",
      "Error Fulham\n",
      "203 Liverpool Aston Villa 20.05.2023\n",
      "204 Manchester City Chelsea 20.05.2023\n",
      "205 Newcastle United Leicester 20.05.2023\n",
      "206 Nottingham Forest Arsenal 20.05.2023\n",
      "Error Nottingham Forest\n",
      "207 Tottenham Brentford 20.05.2023\n",
      "208 West Ham Leeds 20.05.2023\n",
      "209 Wolverhampton Wanderers Everton 20.05.2023\n",
      "210 Arsenal Wolverhampton Wanderers 28.05.2023\n",
      "211 Aston Villa Brighton 28.05.2023\n",
      "212 Brentford Manchester City 28.05.2023\n",
      "213 Chelsea Newcastle United 28.05.2023\n",
      "214 Crystal Palace Nottingham Forest 28.05.2023\n",
      "215 Everton Bournemouth 28.05.2023\n",
      "216 Leeds Tottenham 28.05.2023\n",
      "217 Leicester West Ham 28.05.2023\n",
      "218 Manchester United Fulham 28.05.2023\n",
      "219 Southampton Liverpool 28.05.2023\n"
     ]
    }
   ],
   "source": [
    "for index, row in temp_table.iterrows():\n",
    "    print(index, row['Host'], row['Guest'], row['Date'])\n",
    "    \n",
    "    try:\n",
    "        host_stats = await understat.get_team_stats(row['Host'], t_minus_1_season)\n",
    "\n",
    "        host_stats=pd.DataFrame(host_stats)\n",
    "\n",
    "        temp_table.loc[index, 'Host: G average at home last season'] = (table_team_filter(league_table_h, row['Host'])['G'] / table_team_filter(league_table_h, row['Host'])['M']).values[0]\n",
    "        temp_table.loc[index, 'Host: G average as guests last season'] =  (table_team_filter(league_table_a, row['Host'])['G'] / table_team_filter(league_table_a, row['Host'])['M']).values[0]\n",
    "\n",
    "        temp_table.loc[index, 'Host: GA average last season'] = (table_team_filter(league_table, row['Host'])['GA'] / table_team_filter(league_table, row['Host'])['M']).values[0]\n",
    "\n",
    "\n",
    "        temp_table.loc[index, 'Host: G average last season'] = (table_team_filter(league_table, row['Host'])['G'] / table_team_filter(league_table, row['Host'])['M']).values[0]\n",
    "\n",
    "        temp_table.loc[index, 'Host: league positon last season'] = table_team_filter(league_table, row['Host']).index.values[0]\n",
    "\n",
    "        temp_table.loc[index, 'Host: GA 1-15 min last season'] =  (host_stats['timing']['1-15']['goals']/table_team_filter(league_table, row['Host'])['G']).values[0]\n",
    "        temp_table.loc[index, 'Host: GA 16-30 min last season'] =  (host_stats['timing']['16-30']['goals']/table_team_filter(league_table, row['Host'])['G']).values[0]\n",
    "        temp_table.loc[index, 'Host: GA 31-45 min last season'] =  (host_stats['timing']['31-45']['goals']/table_team_filter(league_table, row['Host'])['G']).values[0]\n",
    "        temp_table.loc[index, 'Host: GA 46-60 min last season'] =  (host_stats['timing']['46-60']['goals']/table_team_filter(league_table, row['Host'])['G']).values[0]\n",
    "        temp_table.loc[index, 'Host: GA 61-75 min last season'] =  (host_stats['timing']['61-75']['goals']/table_team_filter(league_table, row['Host'])['G']).values[0]\n",
    "        temp_table.loc[index, 'Host: GA 76+ min last season'] =  (host_stats['timing']['76+']['goals']/table_team_filter(league_table, row['Host'])['G']).values[0]\n",
    "        session.close()\n",
    "    except:\n",
    "        print('Error',row['Host'])\n",
    "        session.close()"
   ]
  },
  {
   "cell_type": "code",
   "execution_count": 21,
   "metadata": {},
   "outputs": [],
   "source": [
    "# Гости: считаем показатели и линкуем их к temp_table\n",
    "# 'Guest: G average at home last season', 'Guest: G average as guests last season', 'Guest: G average last season'\n",
    "# 'Guest: GA average last season', 'Guest: league position last season', 'Guest: GA 1-15 min last season'\n",
    "# 'Guest: GA 16-30 min last season',  'Guest: GA 31-45 min last season', 'Guest: GA 46-60 min last season'\n",
    "# 'Guest: GA 61-75 min last season', 'Guest: GA 76+ min last season'"
   ]
  },
  {
   "cell_type": "code",
   "execution_count": 30,
   "metadata": {},
   "outputs": [
    {
     "name": "stdout",
     "output_type": "stream",
     "text": [
      "0 Arsenal West Ham 26.12.2022\n",
      "West Ham OK\n",
      "1 Aston Villa Liverpool 26.12.2022\n",
      "Liverpool OK\n",
      "2 Brentford Tottenham 26.12.2022\n",
      "Tottenham OK\n",
      "3 Chelsea Bournemouth 26.12.2022\n",
      "Error Bournemouth\n",
      "4 Crystal Palace Fulham 26.12.2022\n",
      "Error Fulham\n",
      "5 Everton Wolverhampton Wanderers 26.12.2022\n",
      "Wolverhampton Wanderers OK\n",
      "6 Leeds Manchester City 26.12.2022\n",
      "Manchester City OK\n",
      "7 Leicester Newcastle United 26.12.2022\n",
      "Newcastle United OK\n",
      "8 Manchester United Nottingham Forest 26.12.2022\n",
      "Error Nottingham Forest\n",
      "9 Southampton Brighton 26.12.2022\n",
      "Brighton OK\n",
      "10 Bournemouth Crystal Palace 31.12.2022\n",
      "Crystal Palace OK\n",
      "11 Brighton Arsenal 31.12.2022\n",
      "Arsenal OK\n",
      "12 Fulham Southampton 31.12.2022\n",
      "Southampton OK\n",
      "13 Liverpool Leicester 31.12.2022\n",
      "Leicester OK\n",
      "14 Manchester City Everton 31.12.2022\n",
      "Everton OK\n",
      "15 Newcastle United Leeds 31.12.2022\n",
      "Leeds OK\n",
      "16 Nottingham Forest Chelsea 31.12.2022\n",
      "Chelsea OK\n",
      "17 Tottenham Aston Villa 31.12.2022\n",
      "Aston Villa OK\n",
      "18 West Ham Brentford 31.12.2022\n",
      "Brentford OK\n",
      "19 Wolverhampton Wanderers Manchester United 31.12.2022\n",
      "Manchester United OK\n",
      "20 Arsenal Newcastle United 02.01.2023\n",
      "Newcastle United OK\n",
      "21 Aston Villa Wolverhampton Wanderers 02.01.2023\n",
      "Wolverhampton Wanderers OK\n",
      "22 Brentford Liverpool 02.01.2023\n",
      "Liverpool OK\n",
      "23 Chelsea Manchester City 02.01.2023\n",
      "Manchester City OK\n",
      "24 Crystal Palace Tottenham 02.01.2023\n",
      "Tottenham OK\n",
      "25 Everton Brighton 02.01.2023\n",
      "Brighton OK\n",
      "26 Leeds West Ham 02.01.2023\n",
      "West Ham OK\n",
      "27 Leicester Fulham 02.01.2023\n",
      "Error Fulham\n",
      "28 Manchester United Bournemouth 02.01.2023\n",
      "Error Bournemouth\n",
      "29 Southampton Nottingham Forest 02.01.2023\n",
      "Error Nottingham Forest\n",
      "30 Aston Villa Leeds 14.01.2023\n",
      "Leeds OK\n",
      "31 Brentford Bournemouth 14.01.2023\n",
      "Error Bournemouth\n",
      "32 Brighton Liverpool 14.01.2023\n",
      "Liverpool OK\n",
      "33 Chelsea Crystal Palace 14.01.2023\n",
      "Crystal Palace OK\n",
      "34 Everton Southampton 14.01.2023\n",
      "Southampton OK\n",
      "35 Manchester United Manchester City 14.01.2023\n",
      "Manchester City OK\n",
      "36 Newcastle United Fulham 14.01.2023\n",
      "Error Fulham\n",
      "37 Nottingham Forest Leicester 14.01.2023\n",
      "Leicester OK\n",
      "38 Tottenham Arsenal 14.01.2023\n",
      "Arsenal OK\n",
      "39 Wolverhampton Wanderers West Ham 14.01.2023\n",
      "West Ham OK\n",
      "40 Arsenal Manchester United 21.01.2023\n",
      "Manchester United OK\n",
      "41 Bournemouth Nottingham Forest 21.01.2023\n",
      "Error Nottingham Forest\n",
      "42 Crystal Palace Newcastle United 21.01.2023\n",
      "Newcastle United OK\n",
      "43 Fulham Tottenham 21.01.2023\n",
      "Tottenham OK\n",
      "44 Leeds Brentford 21.01.2023\n",
      "Brentford OK\n",
      "45 Leicester Brighton 21.01.2023\n",
      "Brighton OK\n",
      "46 Liverpool Chelsea 21.01.2023\n",
      "Chelsea OK\n",
      "47 Manchester City Wolverhampton Wanderers 21.01.2023\n",
      "Wolverhampton Wanderers OK\n",
      "48 Southampton Aston Villa 21.01.2023\n",
      "Aston Villa OK\n",
      "49 West Ham Everton 21.01.2023\n",
      "Everton OK\n",
      "50 Aston Villa Leicester 04.02.2023\n",
      "Leicester OK\n",
      "51 Brentford Southampton 04.02.2023\n",
      "Southampton OK\n",
      "52 Brighton Bournemouth 04.02.2023\n",
      "Error Bournemouth\n",
      "53 Chelsea Fulham 04.02.2023\n",
      "Error Fulham\n",
      "54 Everton Arsenal 04.02.2023\n",
      "Arsenal OK\n",
      "55 Manchester United Crystal Palace 04.02.2023\n",
      "Crystal Palace OK\n",
      "56 Newcastle United West Ham 04.02.2023\n",
      "West Ham OK\n",
      "57 Nottingham Forest Leeds 04.02.2023\n",
      "Leeds OK\n",
      "58 Tottenham Manchester City 04.02.2023\n",
      "Manchester City OK\n",
      "59 Wolverhampton Wanderers Liverpool 04.02.2023\n",
      "Liverpool OK\n",
      "60 Arsenal Brentford 11.02.2023\n",
      "Brentford OK\n",
      "61 Bournemouth Newcastle United 11.02.2023\n",
      "Newcastle United OK\n",
      "62 Crystal Palace Brighton 11.02.2023\n",
      "Brighton OK\n",
      "63 Fulham Nottingham Forest 11.02.2023\n",
      "Error Nottingham Forest\n",
      "64 Leeds Manchester United 11.02.2023\n",
      "Manchester United OK\n",
      "65 Leicester Tottenham 11.02.2023\n",
      "Tottenham OK\n",
      "66 Liverpool Everton 11.02.2023\n",
      "Everton OK\n",
      "67 Manchester City Aston Villa 11.02.2023\n",
      "Aston Villa OK\n",
      "68 Southampton Wolverhampton Wanderers 11.02.2023\n",
      "Wolverhampton Wanderers OK\n",
      "69 West Ham Chelsea 11.02.2023\n",
      "Chelsea OK\n",
      "70 Aston Villa Arsenal 18.02.2023\n",
      "Arsenal OK\n",
      "71 Brentford Crystal Palace 18.02.2023\n",
      "Crystal Palace OK\n",
      "72 Brighton Fulham 18.02.2023\n",
      "Error Fulham\n",
      "73 Chelsea Southampton 18.02.2023\n",
      "Southampton OK\n",
      "74 Everton Leeds 18.02.2023\n",
      "Leeds OK\n",
      "75 Manchester United Leicester 18.02.2023\n",
      "Leicester OK\n",
      "76 Newcastle United Liverpool 18.02.2023\n",
      "Liverpool OK\n",
      "77 Nottingham Forest Manchester City 18.02.2023\n",
      "Manchester City OK\n",
      "78 Tottenham West Ham 18.02.2023\n",
      "West Ham OK\n",
      "79 Wolverhampton Wanderers Bournemouth 18.02.2023\n",
      "Error Bournemouth\n",
      "80 Bournemouth Manchester City 25.02.2023\n",
      "Manchester City OK\n",
      "81 Crystal Palace Liverpool 25.02.2023\n",
      "Liverpool OK\n",
      "82 Everton Aston Villa 25.02.2023\n",
      "Aston Villa OK\n",
      "83 Fulham Wolverhampton Wanderers 25.02.2023\n",
      "Wolverhampton Wanderers OK\n",
      "84 Leeds Southampton 25.02.2023\n",
      "Southampton OK\n",
      "85 Leicester Arsenal 25.02.2023\n",
      "Arsenal OK\n",
      "86 Manchester United Brentford 25.02.2023\n",
      "Brentford OK\n",
      "87 Newcastle United Brighton 25.02.2023\n",
      "Brighton OK\n",
      "88 Tottenham Chelsea 25.02.2023\n",
      "Chelsea OK\n",
      "89 West Ham Nottingham Forest 25.02.2023\n",
      "Error Nottingham Forest\n",
      "90 Arsenal Bournemouth 04.03.2023\n",
      "Error Bournemouth\n",
      "91 Aston Villa Crystal Palace 04.03.2023\n",
      "Crystal Palace OK\n",
      "92 Brentford Fulham 04.03.2023\n",
      "Error Fulham\n",
      "93 Brighton West Ham 04.03.2023\n",
      "West Ham OK\n",
      "94 Chelsea Leeds 04.03.2023\n",
      "Leeds OK\n",
      "95 Liverpool Manchester United 04.03.2023\n",
      "Manchester United OK\n",
      "96 Manchester City Newcastle United 04.03.2023\n",
      "Newcastle United OK\n",
      "97 Nottingham Forest Everton 04.03.2023\n",
      "Everton OK\n",
      "98 Southampton Leicester 04.03.2023\n",
      "Leicester OK\n",
      "99 Wolverhampton Wanderers Tottenham 04.03.2023\n",
      "Tottenham OK\n",
      "100 Bournemouth Liverpool 11.03.2023\n",
      "Liverpool OK\n",
      "101 Crystal Palace Manchester City 11.03.2023\n",
      "Manchester City OK\n",
      "102 Everton Brentford 11.03.2023\n",
      "Brentford OK\n",
      "103 Fulham Arsenal 11.03.2023\n",
      "Arsenal OK\n",
      "104 Leeds Brighton 11.03.2023\n",
      "Brighton OK\n",
      "105 Leicester Chelsea 11.03.2023\n",
      "Chelsea OK\n",
      "106 Manchester United Southampton 11.03.2023\n",
      "Southampton OK\n",
      "107 Newcastle United Wolverhampton Wanderers 11.03.2023\n",
      "Wolverhampton Wanderers OK\n",
      "108 Tottenham Nottingham Forest 11.03.2023\n",
      "Error Nottingham Forest\n",
      "109 West Ham Aston Villa 11.03.2023\n",
      "Aston Villa OK\n",
      "110 Arsenal Crystal Palace 18.03.2023\n",
      "Crystal Palace OK\n",
      "111 Aston Villa Bournemouth 18.03.2023\n",
      "Error Bournemouth\n",
      "112 Brentford Leicester 18.03.2023\n",
      "Leicester OK\n",
      "113 Brighton Manchester United 18.03.2023\n",
      "Manchester United OK\n",
      "114 Chelsea Everton 18.03.2023\n",
      "Everton OK\n",
      "115 Liverpool Fulham 18.03.2023\n",
      "Error Fulham\n",
      "116 Manchester City West Ham 18.03.2023\n",
      "West Ham OK\n",
      "117 Nottingham Forest Newcastle United 18.03.2023\n",
      "Newcastle United OK\n",
      "118 Southampton Tottenham 18.03.2023\n",
      "Tottenham OK\n",
      "119 Wolverhampton Wanderers Leeds 18.03.2023\n",
      "Leeds OK\n",
      "120 Arsenal Leeds 01.04.2023\n",
      "Leeds OK\n",
      "121 Bournemouth Fulham 01.04.2023\n",
      "Error Fulham\n",
      "122 Brighton Brentford 01.04.2023\n",
      "Brentford OK\n",
      "123 Chelsea Aston Villa 01.04.2023\n",
      "Aston Villa OK\n",
      "124 Crystal Palace Leicester 01.04.2023\n",
      "Leicester OK\n",
      "125 Everton Tottenham 01.04.2023\n",
      "Tottenham OK\n",
      "126 Manchester City Liverpool 01.04.2023\n",
      "Liverpool OK\n",
      "127 Newcastle United Manchester United 01.04.2023\n",
      "Manchester United OK\n",
      "128 Nottingham Forest Wolverhampton Wanderers 01.04.2023\n",
      "Wolverhampton Wanderers OK\n",
      "129 West Ham Southampton 01.04.2023\n",
      "Southampton OK\n",
      "130 Aston Villa Nottingham Forest 08.04.2023\n",
      "Error Nottingham Forest\n",
      "131 Brentford Newcastle United 08.04.2023\n",
      "Newcastle United OK\n",
      "132 Fulham West Ham 08.04.2023\n",
      "West Ham OK\n",
      "133 Leeds Crystal Palace 08.04.2023\n",
      "Crystal Palace OK\n",
      "134 Leicester Bournemouth 08.04.2023\n",
      "Error Bournemouth\n",
      "135 Liverpool Arsenal 08.04.2023\n",
      "Arsenal OK\n",
      "136 Manchester United Everton 08.04.2023\n",
      "Everton OK\n",
      "137 Southampton Manchester City 08.04.2023\n",
      "Manchester City OK\n",
      "138 Tottenham Brighton 08.04.2023\n",
      "Brighton OK\n",
      "139 Wolverhampton Wanderers Chelsea 08.04.2023\n",
      "Chelsea OK\n",
      "140 Aston Villa Newcastle United 15.04.2023\n",
      "Newcastle United OK\n",
      "141 Chelsea Brighton 15.04.2023\n",
      "Brighton OK\n",
      "142 Everton Fulham 15.04.2023\n",
      "Error Fulham\n",
      "143 Leeds Liverpool 15.04.2023\n",
      "Liverpool OK\n",
      "144 Manchester City Leicester 15.04.2023\n",
      "Leicester OK\n",
      "145 Nottingham Forest Manchester United 15.04.2023\n",
      "Manchester United OK\n",
      "146 Southampton Crystal Palace 15.04.2023\n",
      "Crystal Palace OK\n",
      "147 Tottenham Bournemouth 15.04.2023\n",
      "Error Bournemouth\n",
      "148 West Ham Arsenal 15.04.2023\n",
      "Arsenal OK\n",
      "149 Wolverhampton Wanderers Brentford 15.04.2023\n",
      "Brentford OK\n",
      "150 Arsenal Southampton 22.04.2023\n",
      "Southampton OK\n",
      "151 Bournemouth West Ham 22.04.2023\n",
      "West Ham OK\n",
      "152 Brentford Aston Villa 22.04.2023\n",
      "Aston Villa OK\n",
      "153 Brighton Manchester City 22.04.2023\n"
     ]
    },
    {
     "name": "stdout",
     "output_type": "stream",
     "text": [
      "Manchester City OK\n",
      "154 Crystal Palace Everton 22.04.2023\n",
      "Everton OK\n",
      "155 Fulham Leeds 22.04.2023\n",
      "Leeds OK\n",
      "156 Leicester Wolverhampton Wanderers 22.04.2023\n",
      "Wolverhampton Wanderers OK\n",
      "157 Liverpool Nottingham Forest 22.04.2023\n",
      "Error Nottingham Forest\n",
      "158 Manchester United Chelsea 22.04.2023\n",
      "Chelsea OK\n",
      "159 Newcastle United Tottenham 22.04.2023\n",
      "Tottenham OK\n",
      "160 Everton Newcastle United 25.04.2023\n",
      "Newcastle United OK\n",
      "161 Leeds Leicester 25.04.2023\n",
      "Leicester OK\n",
      "162 Nottingham Forest Brighton 25.04.2023\n",
      "Brighton OK\n",
      "163 Tottenham Manchester United 25.04.2023\n",
      "Manchester United OK\n",
      "164 West Ham Liverpool 25.04.2023\n",
      "Liverpool OK\n",
      "165 Wolverhampton Wanderers Crystal Palace 25.04.2023\n",
      "Crystal Palace OK\n",
      "166 Aston Villa Fulham 25.04.2023\n",
      "Error Fulham\n",
      "167 Chelsea Brentford 26.04.2023\n",
      "Brentford OK\n",
      "168 Southampton Bournemouth 26.04.2023\n",
      "Error Bournemouth\n",
      "169 Manchester City Arsenal 26.04.2023\n",
      "Arsenal OK\n",
      "170 Arsenal Chelsea 29.04.2023\n",
      "Chelsea OK\n",
      "171 Bournemouth Leeds 29.04.2023\n",
      "Leeds OK\n",
      "172 Brentford Nottingham Forest 29.04.2023\n",
      "Error Nottingham Forest\n",
      "173 Brighton Wolverhampton Wanderers 29.04.2023\n",
      "Wolverhampton Wanderers OK\n",
      "174 Crystal Palace West Ham 29.04.2023\n",
      "West Ham OK\n",
      "175 Fulham Manchester City 29.04.2023\n",
      "Manchester City OK\n",
      "176 Leicester Everton 29.04.2023\n",
      "Everton OK\n",
      "177 Liverpool Tottenham 29.04.2023\n",
      "Tottenham OK\n",
      "178 Manchester United Aston Villa 29.04.2023\n",
      "Aston Villa OK\n",
      "179 Newcastle United Southampton 29.04.2023\n",
      "Southampton OK\n",
      "180 Bournemouth Chelsea 06.05.2023\n",
      "Chelsea OK\n",
      "181 Brighton Everton 06.05.2023\n",
      "Everton OK\n",
      "182 Fulham Leicester 06.05.2023\n",
      "Leicester OK\n",
      "183 Liverpool Brentford 06.05.2023\n",
      "Brentford OK\n",
      "184 Manchester City Leeds 06.05.2023\n",
      "Leeds OK\n",
      "185 Newcastle United Arsenal 06.05.2023\n",
      "Arsenal OK\n",
      "186 Nottingham Forest Southampton 06.05.2023\n",
      "Southampton OK\n",
      "187 Tottenham Crystal Palace 06.05.2023\n",
      "Crystal Palace OK\n",
      "188 West Ham Manchester United 06.05.2023\n",
      "Manchester United OK\n",
      "189 Wolverhampton Wanderers Aston Villa 06.05.2023\n",
      "Aston Villa OK\n",
      "190 Arsenal Brighton 13.05.2023\n",
      "Brighton OK\n",
      "191 Aston Villa Tottenham 13.05.2023\n",
      "Tottenham OK\n",
      "192 Brentford West Ham 13.05.2023\n",
      "West Ham OK\n",
      "193 Chelsea Nottingham Forest 13.05.2023\n",
      "Error Nottingham Forest\n",
      "194 Crystal Palace Bournemouth 13.05.2023\n",
      "Error Bournemouth\n",
      "195 Everton Manchester City 13.05.2023\n",
      "Manchester City OK\n",
      "196 Leeds Newcastle United 13.05.2023\n",
      "Newcastle United OK\n",
      "197 Leicester Liverpool 13.05.2023\n",
      "Liverpool OK\n",
      "198 Manchester United Wolverhampton Wanderers 13.05.2023\n",
      "Wolverhampton Wanderers OK\n",
      "199 Southampton Fulham 13.05.2023\n",
      "Error Fulham\n",
      "200 Bournemouth Manchester United 20.05.2023\n",
      "Manchester United OK\n",
      "201 Brighton Southampton 20.05.2023\n",
      "Southampton OK\n",
      "202 Fulham Crystal Palace 20.05.2023\n",
      "Crystal Palace OK\n",
      "203 Liverpool Aston Villa 20.05.2023\n",
      "Aston Villa OK\n",
      "204 Manchester City Chelsea 20.05.2023\n",
      "Chelsea OK\n",
      "205 Newcastle United Leicester 20.05.2023\n",
      "Leicester OK\n",
      "206 Nottingham Forest Arsenal 20.05.2023\n",
      "Arsenal OK\n",
      "207 Tottenham Brentford 20.05.2023\n",
      "Brentford OK\n",
      "208 West Ham Leeds 20.05.2023\n",
      "Leeds OK\n",
      "209 Wolverhampton Wanderers Everton 20.05.2023\n",
      "Everton OK\n",
      "210 Arsenal Wolverhampton Wanderers 28.05.2023\n",
      "Wolverhampton Wanderers OK\n",
      "211 Aston Villa Brighton 28.05.2023\n",
      "Brighton OK\n",
      "212 Brentford Manchester City 28.05.2023\n",
      "Manchester City OK\n",
      "213 Chelsea Newcastle United 28.05.2023\n",
      "Newcastle United OK\n",
      "214 Crystal Palace Nottingham Forest 28.05.2023\n",
      "Error Nottingham Forest\n",
      "215 Everton Bournemouth 28.05.2023\n",
      "Error Bournemouth\n",
      "216 Leeds Tottenham 28.05.2023\n",
      "Tottenham OK\n",
      "217 Leicester West Ham 28.05.2023\n",
      "West Ham OK\n",
      "218 Manchester United Fulham 28.05.2023\n",
      "Error Fulham\n",
      "219 Southampton Liverpool 28.05.2023\n",
      "Liverpool OK\n"
     ]
    }
   ],
   "source": [
    "for index, row in temp_table.iterrows():\n",
    "    print(index, row['Host'], row['Guest'], row['Date'])\n",
    "    try:\n",
    "        guest_stats = await understat.get_team_stats(row['Guest'], t_minus_1_season)\n",
    "\n",
    "        temp_table.loc[index, 'Guest: G average at home last season'] = (table_team_filter(league_table_h, row['Guest'])['G'] / table_team_filter(league_table_h, row['Guest'])['M']).values[0]\n",
    "        temp_table.loc[index, 'Guest: G average as guests last season'] =  (table_team_filter(league_table_a, row['Guest'])['G'] / table_team_filter(league_table_a, row['Guest'])['M']).values[0]\n",
    "\n",
    "        temp_table.loc[index, 'Guest: G average last season'] = (table_team_filter(league_table, row['Guest'])['G'] / table_team_filter(league_table, row['Guest'])['M']).values[0]\n",
    "\n",
    "        temp_table.loc[index, 'Guest: GA average last season'] = (table_team_filter(league_table, row['Guest'])['GA'] / table_team_filter(league_table, row['Guest'])['M']).values[0]\n",
    "        temp_table.loc[index, 'Guest: league position last season'] = table_team_filter(league_table, row['Guest']).index.values[0]\n",
    "\n",
    "\n",
    "        temp_table.loc[index, 'Guest: GA 1-15 min last season'] =  (guest_stats['timing']['1-15']['goals']/table_team_filter(league_table, row['Guest'])['G']).values[0]\n",
    "        temp_table.loc[index, 'Guest: GA 16-30 min last season'] = (guest_stats['timing']['16-30']['goals']/table_team_filter(league_table, row['Guest'])['G']).values[0]\n",
    "        temp_table.loc[index, 'Guest: GA 31-45 min last season'] = (guest_stats['timing']['31-45']['goals']/table_team_filter(league_table, row['Guest'])['G']).values[0]\n",
    "        temp_table.loc[index, 'Guest: GA 46-60 min last season'] = (guest_stats['timing']['46-60']['goals']/table_team_filter(league_table, row['Guest'])['G']).values[0]\n",
    "        temp_table.loc[index, 'Guest: GA 61-75 min last season'] = (guest_stats['timing']['61-75']['goals']/table_team_filter(league_table, row['Guest'])['G']).values[0]\n",
    "        temp_table.loc[index, 'Guest: GA 76+ min last season'] = (guest_stats['timing']['76+']['goals']/table_team_filter(league_table, row['Guest'])['G']).values[0]\n",
    "        print(row['Guest'], 'OK')\n",
    "        session.close()\n",
    "    except:\n",
    "        print('Error', row['Guest'])\n",
    "        session.close()"
   ]
  },
  {
   "cell_type": "code",
   "execution_count": 31,
   "metadata": {},
   "outputs": [
    {
     "data": {
      "text/html": [
       "<div>\n",
       "<style scoped>\n",
       "    .dataframe tbody tr th:only-of-type {\n",
       "        vertical-align: middle;\n",
       "    }\n",
       "\n",
       "    .dataframe tbody tr th {\n",
       "        vertical-align: top;\n",
       "    }\n",
       "\n",
       "    .dataframe thead th {\n",
       "        text-align: right;\n",
       "    }\n",
       "</style>\n",
       "<table border=\"1\" class=\"dataframe\">\n",
       "  <thead>\n",
       "    <tr style=\"text-align: right;\">\n",
       "      <th></th>\n",
       "      <th>Date</th>\n",
       "      <th>Host</th>\n",
       "      <th>Guest</th>\n",
       "      <th>Host: G average at home last season</th>\n",
       "      <th>Host: G average as guests last season</th>\n",
       "      <th>Host: GA average last season</th>\n",
       "      <th>Host: G average last season</th>\n",
       "      <th>Host: league positon last season</th>\n",
       "      <th>Host: GA 1-15 min last season</th>\n",
       "      <th>Host: GA 16-30 min last season</th>\n",
       "      <th>...</th>\n",
       "      <th>Guest: G average at home last season</th>\n",
       "      <th>Guest: G average as guests last season</th>\n",
       "      <th>Guest: G average last season</th>\n",
       "      <th>Guest: GA average last season</th>\n",
       "      <th>Guest: league position last season</th>\n",
       "      <th>Guest: GA 1-15 min last season</th>\n",
       "      <th>Guest: GA 16-30 min last season</th>\n",
       "      <th>Guest: GA 31-45 min last season</th>\n",
       "      <th>Guest: GA 46-60 min last season</th>\n",
       "      <th>Guest: GA 61-75 min last season</th>\n",
       "    </tr>\n",
       "  </thead>\n",
       "  <tbody>\n",
       "    <tr>\n",
       "      <th>0</th>\n",
       "      <td>26.12.2022</td>\n",
       "      <td>Arsenal</td>\n",
       "      <td>West Ham</td>\n",
       "      <td>1.842105</td>\n",
       "      <td>1.368421</td>\n",
       "      <td>1.263158</td>\n",
       "      <td>1.605263</td>\n",
       "      <td>5.0</td>\n",
       "      <td>0.196721</td>\n",
       "      <td>0.229508</td>\n",
       "      <td>...</td>\n",
       "      <td>1.736842</td>\n",
       "      <td>1.421053</td>\n",
       "      <td>1.578947</td>\n",
       "      <td>1.342105</td>\n",
       "      <td>7.0</td>\n",
       "      <td>0.083333</td>\n",
       "      <td>0.150000</td>\n",
       "      <td>0.183333</td>\n",
       "      <td>0.166667</td>\n",
       "      <td>0.216667</td>\n",
       "    </tr>\n",
       "    <tr>\n",
       "      <th>1</th>\n",
       "      <td>26.12.2022</td>\n",
       "      <td>Aston Villa</td>\n",
       "      <td>Liverpool</td>\n",
       "      <td>1.526316</td>\n",
       "      <td>1.210526</td>\n",
       "      <td>1.421053</td>\n",
       "      <td>1.368421</td>\n",
       "      <td>14.0</td>\n",
       "      <td>0.115385</td>\n",
       "      <td>0.115385</td>\n",
       "      <td>...</td>\n",
       "      <td>2.578947</td>\n",
       "      <td>2.368421</td>\n",
       "      <td>2.473684</td>\n",
       "      <td>0.684211</td>\n",
       "      <td>2.0</td>\n",
       "      <td>0.127660</td>\n",
       "      <td>0.180851</td>\n",
       "      <td>0.148936</td>\n",
       "      <td>0.127660</td>\n",
       "      <td>0.191489</td>\n",
       "    </tr>\n",
       "    <tr>\n",
       "      <th>2</th>\n",
       "      <td>26.12.2022</td>\n",
       "      <td>Brentford</td>\n",
       "      <td>Tottenham</td>\n",
       "      <td>1.157895</td>\n",
       "      <td>1.368421</td>\n",
       "      <td>1.473684</td>\n",
       "      <td>1.263158</td>\n",
       "      <td>13.0</td>\n",
       "      <td>0.104167</td>\n",
       "      <td>0.145833</td>\n",
       "      <td>...</td>\n",
       "      <td>2.000000</td>\n",
       "      <td>1.631579</td>\n",
       "      <td>1.815789</td>\n",
       "      <td>1.052632</td>\n",
       "      <td>4.0</td>\n",
       "      <td>0.159420</td>\n",
       "      <td>0.130435</td>\n",
       "      <td>0.173913</td>\n",
       "      <td>0.188406</td>\n",
       "      <td>0.202899</td>\n",
       "    </tr>\n",
       "    <tr>\n",
       "      <th>3</th>\n",
       "      <td>26.12.2022</td>\n",
       "      <td>Chelsea</td>\n",
       "      <td>Bournemouth</td>\n",
       "      <td>1.947368</td>\n",
       "      <td>2.052632</td>\n",
       "      <td>0.868421</td>\n",
       "      <td>2.000000</td>\n",
       "      <td>3.0</td>\n",
       "      <td>0.144737</td>\n",
       "      <td>0.144737</td>\n",
       "      <td>...</td>\n",
       "      <td>NaN</td>\n",
       "      <td>NaN</td>\n",
       "      <td>NaN</td>\n",
       "      <td>NaN</td>\n",
       "      <td>NaN</td>\n",
       "      <td>NaN</td>\n",
       "      <td>NaN</td>\n",
       "      <td>NaN</td>\n",
       "      <td>NaN</td>\n",
       "      <td>NaN</td>\n",
       "    </tr>\n",
       "    <tr>\n",
       "      <th>4</th>\n",
       "      <td>26.12.2022</td>\n",
       "      <td>Crystal Palace</td>\n",
       "      <td>Fulham</td>\n",
       "      <td>1.421053</td>\n",
       "      <td>1.210526</td>\n",
       "      <td>1.210526</td>\n",
       "      <td>1.315789</td>\n",
       "      <td>12.0</td>\n",
       "      <td>0.140000</td>\n",
       "      <td>0.080000</td>\n",
       "      <td>...</td>\n",
       "      <td>NaN</td>\n",
       "      <td>NaN</td>\n",
       "      <td>NaN</td>\n",
       "      <td>NaN</td>\n",
       "      <td>NaN</td>\n",
       "      <td>NaN</td>\n",
       "      <td>NaN</td>\n",
       "      <td>NaN</td>\n",
       "      <td>NaN</td>\n",
       "      <td>NaN</td>\n",
       "    </tr>\n",
       "  </tbody>\n",
       "</table>\n",
       "<p>5 rows × 24 columns</p>\n",
       "</div>"
      ],
      "text/plain": [
       "         Date            Host        Guest  \\\n",
       "0  26.12.2022         Arsenal     West Ham   \n",
       "1  26.12.2022     Aston Villa    Liverpool   \n",
       "2  26.12.2022       Brentford    Tottenham   \n",
       "3  26.12.2022         Chelsea  Bournemouth   \n",
       "4  26.12.2022  Crystal Palace       Fulham   \n",
       "\n",
       "   Host: G average at home last season  Host: G average as guests last season  \\\n",
       "0                             1.842105                               1.368421   \n",
       "1                             1.526316                               1.210526   \n",
       "2                             1.157895                               1.368421   \n",
       "3                             1.947368                               2.052632   \n",
       "4                             1.421053                               1.210526   \n",
       "\n",
       "   Host: GA average last season  Host: G average last season  \\\n",
       "0                      1.263158                     1.605263   \n",
       "1                      1.421053                     1.368421   \n",
       "2                      1.473684                     1.263158   \n",
       "3                      0.868421                     2.000000   \n",
       "4                      1.210526                     1.315789   \n",
       "\n",
       "   Host: league positon last season  Host: GA 1-15 min last season  \\\n",
       "0                               5.0                       0.196721   \n",
       "1                              14.0                       0.115385   \n",
       "2                              13.0                       0.104167   \n",
       "3                               3.0                       0.144737   \n",
       "4                              12.0                       0.140000   \n",
       "\n",
       "   Host: GA 16-30 min last season  ...  Guest: G average at home last season  \\\n",
       "0                        0.229508  ...                              1.736842   \n",
       "1                        0.115385  ...                              2.578947   \n",
       "2                        0.145833  ...                              2.000000   \n",
       "3                        0.144737  ...                                   NaN   \n",
       "4                        0.080000  ...                                   NaN   \n",
       "\n",
       "   Guest: G average as guests last season  Guest: G average last season  \\\n",
       "0                                1.421053                      1.578947   \n",
       "1                                2.368421                      2.473684   \n",
       "2                                1.631579                      1.815789   \n",
       "3                                     NaN                           NaN   \n",
       "4                                     NaN                           NaN   \n",
       "\n",
       "   Guest: GA average last season  Guest: league position last season  \\\n",
       "0                       1.342105                                 7.0   \n",
       "1                       0.684211                                 2.0   \n",
       "2                       1.052632                                 4.0   \n",
       "3                            NaN                                 NaN   \n",
       "4                            NaN                                 NaN   \n",
       "\n",
       "   Guest: GA 1-15 min last season  Guest: GA 16-30 min last season  \\\n",
       "0                        0.083333                         0.150000   \n",
       "1                        0.127660                         0.180851   \n",
       "2                        0.159420                         0.130435   \n",
       "3                             NaN                              NaN   \n",
       "4                             NaN                              NaN   \n",
       "\n",
       "   Guest: GA 31-45 min last season  Guest: GA 46-60 min last season  \\\n",
       "0                         0.183333                         0.166667   \n",
       "1                         0.148936                         0.127660   \n",
       "2                         0.173913                         0.188406   \n",
       "3                              NaN                              NaN   \n",
       "4                              NaN                              NaN   \n",
       "\n",
       "   Guest: GA 61-75 min last season  \n",
       "0                         0.216667  \n",
       "1                         0.191489  \n",
       "2                         0.202899  \n",
       "3                              NaN  \n",
       "4                              NaN  \n",
       "\n",
       "[5 rows x 24 columns]"
      ]
     },
     "execution_count": 31,
     "metadata": {},
     "output_type": "execute_result"
    }
   ],
   "source": [
    "temp_table[['Date', 'Host', 'Guest',\n",
    "       'Host: G average at home last season',\n",
    "       'Host: G average as guests last season', 'Host: GA average last season',\n",
    "       'Host: G average last season', 'Host: league positon last season',\n",
    "       'Host: GA 1-15 min last season', 'Host: GA 16-30 min last season',\n",
    "       'Host: GA 31-45 min last season', 'Host: GA 46-60 min last season',\n",
    "       'Host: GA 61-75 min last season', 'Host: GA 76+ min last season',\n",
    "       'Guest: G average at home last season',\n",
    "       'Guest: G average as guests last season',\n",
    "       'Guest: G average last season', 'Guest: GA average last season',\n",
    "       'Guest: league position last season', 'Guest: GA 1-15 min last season',\n",
    "       'Guest: GA 16-30 min last season', 'Guest: GA 31-45 min last season',\n",
    "       'Guest: GA 46-60 min last season', 'Guest: GA 61-75 min last season']].head()"
   ]
  },
  {
   "cell_type": "code",
   "execution_count": null,
   "metadata": {},
   "outputs": [],
   "source": [
    "# статистика текущего сезона\n",
    "# Host: G average this season, 'Host: GA average this season', 'Host: matches played this season', \n",
    "# 'Host: days since last match', 'Host: G/GA delta this season', 'Host: xG average this season',\n",
    "# Guest: G average this season, 'Guest: GA average this season', 'Guest: matches played this season', \n",
    "# 'Gues: days since last match', 'Guest: G/GA delta this season', 'Guest: xG average this season' "
   ]
  },
  {
   "cell_type": "code",
   "execution_count": 6,
   "metadata": {},
   "outputs": [
    {
     "name": "stdout",
     "output_type": "stream",
     "text": [
      "0 Arsenal West Ham 26.12.2022\n"
     ]
    },
    {
     "name": "stderr",
     "output_type": "stream",
     "text": [
      "Unclosed client session\n",
      "client_session: <aiohttp.client.ClientSession object at 0x0000019568371340>\n",
      "Unclosed connector\n",
      "connections: ['[(<aiohttp.client_proto.ResponseHandler object at 0x00000195681A9AC0>, 109060.578)]']\n",
      "connector: <aiohttp.connector.TCPConnector object at 0x00000195683713A0>\n"
     ]
    },
    {
     "name": "stdout",
     "output_type": "stream",
     "text": [
      "Last match played Arsenal against Wolverhampton Wanderers on 2022-11-12 19:45:00\n",
      "Last match played Leicester against West Ham on 2022-11-12 15:00:00\n",
      "1 Aston Villa Liverpool 26.12.2022\n"
     ]
    },
    {
     "name": "stderr",
     "output_type": "stream",
     "text": [
      "Unclosed client session\n",
      "client_session: <aiohttp.client.ClientSession object at 0x000001956850DB50>\n",
      "Unclosed connector\n",
      "connections: ['[(<aiohttp.client_proto.ResponseHandler object at 0x00000195683908E0>, 109062.265)]']\n",
      "connector: <aiohttp.connector.TCPConnector object at 0x000001956850DD90>\n"
     ]
    },
    {
     "name": "stdout",
     "output_type": "stream",
     "text": [
      "Last match played Aston Villa against Brighton on 2022-11-13 14:00:00\n",
      "Last match played Southampton against Liverpool on 2022-11-12 15:00:00\n",
      "2 Brentford Tottenham 26.12.2022\n"
     ]
    },
    {
     "name": "stderr",
     "output_type": "stream",
     "text": [
      "Unclosed client session\n",
      "client_session: <aiohttp.client.ClientSession object at 0x0000019568505760>\n",
      "Unclosed connector\n",
      "connections: ['[(<aiohttp.client_proto.ResponseHandler object at 0x00000195681A9220>, 109063.875)]']\n",
      "connector: <aiohttp.connector.TCPConnector object at 0x0000019568505F10>\n"
     ]
    },
    {
     "name": "stdout",
     "output_type": "stream",
     "text": [
      "Last match played Brentford against Manchester City on 2022-11-12 12:30:00\n",
      "Last match played Leeds against Tottenham on 2022-11-12 15:00:00\n",
      "3 Chelsea Bournemouth 26.12.2022\n"
     ]
    },
    {
     "name": "stderr",
     "output_type": "stream",
     "text": [
      "Unclosed client session\n",
      "client_session: <aiohttp.client.ClientSession object at 0x0000019568425B20>\n",
      "Unclosed connector\n",
      "connections: ['[(<aiohttp.client_proto.ResponseHandler object at 0x00000195681A93A0>, 109065.531)]']\n",
      "connector: <aiohttp.connector.TCPConnector object at 0x00000195684256D0>\n"
     ]
    },
    {
     "name": "stdout",
     "output_type": "stream",
     "text": [
      "Last match played Chelsea against Newcastle United on 2022-11-12 17:30:00\n",
      "Last match played Everton against Bournemouth on 2022-11-12 15:00:00\n",
      "4 Crystal Palace Fulham 26.12.2022\n"
     ]
    },
    {
     "name": "stderr",
     "output_type": "stream",
     "text": [
      "Unclosed client session\n",
      "client_session: <aiohttp.client.ClientSession object at 0x0000019568413DC0>\n",
      "Unclosed connector\n",
      "connections: ['[(<aiohttp.client_proto.ResponseHandler object at 0x0000019568534340>, 109067.109)]']\n",
      "connector: <aiohttp.connector.TCPConnector object at 0x0000019568413F40>\n"
     ]
    },
    {
     "name": "stdout",
     "output_type": "stream",
     "text": [
      "Last match played Crystal Palace against Nottingham Forest on 2022-11-12 15:00:00\n",
      "Last match played Manchester United against Fulham on 2022-11-13 16:30:00\n",
      "5 Everton Wolverhampton Wanderers 26.12.2022\n"
     ]
    },
    {
     "name": "stderr",
     "output_type": "stream",
     "text": [
      "Unclosed client session\n",
      "client_session: <aiohttp.client.ClientSession object at 0x00000195684136A0>\n",
      "Unclosed connector\n",
      "connections: ['[(<aiohttp.client_proto.ResponseHandler object at 0x00000195681A93A0>, 109069.781)]']\n",
      "connector: <aiohttp.connector.TCPConnector object at 0x0000019568413700>\n"
     ]
    },
    {
     "name": "stdout",
     "output_type": "stream",
     "text": [
      "Last match played Everton against Bournemouth on 2022-11-12 15:00:00\n",
      "Last match played Arsenal against Wolverhampton Wanderers on 2022-11-12 19:45:00\n",
      "6 Leeds Manchester City 26.12.2022\n"
     ]
    },
    {
     "name": "stderr",
     "output_type": "stream",
     "text": [
      "Unclosed client session\n",
      "client_session: <aiohttp.client.ClientSession object at 0x00000195686A1BE0>\n",
      "Unclosed connector\n",
      "connections: ['[(<aiohttp.client_proto.ResponseHandler object at 0x000001956868D820>, 109071.484)]']\n",
      "connector: <aiohttp.connector.TCPConnector object at 0x00000195686A16D0>\n"
     ]
    },
    {
     "name": "stdout",
     "output_type": "stream",
     "text": [
      "Last match played Leeds against Tottenham on 2022-11-12 15:00:00\n",
      "Last match played Brentford against Manchester City on 2022-11-12 12:30:00\n",
      "7 Leicester Newcastle United 26.12.2022\n"
     ]
    },
    {
     "name": "stderr",
     "output_type": "stream",
     "text": [
      "Unclosed client session\n",
      "client_session: <aiohttp.client.ClientSession object at 0x00000195684133D0>\n",
      "Unclosed connector\n",
      "connections: ['[(<aiohttp.client_proto.ResponseHandler object at 0x00000195683902E0>, 109073.312)]']\n",
      "connector: <aiohttp.connector.TCPConnector object at 0x00000195686A1D00>\n"
     ]
    },
    {
     "name": "stdout",
     "output_type": "stream",
     "text": [
      "Last match played Leicester against West Ham on 2022-11-12 15:00:00\n",
      "Last match played Chelsea against Newcastle United on 2022-11-12 17:30:00\n",
      "8 Manchester United Nottingham Forest 26.12.2022\n"
     ]
    },
    {
     "name": "stderr",
     "output_type": "stream",
     "text": [
      "Unclosed client session\n",
      "client_session: <aiohttp.client.ClientSession object at 0x000001956848AD30>\n",
      "Unclosed connector\n",
      "connections: ['[(<aiohttp.client_proto.ResponseHandler object at 0x00000195683902E0>, 109075.062)]']\n",
      "connector: <aiohttp.connector.TCPConnector object at 0x000001956848AE50>\n"
     ]
    },
    {
     "name": "stdout",
     "output_type": "stream",
     "text": [
      "Last match played Manchester United against Fulham on 2022-11-13 16:30:00\n",
      "Last match played Crystal Palace against Nottingham Forest on 2022-11-12 15:00:00\n",
      "9 Southampton Brighton 26.12.2022\n"
     ]
    },
    {
     "name": "stderr",
     "output_type": "stream",
     "text": [
      "Unclosed client session\n",
      "client_session: <aiohttp.client.ClientSession object at 0x00000195685056A0>\n",
      "Unclosed connector\n",
      "connections: ['[(<aiohttp.client_proto.ResponseHandler object at 0x0000019568194FA0>, 109076.734)]']\n",
      "connector: <aiohttp.connector.TCPConnector object at 0x0000019568505BE0>\n"
     ]
    },
    {
     "name": "stdout",
     "output_type": "stream",
     "text": [
      "Last match played Southampton against Liverpool on 2022-11-12 15:00:00\n",
      "Last match played Aston Villa against Brighton on 2022-11-13 14:00:00\n",
      "10 Bournemouth Crystal Palace 31.12.2022\n"
     ]
    },
    {
     "name": "stderr",
     "output_type": "stream",
     "text": [
      "Unclosed client session\n",
      "client_session: <aiohttp.client.ClientSession object at 0x00000195684C8040>\n",
      "Unclosed connector\n",
      "connections: ['[(<aiohttp.client_proto.ResponseHandler object at 0x0000019568194FA0>, 109078.375)]']\n",
      "connector: <aiohttp.connector.TCPConnector object at 0x00000195684C85E0>\n"
     ]
    },
    {
     "name": "stdout",
     "output_type": "stream",
     "text": [
      "Last match played Bournemouth against Chelsea on 2022-12-26 12:00:00\n",
      "Last match played Fulham against Crystal Palace on 2022-12-26 12:00:00\n",
      "11 Brighton Arsenal 31.12.2022\n"
     ]
    },
    {
     "name": "stderr",
     "output_type": "stream",
     "text": [
      "Unclosed client session\n",
      "client_session: <aiohttp.client.ClientSession object at 0x00000195684F33D0>\n",
      "Unclosed connector\n",
      "connections: ['[(<aiohttp.client_proto.ResponseHandler object at 0x0000019568194FA0>, 109080.125)]']\n",
      "connector: <aiohttp.connector.TCPConnector object at 0x00000195684F3820>\n"
     ]
    },
    {
     "name": "stdout",
     "output_type": "stream",
     "text": [
      "Last match played Brighton against Southampton on 2022-12-26 12:00:00\n",
      "Last match played West Ham against Arsenal on 2022-12-26 12:00:00\n",
      "12 Fulham Southampton 31.12.2022\n"
     ]
    },
    {
     "name": "stderr",
     "output_type": "stream",
     "text": [
      "Unclosed client session\n",
      "client_session: <aiohttp.client.ClientSession object at 0x000001956845FD30>\n",
      "Unclosed connector\n",
      "connections: ['[(<aiohttp.client_proto.ResponseHandler object at 0x0000019568194FA0>, 109081.859)]']\n",
      "connector: <aiohttp.connector.TCPConnector object at 0x000001956845FB50>\n"
     ]
    },
    {
     "name": "stdout",
     "output_type": "stream",
     "text": [
      "Last match played Fulham against Crystal Palace on 2022-12-26 12:00:00\n",
      "Last match played Brighton against Southampton on 2022-12-26 12:00:00\n",
      "13 Liverpool Leicester 31.12.2022\n"
     ]
    },
    {
     "name": "stderr",
     "output_type": "stream",
     "text": [
      "Unclosed client session\n",
      "client_session: <aiohttp.client.ClientSession object at 0x00000195686BDC40>\n",
      "Unclosed connector\n",
      "connections: ['[(<aiohttp.client_proto.ResponseHandler object at 0x0000019568194FA0>, 109083.593)]']\n",
      "connector: <aiohttp.connector.TCPConnector object at 0x00000195686A8EE0>\n"
     ]
    },
    {
     "name": "stdout",
     "output_type": "stream",
     "text": [
      "Last match played Liverpool against Aston Villa on 2022-12-26 12:00:00\n",
      "Last match played Newcastle United against Leicester on 2022-12-26 12:00:00\n",
      "14 Manchester City Everton 31.12.2022\n"
     ]
    },
    {
     "name": "stderr",
     "output_type": "stream",
     "text": [
      "Unclosed client session\n",
      "client_session: <aiohttp.client.ClientSession object at 0x00000195684E6340>\n",
      "Unclosed connector\n",
      "connections: ['[(<aiohttp.client_proto.ResponseHandler object at 0x0000019568534400>, 109085.328)]']\n",
      "connector: <aiohttp.connector.TCPConnector object at 0x00000195684E6B80>\n"
     ]
    },
    {
     "name": "stdout",
     "output_type": "stream",
     "text": [
      "Last match played Manchester City against Leeds on 2022-12-26 12:00:00\n",
      "Last match played Wolverhampton Wanderers against Everton on 2022-12-26 12:00:00\n",
      "15 Newcastle United Leeds 31.12.2022\n"
     ]
    },
    {
     "name": "stderr",
     "output_type": "stream",
     "text": [
      "Unclosed client session\n",
      "client_session: <aiohttp.client.ClientSession object at 0x0000019568704A30>\n",
      "Unclosed connector\n",
      "connections: ['[(<aiohttp.client_proto.ResponseHandler object at 0x00000195685346A0>, 109087.0)]']\n",
      "connector: <aiohttp.connector.TCPConnector object at 0x0000019568704790>\n"
     ]
    },
    {
     "name": "stdout",
     "output_type": "stream",
     "text": [
      "Last match played Newcastle United against Leicester on 2022-12-26 12:00:00\n",
      "Last match played Manchester City against Leeds on 2022-12-26 12:00:00\n",
      "16 Nottingham Forest Chelsea 31.12.2022\n"
     ]
    },
    {
     "name": "stderr",
     "output_type": "stream",
     "text": [
      "Unclosed client session\n",
      "client_session: <aiohttp.client.ClientSession object at 0x0000019568497580>\n",
      "Unclosed connector\n",
      "connections: ['[(<aiohttp.client_proto.ResponseHandler object at 0x000001956868DC40>, 109088.593)]']\n",
      "connector: <aiohttp.connector.TCPConnector object at 0x00000195684979D0>\n"
     ]
    },
    {
     "name": "stdout",
     "output_type": "stream",
     "text": [
      "Last match played Nottingham Forest against Manchester United on 2022-12-26 12:00:00\n",
      "Last match played Bournemouth against Chelsea on 2022-12-26 12:00:00\n",
      "17 Tottenham Aston Villa 31.12.2022\n"
     ]
    },
    {
     "name": "stderr",
     "output_type": "stream",
     "text": [
      "Unclosed client session\n",
      "client_session: <aiohttp.client.ClientSession object at 0x0000019568704EE0>\n",
      "Unclosed connector\n",
      "connections: ['[(<aiohttp.client_proto.ResponseHandler object at 0x00000195681A9AC0>, 109090.359)]']\n",
      "connector: <aiohttp.connector.TCPConnector object at 0x00000195684FBEE0>\n"
     ]
    },
    {
     "name": "stdout",
     "output_type": "stream",
     "text": [
      "Last match played Tottenham against Brentford on 2022-12-26 12:00:00\n",
      "Last match played Liverpool against Aston Villa on 2022-12-26 12:00:00\n",
      "18 West Ham Brentford 31.12.2022\n"
     ]
    },
    {
     "name": "stderr",
     "output_type": "stream",
     "text": [
      "Unclosed client session\n",
      "client_session: <aiohttp.client.ClientSession object at 0x00000195685A9100>\n",
      "Unclosed connector\n",
      "connections: ['[(<aiohttp.client_proto.ResponseHandler object at 0x000001956868D520>, 109092.015)]']\n",
      "connector: <aiohttp.connector.TCPConnector object at 0x00000195685A9C40>\n"
     ]
    },
    {
     "name": "stdout",
     "output_type": "stream",
     "text": [
      "Last match played West Ham against Arsenal on 2022-12-26 12:00:00\n",
      "Last match played Tottenham against Brentford on 2022-12-26 12:00:00\n",
      "19 Wolverhampton Wanderers Manchester United 31.12.2022\n"
     ]
    },
    {
     "name": "stderr",
     "output_type": "stream",
     "text": [
      "Unclosed client session\n",
      "client_session: <aiohttp.client.ClientSession object at 0x0000019568515FA0>\n",
      "Unclosed connector\n",
      "connections: ['[(<aiohttp.client_proto.ResponseHandler object at 0x0000019568194FA0>, 109093.703)]']\n",
      "connector: <aiohttp.connector.TCPConnector object at 0x00000195685155E0>\n"
     ]
    },
    {
     "name": "stdout",
     "output_type": "stream",
     "text": [
      "Last match played Wolverhampton Wanderers against Everton on 2022-12-26 12:00:00\n",
      "Last match played Nottingham Forest against Manchester United on 2022-12-26 12:00:00\n",
      "20 Arsenal Newcastle United 02.01.2023\n"
     ]
    },
    {
     "name": "stderr",
     "output_type": "stream",
     "text": [
      "Unclosed client session\n",
      "client_session: <aiohttp.client.ClientSession object at 0x0000019568592D90>\n",
      "Unclosed connector\n",
      "connections: ['[(<aiohttp.client_proto.ResponseHandler object at 0x0000019568194FA0>, 109095.406)]']\n",
      "connector: <aiohttp.connector.TCPConnector object at 0x0000019568592A60>\n"
     ]
    },
    {
     "name": "stdout",
     "output_type": "stream",
     "text": [
      "Last match played Arsenal against Brighton on 2022-12-31 12:00:00\n",
      "Last match played Leeds against Newcastle United on 2022-12-31 12:00:00\n",
      "21 Aston Villa Wolverhampton Wanderers 02.01.2023\n"
     ]
    },
    {
     "name": "stderr",
     "output_type": "stream",
     "text": [
      "Unclosed client session\n",
      "client_session: <aiohttp.client.ClientSession object at 0x0000019568592820>\n",
      "Unclosed connector\n",
      "connections: ['[(<aiohttp.client_proto.ResponseHandler object at 0x000001956868DD60>, 109096.968)]']\n",
      "connector: <aiohttp.connector.TCPConnector object at 0x0000019568592F40>\n"
     ]
    },
    {
     "name": "stdout",
     "output_type": "stream",
     "text": [
      "Last match played Aston Villa against Tottenham on 2022-12-31 12:00:00\n",
      "Last match played Manchester United against Wolverhampton Wanderers on 2022-12-31 12:00:00\n",
      "22 Brentford Liverpool 02.01.2023\n"
     ]
    },
    {
     "name": "stderr",
     "output_type": "stream",
     "text": [
      "Unclosed client session\n",
      "client_session: <aiohttp.client.ClientSession object at 0x00000195687AEDF0>\n",
      "Unclosed connector\n",
      "connections: ['[(<aiohttp.client_proto.ResponseHandler object at 0x0000019568194FA0>, 109098.734)]']\n",
      "connector: <aiohttp.connector.TCPConnector object at 0x00000195684F0910>\n"
     ]
    },
    {
     "name": "stdout",
     "output_type": "stream",
     "text": [
      "Last match played Brentford against West Ham on 2022-12-31 12:00:00\n",
      "Last match played Leicester against Liverpool on 2022-12-31 12:00:00\n",
      "23 Chelsea Manchester City 02.01.2023\n"
     ]
    },
    {
     "name": "stderr",
     "output_type": "stream",
     "text": [
      "Unclosed client session\n",
      "client_session: <aiohttp.client.ClientSession object at 0x0000019568505CD0>\n",
      "Unclosed connector\n",
      "connections: ['[(<aiohttp.client_proto.ResponseHandler object at 0x0000019567FD6D60>, 109100.531)]']\n",
      "connector: <aiohttp.connector.TCPConnector object at 0x0000019568505730>\n"
     ]
    },
    {
     "name": "stdout",
     "output_type": "stream",
     "text": [
      "Last match played Chelsea against Nottingham Forest on 2022-12-31 12:00:00\n",
      "Last match played Everton against Manchester City on 2022-12-31 12:00:00\n",
      "24 Crystal Palace Tottenham 02.01.2023\n"
     ]
    },
    {
     "name": "stderr",
     "output_type": "stream",
     "text": [
      "Unclosed client session\n",
      "client_session: <aiohttp.client.ClientSession object at 0x0000019568725610>\n",
      "Unclosed connector\n",
      "connections: ['[(<aiohttp.client_proto.ResponseHandler object at 0x000001956868D520>, 109102.328)]']\n",
      "connector: <aiohttp.connector.TCPConnector object at 0x0000019568725370>\n"
     ]
    },
    {
     "name": "stdout",
     "output_type": "stream",
     "text": [
      "Last match played Crystal Palace against Bournemouth on 2022-12-31 12:00:00\n",
      "Last match played Aston Villa against Tottenham on 2022-12-31 12:00:00\n",
      "25 Everton Brighton 02.01.2023\n"
     ]
    },
    {
     "name": "stderr",
     "output_type": "stream",
     "text": [
      "Unclosed client session\n",
      "client_session: <aiohttp.client.ClientSession object at 0x00000195688D3F10>\n",
      "Unclosed connector\n",
      "connections: ['[(<aiohttp.client_proto.ResponseHandler object at 0x0000019567FD6D60>, 109104.14)]']\n",
      "connector: <aiohttp.connector.TCPConnector object at 0x00000195688D3D60>\n"
     ]
    },
    {
     "name": "stdout",
     "output_type": "stream",
     "text": [
      "Last match played Everton against Manchester City on 2022-12-31 12:00:00\n",
      "Last match played Arsenal against Brighton on 2022-12-31 12:00:00\n",
      "26 Leeds West Ham 02.01.2023\n"
     ]
    },
    {
     "name": "stderr",
     "output_type": "stream",
     "text": [
      "Unclosed client session\n",
      "client_session: <aiohttp.client.ClientSession object at 0x000001956892FC70>\n",
      "Unclosed connector\n",
      "connections: ['[(<aiohttp.client_proto.ResponseHandler object at 0x0000019567FD6D60>, 109105.796)]']\n",
      "connector: <aiohttp.connector.TCPConnector object at 0x000001956892FBB0>\n"
     ]
    },
    {
     "name": "stdout",
     "output_type": "stream",
     "text": [
      "Last match played Leeds against Newcastle United on 2022-12-31 12:00:00\n",
      "Last match played Brentford against West Ham on 2022-12-31 12:00:00\n",
      "27 Leicester Fulham 02.01.2023\n"
     ]
    },
    {
     "name": "stderr",
     "output_type": "stream",
     "text": [
      "Unclosed client session\n",
      "client_session: <aiohttp.client.ClientSession object at 0x00000195685A5850>\n",
      "Unclosed connector\n",
      "connections: ['[(<aiohttp.client_proto.ResponseHandler object at 0x0000019567FD6D60>, 109107.609)]']\n",
      "connector: <aiohttp.connector.TCPConnector object at 0x00000195685A53A0>\n"
     ]
    },
    {
     "name": "stdout",
     "output_type": "stream",
     "text": [
      "Last match played Leicester against Liverpool on 2022-12-31 12:00:00\n",
      "Last match played Southampton against Fulham on 2022-12-31 12:00:00\n",
      "28 Manchester United Bournemouth 02.01.2023\n"
     ]
    },
    {
     "name": "stderr",
     "output_type": "stream",
     "text": [
      "Unclosed client session\n",
      "client_session: <aiohttp.client.ClientSession object at 0x00000195688D3E20>\n",
      "Unclosed connector\n",
      "connections: ['[(<aiohttp.client_proto.ResponseHandler object at 0x0000019567FD6D60>, 109109.328)]']\n",
      "connector: <aiohttp.connector.TCPConnector object at 0x00000195685A5D90>\n"
     ]
    },
    {
     "name": "stdout",
     "output_type": "stream",
     "text": [
      "Last match played Manchester United against Wolverhampton Wanderers on 2022-12-31 12:00:00\n",
      "Last match played Crystal Palace against Bournemouth on 2022-12-31 12:00:00\n",
      "29 Southampton Nottingham Forest 02.01.2023\n"
     ]
    },
    {
     "name": "stderr",
     "output_type": "stream",
     "text": [
      "Unclosed client session\n",
      "client_session: <aiohttp.client.ClientSession object at 0x0000019568505CA0>\n",
      "Unclosed connector\n",
      "connections: ['[(<aiohttp.client_proto.ResponseHandler object at 0x0000019567FD6D60>, 109110.968)]']\n",
      "connector: <aiohttp.connector.TCPConnector object at 0x0000019568505820>\n"
     ]
    },
    {
     "name": "stdout",
     "output_type": "stream",
     "text": [
      "Last match played Southampton against Fulham on 2022-12-31 12:00:00\n",
      "Last match played Chelsea against Nottingham Forest on 2022-12-31 12:00:00\n",
      "30 Aston Villa Leeds 14.01.2023\n"
     ]
    },
    {
     "name": "stderr",
     "output_type": "stream",
     "text": [
      "Unclosed client session\n",
      "client_session: <aiohttp.client.ClientSession object at 0x000001956873CE50>\n",
      "Unclosed connector\n",
      "connections: ['[(<aiohttp.client_proto.ResponseHandler object at 0x0000019567FD6D60>, 109112.546)]']\n",
      "connector: <aiohttp.connector.TCPConnector object at 0x000001956873CFD0>\n"
     ]
    },
    {
     "name": "stdout",
     "output_type": "stream",
     "text": [
      "Last match played Wolverhampton Wanderers against Aston Villa on 2023-01-02 12:00:00\n",
      "Last match played West Ham against Leeds on 2023-01-02 12:00:00\n",
      "31 Brentford Bournemouth 14.01.2023\n"
     ]
    },
    {
     "name": "stderr",
     "output_type": "stream",
     "text": [
      "Unclosed client session\n",
      "client_session: <aiohttp.client.ClientSession object at 0x000001956848D5E0>\n",
      "Unclosed connector\n",
      "connections: ['[(<aiohttp.client_proto.ResponseHandler object at 0x0000019567FD6D60>, 109114.14)]']\n",
      "connector: <aiohttp.connector.TCPConnector object at 0x000001956848D9A0>\n"
     ]
    },
    {
     "name": "stdout",
     "output_type": "stream",
     "text": [
      "Last match played Liverpool against Brentford on 2023-01-02 12:00:00\n",
      "Last match played Bournemouth against Manchester United on 2023-01-02 12:00:00\n",
      "32 Brighton Liverpool 14.01.2023\n"
     ]
    },
    {
     "name": "stderr",
     "output_type": "stream",
     "text": [
      "Unclosed client session\n",
      "client_session: <aiohttp.client.ClientSession object at 0x000001956846ECA0>\n",
      "Unclosed connector\n",
      "connections: ['[(<aiohttp.client_proto.ResponseHandler object at 0x0000019567FD6D60>, 109115.812)]']\n",
      "connector: <aiohttp.connector.TCPConnector object at 0x000001956846E460>\n"
     ]
    },
    {
     "name": "stdout",
     "output_type": "stream",
     "text": [
      "Last match played Brighton against Everton on 2023-01-02 12:00:00\n",
      "Last match played Liverpool against Brentford on 2023-01-02 12:00:00\n",
      "33 Chelsea Crystal Palace 14.01.2023\n"
     ]
    },
    {
     "name": "stderr",
     "output_type": "stream",
     "text": [
      "Unclosed client session\n",
      "client_session: <aiohttp.client.ClientSession object at 0x00000195684B8760>\n",
      "Unclosed connector\n",
      "connections: ['[(<aiohttp.client_proto.ResponseHandler object at 0x0000019567FD6D60>, 109117.546)]']\n",
      "connector: <aiohttp.connector.TCPConnector object at 0x00000195684B8730>\n"
     ]
    },
    {
     "name": "stdout",
     "output_type": "stream",
     "text": [
      "Last match played Manchester City against Chelsea on 2023-01-02 12:00:00\n",
      "Last match played Tottenham against Crystal Palace on 2023-01-02 12:00:00\n",
      "34 Everton Southampton 14.01.2023\n"
     ]
    },
    {
     "name": "stderr",
     "output_type": "stream",
     "text": [
      "Unclosed client session\n",
      "client_session: <aiohttp.client.ClientSession object at 0x0000019568515A00>\n",
      "Unclosed connector\n",
      "connections: ['[(<aiohttp.client_proto.ResponseHandler object at 0x0000019567FD6D60>, 109119.296)]']\n",
      "connector: <aiohttp.connector.TCPConnector object at 0x0000019568515790>\n"
     ]
    },
    {
     "name": "stdout",
     "output_type": "stream",
     "text": [
      "Last match played Brighton against Everton on 2023-01-02 12:00:00\n",
      "Last match played Nottingham Forest against Southampton on 2023-01-02 12:00:00\n",
      "35 Manchester United Manchester City 14.01.2023\n"
     ]
    },
    {
     "name": "stderr",
     "output_type": "stream",
     "text": [
      "Unclosed client session\n",
      "client_session: <aiohttp.client.ClientSession object at 0x00000195686CCEB0>\n",
      "Unclosed connector\n",
      "connections: ['[(<aiohttp.client_proto.ResponseHandler object at 0x000001956868DD60>, 109121.015)]']\n",
      "connector: <aiohttp.connector.TCPConnector object at 0x00000195686CCCD0>\n"
     ]
    },
    {
     "name": "stdout",
     "output_type": "stream",
     "text": [
      "Last match played Bournemouth against Manchester United on 2023-01-02 12:00:00\n",
      "Last match played Manchester City against Chelsea on 2023-01-02 12:00:00\n",
      "36 Newcastle United Fulham 14.01.2023\n"
     ]
    },
    {
     "name": "stderr",
     "output_type": "stream",
     "text": [
      "Unclosed client session\n",
      "client_session: <aiohttp.client.ClientSession object at 0x00000195688B53A0>\n",
      "Unclosed connector\n",
      "connections: ['[(<aiohttp.client_proto.ResponseHandler object at 0x0000019567FD6D60>, 109122.781)]']\n",
      "connector: <aiohttp.connector.TCPConnector object at 0x00000195688B50D0>\n"
     ]
    },
    {
     "name": "stdout",
     "output_type": "stream",
     "text": [
      "Last match played Newcastle United against Arsenal on 2023-01-02 12:00:00\n",
      "Last match played Fulham against Leicester on 2023-01-02 12:00:00\n",
      "37 Nottingham Forest Leicester 14.01.2023\n"
     ]
    },
    {
     "name": "stderr",
     "output_type": "stream",
     "text": [
      "Unclosed client session\n",
      "client_session: <aiohttp.client.ClientSession object at 0x00000195688AA2B0>\n",
      "Unclosed connector\n",
      "connections: ['[(<aiohttp.client_proto.ResponseHandler object at 0x0000019567FD6D60>, 109124.421)]']\n",
      "connector: <aiohttp.connector.TCPConnector object at 0x00000195688AAA90>\n"
     ]
    },
    {
     "name": "stdout",
     "output_type": "stream",
     "text": [
      "Last match played Nottingham Forest against Southampton on 2023-01-02 12:00:00\n",
      "Last match played Fulham against Leicester on 2023-01-02 12:00:00\n",
      "38 Tottenham Arsenal 14.01.2023\n"
     ]
    },
    {
     "name": "stderr",
     "output_type": "stream",
     "text": [
      "Unclosed client session\n",
      "client_session: <aiohttp.client.ClientSession object at 0x00000195688B5760>\n",
      "Unclosed connector\n",
      "connections: ['[(<aiohttp.client_proto.ResponseHandler object at 0x0000019567FD6D60>, 109126.234)]']\n",
      "connector: <aiohttp.connector.TCPConnector object at 0x00000195688B5790>\n"
     ]
    },
    {
     "name": "stdout",
     "output_type": "stream",
     "text": [
      "Last match played Tottenham against Crystal Palace on 2023-01-02 12:00:00\n",
      "Last match played Newcastle United against Arsenal on 2023-01-02 12:00:00\n",
      "39 Wolverhampton Wanderers West Ham 14.01.2023\n"
     ]
    },
    {
     "name": "stderr",
     "output_type": "stream",
     "text": [
      "Unclosed client session\n",
      "client_session: <aiohttp.client.ClientSession object at 0x00000195688AA2E0>\n",
      "Unclosed connector\n",
      "connections: ['[(<aiohttp.client_proto.ResponseHandler object at 0x0000019567FD6D60>, 109128.046)]']\n",
      "connector: <aiohttp.connector.TCPConnector object at 0x00000195688AA0A0>\n"
     ]
    },
    {
     "name": "stdout",
     "output_type": "stream",
     "text": [
      "Last match played Wolverhampton Wanderers against Aston Villa on 2023-01-02 12:00:00\n",
      "Last match played West Ham against Leeds on 2023-01-02 12:00:00\n",
      "40 Arsenal Manchester United 21.01.2023\n"
     ]
    },
    {
     "name": "stderr",
     "output_type": "stream",
     "text": [
      "Unclosed client session\n",
      "client_session: <aiohttp.client.ClientSession object at 0x0000019568779AF0>\n",
      "Unclosed connector\n",
      "connections: ['[(<aiohttp.client_proto.ResponseHandler object at 0x00000195681A9100>, 109129.921)]']\n",
      "connector: <aiohttp.connector.TCPConnector object at 0x0000019568779550>\n"
     ]
    },
    {
     "name": "stdout",
     "output_type": "stream",
     "text": [
      "Last match played Arsenal against Tottenham on 2023-01-14 12:00:00\n",
      "Last match played Manchester City against Manchester United on 2023-01-14 12:00:00\n",
      "41 Bournemouth Nottingham Forest 21.01.2023\n"
     ]
    },
    {
     "name": "stderr",
     "output_type": "stream",
     "text": [
      "Unclosed client session\n",
      "client_session: <aiohttp.client.ClientSession object at 0x0000019568672E80>\n",
      "Unclosed connector\n",
      "connections: ['[(<aiohttp.client_proto.ResponseHandler object at 0x00000195681A9040>, 109131.578)]']\n",
      "connector: <aiohttp.connector.TCPConnector object at 0x0000019568672AC0>\n"
     ]
    },
    {
     "name": "stdout",
     "output_type": "stream",
     "text": [
      "Last match played Bournemouth against Brentford on 2023-01-14 12:00:00\n",
      "Last match played Leicester against Nottingham Forest on 2023-01-14 12:00:00\n",
      "42 Crystal Palace Newcastle United 21.01.2023\n"
     ]
    },
    {
     "name": "stderr",
     "output_type": "stream",
     "text": [
      "Unclosed client session\n",
      "client_session: <aiohttp.client.ClientSession object at 0x0000019568779460>\n",
      "Unclosed connector\n",
      "connections: ['[(<aiohttp.client_proto.ResponseHandler object at 0x0000019567FD6D60>, 109133.406)]']\n",
      "connector: <aiohttp.connector.TCPConnector object at 0x0000019568672BB0>\n"
     ]
    },
    {
     "name": "stdout",
     "output_type": "stream",
     "text": [
      "Last match played Crystal Palace against Chelsea on 2023-01-14 12:00:00\n",
      "Last match played Fulham against Newcastle United on 2023-01-14 12:00:00\n",
      "43 Fulham Tottenham 21.01.2023\n"
     ]
    },
    {
     "name": "stderr",
     "output_type": "stream",
     "text": [
      "Unclosed client session\n",
      "client_session: <aiohttp.client.ClientSession object at 0x0000019568410940>\n",
      "Unclosed connector\n",
      "connections: ['[(<aiohttp.client_proto.ResponseHandler object at 0x0000019567FD6D60>, 109135.015)]']\n",
      "connector: <aiohttp.connector.TCPConnector object at 0x0000019568410A60>\n"
     ]
    },
    {
     "name": "stdout",
     "output_type": "stream",
     "text": [
      "Last match played Fulham against Newcastle United on 2023-01-14 12:00:00\n",
      "Last match played Arsenal against Tottenham on 2023-01-14 12:00:00\n",
      "44 Leeds Brentford 21.01.2023\n"
     ]
    },
    {
     "name": "stderr",
     "output_type": "stream",
     "text": [
      "Unclosed client session\n",
      "client_session: <aiohttp.client.ClientSession object at 0x0000019568428F70>\n",
      "Unclosed connector\n",
      "connections: ['[(<aiohttp.client_proto.ResponseHandler object at 0x0000019568390EE0>, 109136.546)]']\n",
      "connector: <aiohttp.connector.TCPConnector object at 0x0000019568428A90>\n"
     ]
    },
    {
     "name": "stdout",
     "output_type": "stream",
     "text": [
      "Last match played Leeds against Aston Villa on 2023-01-14 12:00:00\n",
      "Last match played Bournemouth against Brentford on 2023-01-14 12:00:00\n",
      "45 Leicester Brighton 21.01.2023\n"
     ]
    },
    {
     "name": "stderr",
     "output_type": "stream",
     "text": [
      "Unclosed client session\n",
      "client_session: <aiohttp.client.ClientSession object at 0x00000195688847F0>\n",
      "Unclosed connector\n",
      "connections: ['[(<aiohttp.client_proto.ResponseHandler object at 0x0000019568769100>, 109138.218)]']\n",
      "connector: <aiohttp.connector.TCPConnector object at 0x0000019568884610>\n"
     ]
    },
    {
     "name": "stdout",
     "output_type": "stream",
     "text": [
      "Last match played Leicester against Nottingham Forest on 2023-01-14 12:00:00\n",
      "Last match played Liverpool against Brighton on 2023-01-14 12:00:00\n",
      "46 Liverpool Chelsea 21.01.2023\n"
     ]
    },
    {
     "name": "stderr",
     "output_type": "stream",
     "text": [
      "Unclosed client session\n",
      "client_session: <aiohttp.client.ClientSession object at 0x00000195688422B0>\n",
      "Unclosed connector\n",
      "connections: ['[(<aiohttp.client_proto.ResponseHandler object at 0x0000019568390EE0>, 109139.875)]']\n",
      "connector: <aiohttp.connector.TCPConnector object at 0x0000019568842610>\n"
     ]
    },
    {
     "name": "stdout",
     "output_type": "stream",
     "text": [
      "Last match played Liverpool against Brighton on 2023-01-14 12:00:00\n",
      "Last match played Crystal Palace against Chelsea on 2023-01-14 12:00:00\n",
      "47 Manchester City Wolverhampton Wanderers 21.01.2023\n"
     ]
    },
    {
     "name": "stderr",
     "output_type": "stream",
     "text": [
      "Unclosed client session\n",
      "client_session: <aiohttp.client.ClientSession object at 0x0000019568407370>\n",
      "Unclosed connector\n",
      "connections: ['[(<aiohttp.client_proto.ResponseHandler object at 0x000001956868DE20>, 109141.64)]']\n",
      "connector: <aiohttp.connector.TCPConnector object at 0x000001956890B850>\n"
     ]
    },
    {
     "name": "stdout",
     "output_type": "stream",
     "text": [
      "Last match played Manchester City against Manchester United on 2023-01-14 12:00:00\n",
      "Last match played West Ham against Wolverhampton Wanderers on 2023-01-14 12:00:00\n",
      "48 Southampton Aston Villa 21.01.2023\n"
     ]
    },
    {
     "name": "stderr",
     "output_type": "stream",
     "text": [
      "Unclosed client session\n",
      "client_session: <aiohttp.client.ClientSession object at 0x00000195684C8AC0>\n",
      "Unclosed connector\n",
      "connections: ['[(<aiohttp.client_proto.ResponseHandler object at 0x0000019568534520>, 109143.312)]']\n",
      "connector: <aiohttp.connector.TCPConnector object at 0x00000195684C8F10>\n"
     ]
    },
    {
     "name": "stdout",
     "output_type": "stream",
     "text": [
      "Last match played Southampton against Everton on 2023-01-14 12:00:00\n",
      "Last match played Leeds against Aston Villa on 2023-01-14 12:00:00\n",
      "49 West Ham Everton 21.01.2023\n"
     ]
    },
    {
     "name": "stderr",
     "output_type": "stream",
     "text": [
      "Unclosed client session\n",
      "client_session: <aiohttp.client.ClientSession object at 0x00000195684365E0>\n",
      "Unclosed connector\n",
      "connections: ['[(<aiohttp.client_proto.ResponseHandler object at 0x000001955752A820>, 109145.031)]']\n",
      "connector: <aiohttp.connector.TCPConnector object at 0x0000019568436430>\n"
     ]
    },
    {
     "name": "stdout",
     "output_type": "stream",
     "text": [
      "Last match played West Ham against Wolverhampton Wanderers on 2023-01-14 12:00:00\n",
      "Last match played Southampton against Everton on 2023-01-14 12:00:00\n",
      "50 Aston Villa Leicester 04.02.2023\n"
     ]
    },
    {
     "name": "stderr",
     "output_type": "stream",
     "text": [
      "Unclosed client session\n",
      "client_session: <aiohttp.client.ClientSession object at 0x0000019568610F10>\n",
      "Unclosed connector\n",
      "connections: ['[(<aiohttp.client_proto.ResponseHandler object at 0x000001955752A820>, 109146.703)]']\n",
      "connector: <aiohttp.connector.TCPConnector object at 0x0000019568610E50>\n"
     ]
    },
    {
     "name": "stdout",
     "output_type": "stream",
     "text": [
      "Last match played Aston Villa against Southampton on 2023-01-21 12:00:00\n",
      "Last match played Brighton against Leicester on 2023-01-21 12:00:00\n",
      "51 Brentford Southampton 04.02.2023\n"
     ]
    },
    {
     "name": "stderr",
     "output_type": "stream",
     "text": [
      "Unclosed client session\n",
      "client_session: <aiohttp.client.ClientSession object at 0x000001956864DA90>\n",
      "Unclosed connector\n",
      "connections: ['[(<aiohttp.client_proto.ResponseHandler object at 0x000001955752A820>, 109148.343)]']\n",
      "connector: <aiohttp.connector.TCPConnector object at 0x000001956864DC40>\n"
     ]
    },
    {
     "name": "stdout",
     "output_type": "stream",
     "text": [
      "Last match played Brentford against Leeds on 2023-01-21 12:00:00\n",
      "Last match played Aston Villa against Southampton on 2023-01-21 12:00:00\n",
      "52 Brighton Bournemouth 04.02.2023\n"
     ]
    },
    {
     "name": "stderr",
     "output_type": "stream",
     "text": [
      "Unclosed client session\n",
      "client_session: <aiohttp.client.ClientSession object at 0x0000019568610640>\n",
      "Unclosed connector\n",
      "connections: ['[(<aiohttp.client_proto.ResponseHandler object at 0x00000195685341C0>, 109149.968)]']\n",
      "connector: <aiohttp.connector.TCPConnector object at 0x00000195686105E0>\n"
     ]
    },
    {
     "name": "stdout",
     "output_type": "stream",
     "text": [
      "Last match played Brighton against Leicester on 2023-01-21 12:00:00\n",
      "Last match played Nottingham Forest against Bournemouth on 2023-01-21 12:00:00\n",
      "53 Chelsea Fulham 04.02.2023\n"
     ]
    },
    {
     "name": "stderr",
     "output_type": "stream",
     "text": [
      "Unclosed client session\n",
      "client_session: <aiohttp.client.ClientSession object at 0x00000195684C6460>\n",
      "Unclosed connector\n",
      "connections: ['[(<aiohttp.client_proto.ResponseHandler object at 0x000001955752A820>, 109151.781)]']\n",
      "connector: <aiohttp.connector.TCPConnector object at 0x00000195684C6820>\n"
     ]
    },
    {
     "name": "stdout",
     "output_type": "stream",
     "text": [
      "Last match played Chelsea against Liverpool on 2023-01-21 12:00:00\n",
      "Last match played Tottenham against Fulham on 2023-01-21 12:00:00\n",
      "54 Everton Arsenal 04.02.2023\n"
     ]
    },
    {
     "name": "stderr",
     "output_type": "stream",
     "text": [
      "Unclosed client session\n",
      "client_session: <aiohttp.client.ClientSession object at 0x00000195683869D0>\n",
      "Unclosed connector\n",
      "connections: ['[(<aiohttp.client_proto.ResponseHandler object at 0x000001955752A820>, 109153.484)]']\n",
      "connector: <aiohttp.connector.TCPConnector object at 0x0000019568386D00>\n"
     ]
    },
    {
     "name": "stdout",
     "output_type": "stream",
     "text": [
      "Last match played Everton against West Ham on 2023-01-21 12:00:00\n",
      "Last match played Manchester United against Arsenal on 2023-01-21 12:00:00\n",
      "55 Manchester United Crystal Palace 04.02.2023\n"
     ]
    },
    {
     "name": "stderr",
     "output_type": "stream",
     "text": [
      "Unclosed client session\n",
      "client_session: <aiohttp.client.ClientSession object at 0x00000195687F0A00>\n",
      "Unclosed connector\n",
      "connections: ['[(<aiohttp.client_proto.ResponseHandler object at 0x000001955752A820>, 109155.156)]']\n",
      "connector: <aiohttp.connector.TCPConnector object at 0x00000195687F0AC0>\n"
     ]
    },
    {
     "name": "stdout",
     "output_type": "stream",
     "text": [
      "Last match played Manchester United against Arsenal on 2023-01-21 12:00:00\n",
      "Last match played Newcastle United against Crystal Palace on 2023-01-21 12:00:00\n",
      "56 Newcastle United West Ham 04.02.2023\n"
     ]
    },
    {
     "name": "stderr",
     "output_type": "stream",
     "text": [
      "Unclosed client session\n",
      "client_session: <aiohttp.client.ClientSession object at 0x000001956884CF70>\n",
      "Unclosed connector\n",
      "connections: ['[(<aiohttp.client_proto.ResponseHandler object at 0x00000195681AD280>, 109156.828)]']\n",
      "connector: <aiohttp.connector.TCPConnector object at 0x000001956884CA60>\n"
     ]
    },
    {
     "name": "stdout",
     "output_type": "stream",
     "text": [
      "Last match played Newcastle United against Crystal Palace on 2023-01-21 12:00:00\n",
      "Last match played Everton against West Ham on 2023-01-21 12:00:00\n",
      "57 Nottingham Forest Leeds 04.02.2023\n"
     ]
    },
    {
     "name": "stderr",
     "output_type": "stream",
     "text": [
      "Unclosed client session\n",
      "client_session: <aiohttp.client.ClientSession object at 0x000001956868ED60>\n",
      "Unclosed connector\n",
      "connections: ['[(<aiohttp.client_proto.ResponseHandler object at 0x00000195681AD280>, 109158.359)]']\n",
      "connector: <aiohttp.connector.TCPConnector object at 0x000001956868EB80>\n"
     ]
    },
    {
     "name": "stdout",
     "output_type": "stream",
     "text": [
      "Last match played Nottingham Forest against Bournemouth on 2023-01-21 12:00:00\n",
      "Last match played Brentford against Leeds on 2023-01-21 12:00:00\n",
      "58 Tottenham Manchester City 04.02.2023\n"
     ]
    },
    {
     "name": "stderr",
     "output_type": "stream",
     "text": [
      "Unclosed client session\n",
      "client_session: <aiohttp.client.ClientSession object at 0x00000195683CE430>\n",
      "Unclosed connector\n",
      "connections: ['[(<aiohttp.client_proto.ResponseHandler object at 0x00000195681AD280>, 109160.093)]']\n",
      "connector: <aiohttp.connector.TCPConnector object at 0x00000195683CE880>\n"
     ]
    },
    {
     "name": "stdout",
     "output_type": "stream",
     "text": [
      "Last match played Tottenham against Fulham on 2023-01-21 12:00:00\n",
      "Last match played Wolverhampton Wanderers against Manchester City on 2023-01-21 12:00:00\n",
      "59 Wolverhampton Wanderers Liverpool 04.02.2023\n"
     ]
    },
    {
     "name": "stderr",
     "output_type": "stream",
     "text": [
      "Unclosed client session\n",
      "client_session: <aiohttp.client.ClientSession object at 0x00000195684E6220>\n",
      "Unclosed connector\n",
      "connections: ['[(<aiohttp.client_proto.ResponseHandler object at 0x00000195681AD280>, 109161.781)]']\n",
      "connector: <aiohttp.connector.TCPConnector object at 0x00000195684E6790>\n"
     ]
    },
    {
     "name": "stdout",
     "output_type": "stream",
     "text": [
      "Last match played Wolverhampton Wanderers against Manchester City on 2023-01-21 12:00:00\n",
      "Last match played Chelsea against Liverpool on 2023-01-21 12:00:00\n",
      "60 Arsenal Brentford 11.02.2023\n"
     ]
    },
    {
     "name": "stderr",
     "output_type": "stream",
     "text": [
      "Unclosed client session\n",
      "client_session: <aiohttp.client.ClientSession object at 0x00000195686B58E0>\n",
      "Unclosed connector\n",
      "connections: ['[(<aiohttp.client_proto.ResponseHandler object at 0x0000019568390520>, 109163.39)]']\n",
      "connector: <aiohttp.connector.TCPConnector object at 0x00000195686B53D0>\n"
     ]
    },
    {
     "name": "stdout",
     "output_type": "stream",
     "text": [
      "Last match played Arsenal against Everton on 2023-02-04 12:00:00\n",
      "Last match played Southampton against Brentford on 2023-02-04 12:00:00\n",
      "61 Bournemouth Newcastle United 11.02.2023\n"
     ]
    },
    {
     "name": "stderr",
     "output_type": "stream",
     "text": [
      "Unclosed client session\n",
      "client_session: <aiohttp.client.ClientSession object at 0x00000195688BF970>\n",
      "Unclosed connector\n",
      "connections: ['[(<aiohttp.client_proto.ResponseHandler object at 0x00000195681AD280>, 109165.078)]']\n",
      "connector: <aiohttp.connector.TCPConnector object at 0x00000195688BFB50>\n"
     ]
    },
    {
     "name": "stdout",
     "output_type": "stream",
     "text": [
      "Last match played Bournemouth against Brighton on 2023-02-04 12:00:00\n",
      "Last match played West Ham against Newcastle United on 2023-02-04 12:00:00\n",
      "62 Crystal Palace Brighton 11.02.2023\n"
     ]
    },
    {
     "name": "stderr",
     "output_type": "stream",
     "text": [
      "Unclosed client session\n",
      "client_session: <aiohttp.client.ClientSession object at 0x00000195688DA0A0>\n",
      "Unclosed connector\n",
      "connections: ['[(<aiohttp.client_proto.ResponseHandler object at 0x00000195681AD280>, 109166.765)]']\n",
      "connector: <aiohttp.connector.TCPConnector object at 0x00000195688BF610>\n"
     ]
    },
    {
     "name": "stdout",
     "output_type": "stream",
     "text": [
      "Last match played Crystal Palace against Manchester United on 2023-02-04 12:00:00\n",
      "Last match played Bournemouth against Brighton on 2023-02-04 12:00:00\n",
      "63 Fulham Nottingham Forest 11.02.2023\n"
     ]
    },
    {
     "name": "stderr",
     "output_type": "stream",
     "text": [
      "Unclosed client session\n",
      "client_session: <aiohttp.client.ClientSession object at 0x00000195684C6580>\n",
      "Unclosed connector\n",
      "connections: ['[(<aiohttp.client_proto.ResponseHandler object at 0x00000195681AD280>, 109168.343)]']\n",
      "connector: <aiohttp.connector.TCPConnector object at 0x00000195684C6CA0>\n"
     ]
    },
    {
     "name": "stdout",
     "output_type": "stream",
     "text": [
      "Last match played Fulham against Chelsea on 2023-02-04 12:00:00\n",
      "Last match played Leeds against Nottingham Forest on 2023-02-04 12:00:00\n",
      "64 Leeds Manchester United 11.02.2023\n"
     ]
    },
    {
     "name": "stderr",
     "output_type": "stream",
     "text": [
      "Unclosed client session\n",
      "client_session: <aiohttp.client.ClientSession object at 0x0000019568970A60>\n",
      "Unclosed connector\n",
      "connections: ['[(<aiohttp.client_proto.ResponseHandler object at 0x0000019568769400>, 109170.0)]']\n",
      "connector: <aiohttp.connector.TCPConnector object at 0x0000019568970820>\n"
     ]
    },
    {
     "name": "stdout",
     "output_type": "stream",
     "text": [
      "Last match played Leeds against Nottingham Forest on 2023-02-04 12:00:00\n",
      "Last match played Crystal Palace against Manchester United on 2023-02-04 12:00:00\n",
      "65 Leicester Tottenham 11.02.2023\n"
     ]
    },
    {
     "name": "stderr",
     "output_type": "stream",
     "text": [
      "Unclosed client session\n",
      "client_session: <aiohttp.client.ClientSession object at 0x0000019568440A90>\n",
      "Unclosed connector\n",
      "connections: ['[(<aiohttp.client_proto.ResponseHandler object at 0x00000195681AD280>, 109171.765)]']\n",
      "connector: <aiohttp.connector.TCPConnector object at 0x0000019568440460>\n"
     ]
    },
    {
     "name": "stdout",
     "output_type": "stream",
     "text": [
      "Last match played Leicester against Aston Villa on 2023-02-04 12:00:00\n",
      "Last match played Manchester City against Tottenham on 2023-02-04 12:00:00\n",
      "66 Liverpool Everton 11.02.2023\n"
     ]
    },
    {
     "name": "stderr",
     "output_type": "stream",
     "text": [
      "Unclosed client session\n",
      "client_session: <aiohttp.client.ClientSession object at 0x0000019557563FA0>\n",
      "Unclosed connector\n",
      "connections: ['[(<aiohttp.client_proto.ResponseHandler object at 0x0000019568769EE0>, 109173.5)]']\n",
      "connector: <aiohttp.connector.TCPConnector object at 0x00000195689B0700>\n"
     ]
    },
    {
     "name": "stdout",
     "output_type": "stream",
     "text": [
      "Last match played Liverpool against Wolverhampton Wanderers on 2023-02-04 12:00:00\n",
      "Last match played Arsenal against Everton on 2023-02-04 12:00:00\n",
      "67 Manchester City Aston Villa 11.02.2023\n"
     ]
    },
    {
     "name": "stderr",
     "output_type": "stream",
     "text": [
      "Unclosed client session\n",
      "client_session: <aiohttp.client.ClientSession object at 0x00000195685B6220>\n",
      "Unclosed connector\n",
      "connections: ['[(<aiohttp.client_proto.ResponseHandler object at 0x00000195681AD280>, 109175.265)]']\n",
      "connector: <aiohttp.connector.TCPConnector object at 0x00000195685B6100>\n"
     ]
    },
    {
     "name": "stdout",
     "output_type": "stream",
     "text": [
      "Last match played Manchester City against Tottenham on 2023-02-04 12:00:00\n",
      "Last match played Leicester against Aston Villa on 2023-02-04 12:00:00\n",
      "68 Southampton Wolverhampton Wanderers 11.02.2023\n"
     ]
    },
    {
     "name": "stderr",
     "output_type": "stream",
     "text": [
      "Unclosed client session\n",
      "client_session: <aiohttp.client.ClientSession object at 0x00000195684B4F40>\n",
      "Unclosed connector\n",
      "connections: ['[(<aiohttp.client_proto.ResponseHandler object at 0x00000195681AD280>, 109176.968)]']\n",
      "connector: <aiohttp.connector.TCPConnector object at 0x00000195684B4B50>\n"
     ]
    },
    {
     "name": "stdout",
     "output_type": "stream",
     "text": [
      "Last match played Southampton against Brentford on 2023-02-04 12:00:00\n",
      "Last match played Liverpool against Wolverhampton Wanderers on 2023-02-04 12:00:00\n",
      "69 West Ham Chelsea 11.02.2023\n"
     ]
    },
    {
     "name": "stderr",
     "output_type": "stream",
     "text": [
      "Unclosed client session\n",
      "client_session: <aiohttp.client.ClientSession object at 0x00000195684C6AC0>\n",
      "Unclosed connector\n",
      "connections: ['[(<aiohttp.client_proto.ResponseHandler object at 0x00000195681AD280>, 109178.656)]']\n",
      "connector: <aiohttp.connector.TCPConnector object at 0x00000195684C6D00>\n"
     ]
    },
    {
     "name": "stdout",
     "output_type": "stream",
     "text": [
      "Last match played West Ham against Newcastle United on 2023-02-04 12:00:00\n",
      "Last match played Fulham against Chelsea on 2023-02-04 12:00:00\n",
      "70 Aston Villa Arsenal 18.02.2023\n"
     ]
    },
    {
     "name": "stderr",
     "output_type": "stream",
     "text": [
      "Unclosed client session\n",
      "client_session: <aiohttp.client.ClientSession object at 0x0000019568698730>\n",
      "Unclosed connector\n",
      "connections: ['[(<aiohttp.client_proto.ResponseHandler object at 0x0000019568534F40>, 109180.312)]']\n",
      "connector: <aiohttp.connector.TCPConnector object at 0x00000195686984F0>\n"
     ]
    },
    {
     "name": "stdout",
     "output_type": "stream",
     "text": [
      "Last match played Aston Villa against Manchester City on 2023-02-11 12:00:00\n",
      "Last match played Brentford against Arsenal on 2023-02-11 12:00:00\n",
      "71 Brentford Crystal Palace 18.02.2023\n"
     ]
    },
    {
     "name": "stderr",
     "output_type": "stream",
     "text": [
      "Unclosed client session\n",
      "client_session: <aiohttp.client.ClientSession object at 0x00000195685A71F0>\n",
      "Unclosed connector\n",
      "connections: ['[(<aiohttp.client_proto.ResponseHandler object at 0x00000195681AD280>, 109182.062)]']\n",
      "connector: <aiohttp.connector.TCPConnector object at 0x00000195685A7C70>\n"
     ]
    },
    {
     "name": "stdout",
     "output_type": "stream",
     "text": [
      "Last match played Brentford against Arsenal on 2023-02-11 12:00:00\n",
      "Last match played Brighton against Crystal Palace on 2023-02-11 12:00:00\n",
      "72 Brighton Fulham 18.02.2023\n"
     ]
    },
    {
     "name": "stderr",
     "output_type": "stream",
     "text": [
      "Unclosed client session\n",
      "client_session: <aiohttp.client.ClientSession object at 0x00000195686986A0>\n",
      "Unclosed connector\n",
      "connections: ['[(<aiohttp.client_proto.ResponseHandler object at 0x00000195681AD280>, 109183.64)]']\n",
      "connector: <aiohttp.connector.TCPConnector object at 0x0000019568698640>\n"
     ]
    },
    {
     "name": "stdout",
     "output_type": "stream",
     "text": [
      "Last match played Brighton against Crystal Palace on 2023-02-11 12:00:00\n",
      "Last match played Nottingham Forest against Fulham on 2023-02-11 12:00:00\n",
      "73 Chelsea Southampton 18.02.2023\n"
     ]
    },
    {
     "name": "stderr",
     "output_type": "stream",
     "text": [
      "Unclosed client session\n",
      "client_session: <aiohttp.client.ClientSession object at 0x000001956856C460>\n",
      "Unclosed connector\n",
      "connections: ['[(<aiohttp.client_proto.ResponseHandler object at 0x00000195681AD280>, 109185.406)]']\n",
      "connector: <aiohttp.connector.TCPConnector object at 0x00000195684E68B0>\n"
     ]
    },
    {
     "name": "stdout",
     "output_type": "stream",
     "text": [
      "Last match played Chelsea against West Ham on 2023-02-11 12:00:00\n",
      "Last match played Wolverhampton Wanderers against Southampton on 2023-02-11 12:00:00\n",
      "74 Everton Leeds 18.02.2023\n"
     ]
    },
    {
     "name": "stderr",
     "output_type": "stream",
     "text": [
      "Unclosed client session\n",
      "client_session: <aiohttp.client.ClientSession object at 0x000001956856CA60>\n",
      "Unclosed connector\n",
      "connections: ['[(<aiohttp.client_proto.ResponseHandler object at 0x00000195683903A0>, 109187.015)]']\n",
      "connector: <aiohttp.connector.TCPConnector object at 0x000001956856CC40>\n"
     ]
    },
    {
     "name": "stdout",
     "output_type": "stream",
     "text": [
      "Last match played Everton against Liverpool on 2023-02-11 12:00:00\n",
      "Last match played Manchester United against Leeds on 2023-02-11 12:00:00\n",
      "75 Manchester United Leicester 18.02.2023\n"
     ]
    },
    {
     "name": "stderr",
     "output_type": "stream",
     "text": [
      "Unclosed client session\n",
      "client_session: <aiohttp.client.ClientSession object at 0x00000195688B7910>\n",
      "Unclosed connector\n",
      "connections: ['[(<aiohttp.client_proto.ResponseHandler object at 0x00000195685344C0>, 109188.734)]']\n",
      "connector: <aiohttp.connector.TCPConnector object at 0x00000195688B7730>\n"
     ]
    },
    {
     "name": "stdout",
     "output_type": "stream",
     "text": [
      "Last match played Manchester United against Leeds on 2023-02-11 12:00:00\n",
      "Last match played Tottenham against Leicester on 2023-02-11 12:00:00\n",
      "76 Newcastle United Liverpool 18.02.2023\n"
     ]
    },
    {
     "name": "stderr",
     "output_type": "stream",
     "text": [
      "Unclosed client session\n",
      "client_session: <aiohttp.client.ClientSession object at 0x00000195685FB940>\n",
      "Unclosed connector\n",
      "connections: ['[(<aiohttp.client_proto.ResponseHandler object at 0x000001956868DA60>, 109190.39)]']\n",
      "connector: <aiohttp.connector.TCPConnector object at 0x00000195685FBA00>\n"
     ]
    },
    {
     "name": "stdout",
     "output_type": "stream",
     "text": [
      "Last match played Newcastle United against Bournemouth on 2023-02-11 12:00:00\n",
      "Last match played Everton against Liverpool on 2023-02-11 12:00:00\n",
      "77 Nottingham Forest Manchester City 18.02.2023\n"
     ]
    },
    {
     "name": "stderr",
     "output_type": "stream",
     "text": [
      "Unclosed client session\n",
      "client_session: <aiohttp.client.ClientSession object at 0x0000019568487910>\n",
      "Unclosed connector\n",
      "connections: ['[(<aiohttp.client_proto.ResponseHandler object at 0x0000019568534D60>, 109192.031)]']\n",
      "connector: <aiohttp.connector.TCPConnector object at 0x00000195684875E0>\n"
     ]
    },
    {
     "name": "stdout",
     "output_type": "stream",
     "text": [
      "Last match played Nottingham Forest against Fulham on 2023-02-11 12:00:00\n",
      "Last match played Aston Villa against Manchester City on 2023-02-11 12:00:00\n",
      "78 Tottenham West Ham 18.02.2023\n"
     ]
    },
    {
     "name": "stderr",
     "output_type": "stream",
     "text": [
      "Unclosed client session\n",
      "client_session: <aiohttp.client.ClientSession object at 0x00000195685ADB80>\n",
      "Unclosed connector\n",
      "connections: ['[(<aiohttp.client_proto.ResponseHandler object at 0x0000019568534D60>, 109193.781)]']\n",
      "connector: <aiohttp.connector.TCPConnector object at 0x00000195685ADC40>\n"
     ]
    },
    {
     "name": "stdout",
     "output_type": "stream",
     "text": [
      "Last match played Tottenham against Leicester on 2023-02-11 12:00:00\n",
      "Last match played Chelsea against West Ham on 2023-02-11 12:00:00\n",
      "79 Wolverhampton Wanderers Bournemouth 18.02.2023\n"
     ]
    },
    {
     "name": "stderr",
     "output_type": "stream",
     "text": [
      "Unclosed client session\n",
      "client_session: <aiohttp.client.ClientSession object at 0x00000195686CA310>\n",
      "Unclosed connector\n",
      "connections: ['[(<aiohttp.client_proto.ResponseHandler object at 0x0000019568534D60>, 109195.406)]']\n",
      "connector: <aiohttp.connector.TCPConnector object at 0x00000195686CA760>\n"
     ]
    },
    {
     "name": "stdout",
     "output_type": "stream",
     "text": [
      "Last match played Wolverhampton Wanderers against Southampton on 2023-02-11 12:00:00\n",
      "Last match played Newcastle United against Bournemouth on 2023-02-11 12:00:00\n",
      "80 Bournemouth Manchester City 25.02.2023\n"
     ]
    },
    {
     "name": "stderr",
     "output_type": "stream",
     "text": [
      "Unclosed client session\n",
      "client_session: <aiohttp.client.ClientSession object at 0x000001956843F5E0>\n",
      "Unclosed connector\n",
      "connections: ['[(<aiohttp.client_proto.ResponseHandler object at 0x00000195681A9040>, 109197.109)]']\n",
      "connector: <aiohttp.connector.TCPConnector object at 0x000001956843FE20>\n"
     ]
    },
    {
     "name": "stdout",
     "output_type": "stream",
     "text": [
      "Last match played Bournemouth against Wolverhampton Wanderers on 2023-02-18 12:00:00\n",
      "Last match played Manchester City against Nottingham Forest on 2023-02-18 12:00:00\n",
      "81 Crystal Palace Liverpool 25.02.2023\n"
     ]
    },
    {
     "name": "stderr",
     "output_type": "stream",
     "text": [
      "Unclosed client session\n",
      "client_session: <aiohttp.client.ClientSession object at 0x000001956895A5B0>\n",
      "Unclosed connector\n",
      "connections: ['[(<aiohttp.client_proto.ResponseHandler object at 0x00000195681A9040>, 109198.812)]']\n",
      "connector: <aiohttp.connector.TCPConnector object at 0x000001956895A460>\n"
     ]
    },
    {
     "name": "stdout",
     "output_type": "stream",
     "text": [
      "Last match played Crystal Palace against Brentford on 2023-02-18 12:00:00\n",
      "Last match played Liverpool against Newcastle United on 2023-02-18 12:00:00\n",
      "82 Everton Aston Villa 25.02.2023\n"
     ]
    },
    {
     "name": "stderr",
     "output_type": "stream",
     "text": [
      "Unclosed client session\n",
      "client_session: <aiohttp.client.ClientSession object at 0x000001956843FC70>\n",
      "Unclosed connector\n",
      "connections: ['[(<aiohttp.client_proto.ResponseHandler object at 0x00000195681A9040>, 109200.468)]']\n",
      "connector: <aiohttp.connector.TCPConnector object at 0x000001956861BEE0>\n"
     ]
    },
    {
     "name": "stdout",
     "output_type": "stream",
     "text": [
      "Last match played Leeds against Everton on 2023-02-18 12:00:00\n",
      "Last match played Arsenal against Aston Villa on 2023-02-18 12:00:00\n",
      "83 Fulham Wolverhampton Wanderers 25.02.2023\n"
     ]
    },
    {
     "name": "stderr",
     "output_type": "stream",
     "text": [
      "Unclosed client session\n",
      "client_session: <aiohttp.client.ClientSession object at 0x0000019568617850>\n",
      "Unclosed connector\n",
      "connections: ['[(<aiohttp.client_proto.ResponseHandler object at 0x00000195681A9040>, 109202.14)]']\n",
      "connector: <aiohttp.connector.TCPConnector object at 0x00000195686176D0>\n"
     ]
    },
    {
     "name": "stdout",
     "output_type": "stream",
     "text": [
      "Last match played Fulham against Brighton on 2023-02-18 12:00:00\n",
      "Last match played Bournemouth against Wolverhampton Wanderers on 2023-02-18 12:00:00\n",
      "84 Leeds Southampton 25.02.2023\n"
     ]
    },
    {
     "name": "stderr",
     "output_type": "stream",
     "text": [
      "Unclosed client session\n",
      "client_session: <aiohttp.client.ClientSession object at 0x000001956889C550>\n",
      "Unclosed connector\n",
      "connections: ['[(<aiohttp.client_proto.ResponseHandler object at 0x00000195681A9040>, 109203.812)]']\n",
      "connector: <aiohttp.connector.TCPConnector object at 0x000001956889C340>\n"
     ]
    },
    {
     "name": "stdout",
     "output_type": "stream",
     "text": [
      "Last match played Leeds against Everton on 2023-02-18 12:00:00\n",
      "Last match played Southampton against Chelsea on 2023-02-18 12:00:00\n",
      "85 Leicester Arsenal 25.02.2023\n"
     ]
    },
    {
     "name": "stderr",
     "output_type": "stream",
     "text": [
      "Unclosed client session\n",
      "client_session: <aiohttp.client.ClientSession object at 0x00000195684CE190>\n",
      "Unclosed connector\n",
      "connections: ['[(<aiohttp.client_proto.ResponseHandler object at 0x00000195681A9040>, 109205.5)]']\n",
      "connector: <aiohttp.connector.TCPConnector object at 0x00000195684CE3A0>\n"
     ]
    },
    {
     "name": "stdout",
     "output_type": "stream",
     "text": [
      "Last match played Leicester against Manchester United on 2023-02-18 12:00:00\n",
      "Last match played Arsenal against Aston Villa on 2023-02-18 12:00:00\n",
      "86 Manchester United Brentford 25.02.2023\n"
     ]
    },
    {
     "name": "stderr",
     "output_type": "stream",
     "text": [
      "Unclosed client session\n",
      "client_session: <aiohttp.client.ClientSession object at 0x000001956872EF70>\n",
      "Unclosed connector\n",
      "connections: ['[(<aiohttp.client_proto.ResponseHandler object at 0x000001956895B220>, 109207.125)]']\n",
      "connector: <aiohttp.connector.TCPConnector object at 0x000001956872EDF0>\n"
     ]
    },
    {
     "name": "stdout",
     "output_type": "stream",
     "text": [
      "Last match played Leicester against Manchester United on 2023-02-18 12:00:00\n",
      "Last match played Crystal Palace against Brentford on 2023-02-18 12:00:00\n",
      "87 Newcastle United Brighton 25.02.2023\n"
     ]
    },
    {
     "name": "stderr",
     "output_type": "stream",
     "text": [
      "Unclosed client session\n",
      "client_session: <aiohttp.client.ClientSession object at 0x00000195684CE460>\n",
      "Unclosed connector\n",
      "connections: ['[(<aiohttp.client_proto.ResponseHandler object at 0x00000195681A9040>, 109208.828)]']\n",
      "connector: <aiohttp.connector.TCPConnector object at 0x000001956872EFD0>\n"
     ]
    },
    {
     "name": "stdout",
     "output_type": "stream",
     "text": [
      "Last match played Liverpool against Newcastle United on 2023-02-18 12:00:00\n",
      "Last match played Fulham against Brighton on 2023-02-18 12:00:00\n",
      "88 Tottenham Chelsea 25.02.2023\n"
     ]
    },
    {
     "name": "stderr",
     "output_type": "stream",
     "text": [
      "Unclosed client session\n",
      "client_session: <aiohttp.client.ClientSession object at 0x00000195684B8F40>\n",
      "Unclosed connector\n",
      "connections: ['[(<aiohttp.client_proto.ResponseHandler object at 0x00000195681A9040>, 109210.718)]']\n",
      "connector: <aiohttp.connector.TCPConnector object at 0x00000195684B89D0>\n"
     ]
    },
    {
     "name": "stdout",
     "output_type": "stream",
     "text": [
      "Last match played West Ham against Tottenham on 2023-02-18 12:00:00\n",
      "Last match played Southampton against Chelsea on 2023-02-18 12:00:00\n",
      "89 West Ham Nottingham Forest 25.02.2023\n"
     ]
    },
    {
     "name": "stderr",
     "output_type": "stream",
     "text": [
      "Unclosed client session\n",
      "client_session: <aiohttp.client.ClientSession object at 0x0000019568617190>\n",
      "Unclosed connector\n",
      "connections: ['[(<aiohttp.client_proto.ResponseHandler object at 0x0000019568534580>, 109212.796)]']\n",
      "connector: <aiohttp.connector.TCPConnector object at 0x0000019568617220>\n"
     ]
    },
    {
     "name": "stdout",
     "output_type": "stream",
     "text": [
      "Last match played West Ham against Tottenham on 2023-02-18 12:00:00\n",
      "Last match played Manchester City against Nottingham Forest on 2023-02-18 12:00:00\n",
      "90 Arsenal Bournemouth 04.03.2023\n"
     ]
    },
    {
     "name": "stderr",
     "output_type": "stream",
     "text": [
      "Unclosed client session\n",
      "client_session: <aiohttp.client.ClientSession object at 0x00000195684E7910>\n",
      "Unclosed connector\n",
      "connections: ['[(<aiohttp.client_proto.ResponseHandler object at 0x00000195681A9040>, 109214.468)]']\n",
      "connector: <aiohttp.connector.TCPConnector object at 0x00000195684E7D00>\n"
     ]
    },
    {
     "name": "stdout",
     "output_type": "stream",
     "text": [
      "Last match played Arsenal against Leicester on 2023-02-25 12:00:00\n",
      "Last match played Manchester City against Bournemouth on 2023-02-25 12:00:00\n",
      "91 Aston Villa Crystal Palace 04.03.2023\n"
     ]
    },
    {
     "name": "stderr",
     "output_type": "stream",
     "text": [
      "Unclosed client session\n",
      "client_session: <aiohttp.client.ClientSession object at 0x0000019568617400>\n",
      "Unclosed connector\n",
      "connections: ['[(<aiohttp.client_proto.ResponseHandler object at 0x00000195681A9100>, 109216.14)]']\n",
      "connector: <aiohttp.connector.TCPConnector object at 0x000001956880E220>\n"
     ]
    },
    {
     "name": "stdout",
     "output_type": "stream",
     "text": [
      "Last match played Aston Villa against Everton on 2023-02-25 12:00:00\n",
      "Last match played Liverpool against Crystal Palace on 2023-02-25 12:00:00\n",
      "92 Brentford Fulham 04.03.2023\n"
     ]
    },
    {
     "name": "stderr",
     "output_type": "stream",
     "text": [
      "Unclosed client session\n",
      "client_session: <aiohttp.client.ClientSession object at 0x00000195684E7D00>\n",
      "Unclosed connector\n",
      "connections: ['[(<aiohttp.client_proto.ResponseHandler object at 0x00000195687699A0>, 109217.812)]']\n",
      "connector: <aiohttp.connector.TCPConnector object at 0x00000195684E71C0>\n"
     ]
    },
    {
     "name": "stdout",
     "output_type": "stream",
     "text": [
      "Last match played Brentford against Manchester United on 2023-02-25 12:00:00\n",
      "Last match played Wolverhampton Wanderers against Fulham on 2023-02-25 12:00:00\n",
      "93 Brighton West Ham 04.03.2023\n"
     ]
    },
    {
     "name": "stderr",
     "output_type": "stream",
     "text": [
      "Unclosed client session\n",
      "client_session: <aiohttp.client.ClientSession object at 0x000001956843F310>\n",
      "Unclosed connector\n",
      "connections: ['[(<aiohttp.client_proto.ResponseHandler object at 0x000001955752AD00>, 109219.593)]']\n",
      "connector: <aiohttp.connector.TCPConnector object at 0x000001956843F2B0>\n"
     ]
    },
    {
     "name": "stdout",
     "output_type": "stream",
     "text": [
      "Last match played Brighton against Newcastle United on 2023-02-25 12:00:00\n",
      "Last match played Nottingham Forest against West Ham on 2023-02-25 12:00:00\n",
      "94 Chelsea Leeds 04.03.2023\n"
     ]
    },
    {
     "name": "stderr",
     "output_type": "stream",
     "text": [
      "Unclosed client session\n",
      "client_session: <aiohttp.client.ClientSession object at 0x00000195684634F0>\n",
      "Unclosed connector\n",
      "connections: ['[(<aiohttp.client_proto.ResponseHandler object at 0x000001955752AD00>, 109221.203)]']\n",
      "connector: <aiohttp.connector.TCPConnector object at 0x00000195684635B0>\n"
     ]
    },
    {
     "name": "stdout",
     "output_type": "stream",
     "text": [
      "Last match played Chelsea against Tottenham on 2023-02-25 12:00:00\n",
      "Last match played Southampton against Leeds on 2023-02-25 12:00:00\n",
      "95 Liverpool Manchester United 04.03.2023\n"
     ]
    },
    {
     "name": "stderr",
     "output_type": "stream",
     "text": [
      "Unclosed client session\n",
      "client_session: <aiohttp.client.ClientSession object at 0x0000019568442A30>\n",
      "Unclosed connector\n",
      "connections: ['[(<aiohttp.client_proto.ResponseHandler object at 0x00000195681A9100>, 109223.187)]']\n",
      "connector: <aiohttp.connector.TCPConnector object at 0x0000019568442D00>\n"
     ]
    },
    {
     "name": "stdout",
     "output_type": "stream",
     "text": [
      "Last match played Liverpool against Crystal Palace on 2023-02-25 12:00:00\n",
      "Last match played Brentford against Manchester United on 2023-02-25 12:00:00\n",
      "96 Manchester City Newcastle United 04.03.2023\n"
     ]
    },
    {
     "name": "stderr",
     "output_type": "stream",
     "text": [
      "Unclosed client session\n",
      "client_session: <aiohttp.client.ClientSession object at 0x0000019568671CD0>\n",
      "Unclosed connector\n",
      "connections: ['[(<aiohttp.client_proto.ResponseHandler object at 0x0000019568769400>, 109224.875)]']\n",
      "connector: <aiohttp.connector.TCPConnector object at 0x0000019568671D30>\n"
     ]
    },
    {
     "name": "stdout",
     "output_type": "stream",
     "text": [
      "Last match played Manchester City against Bournemouth on 2023-02-25 12:00:00\n",
      "Last match played Brighton against Newcastle United on 2023-02-25 12:00:00\n",
      "97 Nottingham Forest Everton 04.03.2023\n"
     ]
    },
    {
     "name": "stderr",
     "output_type": "stream",
     "text": [
      "Unclosed client session\n",
      "client_session: <aiohttp.client.ClientSession object at 0x0000019568442640>\n",
      "Unclosed connector\n",
      "connections: ['[(<aiohttp.client_proto.ResponseHandler object at 0x000001955752AD00>, 109226.5)]']\n",
      "connector: <aiohttp.connector.TCPConnector object at 0x00000195688A7F70>\n"
     ]
    },
    {
     "name": "stdout",
     "output_type": "stream",
     "text": [
      "Last match played Nottingham Forest against West Ham on 2023-02-25 12:00:00\n",
      "Last match played Aston Villa against Everton on 2023-02-25 12:00:00\n",
      "98 Southampton Leicester 04.03.2023\n"
     ]
    },
    {
     "name": "stderr",
     "output_type": "stream",
     "text": [
      "Unclosed client session\n",
      "client_session: <aiohttp.client.ClientSession object at 0x0000019568537460>\n",
      "Unclosed connector\n",
      "connections: ['[(<aiohttp.client_proto.ResponseHandler object at 0x0000019568390A60>, 109228.203)]']\n",
      "connector: <aiohttp.connector.TCPConnector object at 0x0000019568537220>\n"
     ]
    },
    {
     "name": "stdout",
     "output_type": "stream",
     "text": [
      "Last match played Southampton against Leeds on 2023-02-25 12:00:00\n",
      "Last match played Arsenal against Leicester on 2023-02-25 12:00:00\n",
      "99 Wolverhampton Wanderers Tottenham 04.03.2023\n"
     ]
    },
    {
     "name": "stderr",
     "output_type": "stream",
     "text": [
      "Unclosed client session\n",
      "client_session: <aiohttp.client.ClientSession object at 0x0000019568505CD0>\n",
      "Unclosed connector\n",
      "connections: ['[(<aiohttp.client_proto.ResponseHandler object at 0x000001956868DD60>, 109230.046)]']\n",
      "connector: <aiohttp.connector.TCPConnector object at 0x0000019568505640>\n"
     ]
    },
    {
     "name": "stdout",
     "output_type": "stream",
     "text": [
      "Last match played Wolverhampton Wanderers against Fulham on 2023-02-25 12:00:00\n",
      "Last match played Chelsea against Tottenham on 2023-02-25 12:00:00\n",
      "100 Bournemouth Liverpool 11.03.2023\n"
     ]
    },
    {
     "name": "stderr",
     "output_type": "stream",
     "text": [
      "Unclosed client session\n",
      "client_session: <aiohttp.client.ClientSession object at 0x000001955756D8B0>\n",
      "Unclosed connector\n",
      "connections: ['[(<aiohttp.client_proto.ResponseHandler object at 0x0000019568769FA0>, 109231.89)]']\n",
      "connector: <aiohttp.connector.TCPConnector object at 0x00000195685376D0>\n"
     ]
    },
    {
     "name": "stdout",
     "output_type": "stream",
     "text": [
      "Last match played Bournemouth against Arsenal on 2023-03-04 12:00:00\n",
      "Last match played Manchester United against Liverpool on 2023-03-04 12:00:00\n",
      "101 Crystal Palace Manchester City 11.03.2023\n"
     ]
    },
    {
     "name": "stderr",
     "output_type": "stream",
     "text": [
      "Unclosed client session\n",
      "client_session: <aiohttp.client.ClientSession object at 0x000001956895E100>\n",
      "Unclosed connector\n",
      "connections: ['[(<aiohttp.client_proto.ResponseHandler object at 0x0000019568769FA0>, 109233.671)]']\n",
      "connector: <aiohttp.connector.TCPConnector object at 0x000001956883EEE0>\n"
     ]
    },
    {
     "name": "stdout",
     "output_type": "stream",
     "text": [
      "Last match played Crystal Palace against Aston Villa on 2023-03-04 12:00:00\n",
      "Last match played Newcastle United against Manchester City on 2023-03-04 12:00:00\n",
      "102 Everton Brentford 11.03.2023\n"
     ]
    },
    {
     "name": "stderr",
     "output_type": "stream",
     "text": [
      "Unclosed client session\n",
      "client_session: <aiohttp.client.ClientSession object at 0x00000195687D4790>\n",
      "Unclosed connector\n",
      "connections: ['[(<aiohttp.client_proto.ResponseHandler object at 0x000001956868DEE0>, 109235.328)]']\n",
      "connector: <aiohttp.connector.TCPConnector object at 0x0000019568822E50>\n"
     ]
    },
    {
     "name": "stdout",
     "output_type": "stream",
     "text": [
      "Last match played Everton against Nottingham Forest on 2023-03-04 12:00:00\n",
      "Last match played Fulham against Brentford on 2023-03-04 12:00:00\n",
      "103 Fulham Arsenal 11.03.2023\n"
     ]
    },
    {
     "name": "stderr",
     "output_type": "stream",
     "text": [
      "Unclosed client session\n",
      "client_session: <aiohttp.client.ClientSession object at 0x0000019568433130>\n",
      "Unclosed connector\n",
      "connections: ['[(<aiohttp.client_proto.ResponseHandler object at 0x0000019568769BE0>, 109237.0)]']\n",
      "connector: <aiohttp.connector.TCPConnector object at 0x0000019568433730>\n"
     ]
    },
    {
     "name": "stdout",
     "output_type": "stream",
     "text": [
      "Last match played Fulham against Brentford on 2023-03-04 12:00:00\n",
      "Last match played Bournemouth against Arsenal on 2023-03-04 12:00:00\n",
      "104 Leeds Brighton 11.03.2023\n"
     ]
    },
    {
     "name": "stderr",
     "output_type": "stream",
     "text": [
      "Unclosed client session\n",
      "client_session: <aiohttp.client.ClientSession object at 0x00000195685B64F0>\n",
      "Unclosed connector\n",
      "connections: ['[(<aiohttp.client_proto.ResponseHandler object at 0x0000019568534E80>, 109238.562)]']\n",
      "connector: <aiohttp.connector.TCPConnector object at 0x00000195685B6B50>\n"
     ]
    },
    {
     "name": "stdout",
     "output_type": "stream",
     "text": [
      "Last match played Leeds against Chelsea on 2023-03-04 12:00:00\n",
      "Last match played West Ham against Brighton on 2023-03-04 12:00:00\n",
      "105 Leicester Chelsea 11.03.2023\n"
     ]
    },
    {
     "name": "stderr",
     "output_type": "stream",
     "text": [
      "Unclosed client session\n",
      "client_session: <aiohttp.client.ClientSession object at 0x0000019568799610>\n",
      "Unclosed connector\n",
      "connections: ['[(<aiohttp.client_proto.ResponseHandler object at 0x000001956868DF40>, 109240.312)]']\n",
      "connector: <aiohttp.connector.TCPConnector object at 0x00000195687994F0>\n"
     ]
    },
    {
     "name": "stdout",
     "output_type": "stream",
     "text": [
      "Last match played Leicester against Southampton on 2023-03-04 12:00:00\n",
      "Last match played Leeds against Chelsea on 2023-03-04 12:00:00\n",
      "106 Manchester United Southampton 11.03.2023\n"
     ]
    },
    {
     "name": "stderr",
     "output_type": "stream",
     "text": [
      "Unclosed client session\n",
      "client_session: <aiohttp.client.ClientSession object at 0x0000019568799DF0>\n",
      "Unclosed connector\n",
      "connections: ['[(<aiohttp.client_proto.ResponseHandler object at 0x000001956895B220>, 109242.062)]']\n",
      "connector: <aiohttp.connector.TCPConnector object at 0x0000019568798E20>\n"
     ]
    },
    {
     "name": "stdout",
     "output_type": "stream",
     "text": [
      "Last match played Manchester United against Liverpool on 2023-03-04 12:00:00\n",
      "Last match played Leicester against Southampton on 2023-03-04 12:00:00\n",
      "107 Newcastle United Wolverhampton Wanderers 11.03.2023\n"
     ]
    },
    {
     "name": "stderr",
     "output_type": "stream",
     "text": [
      "Unclosed client session\n",
      "client_session: <aiohttp.client.ClientSession object at 0x0000019568624A00>\n",
      "Unclosed connector\n",
      "connections: ['[(<aiohttp.client_proto.ResponseHandler object at 0x0000019568194FA0>, 109243.765)]']\n",
      "connector: <aiohttp.connector.TCPConnector object at 0x0000019568624370>\n"
     ]
    },
    {
     "name": "stdout",
     "output_type": "stream",
     "text": [
      "Last match played Newcastle United against Manchester City on 2023-03-04 12:00:00\n",
      "Last match played Tottenham against Wolverhampton Wanderers on 2023-03-04 12:00:00\n",
      "108 Tottenham Nottingham Forest 11.03.2023\n"
     ]
    },
    {
     "name": "stderr",
     "output_type": "stream",
     "text": [
      "Unclosed client session\n",
      "client_session: <aiohttp.client.ClientSession object at 0x0000019568624700>\n",
      "Unclosed connector\n",
      "connections: ['[(<aiohttp.client_proto.ResponseHandler object at 0x0000019568534580>, 109245.343)]']\n",
      "connector: <aiohttp.connector.TCPConnector object at 0x0000019568624640>\n"
     ]
    },
    {
     "name": "stdout",
     "output_type": "stream",
     "text": [
      "Last match played Tottenham against Wolverhampton Wanderers on 2023-03-04 12:00:00\n",
      "Last match played Everton against Nottingham Forest on 2023-03-04 12:00:00\n",
      "109 West Ham Aston Villa 11.03.2023\n"
     ]
    },
    {
     "name": "stderr",
     "output_type": "stream",
     "text": [
      "Unclosed client session\n",
      "client_session: <aiohttp.client.ClientSession object at 0x00000195684B8280>\n",
      "Unclosed connector\n",
      "connections: ['[(<aiohttp.client_proto.ResponseHandler object at 0x0000019568194FA0>, 109247.093)]']\n",
      "connector: <aiohttp.connector.TCPConnector object at 0x00000195684B85E0>\n"
     ]
    },
    {
     "name": "stdout",
     "output_type": "stream",
     "text": [
      "Last match played West Ham against Brighton on 2023-03-04 12:00:00\n",
      "Last match played Crystal Palace against Aston Villa on 2023-03-04 12:00:00\n",
      "110 Arsenal Crystal Palace 18.03.2023\n"
     ]
    },
    {
     "name": "stderr",
     "output_type": "stream",
     "text": [
      "Unclosed client session\n",
      "client_session: <aiohttp.client.ClientSession object at 0x00000195684B2610>\n",
      "Unclosed connector\n",
      "connections: ['[(<aiohttp.client_proto.ResponseHandler object at 0x0000019568194FA0>, 109248.765)]']\n",
      "connector: <aiohttp.connector.TCPConnector object at 0x00000195684B2C70>\n"
     ]
    },
    {
     "name": "stdout",
     "output_type": "stream",
     "text": [
      "Last match played Arsenal against Fulham on 2023-03-11 12:00:00\n",
      "Last match played Manchester City against Crystal Palace on 2023-03-11 12:00:00\n",
      "111 Aston Villa Bournemouth 18.03.2023\n"
     ]
    },
    {
     "name": "stderr",
     "output_type": "stream",
     "text": [
      "Unclosed client session\n",
      "client_session: <aiohttp.client.ClientSession object at 0x00000195689AABB0>\n",
      "Unclosed connector\n",
      "connections: ['[(<aiohttp.client_proto.ResponseHandler object at 0x0000019568769880>, 109250.406)]']\n",
      "connector: <aiohttp.connector.TCPConnector object at 0x00000195689AA6D0>\n"
     ]
    },
    {
     "name": "stdout",
     "output_type": "stream",
     "text": [
      "Last match played Aston Villa against West Ham on 2023-03-11 12:00:00\n",
      "Last match played Liverpool against Bournemouth on 2023-03-11 12:00:00\n",
      "112 Brentford Leicester 18.03.2023\n"
     ]
    },
    {
     "name": "stderr",
     "output_type": "stream",
     "text": [
      "Unclosed client session\n",
      "client_session: <aiohttp.client.ClientSession object at 0x000001956875CA60>\n",
      "Unclosed connector\n",
      "connections: ['[(<aiohttp.client_proto.ResponseHandler object at 0x0000019568194FA0>, 109252.078)]']\n",
      "connector: <aiohttp.connector.TCPConnector object at 0x000001956875C6D0>\n"
     ]
    },
    {
     "name": "stdout",
     "output_type": "stream",
     "text": [
      "Last match played Brentford against Everton on 2023-03-11 12:00:00\n",
      "Last match played Chelsea against Leicester on 2023-03-11 12:00:00\n",
      "113 Brighton Manchester United 18.03.2023\n"
     ]
    },
    {
     "name": "stderr",
     "output_type": "stream",
     "text": [
      "Unclosed client session\n",
      "client_session: <aiohttp.client.ClientSession object at 0x0000019568970DF0>\n",
      "Unclosed connector\n",
      "connections: ['[(<aiohttp.client_proto.ResponseHandler object at 0x00000195681A9100>, 109253.812)]']\n",
      "connector: <aiohttp.connector.TCPConnector object at 0x0000019568970A90>\n"
     ]
    },
    {
     "name": "stdout",
     "output_type": "stream",
     "text": [
      "Last match played Brighton against Leeds on 2023-03-11 12:00:00\n",
      "Last match played Southampton against Manchester United on 2023-03-11 12:00:00\n",
      "114 Chelsea Everton 18.03.2023\n"
     ]
    },
    {
     "name": "stderr",
     "output_type": "stream",
     "text": [
      "Unclosed client session\n",
      "client_session: <aiohttp.client.ClientSession object at 0x0000019568228E80>\n",
      "Unclosed connector\n",
      "connections: ['[(<aiohttp.client_proto.ResponseHandler object at 0x00000195687699A0>, 109255.531)]']\n",
      "connector: <aiohttp.connector.TCPConnector object at 0x0000019568386B50>\n"
     ]
    },
    {
     "name": "stdout",
     "output_type": "stream",
     "text": [
      "Last match played Chelsea against Leicester on 2023-03-11 12:00:00\n",
      "Last match played Brentford against Everton on 2023-03-11 12:00:00\n",
      "115 Liverpool Fulham 18.03.2023\n"
     ]
    },
    {
     "name": "stderr",
     "output_type": "stream",
     "text": [
      "Unclosed client session\n",
      "client_session: <aiohttp.client.ClientSession object at 0x0000019568987E50>\n",
      "Unclosed connector\n",
      "connections: ['[(<aiohttp.client_proto.ResponseHandler object at 0x0000019568194FA0>, 109257.171)]']\n",
      "connector: <aiohttp.connector.TCPConnector object at 0x0000019568987E20>\n"
     ]
    },
    {
     "name": "stdout",
     "output_type": "stream",
     "text": [
      "Last match played Liverpool against Bournemouth on 2023-03-11 12:00:00\n",
      "Last match played Arsenal against Fulham on 2023-03-11 12:00:00\n",
      "116 Manchester City West Ham 18.03.2023\n"
     ]
    },
    {
     "name": "stderr",
     "output_type": "stream",
     "text": [
      "Unclosed client session\n",
      "client_session: <aiohttp.client.ClientSession object at 0x00000195688AA4C0>\n",
      "Unclosed connector\n",
      "connections: ['[(<aiohttp.client_proto.ResponseHandler object at 0x0000019568534AC0>, 109258.859)]']\n",
      "connector: <aiohttp.connector.TCPConnector object at 0x0000019568987A90>\n"
     ]
    },
    {
     "name": "stdout",
     "output_type": "stream",
     "text": [
      "Last match played Manchester City against Crystal Palace on 2023-03-11 12:00:00\n",
      "Last match played Aston Villa against West Ham on 2023-03-11 12:00:00\n",
      "117 Nottingham Forest Newcastle United 18.03.2023\n"
     ]
    },
    {
     "name": "stderr",
     "output_type": "stream",
     "text": [
      "Unclosed client session\n",
      "client_session: <aiohttp.client.ClientSession object at 0x00000195689878B0>\n",
      "Unclosed connector\n",
      "connections: ['[(<aiohttp.client_proto.ResponseHandler object at 0x0000019568194FA0>, 109260.578)]']\n",
      "connector: <aiohttp.connector.TCPConnector object at 0x0000019568987850>\n"
     ]
    },
    {
     "name": "stdout",
     "output_type": "stream",
     "text": [
      "Last match played Nottingham Forest against Tottenham on 2023-03-11 12:00:00\n",
      "Last match played Wolverhampton Wanderers against Newcastle United on 2023-03-11 12:00:00\n",
      "118 Southampton Tottenham 18.03.2023\n"
     ]
    },
    {
     "name": "stderr",
     "output_type": "stream",
     "text": [
      "Unclosed client session\n",
      "client_session: <aiohttp.client.ClientSession object at 0x0000019568825F70>\n",
      "Unclosed connector\n",
      "connections: ['[(<aiohttp.client_proto.ResponseHandler object at 0x0000019568194FA0>, 109262.265)]']\n",
      "connector: <aiohttp.connector.TCPConnector object at 0x0000019568825E50>\n"
     ]
    },
    {
     "name": "stdout",
     "output_type": "stream",
     "text": [
      "Last match played Southampton against Manchester United on 2023-03-11 12:00:00\n",
      "Last match played Nottingham Forest against Tottenham on 2023-03-11 12:00:00\n",
      "119 Wolverhampton Wanderers Leeds 18.03.2023\n"
     ]
    },
    {
     "name": "stderr",
     "output_type": "stream",
     "text": [
      "Unclosed client session\n",
      "client_session: <aiohttp.client.ClientSession object at 0x00000195686A1BB0>\n",
      "Unclosed connector\n",
      "connections: ['[(<aiohttp.client_proto.ResponseHandler object at 0x0000019568194FA0>, 109263.937)]']\n",
      "connector: <aiohttp.connector.TCPConnector object at 0x00000195686A1AF0>\n"
     ]
    },
    {
     "name": "stdout",
     "output_type": "stream",
     "text": [
      "Last match played Wolverhampton Wanderers against Newcastle United on 2023-03-11 12:00:00\n",
      "Last match played Brighton against Leeds on 2023-03-11 12:00:00\n",
      "120 Arsenal Leeds 01.04.2023\n"
     ]
    },
    {
     "name": "stderr",
     "output_type": "stream",
     "text": [
      "Unclosed client session\n",
      "client_session: <aiohttp.client.ClientSession object at 0x00000195688B07F0>\n",
      "Unclosed connector\n",
      "connections: ['[(<aiohttp.client_proto.ResponseHandler object at 0x0000019568194FA0>, 109265.578)]']\n",
      "connector: <aiohttp.connector.TCPConnector object at 0x00000195688B06A0>\n"
     ]
    },
    {
     "name": "stdout",
     "output_type": "stream",
     "text": [
      "Last match played Crystal Palace against Arsenal on 2023-03-18 12:00:00\n",
      "Last match played Leeds against Wolverhampton Wanderers on 2023-03-18 12:00:00\n",
      "121 Bournemouth Fulham 01.04.2023\n"
     ]
    },
    {
     "name": "stderr",
     "output_type": "stream",
     "text": [
      "Unclosed client session\n",
      "client_session: <aiohttp.client.ClientSession object at 0x00000195686ABFD0>\n",
      "Unclosed connector\n",
      "connections: ['[(<aiohttp.client_proto.ResponseHandler object at 0x0000019568194FA0>, 109267.187)]']\n",
      "connector: <aiohttp.connector.TCPConnector object at 0x00000195686AB940>\n"
     ]
    },
    {
     "name": "stdout",
     "output_type": "stream",
     "text": [
      "Last match played Bournemouth against Aston Villa on 2023-03-18 12:00:00\n",
      "Last match played Fulham against Liverpool on 2023-03-18 12:00:00\n",
      "122 Brighton Brentford 01.04.2023\n"
     ]
    },
    {
     "name": "stderr",
     "output_type": "stream",
     "text": [
      "Unclosed client session\n",
      "client_session: <aiohttp.client.ClientSession object at 0x000001956846F2E0>\n",
      "Unclosed connector\n",
      "connections: ['[(<aiohttp.client_proto.ResponseHandler object at 0x0000019568194FA0>, 109268.734)]']\n",
      "connector: <aiohttp.connector.TCPConnector object at 0x000001956846FAC0>\n"
     ]
    },
    {
     "name": "stdout",
     "output_type": "stream",
     "text": [
      "Last match played Manchester United against Brighton on 2023-03-18 12:00:00\n",
      "Last match played Leicester against Brentford on 2023-03-18 12:00:00\n",
      "123 Chelsea Aston Villa 01.04.2023\n"
     ]
    },
    {
     "name": "stderr",
     "output_type": "stream",
     "text": [
      "Unclosed client session\n",
      "client_session: <aiohttp.client.ClientSession object at 0x0000019568488D00>\n",
      "Unclosed connector\n",
      "connections: ['[(<aiohttp.client_proto.ResponseHandler object at 0x0000019568194FA0>, 109270.421)]']\n",
      "connector: <aiohttp.connector.TCPConnector object at 0x0000019568488EE0>\n"
     ]
    },
    {
     "name": "stdout",
     "output_type": "stream",
     "text": [
      "Last match played Everton against Chelsea on 2023-03-18 12:00:00\n",
      "Last match played Bournemouth against Aston Villa on 2023-03-18 12:00:00\n",
      "124 Crystal Palace Leicester 01.04.2023\n"
     ]
    },
    {
     "name": "stderr",
     "output_type": "stream",
     "text": [
      "Unclosed client session\n",
      "client_session: <aiohttp.client.ClientSession object at 0x0000019568567FA0>\n",
      "Unclosed connector\n",
      "connections: ['[(<aiohttp.client_proto.ResponseHandler object at 0x00000195687693A0>, 109272.093)]']\n",
      "connector: <aiohttp.connector.TCPConnector object at 0x0000019568567B50>\n"
     ]
    },
    {
     "name": "stdout",
     "output_type": "stream",
     "text": [
      "Last match played Crystal Palace against Arsenal on 2023-03-18 12:00:00\n",
      "Last match played Leicester against Brentford on 2023-03-18 12:00:00\n",
      "125 Everton Tottenham 01.04.2023\n"
     ]
    },
    {
     "name": "stderr",
     "output_type": "stream",
     "text": [
      "Unclosed client session\n",
      "client_session: <aiohttp.client.ClientSession object at 0x0000019568488490>\n",
      "Unclosed connector\n",
      "connections: ['[(<aiohttp.client_proto.ResponseHandler object at 0x000001956868D7C0>, 109273.812)]']\n",
      "connector: <aiohttp.connector.TCPConnector object at 0x0000019568567940>\n"
     ]
    },
    {
     "name": "stdout",
     "output_type": "stream",
     "text": [
      "Last match played Everton against Chelsea on 2023-03-18 12:00:00\n",
      "Last match played Tottenham against Southampton on 2023-03-18 12:00:00\n",
      "126 Manchester City Liverpool 01.04.2023\n"
     ]
    },
    {
     "name": "stderr",
     "output_type": "stream",
     "text": [
      "Unclosed client session\n",
      "client_session: <aiohttp.client.ClientSession object at 0x000001956857E4F0>\n",
      "Unclosed connector\n",
      "connections: ['[(<aiohttp.client_proto.ResponseHandler object at 0x0000019568194FA0>, 109275.562)]']\n",
      "connector: <aiohttp.connector.TCPConnector object at 0x000001956857E3A0>\n"
     ]
    },
    {
     "name": "stdout",
     "output_type": "stream",
     "text": [
      "Last match played West Ham against Manchester City on 2023-03-18 12:00:00\n",
      "Last match played Fulham against Liverpool on 2023-03-18 12:00:00\n",
      "127 Newcastle United Manchester United 01.04.2023\n"
     ]
    },
    {
     "name": "stderr",
     "output_type": "stream",
     "text": [
      "Unclosed client session\n",
      "client_session: <aiohttp.client.ClientSession object at 0x00000195688AA4F0>\n",
      "Unclosed connector\n",
      "connections: ['[(<aiohttp.client_proto.ResponseHandler object at 0x0000019568194FA0>, 109277.25)]']\n",
      "connector: <aiohttp.connector.TCPConnector object at 0x000001956850DFA0>\n"
     ]
    },
    {
     "name": "stdout",
     "output_type": "stream",
     "text": [
      "Last match played Newcastle United against Nottingham Forest on 2023-03-18 12:00:00\n",
      "Last match played Manchester United against Brighton on 2023-03-18 12:00:00\n",
      "128 Nottingham Forest Wolverhampton Wanderers 01.04.2023\n"
     ]
    },
    {
     "name": "stderr",
     "output_type": "stream",
     "text": [
      "Unclosed client session\n",
      "client_session: <aiohttp.client.ClientSession object at 0x00000195684136A0>\n",
      "Unclosed connector\n",
      "connections: ['[(<aiohttp.client_proto.ResponseHandler object at 0x0000019568194FA0>, 109278.859)]']\n",
      "connector: <aiohttp.connector.TCPConnector object at 0x00000195684130D0>\n"
     ]
    },
    {
     "name": "stdout",
     "output_type": "stream",
     "text": [
      "Last match played Newcastle United against Nottingham Forest on 2023-03-18 12:00:00\n",
      "Last match played Leeds against Wolverhampton Wanderers on 2023-03-18 12:00:00\n",
      "129 West Ham Southampton 01.04.2023\n"
     ]
    },
    {
     "name": "stderr",
     "output_type": "stream",
     "text": [
      "Unclosed client session\n",
      "client_session: <aiohttp.client.ClientSession object at 0x00000195687F5AC0>\n",
      "Unclosed connector\n",
      "connections: ['[(<aiohttp.client_proto.ResponseHandler object at 0x0000019568194FA0>, 109280.609)]']\n",
      "connector: <aiohttp.connector.TCPConnector object at 0x00000195687F58E0>\n"
     ]
    },
    {
     "name": "stdout",
     "output_type": "stream",
     "text": [
      "Last match played West Ham against Manchester City on 2023-03-18 12:00:00\n",
      "Last match played Tottenham against Southampton on 2023-03-18 12:00:00\n",
      "130 Aston Villa Nottingham Forest 08.04.2023\n"
     ]
    },
    {
     "name": "stderr",
     "output_type": "stream",
     "text": [
      "Unclosed client session\n",
      "client_session: <aiohttp.client.ClientSession object at 0x000001956884CA60>\n",
      "Unclosed connector\n",
      "connections: ['[(<aiohttp.client_proto.ResponseHandler object at 0x0000019568769D60>, 109282.171)]']\n",
      "connector: <aiohttp.connector.TCPConnector object at 0x00000195685889D0>\n"
     ]
    },
    {
     "name": "stdout",
     "output_type": "stream",
     "text": [
      "Last match played Aston Villa against Chelsea on 2023-04-01 11:00:00\n",
      "Last match played Wolverhampton Wanderers against Nottingham Forest on 2023-04-01 11:00:00\n",
      "131 Brentford Newcastle United 08.04.2023\n"
     ]
    },
    {
     "name": "stderr",
     "output_type": "stream",
     "text": [
      "Unclosed client session\n",
      "client_session: <aiohttp.client.ClientSession object at 0x00000195686AB970>\n",
      "Unclosed connector\n",
      "connections: ['[(<aiohttp.client_proto.ResponseHandler object at 0x0000019568194FA0>, 109283.796)]']\n",
      "connector: <aiohttp.connector.TCPConnector object at 0x00000195686AB190>\n"
     ]
    },
    {
     "name": "stdout",
     "output_type": "stream",
     "text": [
      "Last match played Brentford against Brighton on 2023-04-01 11:00:00\n",
      "Last match played Manchester United against Newcastle United on 2023-04-01 11:00:00\n",
      "132 Fulham West Ham 08.04.2023\n"
     ]
    },
    {
     "name": "stderr",
     "output_type": "stream",
     "text": [
      "Unclosed client session\n",
      "client_session: <aiohttp.client.ClientSession object at 0x000001956850D400>\n",
      "Unclosed connector\n",
      "connections: ['[(<aiohttp.client_proto.ResponseHandler object at 0x0000019568194FA0>, 109285.453)]']\n",
      "connector: <aiohttp.connector.TCPConnector object at 0x000001956850DDC0>\n"
     ]
    },
    {
     "name": "stdout",
     "output_type": "stream",
     "text": [
      "Last match played Fulham against Bournemouth on 2023-04-01 11:00:00\n",
      "Last match played Southampton against West Ham on 2023-04-01 11:00:00\n",
      "133 Leeds Crystal Palace 08.04.2023\n"
     ]
    },
    {
     "name": "stderr",
     "output_type": "stream",
     "text": [
      "Unclosed client session\n",
      "client_session: <aiohttp.client.ClientSession object at 0x0000019568413880>\n",
      "Unclosed connector\n",
      "connections: ['[(<aiohttp.client_proto.ResponseHandler object at 0x0000019568194FA0>, 109287.468)]']\n",
      "connector: <aiohttp.connector.TCPConnector object at 0x0000019568413CD0>\n"
     ]
    },
    {
     "name": "stdout",
     "output_type": "stream",
     "text": [
      "Last match played Leeds against Arsenal on 2023-04-01 11:00:00\n",
      "Last match played Leicester against Crystal Palace on 2023-04-01 11:00:00\n",
      "134 Leicester Bournemouth 08.04.2023\n"
     ]
    },
    {
     "name": "stderr",
     "output_type": "stream",
     "text": [
      "Unclosed client session\n",
      "client_session: <aiohttp.client.ClientSession object at 0x0000019568550FD0>\n",
      "Unclosed connector\n",
      "connections: ['[(<aiohttp.client_proto.ResponseHandler object at 0x000001956868DC40>, 109289.125)]']\n",
      "connector: <aiohttp.connector.TCPConnector object at 0x0000019568550280>\n"
     ]
    },
    {
     "name": "stdout",
     "output_type": "stream",
     "text": [
      "Last match played Leicester against Crystal Palace on 2023-04-01 11:00:00\n",
      "Last match played Fulham against Bournemouth on 2023-04-01 11:00:00\n",
      "135 Liverpool Arsenal 08.04.2023\n"
     ]
    },
    {
     "name": "stderr",
     "output_type": "stream",
     "text": [
      "Unclosed client session\n",
      "client_session: <aiohttp.client.ClientSession object at 0x0000019568631FA0>\n",
      "Unclosed connector\n",
      "connections: ['[(<aiohttp.client_proto.ResponseHandler object at 0x0000019568390E80>, 109290.796)]']\n",
      "connector: <aiohttp.connector.TCPConnector object at 0x0000019568631E20>\n"
     ]
    },
    {
     "name": "stdout",
     "output_type": "stream",
     "text": [
      "Last match played Liverpool against Manchester City on 2023-04-01 11:00:00\n",
      "Last match played Leeds against Arsenal on 2023-04-01 11:00:00\n",
      "136 Manchester United Everton 08.04.2023\n"
     ]
    },
    {
     "name": "stderr",
     "output_type": "stream",
     "text": [
      "Unclosed client session\n",
      "client_session: <aiohttp.client.ClientSession object at 0x00000195686ABB80>\n",
      "Unclosed connector\n",
      "connections: ['[(<aiohttp.client_proto.ResponseHandler object at 0x00000195685340A0>, 109292.562)]']\n",
      "connector: <aiohttp.connector.TCPConnector object at 0x00000195686AB160>\n"
     ]
    },
    {
     "name": "stdout",
     "output_type": "stream",
     "text": [
      "Last match played Manchester United against Newcastle United on 2023-04-01 11:00:00\n",
      "Last match played Tottenham against Everton on 2023-04-01 11:00:00\n",
      "137 Southampton Manchester City 08.04.2023\n"
     ]
    },
    {
     "name": "stderr",
     "output_type": "stream",
     "text": [
      "Unclosed client session\n",
      "client_session: <aiohttp.client.ClientSession object at 0x000001956850D940>\n",
      "Unclosed connector\n",
      "connections: ['[(<aiohttp.client_proto.ResponseHandler object at 0x0000019568390700>, 109294.312)]']\n",
      "connector: <aiohttp.connector.TCPConnector object at 0x000001956850D790>\n"
     ]
    },
    {
     "name": "stdout",
     "output_type": "stream",
     "text": [
      "Last match played Southampton against West Ham on 2023-04-01 11:00:00\n",
      "Last match played Liverpool against Manchester City on 2023-04-01 11:00:00\n",
      "138 Tottenham Brighton 08.04.2023\n"
     ]
    },
    {
     "name": "stderr",
     "output_type": "stream",
     "text": [
      "Unclosed client session\n",
      "client_session: <aiohttp.client.ClientSession object at 0x0000019568413430>\n",
      "Unclosed connector\n",
      "connections: ['[(<aiohttp.client_proto.ResponseHandler object at 0x00000195685340A0>, 109296.156)]']\n",
      "connector: <aiohttp.connector.TCPConnector object at 0x0000019568413490>\n"
     ]
    },
    {
     "name": "stdout",
     "output_type": "stream",
     "text": [
      "Last match played Tottenham against Everton on 2023-04-01 11:00:00\n",
      "Last match played Brentford against Brighton on 2023-04-01 11:00:00\n",
      "139 Wolverhampton Wanderers Chelsea 08.04.2023\n"
     ]
    },
    {
     "name": "stderr",
     "output_type": "stream",
     "text": [
      "Unclosed client session\n",
      "client_session: <aiohttp.client.ClientSession object at 0x00000195683FBF40>\n",
      "Unclosed connector\n",
      "connections: ['[(<aiohttp.client_proto.ResponseHandler object at 0x0000019568390400>, 109297.781)]']\n",
      "connector: <aiohttp.connector.TCPConnector object at 0x00000195683FBD60>\n"
     ]
    },
    {
     "name": "stdout",
     "output_type": "stream",
     "text": [
      "Last match played Wolverhampton Wanderers against Nottingham Forest on 2023-04-01 11:00:00\n",
      "Last match played Aston Villa against Chelsea on 2023-04-01 11:00:00\n",
      "140 Aston Villa Newcastle United 15.04.2023\n"
     ]
    },
    {
     "name": "stderr",
     "output_type": "stream",
     "text": [
      "Unclosed client session\n",
      "client_session: <aiohttp.client.ClientSession object at 0x00000195684D0400>\n",
      "Unclosed connector\n",
      "connections: ['[(<aiohttp.client_proto.ResponseHandler object at 0x000001956868D040>, 109299.406)]']\n",
      "connector: <aiohttp.connector.TCPConnector object at 0x00000195684D0850>\n"
     ]
    },
    {
     "name": "stdout",
     "output_type": "stream",
     "text": [
      "Last match played Nottingham Forest against Aston Villa on 2023-04-08 11:00:00\n",
      "Last match played Newcastle United against Brentford on 2023-04-08 11:00:00\n",
      "141 Chelsea Brighton 15.04.2023\n"
     ]
    },
    {
     "name": "stderr",
     "output_type": "stream",
     "text": [
      "Unclosed client session\n",
      "client_session: <aiohttp.client.ClientSession object at 0x000001956846F340>\n",
      "Unclosed connector\n",
      "connections: ['[(<aiohttp.client_proto.ResponseHandler object at 0x000001956868D820>, 109301.078)]']\n",
      "connector: <aiohttp.connector.TCPConnector object at 0x000001956846FC70>\n"
     ]
    },
    {
     "name": "stdout",
     "output_type": "stream",
     "text": [
      "Last match played Chelsea against Wolverhampton Wanderers on 2023-04-08 11:00:00\n",
      "Last match played Brighton against Tottenham on 2023-04-08 11:00:00\n",
      "142 Everton Fulham 15.04.2023\n"
     ]
    },
    {
     "name": "stderr",
     "output_type": "stream",
     "text": [
      "Unclosed client session\n",
      "client_session: <aiohttp.client.ClientSession object at 0x00000195686ABFA0>\n",
      "Unclosed connector\n",
      "connections: ['[(<aiohttp.client_proto.ResponseHandler object at 0x0000019568534AC0>, 109302.796)]']\n",
      "connector: <aiohttp.connector.TCPConnector object at 0x00000195686AB5E0>\n"
     ]
    },
    {
     "name": "stdout",
     "output_type": "stream",
     "text": [
      "Last match played Everton against Manchester United on 2023-04-08 11:00:00\n",
      "Last match played West Ham against Fulham on 2023-04-08 11:00:00\n",
      "143 Leeds Liverpool 15.04.2023\n"
     ]
    },
    {
     "name": "stderr",
     "output_type": "stream",
     "text": [
      "Unclosed client session\n",
      "client_session: <aiohttp.client.ClientSession object at 0x00000195684136A0>\n",
      "Unclosed connector\n",
      "connections: ['[(<aiohttp.client_proto.ResponseHandler object at 0x0000019568390B80>, 109304.515)]']\n",
      "connector: <aiohttp.connector.TCPConnector object at 0x0000019568413F10>\n"
     ]
    },
    {
     "name": "stdout",
     "output_type": "stream",
     "text": [
      "Last match played Crystal Palace against Leeds on 2023-04-08 11:00:00\n",
      "Last match played Arsenal against Liverpool on 2023-04-08 11:00:00\n",
      "144 Manchester City Leicester 15.04.2023\n"
     ]
    },
    {
     "name": "stderr",
     "output_type": "stream",
     "text": [
      "Unclosed client session\n",
      "client_session: <aiohttp.client.ClientSession object at 0x0000019568934EB0>\n",
      "Unclosed connector\n",
      "connections: ['[(<aiohttp.client_proto.ResponseHandler object at 0x000001956868D040>, 109306.218)]']\n",
      "connector: <aiohttp.connector.TCPConnector object at 0x0000019568934D60>\n"
     ]
    },
    {
     "name": "stdout",
     "output_type": "stream",
     "text": [
      "Last match played Manchester City against Southampton on 2023-04-08 11:00:00\n",
      "Last match played Bournemouth against Leicester on 2023-04-08 11:00:00\n",
      "145 Nottingham Forest Manchester United 15.04.2023\n"
     ]
    },
    {
     "name": "stderr",
     "output_type": "stream",
     "text": [
      "Unclosed client session\n",
      "client_session: <aiohttp.client.ClientSession object at 0x0000019568884D00>\n",
      "Unclosed connector\n",
      "connections: ['[(<aiohttp.client_proto.ResponseHandler object at 0x00000195683905E0>, 109307.968)]']\n",
      "connector: <aiohttp.connector.TCPConnector object at 0x0000019568884BE0>\n"
     ]
    },
    {
     "name": "stdout",
     "output_type": "stream",
     "text": [
      "Last match played Nottingham Forest against Aston Villa on 2023-04-08 11:00:00\n",
      "Last match played Everton against Manchester United on 2023-04-08 11:00:00\n",
      "146 Southampton Crystal Palace 15.04.2023\n"
     ]
    },
    {
     "name": "stderr",
     "output_type": "stream",
     "text": [
      "Unclosed client session\n",
      "client_session: <aiohttp.client.ClientSession object at 0x000001956872E9A0>\n",
      "Unclosed connector\n",
      "connections: ['[(<aiohttp.client_proto.ResponseHandler object at 0x0000019568769280>, 109309.64)]']\n",
      "connector: <aiohttp.connector.TCPConnector object at 0x000001956872E100>\n"
     ]
    },
    {
     "name": "stdout",
     "output_type": "stream",
     "text": [
      "Last match played Manchester City against Southampton on 2023-04-08 11:00:00\n",
      "Last match played Crystal Palace against Leeds on 2023-04-08 11:00:00\n",
      "147 Tottenham Bournemouth 15.04.2023\n"
     ]
    },
    {
     "name": "stderr",
     "output_type": "stream",
     "text": [
      "Unclosed client session\n",
      "client_session: <aiohttp.client.ClientSession object at 0x00000195684E7B50>\n",
      "Unclosed connector\n",
      "connections: ['[(<aiohttp.client_proto.ResponseHandler object at 0x0000019568769880>, 109311.296)]']\n",
      "connector: <aiohttp.connector.TCPConnector object at 0x00000195684E7F70>\n"
     ]
    },
    {
     "name": "stdout",
     "output_type": "stream",
     "text": [
      "Last match played Brighton against Tottenham on 2023-04-08 11:00:00\n",
      "Last match played Bournemouth against Leicester on 2023-04-08 11:00:00\n",
      "148 West Ham Arsenal 15.04.2023\n"
     ]
    },
    {
     "name": "stderr",
     "output_type": "stream",
     "text": [
      "Unclosed client session\n",
      "client_session: <aiohttp.client.ClientSession object at 0x00000195688007F0>\n",
      "Unclosed connector\n",
      "connections: ['[(<aiohttp.client_proto.ResponseHandler object at 0x00000195683905E0>, 109312.89)]']\n",
      "connector: <aiohttp.connector.TCPConnector object at 0x00000195688009D0>\n"
     ]
    },
    {
     "name": "stdout",
     "output_type": "stream",
     "text": [
      "Last match played West Ham against Fulham on 2023-04-08 11:00:00\n",
      "Last match played Arsenal against Liverpool on 2023-04-08 11:00:00\n",
      "149 Wolverhampton Wanderers Brentford 15.04.2023\n"
     ]
    },
    {
     "name": "stderr",
     "output_type": "stream",
     "text": [
      "Unclosed client session\n",
      "client_session: <aiohttp.client.ClientSession object at 0x0000019568574AC0>\n",
      "Unclosed connector\n",
      "connections: ['[(<aiohttp.client_proto.ResponseHandler object at 0x00000195683905E0>, 109314.468)]']\n",
      "connector: <aiohttp.connector.TCPConnector object at 0x0000019568574BB0>\n"
     ]
    },
    {
     "name": "stdout",
     "output_type": "stream",
     "text": [
      "Last match played Chelsea against Wolverhampton Wanderers on 2023-04-08 11:00:00\n",
      "Last match played Newcastle United against Brentford on 2023-04-08 11:00:00\n",
      "150 Arsenal Southampton 22.04.2023\n"
     ]
    },
    {
     "name": "stderr",
     "output_type": "stream",
     "text": [
      "Unclosed client session\n",
      "client_session: <aiohttp.client.ClientSession object at 0x00000195689103A0>\n",
      "Unclosed connector\n",
      "connections: ['[(<aiohttp.client_proto.ResponseHandler object at 0x00000195681A9040>, 109316.156)]']\n",
      "connector: <aiohttp.connector.TCPConnector object at 0x0000019568910640>\n"
     ]
    },
    {
     "name": "stdout",
     "output_type": "stream",
     "text": [
      "Last match played Arsenal against West Ham on 2023-04-15 11:00:00\n",
      "Last match played Crystal Palace against Southampton on 2023-04-15 11:00:00\n",
      "151 Bournemouth West Ham 22.04.2023\n"
     ]
    },
    {
     "name": "stderr",
     "output_type": "stream",
     "text": [
      "Unclosed client session\n",
      "client_session: <aiohttp.client.ClientSession object at 0x00000195688786D0>\n",
      "Unclosed connector\n",
      "connections: ['[(<aiohttp.client_proto.ResponseHandler object at 0x00000195681A9040>, 109317.859)]']\n",
      "connector: <aiohttp.connector.TCPConnector object at 0x0000019568878EB0>\n"
     ]
    },
    {
     "name": "stdout",
     "output_type": "stream",
     "text": [
      "Last match played Bournemouth against Tottenham on 2023-04-15 11:00:00\n",
      "Last match played Arsenal against West Ham on 2023-04-15 11:00:00\n",
      "152 Brentford Aston Villa 22.04.2023\n"
     ]
    },
    {
     "name": "stderr",
     "output_type": "stream",
     "text": [
      "Unclosed client session\n",
      "client_session: <aiohttp.client.ClientSession object at 0x00000195684C6070>\n",
      "Unclosed connector\n",
      "connections: ['[(<aiohttp.client_proto.ResponseHandler object at 0x00000195681A9040>, 109319.546)]']\n",
      "connector: <aiohttp.connector.TCPConnector object at 0x00000195684C68B0>\n"
     ]
    },
    {
     "name": "stdout",
     "output_type": "stream",
     "text": [
      "Last match played Brentford against Wolverhampton Wanderers on 2023-04-15 11:00:00\n",
      "Last match played Newcastle United against Aston Villa on 2023-04-15 11:00:00\n",
      "153 Brighton Manchester City 22.04.2023\n"
     ]
    },
    {
     "name": "stderr",
     "output_type": "stream",
     "text": [
      "Unclosed client session\n",
      "client_session: <aiohttp.client.ClientSession object at 0x0000019568488250>\n",
      "Unclosed connector\n",
      "connections: ['[(<aiohttp.client_proto.ResponseHandler object at 0x0000019568534EE0>, 109321.187)]']\n",
      "connector: <aiohttp.connector.TCPConnector object at 0x00000195684C6640>\n"
     ]
    },
    {
     "name": "stdout",
     "output_type": "stream",
     "text": [
      "Last match played Brighton against Chelsea on 2023-04-15 11:00:00\n",
      "Last match played Leicester against Manchester City on 2023-04-15 11:00:00\n",
      "154 Crystal Palace Everton 22.04.2023\n"
     ]
    },
    {
     "name": "stderr",
     "output_type": "stream",
     "text": [
      "Unclosed client session\n",
      "client_session: <aiohttp.client.ClientSession object at 0x00000195684C6130>\n",
      "Unclosed connector\n",
      "connections: ['[(<aiohttp.client_proto.ResponseHandler object at 0x00000195681A9040>, 109322.953)]']\n",
      "connector: <aiohttp.connector.TCPConnector object at 0x00000195689248E0>\n"
     ]
    },
    {
     "name": "stdout",
     "output_type": "stream",
     "text": [
      "Last match played Crystal Palace against Southampton on 2023-04-15 11:00:00\n",
      "Last match played Fulham against Everton on 2023-04-15 11:00:00\n",
      "155 Fulham Leeds 22.04.2023\n"
     ]
    },
    {
     "name": "stderr",
     "output_type": "stream",
     "text": [
      "Unclosed client session\n",
      "client_session: <aiohttp.client.ClientSession object at 0x0000019568989A60>\n",
      "Unclosed connector\n",
      "connections: ['[(<aiohttp.client_proto.ResponseHandler object at 0x000001956868DFA0>, 109324.562)]']\n",
      "connector: <aiohttp.connector.TCPConnector object at 0x0000019568989BE0>\n"
     ]
    },
    {
     "name": "stdout",
     "output_type": "stream",
     "text": [
      "Last match played Fulham against Everton on 2023-04-15 11:00:00\n",
      "Last match played Liverpool against Leeds on 2023-04-15 11:00:00\n",
      "156 Leicester Wolverhampton Wanderers 22.04.2023\n"
     ]
    },
    {
     "name": "stderr",
     "output_type": "stream",
     "text": [
      "Unclosed client session\n",
      "client_session: <aiohttp.client.ClientSession object at 0x00000195688B6850>\n",
      "Unclosed connector\n",
      "connections: ['[(<aiohttp.client_proto.ResponseHandler object at 0x00000195681A9040>, 109326.218)]']\n",
      "connector: <aiohttp.connector.TCPConnector object at 0x000001956896BDC0>\n"
     ]
    },
    {
     "name": "stdout",
     "output_type": "stream",
     "text": [
      "Last match played Leicester against Manchester City on 2023-04-15 11:00:00\n",
      "Last match played Brentford against Wolverhampton Wanderers on 2023-04-15 11:00:00\n",
      "157 Liverpool Nottingham Forest 22.04.2023\n"
     ]
    },
    {
     "name": "stderr",
     "output_type": "stream",
     "text": [
      "Unclosed client session\n",
      "client_session: <aiohttp.client.ClientSession object at 0x00000195689A08E0>\n",
      "Unclosed connector\n",
      "connections: ['[(<aiohttp.client_proto.ResponseHandler object at 0x0000019568390B20>, 109327.812)]']\n",
      "connector: <aiohttp.connector.TCPConnector object at 0x00000195689A0E50>\n"
     ]
    },
    {
     "name": "stdout",
     "output_type": "stream",
     "text": [
      "Last match played Liverpool against Leeds on 2023-04-15 11:00:00\n",
      "Last match played Manchester United against Nottingham Forest on 2023-04-15 11:00:00\n",
      "158 Manchester United Chelsea 22.04.2023\n"
     ]
    },
    {
     "name": "stderr",
     "output_type": "stream",
     "text": [
      "Unclosed client session\n",
      "client_session: <aiohttp.client.ClientSession object at 0x00000195683C26D0>\n",
      "Unclosed connector\n",
      "connections: ['[(<aiohttp.client_proto.ResponseHandler object at 0x0000019568390B20>, 109329.578)]']\n",
      "connector: <aiohttp.connector.TCPConnector object at 0x00000195683C2490>\n"
     ]
    },
    {
     "name": "stdout",
     "output_type": "stream",
     "text": [
      "Last match played Manchester United against Nottingham Forest on 2023-04-15 11:00:00\n",
      "Last match played Brighton against Chelsea on 2023-04-15 11:00:00\n",
      "159 Newcastle United Tottenham 22.04.2023\n"
     ]
    },
    {
     "name": "stderr",
     "output_type": "stream",
     "text": [
      "Unclosed client session\n",
      "client_session: <aiohttp.client.ClientSession object at 0x00000195684347F0>\n",
      "Unclosed connector\n",
      "connections: ['[(<aiohttp.client_proto.ResponseHandler object at 0x00000195681A9040>, 109331.296)]']\n",
      "connector: <aiohttp.connector.TCPConnector object at 0x00000195684347C0>\n"
     ]
    },
    {
     "name": "stdout",
     "output_type": "stream",
     "text": [
      "Last match played Newcastle United against Aston Villa on 2023-04-15 11:00:00\n",
      "Last match played Bournemouth against Tottenham on 2023-04-15 11:00:00\n",
      "160 Everton Newcastle United 25.04.2023\n"
     ]
    },
    {
     "name": "stderr",
     "output_type": "stream",
     "text": [
      "Unclosed client session\n",
      "client_session: <aiohttp.client.ClientSession object at 0x00000195686B2490>\n",
      "Unclosed connector\n",
      "connections: ['[(<aiohttp.client_proto.ResponseHandler object at 0x00000195681A9040>, 109332.984)]']\n",
      "connector: <aiohttp.connector.TCPConnector object at 0x00000195686B2BB0>\n"
     ]
    },
    {
     "name": "stdout",
     "output_type": "stream",
     "text": [
      "Last match played Everton against Crystal Palace on 2023-04-22 11:00:00\n",
      "Last match played Tottenham against Newcastle United on 2023-04-22 11:00:00\n",
      "161 Leeds Leicester 25.04.2023\n"
     ]
    },
    {
     "name": "stderr",
     "output_type": "stream",
     "text": [
      "Unclosed client session\n",
      "client_session: <aiohttp.client.ClientSession object at 0x00000195684343A0>\n",
      "Unclosed connector\n",
      "connections: ['[(<aiohttp.client_proto.ResponseHandler object at 0x000001956868D6A0>, 109334.687)]']\n",
      "connector: <aiohttp.connector.TCPConnector object at 0x0000019568621C10>\n"
     ]
    },
    {
     "name": "stdout",
     "output_type": "stream",
     "text": [
      "Last match played Leeds against Fulham on 2023-04-22 11:00:00\n",
      "Last match played Wolverhampton Wanderers against Leicester on 2023-04-22 11:00:00\n",
      "162 Nottingham Forest Brighton 25.04.2023\n"
     ]
    },
    {
     "name": "stderr",
     "output_type": "stream",
     "text": [
      "Unclosed client session\n",
      "client_session: <aiohttp.client.ClientSession object at 0x00000195684A44F0>\n",
      "Unclosed connector\n",
      "connections: ['[(<aiohttp.client_proto.ResponseHandler object at 0x00000195681A9040>, 109336.328)]']\n",
      "connector: <aiohttp.connector.TCPConnector object at 0x00000195684A4280>\n"
     ]
    },
    {
     "name": "stdout",
     "output_type": "stream",
     "text": [
      "Last match played Nottingham Forest against Liverpool on 2023-04-22 11:00:00\n",
      "Last match played Manchester City against Brighton on 2023-04-22 11:00:00\n",
      "163 Tottenham Manchester United 25.04.2023\n"
     ]
    },
    {
     "name": "stderr",
     "output_type": "stream",
     "text": [
      "Unclosed client session\n",
      "client_session: <aiohttp.client.ClientSession object at 0x00000195689A0A90>\n",
      "Unclosed connector\n",
      "connections: ['[(<aiohttp.client_proto.ResponseHandler object at 0x00000195681A9040>, 109338.125)]']\n",
      "connector: <aiohttp.connector.TCPConnector object at 0x000001956859E7F0>\n"
     ]
    },
    {
     "name": "stdout",
     "output_type": "stream",
     "text": [
      "Last match played Tottenham against Newcastle United on 2023-04-22 11:00:00\n",
      "Last match played Chelsea against Manchester United on 2023-04-22 11:00:00\n",
      "164 West Ham Liverpool 25.04.2023\n"
     ]
    },
    {
     "name": "stderr",
     "output_type": "stream",
     "text": [
      "Unclosed client session\n",
      "client_session: <aiohttp.client.ClientSession object at 0x000001956875DE80>\n",
      "Unclosed connector\n",
      "connections: ['[(<aiohttp.client_proto.ResponseHandler object at 0x00000195681A9040>, 109339.875)]']\n",
      "connector: <aiohttp.connector.TCPConnector object at 0x000001956875DBE0>\n"
     ]
    },
    {
     "name": "stdout",
     "output_type": "stream",
     "text": [
      "Last match played West Ham against Bournemouth on 2023-04-22 11:00:00\n",
      "Last match played Nottingham Forest against Liverpool on 2023-04-22 11:00:00\n",
      "165 Wolverhampton Wanderers Crystal Palace 25.04.2023\n"
     ]
    },
    {
     "name": "stderr",
     "output_type": "stream",
     "text": [
      "Unclosed client session\n",
      "client_session: <aiohttp.client.ClientSession object at 0x000001956897E760>\n",
      "Unclosed connector\n",
      "connections: ['[(<aiohttp.client_proto.ResponseHandler object at 0x00000195681A9040>, 109341.609)]']\n",
      "connector: <aiohttp.connector.TCPConnector object at 0x000001956897E610>\n"
     ]
    },
    {
     "name": "stdout",
     "output_type": "stream",
     "text": [
      "Last match played Wolverhampton Wanderers against Leicester on 2023-04-22 11:00:00\n",
      "Last match played Everton against Crystal Palace on 2023-04-22 11:00:00\n",
      "166 Aston Villa Fulham 25.04.2023\n"
     ]
    },
    {
     "name": "stderr",
     "output_type": "stream",
     "text": [
      "Unclosed client session\n",
      "client_session: <aiohttp.client.ClientSession object at 0x00000195688AA5B0>\n",
      "Unclosed connector\n",
      "connections: ['[(<aiohttp.client_proto.ResponseHandler object at 0x00000195681A9040>, 109343.25)]']\n",
      "connector: <aiohttp.connector.TCPConnector object at 0x00000195688AA4F0>\n"
     ]
    },
    {
     "name": "stdout",
     "output_type": "stream",
     "text": [
      "Last match played Aston Villa against Brentford on 2023-04-22 11:00:00\n",
      "Last match played Leeds against Fulham on 2023-04-22 11:00:00\n",
      "167 Chelsea Brentford 26.04.2023\n"
     ]
    },
    {
     "name": "stderr",
     "output_type": "stream",
     "text": [
      "Unclosed client session\n",
      "client_session: <aiohttp.client.ClientSession object at 0x0000019568550850>\n",
      "Unclosed connector\n",
      "connections: ['[(<aiohttp.client_proto.ResponseHandler object at 0x00000195681A9040>, 109344.937)]']\n",
      "connector: <aiohttp.connector.TCPConnector object at 0x00000195685500A0>\n"
     ]
    },
    {
     "name": "stdout",
     "output_type": "stream",
     "text": [
      "Last match played Chelsea against Manchester United on 2023-04-22 11:00:00\n",
      "Last match played Aston Villa against Brentford on 2023-04-22 11:00:00\n",
      "168 Southampton Bournemouth 26.04.2023\n"
     ]
    },
    {
     "name": "stderr",
     "output_type": "stream",
     "text": [
      "Unclosed client session\n",
      "client_session: <aiohttp.client.ClientSession object at 0x0000019568806D60>\n",
      "Unclosed connector\n",
      "connections: ['[(<aiohttp.client_proto.ResponseHandler object at 0x00000195681A9040>, 109346.609)]']\n",
      "connector: <aiohttp.connector.TCPConnector object at 0x00000195688060A0>\n"
     ]
    },
    {
     "name": "stdout",
     "output_type": "stream",
     "text": [
      "Last match played Southampton against Arsenal on 2023-04-22 11:00:00\n",
      "Last match played West Ham against Bournemouth on 2023-04-22 11:00:00\n",
      "169 Manchester City Arsenal 26.04.2023\n"
     ]
    },
    {
     "name": "stderr",
     "output_type": "stream",
     "text": [
      "Unclosed client session\n",
      "client_session: <aiohttp.client.ClientSession object at 0x0000019567EF6130>\n",
      "Unclosed connector\n",
      "connections: ['[(<aiohttp.client_proto.ResponseHandler object at 0x00000195681A9040>, 109348.343)]']\n",
      "connector: <aiohttp.connector.TCPConnector object at 0x0000019567EF6370>\n"
     ]
    },
    {
     "name": "stdout",
     "output_type": "stream",
     "text": [
      "Last match played Manchester City against Brighton on 2023-04-22 11:00:00\n",
      "Last match played Southampton against Arsenal on 2023-04-22 11:00:00\n",
      "170 Arsenal Chelsea 29.04.2023\n"
     ]
    },
    {
     "name": "stderr",
     "output_type": "stream",
     "text": [
      "Unclosed client session\n",
      "client_session: <aiohttp.client.ClientSession object at 0x00000195687E6700>\n",
      "Unclosed connector\n",
      "connections: ['[(<aiohttp.client_proto.ResponseHandler object at 0x0000019568769A60>, 109350.046)]']\n",
      "connector: <aiohttp.connector.TCPConnector object at 0x00000195687E6F10>\n"
     ]
    },
    {
     "name": "stdout",
     "output_type": "stream",
     "text": [
      "Last match played Arsenal against Manchester City on 2023-04-26 16:00:00\n",
      "Last match played Brentford against Chelsea on 2023-04-26 15:45:00\n",
      "171 Bournemouth Leeds 29.04.2023\n"
     ]
    },
    {
     "name": "stderr",
     "output_type": "stream",
     "text": [
      "Unclosed client session\n",
      "client_session: <aiohttp.client.ClientSession object at 0x0000019568463430>\n",
      "Unclosed connector\n",
      "connections: ['[(<aiohttp.client_proto.ResponseHandler object at 0x00000195681A9040>, 109351.671)]']\n",
      "connector: <aiohttp.connector.TCPConnector object at 0x0000019568463730>\n"
     ]
    },
    {
     "name": "stdout",
     "output_type": "stream",
     "text": [
      "Last match played Bournemouth against Southampton on 2023-04-26 15:45:00\n",
      "Last match played Leicester against Leeds on 2023-04-25 15:45:00\n",
      "172 Brentford Nottingham Forest 29.04.2023\n"
     ]
    },
    {
     "name": "stderr",
     "output_type": "stream",
     "text": [
      "Unclosed client session\n",
      "client_session: <aiohttp.client.ClientSession object at 0x0000019568433FD0>\n",
      "Unclosed connector\n",
      "connections: ['[(<aiohttp.client_proto.ResponseHandler object at 0x00000195681A9040>, 109353.265)]']\n",
      "connector: <aiohttp.connector.TCPConnector object at 0x0000019568433610>\n"
     ]
    },
    {
     "name": "stdout",
     "output_type": "stream",
     "text": [
      "Last match played Brentford against Chelsea on 2023-04-26 15:45:00\n",
      "Last match played Brighton against Nottingham Forest on 2023-04-25 15:45:00\n",
      "173 Brighton Wolverhampton Wanderers 29.04.2023\n"
     ]
    },
    {
     "name": "stderr",
     "output_type": "stream",
     "text": [
      "Unclosed client session\n",
      "client_session: <aiohttp.client.ClientSession object at 0x0000019568624E50>\n",
      "Unclosed connector\n",
      "connections: ['[(<aiohttp.client_proto.ResponseHandler object at 0x00000195683902E0>, 109354.921)]']\n",
      "connector: <aiohttp.connector.TCPConnector object at 0x0000019568624F40>\n"
     ]
    },
    {
     "name": "stdout",
     "output_type": "stream",
     "text": [
      "Last match played Brighton against Nottingham Forest on 2023-04-25 15:45:00\n",
      "Last match played Crystal Palace against Wolverhampton Wanderers on 2023-04-25 15:45:00\n",
      "174 Crystal Palace West Ham 29.04.2023\n"
     ]
    },
    {
     "name": "stderr",
     "output_type": "stream",
     "text": [
      "Unclosed client session\n",
      "client_session: <aiohttp.client.ClientSession object at 0x00000195684289D0>\n",
      "Unclosed connector\n",
      "connections: ['[(<aiohttp.client_proto.ResponseHandler object at 0x000001955752AD00>, 109356.64)]']\n",
      "connector: <aiohttp.connector.TCPConnector object at 0x0000019568428DC0>\n"
     ]
    },
    {
     "name": "stdout",
     "output_type": "stream",
     "text": [
      "Last match played Crystal Palace against Wolverhampton Wanderers on 2023-04-25 15:45:00\n",
      "Last match played Liverpool against West Ham on 2023-04-25 15:45:00\n",
      "175 Fulham Manchester City 29.04.2023\n"
     ]
    },
    {
     "name": "stderr",
     "output_type": "stream",
     "text": [
      "Unclosed client session\n",
      "client_session: <aiohttp.client.ClientSession object at 0x00000195688CAF10>\n",
      "Unclosed connector\n",
      "connections: ['[(<aiohttp.client_proto.ResponseHandler object at 0x000001955752AD00>, 109358.281)]']\n",
      "connector: <aiohttp.connector.TCPConnector object at 0x00000195688A8A30>\n"
     ]
    },
    {
     "name": "stdout",
     "output_type": "stream",
     "text": [
      "Last match played Fulham against Aston Villa on 2023-04-25 16:00:00\n",
      "Last match played Arsenal against Manchester City on 2023-04-26 16:00:00\n",
      "176 Leicester Everton 29.04.2023\n"
     ]
    },
    {
     "name": "stderr",
     "output_type": "stream",
     "text": [
      "Unclosed client session\n",
      "client_session: <aiohttp.client.ClientSession object at 0x00000195688CAF40>\n",
      "Unclosed connector\n",
      "connections: ['[(<aiohttp.client_proto.ResponseHandler object at 0x0000019568534B80>, 109360.062)]']\n",
      "connector: <aiohttp.connector.TCPConnector object at 0x00000195688A8B20>\n"
     ]
    },
    {
     "name": "stdout",
     "output_type": "stream",
     "text": [
      "Last match played Leicester against Leeds on 2023-04-25 15:45:00\n",
      "Last match played Newcastle United against Everton on 2023-04-25 15:45:00\n",
      "177 Liverpool Tottenham 29.04.2023\n"
     ]
    },
    {
     "name": "stderr",
     "output_type": "stream",
     "text": [
      "Unclosed client session\n",
      "client_session: <aiohttp.client.ClientSession object at 0x000001956841D610>\n",
      "Unclosed connector\n",
      "connections: ['[(<aiohttp.client_proto.ResponseHandler object at 0x000001955752AD00>, 109361.875)]']\n",
      "connector: <aiohttp.connector.TCPConnector object at 0x000001956841DBE0>\n"
     ]
    },
    {
     "name": "stdout",
     "output_type": "stream",
     "text": [
      "Last match played Liverpool against West Ham on 2023-04-25 15:45:00\n",
      "Last match played Manchester United against Tottenham on 2023-04-25 15:45:00\n",
      "178 Manchester United Aston Villa 29.04.2023\n"
     ]
    },
    {
     "name": "stderr",
     "output_type": "stream",
     "text": [
      "Unclosed client session\n",
      "client_session: <aiohttp.client.ClientSession object at 0x000001956841E0D0>\n",
      "Unclosed connector\n",
      "connections: ['[(<aiohttp.client_proto.ResponseHandler object at 0x000001956868D700>, 109363.515)]']\n",
      "connector: <aiohttp.connector.TCPConnector object at 0x000001956841E070>\n"
     ]
    },
    {
     "name": "stdout",
     "output_type": "stream",
     "text": [
      "Last match played Manchester United against Tottenham on 2023-04-25 15:45:00\n",
      "Last match played Fulham against Aston Villa on 2023-04-25 16:00:00\n",
      "179 Newcastle United Southampton 29.04.2023\n"
     ]
    },
    {
     "name": "stderr",
     "output_type": "stream",
     "text": [
      "Unclosed client session\n",
      "client_session: <aiohttp.client.ClientSession object at 0x00000195683EE730>\n",
      "Unclosed connector\n",
      "connections: ['[(<aiohttp.client_proto.ResponseHandler object at 0x000001956868D700>, 109365.218)]']\n",
      "connector: <aiohttp.connector.TCPConnector object at 0x00000195683EEBE0>\n"
     ]
    },
    {
     "name": "stdout",
     "output_type": "stream",
     "text": [
      "Last match played Newcastle United against Everton on 2023-04-25 15:45:00\n",
      "Last match played Bournemouth against Southampton on 2023-04-26 15:45:00\n",
      "180 Bournemouth Chelsea 06.05.2023\n"
     ]
    },
    {
     "name": "stderr",
     "output_type": "stream",
     "text": [
      "Unclosed client session\n",
      "client_session: <aiohttp.client.ClientSession object at 0x00000195688B0A00>\n",
      "Unclosed connector\n",
      "connections: ['[(<aiohttp.client_proto.ResponseHandler object at 0x000001955752AD00>, 109366.906)]']\n",
      "connector: <aiohttp.connector.TCPConnector object at 0x00000195688B0A60>\n"
     ]
    },
    {
     "name": "stdout",
     "output_type": "stream",
     "text": [
      "Last match played Leeds against Bournemouth on 2023-04-29 11:00:00\n",
      "Last match played Chelsea against Arsenal on 2023-04-29 11:00:00\n",
      "181 Brighton Everton 06.05.2023\n"
     ]
    },
    {
     "name": "stderr",
     "output_type": "stream",
     "text": [
      "Unclosed client session\n",
      "client_session: <aiohttp.client.ClientSession object at 0x00000195686ACF70>\n",
      "Unclosed connector\n",
      "connections: ['[(<aiohttp.client_proto.ResponseHandler object at 0x000001955752AD00>, 109368.609)]']\n",
      "connector: <aiohttp.connector.TCPConnector object at 0x00000195686AC850>\n"
     ]
    },
    {
     "name": "stdout",
     "output_type": "stream",
     "text": [
      "Last match played Wolverhampton Wanderers against Brighton on 2023-04-29 11:00:00\n",
      "Last match played Everton against Leicester on 2023-04-29 11:00:00\n",
      "182 Fulham Leicester 06.05.2023\n"
     ]
    },
    {
     "name": "stderr",
     "output_type": "stream",
     "text": [
      "Unclosed client session\n",
      "client_session: <aiohttp.client.ClientSession object at 0x000001956879EFD0>\n",
      "Unclosed connector\n",
      "connections: ['[(<aiohttp.client_proto.ResponseHandler object at 0x000001955752AD00>, 109370.328)]']\n",
      "connector: <aiohttp.connector.TCPConnector object at 0x000001956879EF10>\n"
     ]
    },
    {
     "name": "stdout",
     "output_type": "stream",
     "text": [
      "Last match played Manchester City against Fulham on 2023-04-29 11:00:00\n",
      "Last match played Everton against Leicester on 2023-04-29 11:00:00\n",
      "183 Liverpool Brentford 06.05.2023\n"
     ]
    },
    {
     "name": "stderr",
     "output_type": "stream",
     "text": [
      "Unclosed client session\n",
      "client_session: <aiohttp.client.ClientSession object at 0x00000195683D78B0>\n",
      "Unclosed connector\n",
      "connections: ['[(<aiohttp.client_proto.ResponseHandler object at 0x000001955752AD00>, 109371.937)]']\n",
      "connector: <aiohttp.connector.TCPConnector object at 0x00000195683D70D0>\n"
     ]
    },
    {
     "name": "stdout",
     "output_type": "stream",
     "text": [
      "Last match played Tottenham against Liverpool on 2023-04-29 11:00:00\n",
      "Last match played Nottingham Forest against Brentford on 2023-04-29 11:00:00\n",
      "184 Manchester City Leeds 06.05.2023\n"
     ]
    },
    {
     "name": "stderr",
     "output_type": "stream",
     "text": [
      "Unclosed client session\n",
      "client_session: <aiohttp.client.ClientSession object at 0x00000195688E5E20>\n",
      "Unclosed connector\n",
      "connections: ['[(<aiohttp.client_proto.ResponseHandler object at 0x000001955752AD00>, 109373.609)]']\n",
      "connector: <aiohttp.connector.TCPConnector object at 0x00000195688E5520>\n"
     ]
    },
    {
     "name": "stdout",
     "output_type": "stream",
     "text": [
      "Last match played Manchester City against Fulham on 2023-04-29 11:00:00\n",
      "Last match played Leeds against Bournemouth on 2023-04-29 11:00:00\n",
      "185 Newcastle United Arsenal 06.05.2023\n"
     ]
    },
    {
     "name": "stderr",
     "output_type": "stream",
     "text": [
      "Unclosed client session\n",
      "client_session: <aiohttp.client.ClientSession object at 0x00000195686CC3A0>\n",
      "Unclosed connector\n",
      "connections: ['[(<aiohttp.client_proto.ResponseHandler object at 0x000001955752AD00>, 109375.312)]']\n",
      "connector: <aiohttp.connector.TCPConnector object at 0x00000195686CCC40>\n"
     ]
    },
    {
     "name": "stdout",
     "output_type": "stream",
     "text": [
      "Last match played Southampton against Newcastle United on 2023-04-29 11:00:00\n",
      "Last match played Chelsea against Arsenal on 2023-04-29 11:00:00\n",
      "186 Nottingham Forest Southampton 06.05.2023\n"
     ]
    },
    {
     "name": "stderr",
     "output_type": "stream",
     "text": [
      "Unclosed client session\n",
      "client_session: <aiohttp.client.ClientSession object at 0x00000195684E64C0>\n",
      "Unclosed connector\n",
      "connections: ['[(<aiohttp.client_proto.ResponseHandler object at 0x000001955752AD00>, 109376.984)]']\n",
      "connector: <aiohttp.connector.TCPConnector object at 0x00000195684E6190>\n"
     ]
    },
    {
     "name": "stdout",
     "output_type": "stream",
     "text": [
      "Last match played Nottingham Forest against Brentford on 2023-04-29 11:00:00\n",
      "Last match played Southampton against Newcastle United on 2023-04-29 11:00:00\n",
      "187 Tottenham Crystal Palace 06.05.2023\n"
     ]
    },
    {
     "name": "stderr",
     "output_type": "stream",
     "text": [
      "Unclosed client session\n",
      "client_session: <aiohttp.client.ClientSession object at 0x00000195684E6880>\n",
      "Unclosed connector\n",
      "connections: ['[(<aiohttp.client_proto.ResponseHandler object at 0x000001955752AD00>, 109378.718)]']\n",
      "connector: <aiohttp.connector.TCPConnector object at 0x00000195684E6340>\n"
     ]
    },
    {
     "name": "stdout",
     "output_type": "stream",
     "text": [
      "Last match played Tottenham against Liverpool on 2023-04-29 11:00:00\n",
      "Last match played West Ham against Crystal Palace on 2023-04-29 11:00:00\n",
      "188 West Ham Manchester United 06.05.2023\n"
     ]
    },
    {
     "name": "stderr",
     "output_type": "stream",
     "text": [
      "Unclosed client session\n",
      "client_session: <aiohttp.client.ClientSession object at 0x00000195684B82E0>\n",
      "Unclosed connector\n",
      "connections: ['[(<aiohttp.client_proto.ResponseHandler object at 0x000001955752AD00>, 109380.437)]']\n",
      "connector: <aiohttp.connector.TCPConnector object at 0x00000195684B8610>\n"
     ]
    },
    {
     "name": "stdout",
     "output_type": "stream",
     "text": [
      "Last match played West Ham against Crystal Palace on 2023-04-29 11:00:00\n",
      "Last match played Aston Villa against Manchester United on 2023-04-29 11:00:00\n",
      "189 Wolverhampton Wanderers Aston Villa 06.05.2023\n"
     ]
    },
    {
     "name": "stderr",
     "output_type": "stream",
     "text": [
      "Unclosed client session\n",
      "client_session: <aiohttp.client.ClientSession object at 0x0000019568884EE0>\n",
      "Unclosed connector\n",
      "connections: ['[(<aiohttp.client_proto.ResponseHandler object at 0x000001955752AD00>, 109382.031)]']\n",
      "connector: <aiohttp.connector.TCPConnector object at 0x0000019568884790>\n"
     ]
    },
    {
     "name": "stdout",
     "output_type": "stream",
     "text": [
      "Last match played Wolverhampton Wanderers against Brighton on 2023-04-29 11:00:00\n",
      "Last match played Aston Villa against Manchester United on 2023-04-29 11:00:00\n",
      "190 Arsenal Brighton 13.05.2023\n"
     ]
    },
    {
     "name": "stderr",
     "output_type": "stream",
     "text": [
      "Unclosed client session\n",
      "client_session: <aiohttp.client.ClientSession object at 0x00000195686FA7C0>\n",
      "Unclosed connector\n",
      "connections: ['[(<aiohttp.client_proto.ResponseHandler object at 0x000001955752AD00>, 109383.609)]']\n",
      "connector: <aiohttp.connector.TCPConnector object at 0x00000195686FAEB0>\n"
     ]
    },
    {
     "name": "stdout",
     "output_type": "stream",
     "text": [
      "Last match played Arsenal against Newcastle United on 2023-05-06 11:00:00\n",
      "Last match played Everton against Brighton on 2023-05-06 11:00:00\n",
      "191 Aston Villa Tottenham 13.05.2023\n"
     ]
    },
    {
     "name": "stderr",
     "output_type": "stream",
     "text": [
      "Unclosed client session\n",
      "client_session: <aiohttp.client.ClientSession object at 0x0000019568696C70>\n",
      "Unclosed connector\n",
      "connections: ['[(<aiohttp.client_proto.ResponseHandler object at 0x000001955752AD00>, 109385.281)]']\n",
      "connector: <aiohttp.connector.TCPConnector object at 0x00000195686969D0>\n"
     ]
    },
    {
     "name": "stdout",
     "output_type": "stream",
     "text": [
      "Last match played Aston Villa against Wolverhampton Wanderers on 2023-05-06 11:00:00\n",
      "Last match played Crystal Palace against Tottenham on 2023-05-06 11:00:00\n",
      "192 Brentford West Ham 13.05.2023\n"
     ]
    },
    {
     "name": "stderr",
     "output_type": "stream",
     "text": [
      "Unclosed client session\n",
      "client_session: <aiohttp.client.ClientSession object at 0x000001956872EC40>\n",
      "Unclosed connector\n",
      "connections: ['[(<aiohttp.client_proto.ResponseHandler object at 0x000001955752AD00>, 109386.921)]']\n",
      "connector: <aiohttp.connector.TCPConnector object at 0x000001956872ED90>\n"
     ]
    },
    {
     "name": "stdout",
     "output_type": "stream",
     "text": [
      "Last match played Brentford against Liverpool on 2023-05-06 11:00:00\n",
      "Last match played Manchester United against West Ham on 2023-05-06 11:00:00\n",
      "193 Chelsea Nottingham Forest 13.05.2023\n"
     ]
    },
    {
     "name": "stderr",
     "output_type": "stream",
     "text": [
      "Unclosed client session\n",
      "client_session: <aiohttp.client.ClientSession object at 0x000001956850D9D0>\n",
      "Unclosed connector\n",
      "connections: ['[(<aiohttp.client_proto.ResponseHandler object at 0x000001955752AD00>, 109388.578)]']\n",
      "connector: <aiohttp.connector.TCPConnector object at 0x000001956850DA30>\n"
     ]
    },
    {
     "name": "stdout",
     "output_type": "stream",
     "text": [
      "Last match played Chelsea against Bournemouth on 2023-05-06 11:00:00\n",
      "Last match played Southampton against Nottingham Forest on 2023-05-06 11:00:00\n",
      "194 Crystal Palace Bournemouth 13.05.2023\n"
     ]
    },
    {
     "name": "stderr",
     "output_type": "stream",
     "text": [
      "Unclosed client session\n",
      "client_session: <aiohttp.client.ClientSession object at 0x00000195683E5340>\n",
      "Unclosed connector\n",
      "connections: ['[(<aiohttp.client_proto.ResponseHandler object at 0x000001956868DE20>, 109390.265)]']\n",
      "connector: <aiohttp.connector.TCPConnector object at 0x00000195683E5670>\n"
     ]
    },
    {
     "name": "stdout",
     "output_type": "stream",
     "text": [
      "Last match played Crystal Palace against Tottenham on 2023-05-06 11:00:00\n",
      "Last match played Chelsea against Bournemouth on 2023-05-06 11:00:00\n",
      "195 Everton Manchester City 13.05.2023\n"
     ]
    },
    {
     "name": "stderr",
     "output_type": "stream",
     "text": [
      "Unclosed client session\n",
      "client_session: <aiohttp.client.ClientSession object at 0x00000195685502E0>\n",
      "Unclosed connector\n",
      "connections: ['[(<aiohttp.client_proto.ResponseHandler object at 0x000001955752AD00>, 109391.968)]']\n",
      "connector: <aiohttp.connector.TCPConnector object at 0x00000195683E5160>\n"
     ]
    },
    {
     "name": "stdout",
     "output_type": "stream",
     "text": [
      "Last match played Everton against Brighton on 2023-05-06 11:00:00\n",
      "Last match played Leeds against Manchester City on 2023-05-06 11:00:00\n",
      "196 Leeds Newcastle United 13.05.2023\n"
     ]
    },
    {
     "name": "stderr",
     "output_type": "stream",
     "text": [
      "Unclosed client session\n",
      "client_session: <aiohttp.client.ClientSession object at 0x00000195683F04F0>\n",
      "Unclosed connector\n",
      "connections: ['[(<aiohttp.client_proto.ResponseHandler object at 0x0000019568769C40>, 109393.593)]']\n",
      "connector: <aiohttp.connector.TCPConnector object at 0x00000195683F0130>\n"
     ]
    },
    {
     "name": "stdout",
     "output_type": "stream",
     "text": [
      "Last match played Leeds against Manchester City on 2023-05-06 11:00:00\n",
      "Last match played Arsenal against Newcastle United on 2023-05-06 11:00:00\n",
      "197 Leicester Liverpool 13.05.2023\n"
     ]
    },
    {
     "name": "stderr",
     "output_type": "stream",
     "text": [
      "Unclosed client session\n",
      "client_session: <aiohttp.client.ClientSession object at 0x000001956877F730>\n",
      "Unclosed connector\n",
      "connections: ['[(<aiohttp.client_proto.ResponseHandler object at 0x00000195685347C0>, 109395.312)]']\n",
      "connector: <aiohttp.connector.TCPConnector object at 0x000001956877F9D0>\n"
     ]
    },
    {
     "name": "stdout",
     "output_type": "stream",
     "text": [
      "Last match played Leicester against Fulham on 2023-05-06 11:00:00\n",
      "Last match played Brentford against Liverpool on 2023-05-06 11:00:00\n",
      "198 Manchester United Wolverhampton Wanderers 13.05.2023\n"
     ]
    },
    {
     "name": "stderr",
     "output_type": "stream",
     "text": [
      "Unclosed client session\n",
      "client_session: <aiohttp.client.ClientSession object at 0x0000019568463280>\n",
      "Unclosed connector\n",
      "connections: ['[(<aiohttp.client_proto.ResponseHandler object at 0x000001956868DA00>, 109396.953)]']\n",
      "connector: <aiohttp.connector.TCPConnector object at 0x0000019568463D00>\n"
     ]
    },
    {
     "name": "stdout",
     "output_type": "stream",
     "text": [
      "Last match played Manchester United against West Ham on 2023-05-06 11:00:00\n",
      "Last match played Aston Villa against Wolverhampton Wanderers on 2023-05-06 11:00:00\n",
      "199 Southampton Fulham 13.05.2023\n"
     ]
    },
    {
     "name": "stderr",
     "output_type": "stream",
     "text": [
      "Unclosed client session\n",
      "client_session: <aiohttp.client.ClientSession object at 0x000001956863DEB0>\n",
      "Unclosed connector\n",
      "connections: ['[(<aiohttp.client_proto.ResponseHandler object at 0x000001956868DE20>, 109398.562)]']\n",
      "connector: <aiohttp.connector.TCPConnector object at 0x000001956863D6A0>\n"
     ]
    },
    {
     "name": "stdout",
     "output_type": "stream",
     "text": [
      "Last match played Southampton against Nottingham Forest on 2023-05-06 11:00:00\n",
      "Last match played Leicester against Fulham on 2023-05-06 11:00:00\n",
      "200 Bournemouth Manchester United 20.05.2023\n"
     ]
    },
    {
     "name": "stderr",
     "output_type": "stream",
     "text": [
      "Unclosed client session\n",
      "client_session: <aiohttp.client.ClientSession object at 0x00000195688CC850>\n",
      "Unclosed connector\n",
      "connections: ['[(<aiohttp.client_proto.ResponseHandler object at 0x0000019568769C40>, 109400.312)]']\n",
      "connector: <aiohttp.connector.TCPConnector object at 0x00000195688CCEB0>\n"
     ]
    },
    {
     "name": "stdout",
     "output_type": "stream",
     "text": [
      "Last match played Bournemouth against Crystal Palace on 2023-05-13 11:00:00\n",
      "Last match played Wolverhampton Wanderers against Manchester United on 2023-05-13 11:00:00\n",
      "201 Brighton Southampton 20.05.2023\n"
     ]
    },
    {
     "name": "stderr",
     "output_type": "stream",
     "text": [
      "Unclosed client session\n",
      "client_session: <aiohttp.client.ClientSession object at 0x000001956863DF10>\n",
      "Unclosed connector\n",
      "connections: ['[(<aiohttp.client_proto.ResponseHandler object at 0x0000019568534BE0>, 109401.937)]']\n",
      "connector: <aiohttp.connector.TCPConnector object at 0x00000195687EB940>\n"
     ]
    },
    {
     "name": "stdout",
     "output_type": "stream",
     "text": [
      "Last match played Brighton against Arsenal on 2023-05-13 11:00:00\n",
      "Last match played Fulham against Southampton on 2023-05-13 11:00:00\n",
      "202 Fulham Crystal Palace 20.05.2023\n"
     ]
    },
    {
     "name": "stderr",
     "output_type": "stream",
     "text": [
      "Unclosed client session\n",
      "client_session: <aiohttp.client.ClientSession object at 0x00000195686CEFD0>\n",
      "Unclosed connector\n",
      "connections: ['[(<aiohttp.client_proto.ResponseHandler object at 0x00000195681A9040>, 109403.578)]']\n",
      "connector: <aiohttp.connector.TCPConnector object at 0x00000195686CEC10>\n"
     ]
    },
    {
     "name": "stdout",
     "output_type": "stream",
     "text": [
      "Last match played Fulham against Southampton on 2023-05-13 11:00:00\n",
      "Last match played Bournemouth against Crystal Palace on 2023-05-13 11:00:00\n",
      "203 Liverpool Aston Villa 20.05.2023\n"
     ]
    },
    {
     "name": "stderr",
     "output_type": "stream",
     "text": [
      "Unclosed client session\n",
      "client_session: <aiohttp.client.ClientSession object at 0x000001956850DA90>\n",
      "Unclosed connector\n",
      "connections: ['[(<aiohttp.client_proto.ResponseHandler object at 0x00000195681A9040>, 109405.281)]']\n",
      "connector: <aiohttp.connector.TCPConnector object at 0x000001956850DB50>\n"
     ]
    },
    {
     "name": "stdout",
     "output_type": "stream",
     "text": [
      "Last match played Liverpool against Leicester on 2023-05-13 11:00:00\n",
      "Last match played Tottenham against Aston Villa on 2023-05-13 11:00:00\n",
      "204 Manchester City Chelsea 20.05.2023\n"
     ]
    },
    {
     "name": "stderr",
     "output_type": "stream",
     "text": [
      "Unclosed client session\n",
      "client_session: <aiohttp.client.ClientSession object at 0x00000195688275E0>\n",
      "Unclosed connector\n",
      "connections: ['[(<aiohttp.client_proto.ResponseHandler object at 0x00000195681A9040>, 109407.062)]']\n",
      "connector: <aiohttp.connector.TCPConnector object at 0x0000019568827700>\n"
     ]
    },
    {
     "name": "stdout",
     "output_type": "stream",
     "text": [
      "Last match played Manchester City against Everton on 2023-05-13 11:00:00\n",
      "Last match played Nottingham Forest against Chelsea on 2023-05-13 11:00:00\n",
      "205 Newcastle United Leicester 20.05.2023\n"
     ]
    },
    {
     "name": "stderr",
     "output_type": "stream",
     "text": [
      "Unclosed client session\n",
      "client_session: <aiohttp.client.ClientSession object at 0x0000019568505C70>\n",
      "Unclosed connector\n",
      "connections: ['[(<aiohttp.client_proto.ResponseHandler object at 0x0000019568769D60>, 109408.765)]']\n",
      "connector: <aiohttp.connector.TCPConnector object at 0x0000019568505430>\n"
     ]
    },
    {
     "name": "stdout",
     "output_type": "stream",
     "text": [
      "Last match played Newcastle United against Leeds on 2023-05-13 11:00:00\n",
      "Last match played Liverpool against Leicester on 2023-05-13 11:00:00\n",
      "206 Nottingham Forest Arsenal 20.05.2023\n"
     ]
    },
    {
     "name": "stderr",
     "output_type": "stream",
     "text": [
      "Unclosed client session\n",
      "client_session: <aiohttp.client.ClientSession object at 0x0000019568696340>\n",
      "Unclosed connector\n",
      "connections: ['[(<aiohttp.client_proto.ResponseHandler object at 0x0000019568769E80>, 109410.421)]']\n",
      "connector: <aiohttp.connector.TCPConnector object at 0x00000195686968B0>\n"
     ]
    },
    {
     "name": "stdout",
     "output_type": "stream",
     "text": [
      "Last match played Nottingham Forest against Chelsea on 2023-05-13 11:00:00\n",
      "Last match played Brighton against Arsenal on 2023-05-13 11:00:00\n",
      "207 Tottenham Brentford 20.05.2023\n"
     ]
    },
    {
     "name": "stderr",
     "output_type": "stream",
     "text": [
      "Unclosed client session\n",
      "client_session: <aiohttp.client.ClientSession object at 0x00000195684B8AF0>\n",
      "Unclosed connector\n",
      "connections: ['[(<aiohttp.client_proto.ResponseHandler object at 0x0000019568390DC0>, 109412.109)]']\n",
      "connector: <aiohttp.connector.TCPConnector object at 0x00000195684B8BE0>\n"
     ]
    },
    {
     "name": "stdout",
     "output_type": "stream",
     "text": [
      "Last match played Tottenham against Aston Villa on 2023-05-13 11:00:00\n",
      "Last match played West Ham against Brentford on 2023-05-13 11:00:00\n",
      "208 West Ham Leeds 20.05.2023\n"
     ]
    },
    {
     "name": "stderr",
     "output_type": "stream",
     "text": [
      "Unclosed client session\n",
      "client_session: <aiohttp.client.ClientSession object at 0x00000195688CCCA0>\n",
      "Unclosed connector\n",
      "connections: ['[(<aiohttp.client_proto.ResponseHandler object at 0x000001956868DB20>, 109413.765)]']\n",
      "connector: <aiohttp.connector.TCPConnector object at 0x00000195688CC5E0>\n"
     ]
    },
    {
     "name": "stdout",
     "output_type": "stream",
     "text": [
      "Last match played West Ham against Brentford on 2023-05-13 11:00:00\n",
      "Last match played Newcastle United against Leeds on 2023-05-13 11:00:00\n",
      "209 Wolverhampton Wanderers Everton 20.05.2023\n"
     ]
    },
    {
     "name": "stderr",
     "output_type": "stream",
     "text": [
      "Unclosed client session\n",
      "client_session: <aiohttp.client.ClientSession object at 0x000001956879FD00>\n",
      "Unclosed connector\n",
      "connections: ['[(<aiohttp.client_proto.ResponseHandler object at 0x0000019568534340>, 109415.437)]']\n",
      "connector: <aiohttp.connector.TCPConnector object at 0x000001956879FE50>\n"
     ]
    },
    {
     "name": "stdout",
     "output_type": "stream",
     "text": [
      "Last match played Wolverhampton Wanderers against Manchester United on 2023-05-13 11:00:00\n",
      "Last match played Manchester City against Everton on 2023-05-13 11:00:00\n",
      "210 Arsenal Wolverhampton Wanderers 28.05.2023\n"
     ]
    },
    {
     "name": "stderr",
     "output_type": "stream",
     "text": [
      "Unclosed client session\n",
      "client_session: <aiohttp.client.ClientSession object at 0x00000195687DD5E0>\n",
      "Unclosed connector\n",
      "connections: ['[(<aiohttp.client_proto.ResponseHandler object at 0x000001955752AD00>, 109417.14)]']\n",
      "connector: <aiohttp.connector.TCPConnector object at 0x00000195687DD490>\n"
     ]
    },
    {
     "name": "stdout",
     "output_type": "stream",
     "text": [
      "Last match played Arsenal against Nottingham Forest on 2023-05-20 11:00:00\n",
      "Last match played Everton against Wolverhampton Wanderers on 2023-05-20 11:00:00\n",
      "211 Aston Villa Brighton 28.05.2023\n"
     ]
    },
    {
     "name": "stderr",
     "output_type": "stream",
     "text": [
      "Unclosed client session\n",
      "client_session: <aiohttp.client.ClientSession object at 0x00000195684ED4F0>\n",
      "Unclosed connector\n",
      "connections: ['[(<aiohttp.client_proto.ResponseHandler object at 0x0000019567FD6D60>, 109418.796)]']\n",
      "connector: <aiohttp.connector.TCPConnector object at 0x00000195684EDAF0>\n"
     ]
    },
    {
     "name": "stdout",
     "output_type": "stream",
     "text": [
      "Last match played Aston Villa against Liverpool on 2023-05-20 11:00:00\n",
      "Last match played Southampton against Brighton on 2023-05-20 11:00:00\n",
      "212 Brentford Manchester City 28.05.2023\n"
     ]
    },
    {
     "name": "stderr",
     "output_type": "stream",
     "text": [
      "Unclosed client session\n",
      "client_session: <aiohttp.client.ClientSession object at 0x000001956879F790>\n",
      "Unclosed connector\n",
      "connections: ['[(<aiohttp.client_proto.ResponseHandler object at 0x0000019567FD6D60>, 109420.531)]']\n",
      "connector: <aiohttp.connector.TCPConnector object at 0x000001956879FCA0>\n"
     ]
    },
    {
     "name": "stdout",
     "output_type": "stream",
     "text": [
      "Last match played Brentford against Tottenham on 2023-05-20 11:00:00\n",
      "Last match played Chelsea against Manchester City on 2023-05-20 11:00:00\n",
      "213 Chelsea Newcastle United 28.05.2023\n"
     ]
    },
    {
     "name": "stderr",
     "output_type": "stream",
     "text": [
      "Unclosed client session\n",
      "client_session: <aiohttp.client.ClientSession object at 0x0000019568413D90>\n",
      "Unclosed connector\n",
      "connections: ['[(<aiohttp.client_proto.ResponseHandler object at 0x0000019567FD6D60>, 109422.312)]']\n",
      "connector: <aiohttp.connector.TCPConnector object at 0x0000019568413640>\n"
     ]
    },
    {
     "name": "stdout",
     "output_type": "stream",
     "text": [
      "Last match played Chelsea against Manchester City on 2023-05-20 11:00:00\n",
      "Last match played Leicester against Newcastle United on 2023-05-20 11:00:00\n",
      "214 Crystal Palace Nottingham Forest 28.05.2023\n"
     ]
    },
    {
     "name": "stderr",
     "output_type": "stream",
     "text": [
      "Unclosed client session\n",
      "client_session: <aiohttp.client.ClientSession object at 0x00000195686CC520>\n",
      "Unclosed connector\n",
      "connections: ['[(<aiohttp.client_proto.ResponseHandler object at 0x0000019568534EE0>, 109423.906)]']\n",
      "connector: <aiohttp.connector.TCPConnector object at 0x00000195686CC550>\n"
     ]
    },
    {
     "name": "stdout",
     "output_type": "stream",
     "text": [
      "Last match played Crystal Palace against Fulham on 2023-05-20 11:00:00\n",
      "Last match played Arsenal against Nottingham Forest on 2023-05-20 11:00:00\n",
      "215 Everton Bournemouth 28.05.2023\n"
     ]
    },
    {
     "name": "stderr",
     "output_type": "stream",
     "text": [
      "Unclosed client session\n",
      "client_session: <aiohttp.client.ClientSession object at 0x000001956882D550>\n",
      "Unclosed connector\n",
      "connections: ['[(<aiohttp.client_proto.ResponseHandler object at 0x0000019567FD6D60>, 109425.593)]']\n",
      "connector: <aiohttp.connector.TCPConnector object at 0x000001956882D730>\n"
     ]
    },
    {
     "name": "stdout",
     "output_type": "stream",
     "text": [
      "Last match played Everton against Wolverhampton Wanderers on 2023-05-20 11:00:00\n",
      "Last match played Manchester United against Bournemouth on 2023-05-20 11:00:00\n",
      "216 Leeds Tottenham 28.05.2023\n"
     ]
    },
    {
     "name": "stderr",
     "output_type": "stream",
     "text": [
      "Unclosed client session\n",
      "client_session: <aiohttp.client.ClientSession object at 0x00000195687A2310>\n",
      "Unclosed connector\n",
      "connections: ['[(<aiohttp.client_proto.ResponseHandler object at 0x0000019567FD6D60>, 109427.234)]']\n",
      "connector: <aiohttp.connector.TCPConnector object at 0x00000195686AAD00>\n"
     ]
    },
    {
     "name": "stdout",
     "output_type": "stream",
     "text": [
      "Last match played Leeds against West Ham on 2023-05-20 11:00:00\n",
      "Last match played Brentford against Tottenham on 2023-05-20 11:00:00\n",
      "217 Leicester West Ham 28.05.2023\n"
     ]
    },
    {
     "name": "stderr",
     "output_type": "stream",
     "text": [
      "Unclosed client session\n",
      "client_session: <aiohttp.client.ClientSession object at 0x0000019568721820>\n",
      "Unclosed connector\n",
      "connections: ['[(<aiohttp.client_proto.ResponseHandler object at 0x000001956868D8E0>, 109428.937)]']\n",
      "connector: <aiohttp.connector.TCPConnector object at 0x0000019568721C10>\n"
     ]
    },
    {
     "name": "stdout",
     "output_type": "stream",
     "text": [
      "Last match played Leicester against Newcastle United on 2023-05-20 11:00:00\n",
      "Last match played Leeds against West Ham on 2023-05-20 11:00:00\n",
      "218 Manchester United Fulham 28.05.2023\n"
     ]
    },
    {
     "name": "stderr",
     "output_type": "stream",
     "text": [
      "Unclosed client session\n",
      "client_session: <aiohttp.client.ClientSession object at 0x0000019568810F10>\n",
      "Unclosed connector\n",
      "connections: ['[(<aiohttp.client_proto.ResponseHandler object at 0x000001956868D8E0>, 109430.625)]']\n",
      "connector: <aiohttp.connector.TCPConnector object at 0x0000019568721250>\n"
     ]
    },
    {
     "name": "stdout",
     "output_type": "stream",
     "text": [
      "Last match played Manchester United against Bournemouth on 2023-05-20 11:00:00\n",
      "Last match played Crystal Palace against Fulham on 2023-05-20 11:00:00\n",
      "219 Southampton Liverpool 28.05.2023\n",
      "Last match played Southampton against Brighton on 2023-05-20 11:00:00\n",
      "Last match played Aston Villa against Liverpool on 2023-05-20 11:00:00\n"
     ]
    }
   ],
   "source": [
    "t_season = int(Ofstat.season_mapping[season.value].split('-')[0])\n",
    "for index, row in temp_table.iterrows():\n",
    "    \n",
    "    print(index, row['Host'], row['Guest'], row['Date'])\n",
    "    session = aiohttp.ClientSession()\n",
    "    understat = Understat(session)\n",
    "\n",
    "    host_stats = await understat.get_team_results(row['Host'], t_season)\n",
    "    guest_stats = await understat.get_team_results(row['Guest'], t_season)\n",
    "    \n",
    "    host_upcoming = await understat.get_team_fixtures(row['Host'], t_season)\n",
    "    guest_upcoming = await understat.get_team_fixtures(row['Guest'], t_season)\n",
    "    #pd.DataFrame(host_stats)   \n",
    "    \n",
    "    host_stats=pd.DataFrame(host_stats)\n",
    "    guest_stats=pd.DataFrame(guest_stats)\n",
    "    host_upcoming=pd.DataFrame(host_upcoming)\n",
    "    guest_upcoming=pd.DataFrame(guest_upcoming)\n",
    "    \n",
    "    host_prematch_stats =  my_understat.get_team_prematch_stats(row['Host'], pd.DataFrame(host_stats),host_upcoming, row['Date'], is_future=True)\n",
    "    guest_prematch_stats =  my_understat.get_team_prematch_stats(row['Guest'], pd.DataFrame(guest_stats),guest_upcoming, row['Date'], is_future=True)\n",
    "\n",
    "    for k in guest_prematch_stats.keys():\n",
    "         temp_table.loc[index, k.replace('Team', 'Guest')] = guest_prematch_stats[k]\n",
    "\n",
    "    for k in host_prematch_stats.keys():\n",
    "         temp_table.loc[index, k.replace('Team', 'Host')] = host_prematch_stats[k]\n",
    "        \n",
    "    session.close()"
   ]
  },
  {
   "cell_type": "code",
   "execution_count": 10,
   "metadata": {},
   "outputs": [
    {
     "data": {
      "text/html": [
       "<div>\n",
       "<style scoped>\n",
       "    .dataframe tbody tr th:only-of-type {\n",
       "        vertical-align: middle;\n",
       "    }\n",
       "\n",
       "    .dataframe tbody tr th {\n",
       "        vertical-align: top;\n",
       "    }\n",
       "\n",
       "    .dataframe thead th {\n",
       "        text-align: right;\n",
       "    }\n",
       "</style>\n",
       "<table border=\"1\" class=\"dataframe\">\n",
       "  <thead>\n",
       "    <tr style=\"text-align: right;\">\n",
       "      <th></th>\n",
       "      <th>Date</th>\n",
       "      <th>Host</th>\n",
       "      <th>Guest</th>\n",
       "      <th>Guest: G average this season</th>\n",
       "      <th>Guest: GA average this season</th>\n",
       "      <th>Guest: matches played this season</th>\n",
       "      <th>Guest: days since last match</th>\n",
       "      <th>Guest: G/GA delta this season</th>\n",
       "      <th>Guest: xG average this season</th>\n",
       "      <th>Host: G average this season</th>\n",
       "      <th>Host: GA average this season</th>\n",
       "      <th>Host: matches played this season</th>\n",
       "      <th>Host: days since last match</th>\n",
       "      <th>Host: G/GA delta this season</th>\n",
       "      <th>Host: xG average this season</th>\n",
       "    </tr>\n",
       "  </thead>\n",
       "  <tbody>\n",
       "    <tr>\n",
       "      <th>0</th>\n",
       "      <td>26.12.2022</td>\n",
       "      <td>Arsenal</td>\n",
       "      <td>West Ham</td>\n",
       "      <td>0.800000</td>\n",
       "      <td>1.133333</td>\n",
       "      <td>15.0</td>\n",
       "      <td>44</td>\n",
       "      <td>-5.0</td>\n",
       "      <td>1.168691</td>\n",
       "      <td>2.357143</td>\n",
       "      <td>0.785714</td>\n",
       "      <td>14.0</td>\n",
       "      <td>44</td>\n",
       "      <td>22.0</td>\n",
       "      <td>0.843630</td>\n",
       "    </tr>\n",
       "    <tr>\n",
       "      <th>1</th>\n",
       "      <td>26.12.2022</td>\n",
       "      <td>Aston Villa</td>\n",
       "      <td>Liverpool</td>\n",
       "      <td>2.000000</td>\n",
       "      <td>1.214286</td>\n",
       "      <td>14.0</td>\n",
       "      <td>44</td>\n",
       "      <td>11.0</td>\n",
       "      <td>1.649719</td>\n",
       "      <td>1.066667</td>\n",
       "      <td>1.466667</td>\n",
       "      <td>15.0</td>\n",
       "      <td>43</td>\n",
       "      <td>-6.0</td>\n",
       "      <td>1.422414</td>\n",
       "    </tr>\n",
       "    <tr>\n",
       "      <th>2</th>\n",
       "      <td>26.12.2022</td>\n",
       "      <td>Brentford</td>\n",
       "      <td>Tottenham</td>\n",
       "      <td>2.066667</td>\n",
       "      <td>1.400000</td>\n",
       "      <td>15.0</td>\n",
       "      <td>44</td>\n",
       "      <td>10.0</td>\n",
       "      <td>1.204364</td>\n",
       "      <td>1.533333</td>\n",
       "      <td>1.666667</td>\n",
       "      <td>15.0</td>\n",
       "      <td>44</td>\n",
       "      <td>-2.0</td>\n",
       "      <td>1.508904</td>\n",
       "    </tr>\n",
       "    <tr>\n",
       "      <th>3</th>\n",
       "      <td>26.12.2022</td>\n",
       "      <td>Chelsea</td>\n",
       "      <td>Bournemouth</td>\n",
       "      <td>1.200000</td>\n",
       "      <td>2.133333</td>\n",
       "      <td>15.0</td>\n",
       "      <td>44</td>\n",
       "      <td>-14.0</td>\n",
       "      <td>1.693928</td>\n",
       "      <td>1.214286</td>\n",
       "      <td>1.214286</td>\n",
       "      <td>14.0</td>\n",
       "      <td>44</td>\n",
       "      <td>0.0</td>\n",
       "      <td>1.561856</td>\n",
       "    </tr>\n",
       "    <tr>\n",
       "      <th>4</th>\n",
       "      <td>26.12.2022</td>\n",
       "      <td>Crystal Palace</td>\n",
       "      <td>Fulham</td>\n",
       "      <td>1.600000</td>\n",
       "      <td>1.733333</td>\n",
       "      <td>15.0</td>\n",
       "      <td>43</td>\n",
       "      <td>-2.0</td>\n",
       "      <td>2.173699</td>\n",
       "      <td>1.071429</td>\n",
       "      <td>1.285714</td>\n",
       "      <td>14.0</td>\n",
       "      <td>44</td>\n",
       "      <td>-3.0</td>\n",
       "      <td>1.447139</td>\n",
       "    </tr>\n",
       "  </tbody>\n",
       "</table>\n",
       "</div>"
      ],
      "text/plain": [
       "         Date            Host        Guest  Guest: G average this season  \\\n",
       "0  26.12.2022         Arsenal     West Ham                      0.800000   \n",
       "1  26.12.2022     Aston Villa    Liverpool                      2.000000   \n",
       "2  26.12.2022       Brentford    Tottenham                      2.066667   \n",
       "3  26.12.2022         Chelsea  Bournemouth                      1.200000   \n",
       "4  26.12.2022  Crystal Palace       Fulham                      1.600000   \n",
       "\n",
       "   Guest: GA average this season  Guest: matches played this season  \\\n",
       "0                       1.133333                               15.0   \n",
       "1                       1.214286                               14.0   \n",
       "2                       1.400000                               15.0   \n",
       "3                       2.133333                               15.0   \n",
       "4                       1.733333                               15.0   \n",
       "\n",
       "  Guest: days since last match  Guest: G/GA delta this season  \\\n",
       "0                           44                           -5.0   \n",
       "1                           44                           11.0   \n",
       "2                           44                           10.0   \n",
       "3                           44                          -14.0   \n",
       "4                           43                           -2.0   \n",
       "\n",
       "   Guest: xG average this season  Host: G average this season  \\\n",
       "0                       1.168691                     2.357143   \n",
       "1                       1.649719                     1.066667   \n",
       "2                       1.204364                     1.533333   \n",
       "3                       1.693928                     1.214286   \n",
       "4                       2.173699                     1.071429   \n",
       "\n",
       "   Host: GA average this season  Host: matches played this season  \\\n",
       "0                      0.785714                              14.0   \n",
       "1                      1.466667                              15.0   \n",
       "2                      1.666667                              15.0   \n",
       "3                      1.214286                              14.0   \n",
       "4                      1.285714                              14.0   \n",
       "\n",
       "  Host: days since last match  Host: G/GA delta this season  \\\n",
       "0                          44                          22.0   \n",
       "1                          43                          -6.0   \n",
       "2                          44                          -2.0   \n",
       "3                          44                           0.0   \n",
       "4                          44                          -3.0   \n",
       "\n",
       "   Host: xG average this season  \n",
       "0                      0.843630  \n",
       "1                      1.422414  \n",
       "2                      1.508904  \n",
       "3                      1.561856  \n",
       "4                      1.447139  "
      ]
     },
     "execution_count": 10,
     "metadata": {},
     "output_type": "execute_result"
    }
   ],
   "source": [
    "temp_table[['Date', 'Host', 'Guest', 'Guest: G average this season', 'Guest: GA average this season',\n",
    "       'Guest: matches played this season', 'Guest: days since last match',\n",
    "       'Guest: G/GA delta this season', 'Guest: xG average this season',\n",
    "       'Host: G average this season', 'Host: GA average this season',\n",
    "       'Host: matches played this season', 'Host: days since last match',\n",
    "       'Host: G/GA delta this season', 'Host: xG average this season']].head()"
   ]
  },
  {
   "cell_type": "code",
   "execution_count": 29,
   "metadata": {},
   "outputs": [
    {
     "name": "stderr",
     "output_type": "stream",
     "text": [
      "Unclosed client session\n",
      "client_session: <aiohttp.client.ClientSession object at 0x00000195688841F0>\n"
     ]
    },
    {
     "name": "stdout",
     "output_type": "stream",
     "text": [
      "0 Arsenal West Ham 26.12.2022\n"
     ]
    },
    {
     "name": "stderr",
     "output_type": "stream",
     "text": [
      "Unclosed client session\n",
      "client_session: <aiohttp.client.ClientSession object at 0x00000195684132B0>\n",
      "Unclosed connector\n",
      "connections: ['[(<aiohttp.client_proto.ResponseHandler object at 0x0000019569A33160>, 116835.343)]']\n",
      "connector: <aiohttp.connector.TCPConnector object at 0x00000195684132E0>\n"
     ]
    },
    {
     "name": "stdout",
     "output_type": "stream",
     "text": [
      "1 Aston Villa Liverpool 26.12.2022\n"
     ]
    },
    {
     "name": "stderr",
     "output_type": "stream",
     "text": [
      "Unclosed client session\n",
      "client_session: <aiohttp.client.ClientSession object at 0x0000019568463850>\n",
      "Unclosed connector\n",
      "connections: ['[(<aiohttp.client_proto.ResponseHandler object at 0x0000019569A33B20>, 116836.234)]']\n",
      "connector: <aiohttp.connector.TCPConnector object at 0x0000019568463040>\n"
     ]
    },
    {
     "name": "stdout",
     "output_type": "stream",
     "text": [
      "2 Brentford Tottenham 26.12.2022\n"
     ]
    },
    {
     "name": "stderr",
     "output_type": "stream",
     "text": [
      "Unclosed client session\n",
      "client_session: <aiohttp.client.ClientSession object at 0x0000019568228AF0>\n",
      "Unclosed connector\n",
      "connections: ['[(<aiohttp.client_proto.ResponseHandler object at 0x0000019569A33040>, 116837.187)]']\n",
      "connector: <aiohttp.connector.TCPConnector object at 0x0000019568228670>\n"
     ]
    },
    {
     "name": "stdout",
     "output_type": "stream",
     "text": [
      "3 Chelsea Bournemouth 26.12.2022\n"
     ]
    },
    {
     "name": "stderr",
     "output_type": "stream",
     "text": [
      "Unclosed client session\n",
      "client_session: <aiohttp.client.ClientSession object at 0x0000019568633E50>\n",
      "Unclosed connector\n",
      "connections: ['[(<aiohttp.client_proto.ResponseHandler object at 0x0000019569A33CA0>, 116838.218)]']\n",
      "connector: <aiohttp.connector.TCPConnector object at 0x00000195686332E0>\n"
     ]
    },
    {
     "name": "stdout",
     "output_type": "stream",
     "text": [
      "4 Crystal Palace Fulham 26.12.2022\n"
     ]
    },
    {
     "name": "stderr",
     "output_type": "stream",
     "text": [
      "Unclosed client session\n",
      "client_session: <aiohttp.client.ClientSession object at 0x000001956AB651C0>\n",
      "Unclosed connector\n",
      "connections: ['[(<aiohttp.client_proto.ResponseHandler object at 0x0000019569A339A0>, 116839.437)]']\n",
      "connector: <aiohttp.connector.TCPConnector object at 0x000001956AB65130>\n"
     ]
    },
    {
     "name": "stdout",
     "output_type": "stream",
     "text": [
      "5 Everton Wolverhampton Wanderers 26.12.2022\n"
     ]
    },
    {
     "name": "stderr",
     "output_type": "stream",
     "text": [
      "Unclosed client session\n",
      "client_session: <aiohttp.client.ClientSession object at 0x0000019568644BE0>\n",
      "Unclosed connector\n",
      "connections: ['[(<aiohttp.client_proto.ResponseHandler object at 0x0000019569A33D00>, 116840.484)]']\n",
      "connector: <aiohttp.connector.TCPConnector object at 0x00000195686445E0>\n"
     ]
    },
    {
     "name": "stdout",
     "output_type": "stream",
     "text": [
      "6 Leeds Manchester City 26.12.2022\n"
     ]
    },
    {
     "name": "stderr",
     "output_type": "stream",
     "text": [
      "Unclosed client session\n",
      "client_session: <aiohttp.client.ClientSession object at 0x00000195688B4670>\n",
      "Unclosed connector\n",
      "connections: ['[(<aiohttp.client_proto.ResponseHandler object at 0x0000019569A33340>, 116841.718)]']\n",
      "connector: <aiohttp.connector.TCPConnector object at 0x00000195688B4400>\n"
     ]
    },
    {
     "name": "stdout",
     "output_type": "stream",
     "text": [
      "7 Leicester Newcastle United 26.12.2022\n"
     ]
    },
    {
     "name": "stderr",
     "output_type": "stream",
     "text": [
      "Unclosed client session\n",
      "client_session: <aiohttp.client.ClientSession object at 0x0000019568736460>\n",
      "Unclosed connector\n",
      "connections: ['[(<aiohttp.client_proto.ResponseHandler object at 0x0000019569A33040>, 116843.0)]']\n",
      "connector: <aiohttp.connector.TCPConnector object at 0x0000019568736640>\n"
     ]
    },
    {
     "name": "stdout",
     "output_type": "stream",
     "text": [
      "8 Manchester United Nottingham Forest 26.12.2022\n"
     ]
    },
    {
     "name": "stderr",
     "output_type": "stream",
     "text": [
      "Unclosed client session\n",
      "client_session: <aiohttp.client.ClientSession object at 0x000001956AB744F0>\n",
      "Unclosed connector\n",
      "connections: ['[(<aiohttp.client_proto.ResponseHandler object at 0x0000019569A339A0>, 116844.0)]']\n",
      "connector: <aiohttp.connector.TCPConnector object at 0x000001956AB74790>\n"
     ]
    },
    {
     "name": "stdout",
     "output_type": "stream",
     "text": [
      "9 Southampton Brighton 26.12.2022\n"
     ]
    },
    {
     "name": "stderr",
     "output_type": "stream",
     "text": [
      "Unclosed client session\n",
      "client_session: <aiohttp.client.ClientSession object at 0x0000019568827670>\n",
      "Unclosed connector\n",
      "connections: ['[(<aiohttp.client_proto.ResponseHandler object at 0x0000019569A33100>, 116844.937)]']\n",
      "connector: <aiohttp.connector.TCPConnector object at 0x0000019568827460>\n"
     ]
    },
    {
     "name": "stdout",
     "output_type": "stream",
     "text": [
      "10 Bournemouth Crystal Palace 31.12.2022\n"
     ]
    },
    {
     "name": "stderr",
     "output_type": "stream",
     "text": [
      "Unclosed client session\n",
      "client_session: <aiohttp.client.ClientSession object at 0x000001955756D280>\n",
      "Unclosed connector\n",
      "connections: ['[(<aiohttp.client_proto.ResponseHandler object at 0x0000019569A33A00>, 116845.89)]']\n",
      "connector: <aiohttp.connector.TCPConnector object at 0x000001955756D0A0>\n"
     ]
    },
    {
     "name": "stdout",
     "output_type": "stream",
     "text": [
      "11 Brighton Arsenal 31.12.2022\n"
     ]
    },
    {
     "name": "stderr",
     "output_type": "stream",
     "text": [
      "Unclosed client session\n",
      "client_session: <aiohttp.client.ClientSession object at 0x0000019568644100>\n",
      "Unclosed connector\n",
      "connections: ['[(<aiohttp.client_proto.ResponseHandler object at 0x0000019569A33340>, 116846.89)]']\n",
      "connector: <aiohttp.connector.TCPConnector object at 0x0000019568644F40>\n"
     ]
    },
    {
     "name": "stdout",
     "output_type": "stream",
     "text": [
      "12 Fulham Southampton 31.12.2022\n"
     ]
    },
    {
     "name": "stderr",
     "output_type": "stream",
     "text": [
      "Unclosed client session\n",
      "client_session: <aiohttp.client.ClientSession object at 0x000001956ABB6F70>\n",
      "Unclosed connector\n",
      "connections: ['[(<aiohttp.client_proto.ResponseHandler object at 0x0000019568769B20>, 116847.906)]']\n",
      "connector: <aiohttp.connector.TCPConnector object at 0x000001956ABB6FA0>\n"
     ]
    },
    {
     "name": "stdout",
     "output_type": "stream",
     "text": [
      "13 Liverpool Leicester 31.12.2022\n"
     ]
    },
    {
     "name": "stderr",
     "output_type": "stream",
     "text": [
      "Unclosed client session\n",
      "client_session: <aiohttp.client.ClientSession object at 0x0000019568633FA0>\n",
      "Unclosed connector\n",
      "connections: ['[(<aiohttp.client_proto.ResponseHandler object at 0x0000019568194D60>, 116849.171)]']\n",
      "connector: <aiohttp.connector.TCPConnector object at 0x0000019568633520>\n"
     ]
    },
    {
     "name": "stdout",
     "output_type": "stream",
     "text": [
      "14 Manchester City Everton 31.12.2022\n"
     ]
    },
    {
     "name": "stderr",
     "output_type": "stream",
     "text": [
      "Unclosed client session\n",
      "client_session: <aiohttp.client.ClientSession object at 0x0000019568740940>\n",
      "Unclosed connector\n",
      "connections: ['[(<aiohttp.client_proto.ResponseHandler object at 0x0000019568194D60>, 116850.062)]']\n",
      "connector: <aiohttp.connector.TCPConnector object at 0x0000019568740D30>\n"
     ]
    },
    {
     "name": "stdout",
     "output_type": "stream",
     "text": [
      "15 Newcastle United Leeds 31.12.2022\n"
     ]
    },
    {
     "name": "stderr",
     "output_type": "stream",
     "text": [
      "Unclosed client session\n",
      "client_session: <aiohttp.client.ClientSession object at 0x000001956AB46D60>\n",
      "Unclosed connector\n",
      "connections: ['[(<aiohttp.client_proto.ResponseHandler object at 0x0000019568194D60>, 116851.218)]']\n",
      "connector: <aiohttp.connector.TCPConnector object at 0x000001956AB46DF0>\n"
     ]
    },
    {
     "name": "stdout",
     "output_type": "stream",
     "text": [
      "16 Nottingham Forest Chelsea 31.12.2022\n"
     ]
    },
    {
     "name": "stderr",
     "output_type": "stream",
     "text": [
      "Unclosed client session\n",
      "client_session: <aiohttp.client.ClientSession object at 0x000001956ABFEEB0>\n",
      "Unclosed connector\n",
      "connections: ['[(<aiohttp.client_proto.ResponseHandler object at 0x0000019568194D60>, 116852.234)]']\n",
      "connector: <aiohttp.connector.TCPConnector object at 0x000001956ABFEF70>\n"
     ]
    },
    {
     "name": "stdout",
     "output_type": "stream",
     "text": [
      "17 Tottenham Aston Villa 31.12.2022\n"
     ]
    },
    {
     "name": "stderr",
     "output_type": "stream",
     "text": [
      "Unclosed client session\n",
      "client_session: <aiohttp.client.ClientSession object at 0x000001956882DD00>\n",
      "Unclosed connector\n",
      "connections: ['[(<aiohttp.client_proto.ResponseHandler object at 0x0000019568194D60>, 116853.25)]']\n",
      "connector: <aiohttp.connector.TCPConnector object at 0x000001956882DCA0>\n"
     ]
    },
    {
     "name": "stdout",
     "output_type": "stream",
     "text": [
      "18 West Ham Brentford 31.12.2022\n"
     ]
    },
    {
     "name": "stderr",
     "output_type": "stream",
     "text": [
      "Unclosed client session\n",
      "client_session: <aiohttp.client.ClientSession object at 0x000001956ABF4760>\n",
      "Unclosed connector\n",
      "connections: ['[(<aiohttp.client_proto.ResponseHandler object at 0x0000019568194D60>, 116854.359)]']\n",
      "connector: <aiohttp.connector.TCPConnector object at 0x00000195683D1DC0>\n"
     ]
    },
    {
     "name": "stdout",
     "output_type": "stream",
     "text": [
      "19 Wolverhampton Wanderers Manchester United 31.12.2022\n"
     ]
    },
    {
     "name": "stderr",
     "output_type": "stream",
     "text": [
      "Unclosed client session\n",
      "client_session: <aiohttp.client.ClientSession object at 0x000001956ABA8460>\n",
      "Unclosed connector\n",
      "connections: ['[(<aiohttp.client_proto.ResponseHandler object at 0x0000019568649E20>, 116855.625)]']\n",
      "connector: <aiohttp.connector.TCPConnector object at 0x000001956ABA8430>\n"
     ]
    },
    {
     "name": "stdout",
     "output_type": "stream",
     "text": [
      "20 Arsenal Newcastle United 02.01.2023\n"
     ]
    },
    {
     "name": "stderr",
     "output_type": "stream",
     "text": [
      "Unclosed client session\n",
      "client_session: <aiohttp.client.ClientSession object at 0x000001956AC3D910>\n",
      "Unclosed connector\n",
      "connections: ['[(<aiohttp.client_proto.ResponseHandler object at 0x0000019569A33EE0>, 116856.828)]']\n",
      "connector: <aiohttp.connector.TCPConnector object at 0x000001956AC3DA30>\n"
     ]
    },
    {
     "name": "stdout",
     "output_type": "stream",
     "text": [
      "21 Aston Villa Wolverhampton Wanderers 02.01.2023\n"
     ]
    },
    {
     "name": "stderr",
     "output_type": "stream",
     "text": [
      "Unclosed client session\n",
      "client_session: <aiohttp.client.ClientSession object at 0x0000019568633DC0>\n",
      "Unclosed connector\n",
      "connections: ['[(<aiohttp.client_proto.ResponseHandler object at 0x0000019569A5BCA0>, 116857.875)]']\n",
      "connector: <aiohttp.connector.TCPConnector object at 0x0000019568633700>\n"
     ]
    },
    {
     "name": "stdout",
     "output_type": "stream",
     "text": [
      "22 Brentford Liverpool 02.01.2023\n"
     ]
    },
    {
     "name": "stderr",
     "output_type": "stream",
     "text": [
      "Unclosed client session\n",
      "client_session: <aiohttp.client.ClientSession object at 0x000001956883E070>\n",
      "Unclosed connector\n",
      "connections: ['[(<aiohttp.client_proto.ResponseHandler object at 0x0000019569A5BCA0>, 116859.203)]']\n",
      "connector: <aiohttp.connector.TCPConnector object at 0x000001956883EFD0>\n"
     ]
    },
    {
     "name": "stdout",
     "output_type": "stream",
     "text": [
      "23 Chelsea Manchester City 02.01.2023\n"
     ]
    },
    {
     "name": "stderr",
     "output_type": "stream",
     "text": [
      "Unclosed client session\n",
      "client_session: <aiohttp.client.ClientSession object at 0x000001956AB3CA60>\n",
      "Unclosed connector\n",
      "connections: ['[(<aiohttp.client_proto.ResponseHandler object at 0x0000019569A5BCA0>, 116860.125)]']\n",
      "connector: <aiohttp.connector.TCPConnector object at 0x000001956AB3CA00>\n"
     ]
    },
    {
     "name": "stdout",
     "output_type": "stream",
     "text": [
      "24 Crystal Palace Tottenham 02.01.2023\n"
     ]
    },
    {
     "name": "stderr",
     "output_type": "stream",
     "text": [
      "Unclosed client session\n",
      "client_session: <aiohttp.client.ClientSession object at 0x000001956AC7A3A0>\n",
      "Unclosed connector\n",
      "connections: ['[(<aiohttp.client_proto.ResponseHandler object at 0x0000019569A5BCA0>, 116861.25)]']\n",
      "connector: <aiohttp.connector.TCPConnector object at 0x000001956AC7AF40>\n"
     ]
    },
    {
     "name": "stdout",
     "output_type": "stream",
     "text": [
      "25 Everton Brighton 02.01.2023\n"
     ]
    },
    {
     "name": "stderr",
     "output_type": "stream",
     "text": [
      "Unclosed client session\n",
      "client_session: <aiohttp.client.ClientSession object at 0x00000195684C6970>\n",
      "Unclosed connector\n",
      "connections: ['[(<aiohttp.client_proto.ResponseHandler object at 0x0000019568534040>, 116862.609)]']\n",
      "connector: <aiohttp.connector.TCPConnector object at 0x00000195684C68B0>\n"
     ]
    },
    {
     "name": "stdout",
     "output_type": "stream",
     "text": [
      "26 Leeds West Ham 02.01.2023\n"
     ]
    },
    {
     "name": "stderr",
     "output_type": "stream",
     "text": [
      "Unclosed client session\n",
      "client_session: <aiohttp.client.ClientSession object at 0x000001956AA4DE20>\n",
      "Unclosed connector\n",
      "connections: ['[(<aiohttp.client_proto.ResponseHandler object at 0x0000019568534040>, 116864.046)]']\n",
      "connector: <aiohttp.connector.TCPConnector object at 0x000001956ABFEDF0>\n"
     ]
    },
    {
     "name": "stdout",
     "output_type": "stream",
     "text": [
      "27 Leicester Fulham 02.01.2023\n"
     ]
    },
    {
     "name": "stderr",
     "output_type": "stream",
     "text": [
      "Unclosed client session\n",
      "client_session: <aiohttp.client.ClientSession object at 0x000001956AB3CCA0>\n",
      "Unclosed connector\n",
      "connections: ['[(<aiohttp.client_proto.ResponseHandler object at 0x0000019568649E20>, 116865.14)]']\n",
      "connector: <aiohttp.connector.TCPConnector object at 0x000001956AB3C760>\n"
     ]
    },
    {
     "name": "stdout",
     "output_type": "stream",
     "text": [
      "28 Manchester United Bournemouth 02.01.2023\n"
     ]
    },
    {
     "name": "stderr",
     "output_type": "stream",
     "text": [
      "Unclosed client session\n",
      "client_session: <aiohttp.client.ClientSession object at 0x000001956ACC7520>\n",
      "Unclosed connector\n",
      "connections: ['[(<aiohttp.client_proto.ResponseHandler object at 0x0000019568649E20>, 116866.156)]']\n",
      "connector: <aiohttp.connector.TCPConnector object at 0x000001956ACC7580>\n"
     ]
    },
    {
     "name": "stdout",
     "output_type": "stream",
     "text": [
      "29 Southampton Nottingham Forest 02.01.2023\n"
     ]
    },
    {
     "name": "stderr",
     "output_type": "stream",
     "text": [
      "Unclosed client session\n",
      "client_session: <aiohttp.client.ClientSession object at 0x0000019568633B80>\n",
      "Unclosed connector\n",
      "connections: ['[(<aiohttp.client_proto.ResponseHandler object at 0x000001956868DDC0>, 116867.14)]']\n",
      "connector: <aiohttp.connector.TCPConnector object at 0x0000019568633640>\n"
     ]
    },
    {
     "name": "stdout",
     "output_type": "stream",
     "text": [
      "30 Aston Villa Leeds 14.01.2023\n"
     ]
    },
    {
     "name": "stderr",
     "output_type": "stream",
     "text": [
      "Unclosed client session\n",
      "client_session: <aiohttp.client.ClientSession object at 0x000001956883E3D0>\n",
      "Unclosed connector\n",
      "connections: ['[(<aiohttp.client_proto.ResponseHandler object at 0x0000019569A33A00>, 116868.078)]']\n",
      "connector: <aiohttp.connector.TCPConnector object at 0x000001956883EDF0>\n"
     ]
    },
    {
     "name": "stdout",
     "output_type": "stream",
     "text": [
      "31 Brentford Bournemouth 14.01.2023\n"
     ]
    },
    {
     "name": "stderr",
     "output_type": "stream",
     "text": [
      "Unclosed client session\n",
      "client_session: <aiohttp.client.ClientSession object at 0x000001956AC7F520>\n",
      "Unclosed connector\n",
      "connections: ['[(<aiohttp.client_proto.ResponseHandler object at 0x0000019568769820>, 116869.0)]']\n",
      "connector: <aiohttp.connector.TCPConnector object at 0x000001956AC7F5B0>\n"
     ]
    },
    {
     "name": "stdout",
     "output_type": "stream",
     "text": [
      "32 Brighton Liverpool 14.01.2023\n"
     ]
    },
    {
     "name": "stderr",
     "output_type": "stream",
     "text": [
      "Unclosed client session\n",
      "client_session: <aiohttp.client.ClientSession object at 0x000001956AD06BB0>\n",
      "Unclosed connector\n",
      "connections: ['[(<aiohttp.client_proto.ResponseHandler object at 0x0000019568769820>, 116870.203)]']\n",
      "connector: <aiohttp.connector.TCPConnector object at 0x000001956AD06FA0>\n"
     ]
    },
    {
     "name": "stdout",
     "output_type": "stream",
     "text": [
      "33 Chelsea Crystal Palace 14.01.2023\n"
     ]
    },
    {
     "name": "stderr",
     "output_type": "stream",
     "text": [
      "Unclosed client session\n",
      "client_session: <aiohttp.client.ClientSession object at 0x000001956ACDF7F0>\n",
      "Unclosed connector\n",
      "connections: ['[(<aiohttp.client_proto.ResponseHandler object at 0x0000019569A5BCA0>, 116871.421)]']\n",
      "connector: <aiohttp.connector.TCPConnector object at 0x000001956ACDF880>\n"
     ]
    },
    {
     "name": "stdout",
     "output_type": "stream",
     "text": [
      "34 Everton Southampton 14.01.2023\n"
     ]
    },
    {
     "name": "stderr",
     "output_type": "stream",
     "text": [
      "Unclosed client session\n",
      "client_session: <aiohttp.client.ClientSession object at 0x00000195687361F0>\n",
      "Unclosed connector\n",
      "connections: ['[(<aiohttp.client_proto.ResponseHandler object at 0x000001956895BB80>, 116872.718)]']\n",
      "connector: <aiohttp.connector.TCPConnector object at 0x0000019568736EB0>\n"
     ]
    },
    {
     "name": "stdout",
     "output_type": "stream",
     "text": [
      "35 Manchester United Manchester City 14.01.2023\n"
     ]
    },
    {
     "name": "stderr",
     "output_type": "stream",
     "text": [
      "Unclosed client session\n",
      "client_session: <aiohttp.client.ClientSession object at 0x000001956AC9EA90>\n",
      "Unclosed connector\n",
      "connections: ['[(<aiohttp.client_proto.ResponseHandler object at 0x000001956895BB80>, 116873.843)]']\n",
      "connector: <aiohttp.connector.TCPConnector object at 0x000001956AC9EC70>\n"
     ]
    },
    {
     "name": "stdout",
     "output_type": "stream",
     "text": [
      "36 Newcastle United Fulham 14.01.2023\n"
     ]
    },
    {
     "name": "stderr",
     "output_type": "stream",
     "text": [
      "Unclosed client session\n",
      "client_session: <aiohttp.client.ClientSession object at 0x000001956AD300D0>\n",
      "Unclosed connector\n",
      "connections: ['[(<aiohttp.client_proto.ResponseHandler object at 0x00000195683907C0>, 116874.875)]']\n",
      "connector: <aiohttp.connector.TCPConnector object at 0x000001956AD30190>\n"
     ]
    },
    {
     "name": "stdout",
     "output_type": "stream",
     "text": [
      "37 Nottingham Forest Leicester 14.01.2023\n"
     ]
    },
    {
     "name": "stderr",
     "output_type": "stream",
     "text": [
      "Unclosed client session\n",
      "client_session: <aiohttp.client.ClientSession object at 0x0000019568824190>\n",
      "Unclosed connector\n",
      "connections: ['[(<aiohttp.client_proto.ResponseHandler object at 0x00000195683907C0>, 116875.89)]']\n",
      "connector: <aiohttp.connector.TCPConnector object at 0x00000195688245B0>\n"
     ]
    },
    {
     "name": "stdout",
     "output_type": "stream",
     "text": [
      "38 Tottenham Arsenal 14.01.2023\n"
     ]
    },
    {
     "name": "stderr",
     "output_type": "stream",
     "text": [
      "Unclosed client session\n",
      "client_session: <aiohttp.client.ClientSession object at 0x0000019568740640>\n",
      "Unclosed connector\n",
      "connections: ['[(<aiohttp.client_proto.ResponseHandler object at 0x00000195683907C0>, 116876.968)]']\n",
      "connector: <aiohttp.connector.TCPConnector object at 0x00000195687404C0>\n"
     ]
    },
    {
     "name": "stdout",
     "output_type": "stream",
     "text": [
      "39 Wolverhampton Wanderers West Ham 14.01.2023\n"
     ]
    },
    {
     "name": "stderr",
     "output_type": "stream",
     "text": [
      "Unclosed client session\n",
      "client_session: <aiohttp.client.ClientSession object at 0x0000019568824280>\n",
      "Unclosed connector\n",
      "connections: ['[(<aiohttp.client_proto.ResponseHandler object at 0x00000195683907C0>, 116878.375)]']\n",
      "connector: <aiohttp.connector.TCPConnector object at 0x0000019568824670>\n"
     ]
    },
    {
     "name": "stdout",
     "output_type": "stream",
     "text": [
      "40 Arsenal Manchester United 21.01.2023\n"
     ]
    },
    {
     "name": "stderr",
     "output_type": "stream",
     "text": [
      "Unclosed client session\n",
      "client_session: <aiohttp.client.ClientSession object at 0x000001956AC9E9A0>\n",
      "Unclosed connector\n",
      "connections: ['[(<aiohttp.client_proto.ResponseHandler object at 0x000001956AC7E340>, 116879.609)]']\n",
      "connector: <aiohttp.connector.TCPConnector object at 0x000001956ABA8160>\n"
     ]
    },
    {
     "name": "stdout",
     "output_type": "stream",
     "text": [
      "41 Bournemouth Nottingham Forest 21.01.2023\n"
     ]
    },
    {
     "name": "stderr",
     "output_type": "stream",
     "text": [
      "Unclosed client session\n",
      "client_session: <aiohttp.client.ClientSession object at 0x000001956AD6A040>\n",
      "Unclosed connector\n",
      "connections: ['[(<aiohttp.client_proto.ResponseHandler object at 0x0000019569A1E8E0>, 116880.609)]']\n",
      "connector: <aiohttp.connector.TCPConnector object at 0x000001956AD6AD90>\n"
     ]
    },
    {
     "name": "stdout",
     "output_type": "stream",
     "text": [
      "42 Crystal Palace Newcastle United 21.01.2023\n"
     ]
    },
    {
     "name": "stderr",
     "output_type": "stream",
     "text": [
      "Unclosed client session\n",
      "client_session: <aiohttp.client.ClientSession object at 0x000001956ACFA070>\n",
      "Unclosed connector\n",
      "connections: ['[(<aiohttp.client_proto.ResponseHandler object at 0x0000019569A5BD00>, 116881.625)]']\n",
      "connector: <aiohttp.connector.TCPConnector object at 0x000001956ACFA040>\n"
     ]
    },
    {
     "name": "stdout",
     "output_type": "stream",
     "text": [
      "43 Fulham Tottenham 21.01.2023\n"
     ]
    },
    {
     "name": "stderr",
     "output_type": "stream",
     "text": [
      "Unclosed client session\n",
      "client_session: <aiohttp.client.ClientSession object at 0x00000195689701F0>\n",
      "Unclosed connector\n",
      "connections: ['[(<aiohttp.client_proto.ResponseHandler object at 0x0000019568194D60>, 116882.656)]']\n",
      "connector: <aiohttp.connector.TCPConnector object at 0x00000195689704F0>\n"
     ]
    },
    {
     "name": "stdout",
     "output_type": "stream",
     "text": [
      "44 Leeds Brentford 21.01.2023\n"
     ]
    },
    {
     "name": "stderr",
     "output_type": "stream",
     "text": [
      "Unclosed client session\n",
      "client_session: <aiohttp.client.ClientSession object at 0x00000195688AA8E0>\n",
      "Unclosed connector\n",
      "connections: ['[(<aiohttp.client_proto.ResponseHandler object at 0x0000019568486E20>, 116883.578)]']\n",
      "connector: <aiohttp.connector.TCPConnector object at 0x00000195688AA580>\n"
     ]
    },
    {
     "name": "stdout",
     "output_type": "stream",
     "text": [
      "45 Leicester Brighton 21.01.2023\n"
     ]
    },
    {
     "name": "stderr",
     "output_type": "stream",
     "text": [
      "Unclosed client session\n",
      "client_session: <aiohttp.client.ClientSession object at 0x00000195686243A0>\n",
      "Unclosed connector\n",
      "connections: ['[(<aiohttp.client_proto.ResponseHandler object at 0x0000019569A1EA00>, 116884.656)]']\n",
      "connector: <aiohttp.connector.TCPConnector object at 0x0000019568624B50>\n"
     ]
    },
    {
     "name": "stdout",
     "output_type": "stream",
     "text": [
      "46 Liverpool Chelsea 21.01.2023\n"
     ]
    },
    {
     "name": "stderr",
     "output_type": "stream",
     "text": [
      "Unclosed client session\n",
      "client_session: <aiohttp.client.ClientSession object at 0x000001956867B940>\n",
      "Unclosed connector\n",
      "connections: ['[(<aiohttp.client_proto.ResponseHandler object at 0x0000019569A1E8E0>, 116885.875)]']\n",
      "connector: <aiohttp.connector.TCPConnector object at 0x000001956867B490>\n"
     ]
    },
    {
     "name": "stdout",
     "output_type": "stream",
     "text": [
      "47 Manchester City Wolverhampton Wanderers 21.01.2023\n"
     ]
    },
    {
     "name": "stderr",
     "output_type": "stream",
     "text": [
      "Unclosed client session\n",
      "client_session: <aiohttp.client.ClientSession object at 0x0000019568624970>\n",
      "Unclosed connector\n",
      "connections: ['[(<aiohttp.client_proto.ResponseHandler object at 0x00000195687691C0>, 116886.765)]']\n",
      "connector: <aiohttp.connector.TCPConnector object at 0x0000019568624EB0>\n"
     ]
    },
    {
     "name": "stdout",
     "output_type": "stream",
     "text": [
      "48 Southampton Aston Villa 21.01.2023\n"
     ]
    },
    {
     "name": "stderr",
     "output_type": "stream",
     "text": [
      "Unclosed client session\n",
      "client_session: <aiohttp.client.ClientSession object at 0x00000195688AA190>\n",
      "Unclosed connector\n",
      "connections: ['[(<aiohttp.client_proto.ResponseHandler object at 0x00000195687691C0>, 116887.906)]']\n",
      "connector: <aiohttp.connector.TCPConnector object at 0x00000195687218E0>\n"
     ]
    },
    {
     "name": "stdout",
     "output_type": "stream",
     "text": [
      "49 West Ham Everton 21.01.2023\n"
     ]
    },
    {
     "name": "stderr",
     "output_type": "stream",
     "text": [
      "Unclosed client session\n",
      "client_session: <aiohttp.client.ClientSession object at 0x000001956AD6ABB0>\n",
      "Unclosed connector\n",
      "connections: ['[(<aiohttp.client_proto.ResponseHandler object at 0x00000195687691C0>, 116889.0)]']\n",
      "connector: <aiohttp.connector.TCPConnector object at 0x000001956AD6A310>\n"
     ]
    },
    {
     "name": "stdout",
     "output_type": "stream",
     "text": [
      "50 Aston Villa Leicester 04.02.2023\n"
     ]
    },
    {
     "name": "stderr",
     "output_type": "stream",
     "text": [
      "Unclosed client session\n",
      "client_session: <aiohttp.client.ClientSession object at 0x000001956884CFD0>\n",
      "Unclosed connector\n",
      "connections: ['[(<aiohttp.client_proto.ResponseHandler object at 0x00000195687691C0>, 116889.968)]']\n",
      "connector: <aiohttp.connector.TCPConnector object at 0x000001956884CE80>\n"
     ]
    },
    {
     "name": "stdout",
     "output_type": "stream",
     "text": [
      "51 Brentford Southampton 04.02.2023\n"
     ]
    },
    {
     "name": "stderr",
     "output_type": "stream",
     "text": [
      "Unclosed client session\n",
      "client_session: <aiohttp.client.ClientSession object at 0x00000195689708B0>\n",
      "Unclosed connector\n",
      "connections: ['[(<aiohttp.client_proto.ResponseHandler object at 0x00000195687691C0>, 116891.062)]']\n",
      "connector: <aiohttp.connector.TCPConnector object at 0x0000019568970970>\n"
     ]
    },
    {
     "name": "stdout",
     "output_type": "stream",
     "text": [
      "52 Brighton Bournemouth 04.02.2023\n"
     ]
    },
    {
     "name": "stderr",
     "output_type": "stream",
     "text": [
      "Unclosed client session\n",
      "client_session: <aiohttp.client.ClientSession object at 0x000001956841E070>\n",
      "Unclosed connector\n",
      "connections: ['[(<aiohttp.client_proto.ResponseHandler object at 0x0000019568194D60>, 116892.093)]']\n",
      "connector: <aiohttp.connector.TCPConnector object at 0x000001956841ECA0>\n"
     ]
    },
    {
     "name": "stdout",
     "output_type": "stream",
     "text": [
      "53 Chelsea Fulham 04.02.2023\n"
     ]
    },
    {
     "name": "stderr",
     "output_type": "stream",
     "text": [
      "Unclosed client session\n",
      "client_session: <aiohttp.client.ClientSession object at 0x0000019568624D30>\n",
      "Unclosed connector\n",
      "connections: ['[(<aiohttp.client_proto.ResponseHandler object at 0x0000019569A1E940>, 116893.546)]']\n",
      "connector: <aiohttp.connector.TCPConnector object at 0x0000019568624AC0>\n"
     ]
    },
    {
     "name": "stdout",
     "output_type": "stream",
     "text": [
      "54 Everton Arsenal 04.02.2023\n"
     ]
    },
    {
     "name": "stderr",
     "output_type": "stream",
     "text": [
      "Unclosed client session\n",
      "client_session: <aiohttp.client.ClientSession object at 0x000001956867BFA0>\n",
      "Unclosed connector\n",
      "connections: ['[(<aiohttp.client_proto.ResponseHandler object at 0x0000019569A1E940>, 116894.5)]']\n",
      "connector: <aiohttp.connector.TCPConnector object at 0x000001956867B340>\n"
     ]
    },
    {
     "name": "stdout",
     "output_type": "stream",
     "text": [
      "55 Manchester United Crystal Palace 04.02.2023\n"
     ]
    },
    {
     "name": "stderr",
     "output_type": "stream",
     "text": [
      "Unclosed client session\n",
      "client_session: <aiohttp.client.ClientSession object at 0x00000195688865E0>\n",
      "Unclosed connector\n",
      "connections: ['[(<aiohttp.client_proto.ResponseHandler object at 0x0000019569A1E940>, 116895.468)]']\n",
      "connector: <aiohttp.connector.TCPConnector object at 0x0000019568886C70>\n"
     ]
    },
    {
     "name": "stdout",
     "output_type": "stream",
     "text": [
      "56 Newcastle United West Ham 04.02.2023\n"
     ]
    },
    {
     "name": "stderr",
     "output_type": "stream",
     "text": [
      "Unclosed client session\n",
      "client_session: <aiohttp.client.ClientSession object at 0x0000019568702220>\n",
      "Unclosed connector\n",
      "connections: ['[(<aiohttp.client_proto.ResponseHandler object at 0x0000019569A5BFA0>, 116896.421)]']\n",
      "connector: <aiohttp.connector.TCPConnector object at 0x0000019568702370>\n"
     ]
    },
    {
     "name": "stdout",
     "output_type": "stream",
     "text": [
      "57 Nottingham Forest Leeds 04.02.2023\n"
     ]
    },
    {
     "name": "stderr",
     "output_type": "stream",
     "text": [
      "Unclosed client session\n",
      "client_session: <aiohttp.client.ClientSession object at 0x000001956AD92820>\n",
      "Unclosed connector\n",
      "connections: ['[(<aiohttp.client_proto.ResponseHandler object at 0x0000019568911AC0>, 116897.703)]']\n",
      "connector: <aiohttp.connector.TCPConnector object at 0x000001956AD92A00>\n"
     ]
    },
    {
     "name": "stdout",
     "output_type": "stream",
     "text": [
      "58 Tottenham Manchester City 04.02.2023\n"
     ]
    },
    {
     "name": "stderr",
     "output_type": "stream",
     "text": [
      "Unclosed client session\n",
      "client_session: <aiohttp.client.ClientSession object at 0x000001956884CE50>\n",
      "Unclosed connector\n",
      "connections: ['[(<aiohttp.client_proto.ResponseHandler object at 0x00000195688BD160>, 116899.875)]']\n",
      "connector: <aiohttp.connector.TCPConnector object at 0x000001956884C2E0>\n"
     ]
    },
    {
     "name": "stdout",
     "output_type": "stream",
     "text": [
      "59 Wolverhampton Wanderers Liverpool 04.02.2023\n"
     ]
    },
    {
     "name": "stderr",
     "output_type": "stream",
     "text": [
      "Unclosed client session\n",
      "client_session: <aiohttp.client.ClientSession object at 0x00000195689709A0>\n",
      "Unclosed connector\n",
      "connections: ['[(<aiohttp.client_proto.ResponseHandler object at 0x0000019569A1E940>, 116901.125)]']\n",
      "connector: <aiohttp.connector.TCPConnector object at 0x0000019568970880>\n"
     ]
    },
    {
     "name": "stdout",
     "output_type": "stream",
     "text": [
      "60 Arsenal Brentford 11.02.2023\n"
     ]
    },
    {
     "name": "stderr",
     "output_type": "stream",
     "text": [
      "Unclosed client session\n",
      "client_session: <aiohttp.client.ClientSession object at 0x00000195689700D0>\n",
      "Unclosed connector\n",
      "connections: ['[(<aiohttp.client_proto.ResponseHandler object at 0x0000019569A1E940>, 116902.25)]']\n",
      "connector: <aiohttp.connector.TCPConnector object at 0x00000195686333D0>\n"
     ]
    },
    {
     "name": "stdout",
     "output_type": "stream",
     "text": [
      "61 Bournemouth Newcastle United 11.02.2023\n"
     ]
    },
    {
     "name": "stderr",
     "output_type": "stream",
     "text": [
      "Unclosed client session\n",
      "client_session: <aiohttp.client.ClientSession object at 0x000001956AA70880>\n",
      "Unclosed connector\n",
      "connections: ['[(<aiohttp.client_proto.ResponseHandler object at 0x0000019569A1E940>, 116903.171)]']\n",
      "connector: <aiohttp.connector.TCPConnector object at 0x000001956AA704F0>\n"
     ]
    },
    {
     "name": "stdout",
     "output_type": "stream",
     "text": [
      "62 Crystal Palace Brighton 11.02.2023\n"
     ]
    },
    {
     "name": "stderr",
     "output_type": "stream",
     "text": [
      "Unclosed client session\n",
      "client_session: <aiohttp.client.ClientSession object at 0x000001956AA70B20>\n",
      "Unclosed connector\n",
      "connections: ['[(<aiohttp.client_proto.ResponseHandler object at 0x0000019568911CA0>, 116904.312)]']\n",
      "connector: <aiohttp.connector.TCPConnector object at 0x000001956AA707C0>\n"
     ]
    },
    {
     "name": "stdout",
     "output_type": "stream",
     "text": [
      "63 Fulham Nottingham Forest 11.02.2023\n"
     ]
    },
    {
     "name": "stderr",
     "output_type": "stream",
     "text": [
      "Unclosed client session\n",
      "client_session: <aiohttp.client.ClientSession object at 0x0000019568413310>\n",
      "Unclosed connector\n",
      "connections: ['[(<aiohttp.client_proto.ResponseHandler object at 0x0000019568911CA0>, 116905.296)]']\n",
      "connector: <aiohttp.connector.TCPConnector object at 0x0000019568413430>\n"
     ]
    },
    {
     "name": "stdout",
     "output_type": "stream",
     "text": [
      "64 Leeds Manchester United 11.02.2023\n"
     ]
    },
    {
     "name": "stderr",
     "output_type": "stream",
     "text": [
      "Unclosed client session\n",
      "client_session: <aiohttp.client.ClientSession object at 0x00000195684C6B80>\n",
      "Unclosed connector\n",
      "connections: ['[(<aiohttp.client_proto.ResponseHandler object at 0x00000195699BDE20>, 116906.218)]']\n",
      "connector: <aiohttp.connector.TCPConnector object at 0x00000195684C6040>\n"
     ]
    },
    {
     "name": "stdout",
     "output_type": "stream",
     "text": [
      "65 Leicester Tottenham 11.02.2023\n"
     ]
    },
    {
     "name": "stderr",
     "output_type": "stream",
     "text": [
      "Unclosed client session\n",
      "client_session: <aiohttp.client.ClientSession object at 0x000001956AD6A7C0>\n",
      "Unclosed connector\n",
      "connections: ['[(<aiohttp.client_proto.ResponseHandler object at 0x000001956895B2E0>, 116907.453)]']\n",
      "connector: <aiohttp.connector.TCPConnector object at 0x000001956AD6A040>\n"
     ]
    },
    {
     "name": "stdout",
     "output_type": "stream",
     "text": [
      "66 Liverpool Everton 11.02.2023\n"
     ]
    },
    {
     "name": "stderr",
     "output_type": "stream",
     "text": [
      "Unclosed client session\n",
      "client_session: <aiohttp.client.ClientSession object at 0x000001956884C640>\n",
      "Unclosed connector\n",
      "connections: ['[(<aiohttp.client_proto.ResponseHandler object at 0x0000019568486E80>, 116908.765)]']\n",
      "connector: <aiohttp.connector.TCPConnector object at 0x000001956884CBE0>\n"
     ]
    },
    {
     "name": "stdout",
     "output_type": "stream",
     "text": [
      "67 Manchester City Aston Villa 11.02.2023\n"
     ]
    },
    {
     "name": "stderr",
     "output_type": "stream",
     "text": [
      "Unclosed client session\n",
      "client_session: <aiohttp.client.ClientSession object at 0x00000195684C63D0>\n",
      "Unclosed connector\n",
      "connections: ['[(<aiohttp.client_proto.ResponseHandler object at 0x0000019568486E80>, 116910.093)]']\n",
      "connector: <aiohttp.connector.TCPConnector object at 0x000001956884C430>\n"
     ]
    },
    {
     "name": "stdout",
     "output_type": "stream",
     "text": [
      "68 Southampton Wolverhampton Wanderers 11.02.2023\n"
     ]
    },
    {
     "name": "stderr",
     "output_type": "stream",
     "text": [
      "Unclosed client session\n",
      "client_session: <aiohttp.client.ClientSession object at 0x000001956881F1F0>\n",
      "Unclosed connector\n",
      "connections: ['[(<aiohttp.client_proto.ResponseHandler object at 0x0000019568486E80>, 116911.218)]']\n",
      "connector: <aiohttp.connector.TCPConnector object at 0x000001956881F190>\n"
     ]
    },
    {
     "name": "stdout",
     "output_type": "stream",
     "text": [
      "69 West Ham Chelsea 11.02.2023\n"
     ]
    },
    {
     "name": "stderr",
     "output_type": "stream",
     "text": [
      "Unclosed client session\n",
      "client_session: <aiohttp.client.ClientSession object at 0x0000019568633A60>\n",
      "Unclosed connector\n",
      "connections: ['[(<aiohttp.client_proto.ResponseHandler object at 0x0000019568486E80>, 116912.109)]']\n",
      "connector: <aiohttp.connector.TCPConnector object at 0x00000195686337C0>\n"
     ]
    },
    {
     "name": "stdout",
     "output_type": "stream",
     "text": [
      "70 Aston Villa Arsenal 18.02.2023\n"
     ]
    },
    {
     "name": "stderr",
     "output_type": "stream",
     "text": [
      "Unclosed client session\n",
      "client_session: <aiohttp.client.ClientSession object at 0x00000195687DD580>\n",
      "Unclosed connector\n",
      "connections: ['[(<aiohttp.client_proto.ResponseHandler object at 0x0000019568486E80>, 116913.187)]']\n",
      "connector: <aiohttp.connector.TCPConnector object at 0x00000195687DDEE0>\n"
     ]
    },
    {
     "name": "stdout",
     "output_type": "stream",
     "text": [
      "71 Brentford Crystal Palace 18.02.2023\n"
     ]
    },
    {
     "name": "stderr",
     "output_type": "stream",
     "text": [
      "Unclosed client session\n",
      "client_session: <aiohttp.client.ClientSession object at 0x000001956AA70520>\n",
      "Unclosed connector\n",
      "connections: ['[(<aiohttp.client_proto.ResponseHandler object at 0x0000019569A5BFA0>, 116914.39)]']\n",
      "connector: <aiohttp.connector.TCPConnector object at 0x0000019568413CD0>\n"
     ]
    },
    {
     "name": "stdout",
     "output_type": "stream",
     "text": [
      "72 Brighton Fulham 18.02.2023\n"
     ]
    },
    {
     "name": "stderr",
     "output_type": "stream",
     "text": [
      "Unclosed client session\n",
      "client_session: <aiohttp.client.ClientSession object at 0x000001956AA708E0>\n",
      "Unclosed connector\n",
      "connections: ['[(<aiohttp.client_proto.ResponseHandler object at 0x0000019568486E80>, 116915.609)]']\n",
      "connector: <aiohttp.connector.TCPConnector object at 0x000001956AA70B20>\n"
     ]
    },
    {
     "name": "stdout",
     "output_type": "stream",
     "text": [
      "73 Chelsea Southampton 18.02.2023\n"
     ]
    },
    {
     "name": "stderr",
     "output_type": "stream",
     "text": [
      "Unclosed client session\n",
      "client_session: <aiohttp.client.ClientSession object at 0x0000019568702DF0>\n",
      "Unclosed connector\n",
      "connections: ['[(<aiohttp.client_proto.ResponseHandler object at 0x0000019568486E80>, 116916.531)]']\n",
      "connector: <aiohttp.connector.TCPConnector object at 0x00000195687028B0>\n"
     ]
    },
    {
     "name": "stdout",
     "output_type": "stream",
     "text": [
      "74 Everton Leeds 18.02.2023\n"
     ]
    },
    {
     "name": "stderr",
     "output_type": "stream",
     "text": [
      "Unclosed client session\n",
      "client_session: <aiohttp.client.ClientSession object at 0x000001956884C0A0>\n",
      "Unclosed connector\n",
      "connections: ['[(<aiohttp.client_proto.ResponseHandler object at 0x0000019568486E80>, 116917.765)]']\n",
      "connector: <aiohttp.connector.TCPConnector object at 0x000001956884C670>\n"
     ]
    },
    {
     "name": "stdout",
     "output_type": "stream",
     "text": [
      "75 Manchester United Leicester 18.02.2023\n"
     ]
    },
    {
     "name": "stderr",
     "output_type": "stream",
     "text": [
      "Unclosed client session\n",
      "client_session: <aiohttp.client.ClientSession object at 0x00000195684C63A0>\n",
      "Unclosed connector\n",
      "connections: ['[(<aiohttp.client_proto.ResponseHandler object at 0x0000019568486E80>, 116918.75)]']\n",
      "connector: <aiohttp.connector.TCPConnector object at 0x00000195683C8310>\n"
     ]
    },
    {
     "name": "stdout",
     "output_type": "stream",
     "text": [
      "76 Newcastle United Liverpool 18.02.2023\n"
     ]
    },
    {
     "name": "stderr",
     "output_type": "stream",
     "text": [
      "Unclosed client session\n",
      "client_session: <aiohttp.client.ClientSession object at 0x00000195684A56A0>\n",
      "Unclosed connector\n",
      "connections: ['[(<aiohttp.client_proto.ResponseHandler object at 0x0000019568486E80>, 116919.921)]']\n",
      "connector: <aiohttp.connector.TCPConnector object at 0x00000195684A5640>\n"
     ]
    },
    {
     "name": "stdout",
     "output_type": "stream",
     "text": [
      "77 Nottingham Forest Manchester City 18.02.2023\n"
     ]
    },
    {
     "name": "stderr",
     "output_type": "stream",
     "text": [
      "Unclosed client session\n",
      "client_session: <aiohttp.client.ClientSession object at 0x000001956881F340>\n",
      "Unclosed connector\n",
      "connections: ['[(<aiohttp.client_proto.ResponseHandler object at 0x0000019568486E80>, 116921.187)]']\n",
      "connector: <aiohttp.connector.TCPConnector object at 0x000001956881F2E0>\n"
     ]
    },
    {
     "name": "stdout",
     "output_type": "stream",
     "text": [
      "78 Tottenham West Ham 18.02.2023\n"
     ]
    },
    {
     "name": "stderr",
     "output_type": "stream",
     "text": [
      "Unclosed client session\n",
      "client_session: <aiohttp.client.ClientSession object at 0x00000195687DD940>\n",
      "Unclosed connector\n",
      "connections: ['[(<aiohttp.client_proto.ResponseHandler object at 0x0000019568486E80>, 116922.5)]']\n",
      "connector: <aiohttp.connector.TCPConnector object at 0x00000195687DD3D0>\n"
     ]
    },
    {
     "name": "stdout",
     "output_type": "stream",
     "text": [
      "79 Wolverhampton Wanderers Bournemouth 18.02.2023\n"
     ]
    },
    {
     "name": "stderr",
     "output_type": "stream",
     "text": [
      "Unclosed client session\n",
      "client_session: <aiohttp.client.ClientSession object at 0x0000019568413DF0>\n",
      "Unclosed connector\n",
      "connections: ['[(<aiohttp.client_proto.ResponseHandler object at 0x0000019568486E80>, 116923.515)]']\n",
      "connector: <aiohttp.connector.TCPConnector object at 0x00000195684136A0>\n"
     ]
    },
    {
     "name": "stdout",
     "output_type": "stream",
     "text": [
      "80 Bournemouth Manchester City 25.02.2023\n"
     ]
    },
    {
     "name": "stderr",
     "output_type": "stream",
     "text": [
      "Unclosed client session\n",
      "client_session: <aiohttp.client.ClientSession object at 0x000001956ACF5B80>\n",
      "Unclosed connector\n",
      "connections: ['[(<aiohttp.client_proto.ResponseHandler object at 0x0000019568486E80>, 116924.546)]']\n",
      "connector: <aiohttp.connector.TCPConnector object at 0x000001956ACF5BE0>\n"
     ]
    },
    {
     "name": "stdout",
     "output_type": "stream",
     "text": [
      "81 Crystal Palace Liverpool 25.02.2023\n"
     ]
    },
    {
     "name": "stderr",
     "output_type": "stream",
     "text": [
      "Unclosed client session\n",
      "client_session: <aiohttp.client.ClientSession object at 0x0000019568702220>\n",
      "Unclosed connector\n",
      "connections: ['[(<aiohttp.client_proto.ResponseHandler object at 0x0000019568390460>, 116925.562)]']\n",
      "connector: <aiohttp.connector.TCPConnector object at 0x0000019568702AC0>\n"
     ]
    },
    {
     "name": "stdout",
     "output_type": "stream",
     "text": [
      "82 Everton Aston Villa 25.02.2023\n"
     ]
    },
    {
     "name": "stderr",
     "output_type": "stream",
     "text": [
      "Unclosed client session\n",
      "client_session: <aiohttp.client.ClientSession object at 0x000001956884C9A0>\n",
      "Unclosed connector\n",
      "connections: ['[(<aiohttp.client_proto.ResponseHandler object at 0x0000019568390460>, 116926.578)]']\n",
      "connector: <aiohttp.connector.TCPConnector object at 0x000001956884C250>\n"
     ]
    },
    {
     "name": "stdout",
     "output_type": "stream",
     "text": [
      "83 Fulham Wolverhampton Wanderers 25.02.2023\n"
     ]
    },
    {
     "name": "stderr",
     "output_type": "stream",
     "text": [
      "Unclosed client session\n",
      "client_session: <aiohttp.client.ClientSession object at 0x00000195683C80A0>\n",
      "Unclosed connector\n",
      "connections: ['[(<aiohttp.client_proto.ResponseHandler object at 0x00000195687DAA00>, 116927.515)]']\n",
      "connector: <aiohttp.connector.TCPConnector object at 0x00000195683C86D0>\n"
     ]
    },
    {
     "name": "stdout",
     "output_type": "stream",
     "text": [
      "84 Leeds Southampton 25.02.2023\n"
     ]
    },
    {
     "name": "stderr",
     "output_type": "stream",
     "text": [
      "Unclosed client session\n",
      "client_session: <aiohttp.client.ClientSession object at 0x000001956AC321C0>\n",
      "Unclosed connector\n",
      "connections: ['[(<aiohttp.client_proto.ResponseHandler object at 0x0000019568649AC0>, 116928.75)]']\n",
      "connector: <aiohttp.connector.TCPConnector object at 0x000001956AC32160>\n"
     ]
    },
    {
     "name": "stdout",
     "output_type": "stream",
     "text": [
      "85 Leicester Arsenal 25.02.2023\n"
     ]
    },
    {
     "name": "stderr",
     "output_type": "stream",
     "text": [
      "Unclosed client session\n",
      "client_session: <aiohttp.client.ClientSession object at 0x000001956AA708E0>\n",
      "Unclosed connector\n",
      "connections: ['[(<aiohttp.client_proto.ResponseHandler object at 0x0000019568649CA0>, 116929.968)]']\n",
      "connector: <aiohttp.connector.TCPConnector object at 0x000001956AA70A90>\n"
     ]
    },
    {
     "name": "stdout",
     "output_type": "stream",
     "text": [
      "86 Manchester United Brentford 25.02.2023\n"
     ]
    },
    {
     "name": "stderr",
     "output_type": "stream",
     "text": [
      "Unclosed client session\n",
      "client_session: <aiohttp.client.ClientSession object at 0x00000195687DDA30>\n",
      "Unclosed connector\n",
      "connections: ['[(<aiohttp.client_proto.ResponseHandler object at 0x00000195687DAA00>, 116931.078)]']\n",
      "connector: <aiohttp.connector.TCPConnector object at 0x00000195687DDD30>\n"
     ]
    },
    {
     "name": "stdout",
     "output_type": "stream",
     "text": [
      "87 Newcastle United Brighton 25.02.2023\n"
     ]
    },
    {
     "name": "stderr",
     "output_type": "stream",
     "text": [
      "Unclosed client session\n",
      "client_session: <aiohttp.client.ClientSession object at 0x0000019568886520>\n",
      "Unclosed connector\n",
      "connections: ['[(<aiohttp.client_proto.ResponseHandler object at 0x0000019568390460>, 116932.406)]']\n",
      "connector: <aiohttp.connector.TCPConnector object at 0x00000195688861C0>\n"
     ]
    },
    {
     "name": "stdout",
     "output_type": "stream",
     "text": [
      "88 Tottenham Chelsea 25.02.2023\n"
     ]
    },
    {
     "name": "stderr",
     "output_type": "stream",
     "text": [
      "Unclosed client session\n",
      "client_session: <aiohttp.client.ClientSession object at 0x00000195684A5760>\n",
      "Unclosed connector\n",
      "connections: ['[(<aiohttp.client_proto.ResponseHandler object at 0x000001956868D580>, 116933.437)]']\n",
      "connector: <aiohttp.connector.TCPConnector object at 0x00000195684A53D0>\n"
     ]
    },
    {
     "name": "stdout",
     "output_type": "stream",
     "text": [
      "89 West Ham Nottingham Forest 25.02.2023\n"
     ]
    },
    {
     "name": "stderr",
     "output_type": "stream",
     "text": [
      "Unclosed client session\n",
      "client_session: <aiohttp.client.ClientSession object at 0x000001956ACF5CA0>\n",
      "Unclosed connector\n",
      "connections: ['[(<aiohttp.client_proto.ResponseHandler object at 0x00000195687DAB20>, 116934.64)]']\n",
      "connector: <aiohttp.connector.TCPConnector object at 0x000001956ACF5B20>\n"
     ]
    },
    {
     "name": "stdout",
     "output_type": "stream",
     "text": [
      "90 Arsenal Bournemouth 04.03.2023\n"
     ]
    },
    {
     "name": "stderr",
     "output_type": "stream",
     "text": [
      "Unclosed client session\n",
      "client_session: <aiohttp.client.ClientSession object at 0x000001956884C610>\n",
      "Unclosed connector\n",
      "connections: ['[(<aiohttp.client_proto.ResponseHandler object at 0x0000019569A5BCA0>, 116935.921)]']\n",
      "connector: <aiohttp.connector.TCPConnector object at 0x000001956884C2E0>\n"
     ]
    },
    {
     "name": "stdout",
     "output_type": "stream",
     "text": [
      "91 Aston Villa Crystal Palace 04.03.2023\n"
     ]
    },
    {
     "name": "stderr",
     "output_type": "stream",
     "text": [
      "Unclosed client session\n",
      "client_session: <aiohttp.client.ClientSession object at 0x00000195683C8340>\n",
      "Unclosed connector\n",
      "connections: ['[(<aiohttp.client_proto.ResponseHandler object at 0x0000019569A5BCA0>, 116937.234)]']\n",
      "connector: <aiohttp.connector.TCPConnector object at 0x00000195683C88B0>\n"
     ]
    },
    {
     "name": "stdout",
     "output_type": "stream",
     "text": [
      "92 Brentford Fulham 04.03.2023\n"
     ]
    },
    {
     "name": "stderr",
     "output_type": "stream",
     "text": [
      "Unclosed client session\n",
      "client_session: <aiohttp.client.ClientSession object at 0x000001956AC85D60>\n",
      "Unclosed connector\n",
      "connections: ['[(<aiohttp.client_proto.ResponseHandler object at 0x0000019568649460>, 116938.468)]']\n",
      "connector: <aiohttp.connector.TCPConnector object at 0x000001956AC85D30>\n"
     ]
    },
    {
     "name": "stdout",
     "output_type": "stream",
     "text": [
      "93 Brighton West Ham 04.03.2023\n"
     ]
    },
    {
     "name": "stderr",
     "output_type": "stream",
     "text": [
      "Unclosed client session\n",
      "client_session: <aiohttp.client.ClientSession object at 0x00000195684A5430>\n",
      "Unclosed connector\n",
      "connections: ['[(<aiohttp.client_proto.ResponseHandler object at 0x00000195681748E0>, 116939.406)]']\n",
      "connector: <aiohttp.connector.TCPConnector object at 0x00000195684A5310>\n"
     ]
    },
    {
     "name": "stdout",
     "output_type": "stream",
     "text": [
      "94 Chelsea Leeds 04.03.2023\n"
     ]
    },
    {
     "name": "stderr",
     "output_type": "stream",
     "text": [
      "Unclosed client session\n",
      "client_session: <aiohttp.client.ClientSession object at 0x00000195687DDAC0>\n",
      "Unclosed connector\n",
      "connections: ['[(<aiohttp.client_proto.ResponseHandler object at 0x00000195681748E0>, 116940.328)]']\n",
      "connector: <aiohttp.connector.TCPConnector object at 0x00000195687DDF40>\n"
     ]
    },
    {
     "name": "stdout",
     "output_type": "stream",
     "text": [
      "95 Liverpool Manchester United 04.03.2023\n"
     ]
    },
    {
     "name": "stderr",
     "output_type": "stream",
     "text": [
      "Unclosed client session\n",
      "client_session: <aiohttp.client.ClientSession object at 0x0000019568886670>\n",
      "Unclosed connector\n",
      "connections: ['[(<aiohttp.client_proto.ResponseHandler object at 0x00000195681748E0>, 116941.234)]']\n",
      "connector: <aiohttp.connector.TCPConnector object at 0x0000019568886D90>\n"
     ]
    },
    {
     "name": "stdout",
     "output_type": "stream",
     "text": [
      "96 Manchester City Newcastle United 04.03.2023\n"
     ]
    },
    {
     "name": "stderr",
     "output_type": "stream",
     "text": [
      "Unclosed client session\n",
      "client_session: <aiohttp.client.ClientSession object at 0x000001956AA38460>\n",
      "Unclosed connector\n",
      "connections: ['[(<aiohttp.client_proto.ResponseHandler object at 0x00000195681748E0>, 116943.5)]']\n",
      "connector: <aiohttp.connector.TCPConnector object at 0x000001956AA385B0>\n"
     ]
    },
    {
     "name": "stdout",
     "output_type": "stream",
     "text": [
      "97 Nottingham Forest Everton 04.03.2023\n"
     ]
    },
    {
     "name": "stderr",
     "output_type": "stream",
     "text": [
      "Unclosed client session\n",
      "client_session: <aiohttp.client.ClientSession object at 0x000001956ACF5CD0>\n",
      "Unclosed connector\n",
      "connections: ['[(<aiohttp.client_proto.ResponseHandler object at 0x00000195681748E0>, 116944.718)]']\n",
      "connector: <aiohttp.connector.TCPConnector object at 0x000001956ACF5C10>\n"
     ]
    },
    {
     "name": "stdout",
     "output_type": "stream",
     "text": [
      "98 Southampton Leicester 04.03.2023\n"
     ]
    },
    {
     "name": "stderr",
     "output_type": "stream",
     "text": [
      "Unclosed client session\n",
      "client_session: <aiohttp.client.ClientSession object at 0x000001956884CF70>\n",
      "Unclosed connector\n",
      "connections: ['[(<aiohttp.client_proto.ResponseHandler object at 0x00000195687DAA00>, 116945.687)]']\n",
      "connector: <aiohttp.connector.TCPConnector object at 0x000001956884C8B0>\n"
     ]
    },
    {
     "name": "stdout",
     "output_type": "stream",
     "text": [
      "99 Wolverhampton Wanderers Tottenham 04.03.2023\n"
     ]
    },
    {
     "name": "stderr",
     "output_type": "stream",
     "text": [
      "Unclosed client session\n",
      "client_session: <aiohttp.client.ClientSession object at 0x00000195683C81F0>\n",
      "Unclosed connector\n",
      "connections: ['[(<aiohttp.client_proto.ResponseHandler object at 0x0000019569A5BF40>, 116946.671)]']\n",
      "connector: <aiohttp.connector.TCPConnector object at 0x00000195683C8370>\n"
     ]
    },
    {
     "name": "stdout",
     "output_type": "stream",
     "text": [
      "100 Bournemouth Liverpool 11.03.2023\n"
     ]
    },
    {
     "name": "stderr",
     "output_type": "stream",
     "text": [
      "Unclosed client session\n",
      "client_session: <aiohttp.client.ClientSession object at 0x000001956ACCB9A0>\n",
      "Unclosed connector\n",
      "connections: ['[(<aiohttp.client_proto.ResponseHandler object at 0x0000019569A5BF40>, 116947.578)]']\n",
      "connector: <aiohttp.connector.TCPConnector object at 0x000001956ACCBBB0>\n"
     ]
    },
    {
     "name": "stdout",
     "output_type": "stream",
     "text": [
      "101 Crystal Palace Manchester City 11.03.2023\n"
     ]
    },
    {
     "name": "stderr",
     "output_type": "stream",
     "text": [
      "Unclosed client session\n",
      "client_session: <aiohttp.client.ClientSession object at 0x000001956AC85CD0>\n",
      "Unclosed connector\n",
      "connections: ['[(<aiohttp.client_proto.ResponseHandler object at 0x0000019569A5BF40>, 116948.64)]']\n",
      "connector: <aiohttp.connector.TCPConnector object at 0x000001956AC85D60>\n"
     ]
    },
    {
     "name": "stdout",
     "output_type": "stream",
     "text": [
      "102 Everton Brentford 11.03.2023\n"
     ]
    },
    {
     "name": "stderr",
     "output_type": "stream",
     "text": [
      "Unclosed client session\n",
      "client_session: <aiohttp.client.ClientSession object at 0x00000195687DD670>\n",
      "Unclosed connector\n",
      "connections: ['[(<aiohttp.client_proto.ResponseHandler object at 0x0000019569A5BF40>, 116949.64)]']\n",
      "connector: <aiohttp.connector.TCPConnector object at 0x00000195687DDE20>\n"
     ]
    },
    {
     "name": "stdout",
     "output_type": "stream",
     "text": [
      "103 Fulham Arsenal 11.03.2023\n"
     ]
    },
    {
     "name": "stderr",
     "output_type": "stream",
     "text": [
      "Unclosed client session\n",
      "client_session: <aiohttp.client.ClientSession object at 0x0000019568413CA0>\n",
      "Unclosed connector\n",
      "connections: ['[(<aiohttp.client_proto.ResponseHandler object at 0x000001956868DCA0>, 116950.875)]']\n",
      "connector: <aiohttp.connector.TCPConnector object at 0x0000019568413850>\n"
     ]
    },
    {
     "name": "stdout",
     "output_type": "stream",
     "text": [
      "104 Leeds Brighton 11.03.2023\n"
     ]
    },
    {
     "name": "stderr",
     "output_type": "stream",
     "text": [
      "Unclosed client session\n",
      "client_session: <aiohttp.client.ClientSession object at 0x000001956ABE9F70>\n",
      "Unclosed connector\n",
      "connections: ['[(<aiohttp.client_proto.ResponseHandler object at 0x000001956868DCA0>, 116952.046)]']\n",
      "connector: <aiohttp.connector.TCPConnector object at 0x000001956ABE9FA0>\n"
     ]
    },
    {
     "name": "stdout",
     "output_type": "stream",
     "text": [
      "105 Leicester Chelsea 11.03.2023\n"
     ]
    },
    {
     "name": "stderr",
     "output_type": "stream",
     "text": [
      "Unclosed client session\n",
      "client_session: <aiohttp.client.ClientSession object at 0x000001956AD6A430>\n",
      "Unclosed connector\n",
      "connections: ['[(<aiohttp.client_proto.ResponseHandler object at 0x000001956868DCA0>, 116953.14)]']\n",
      "connector: <aiohttp.connector.TCPConnector object at 0x000001956AD6A160>\n"
     ]
    },
    {
     "name": "stdout",
     "output_type": "stream",
     "text": [
      "106 Manchester United Southampton 11.03.2023\n"
     ]
    },
    {
     "name": "stderr",
     "output_type": "stream",
     "text": [
      "Unclosed client session\n",
      "client_session: <aiohttp.client.ClientSession object at 0x000001956ACF5A30>\n",
      "Unclosed connector\n",
      "connections: ['[(<aiohttp.client_proto.ResponseHandler object at 0x000001956868DCA0>, 116954.125)]']\n",
      "connector: <aiohttp.connector.TCPConnector object at 0x00000195684E6DC0>\n"
     ]
    },
    {
     "name": "stdout",
     "output_type": "stream",
     "text": [
      "107 Newcastle United Wolverhampton Wanderers 11.03.2023\n"
     ]
    },
    {
     "name": "stderr",
     "output_type": "stream",
     "text": [
      "Unclosed client session\n",
      "client_session: <aiohttp.client.ClientSession object at 0x00000195683C8700>\n",
      "Unclosed connector\n",
      "connections: ['[(<aiohttp.client_proto.ResponseHandler object at 0x000001956868DCA0>, 116955.062)]']\n",
      "connector: <aiohttp.connector.TCPConnector object at 0x00000195683C8430>\n"
     ]
    },
    {
     "name": "stdout",
     "output_type": "stream",
     "text": [
      "108 Tottenham Nottingham Forest 11.03.2023\n"
     ]
    },
    {
     "name": "stderr",
     "output_type": "stream",
     "text": [
      "Unclosed client session\n",
      "client_session: <aiohttp.client.ClientSession object at 0x000001956ABFD5E0>\n",
      "Unclosed connector\n",
      "connections: ['[(<aiohttp.client_proto.ResponseHandler object at 0x000001956868DCA0>, 116956.078)]']\n",
      "connector: <aiohttp.connector.TCPConnector object at 0x000001956ABFD760>\n"
     ]
    },
    {
     "name": "stdout",
     "output_type": "stream",
     "text": [
      "109 West Ham Aston Villa 11.03.2023\n"
     ]
    },
    {
     "name": "stderr",
     "output_type": "stream",
     "text": [
      "Unclosed client session\n",
      "client_session: <aiohttp.client.ClientSession object at 0x000001956882D310>\n",
      "Unclosed connector\n",
      "connections: ['[(<aiohttp.client_proto.ResponseHandler object at 0x000001956868D400>, 116957.234)]']\n",
      "connector: <aiohttp.connector.TCPConnector object at 0x000001956882D5B0>\n"
     ]
    },
    {
     "name": "stdout",
     "output_type": "stream",
     "text": [
      "110 Arsenal Crystal Palace 18.03.2023\n"
     ]
    },
    {
     "name": "stderr",
     "output_type": "stream",
     "text": [
      "Unclosed client session\n",
      "client_session: <aiohttp.client.ClientSession object at 0x000001956863D880>\n",
      "Unclosed connector\n",
      "connections: ['[(<aiohttp.client_proto.ResponseHandler object at 0x00000195699BDE20>, 116958.531)]']\n",
      "connector: <aiohttp.connector.TCPConnector object at 0x000001956863DA90>\n"
     ]
    },
    {
     "name": "stdout",
     "output_type": "stream",
     "text": [
      "111 Aston Villa Bournemouth 18.03.2023\n"
     ]
    },
    {
     "name": "stderr",
     "output_type": "stream",
     "text": [
      "Unclosed client session\n",
      "client_session: <aiohttp.client.ClientSession object at 0x00000195684C8EB0>\n",
      "Unclosed connector\n",
      "connections: ['[(<aiohttp.client_proto.ResponseHandler object at 0x00000195699BDE20>, 116959.656)]']\n",
      "connector: <aiohttp.connector.TCPConnector object at 0x00000195684C89D0>\n"
     ]
    },
    {
     "name": "stdout",
     "output_type": "stream",
     "text": [
      "112 Brentford Leicester 18.03.2023\n"
     ]
    },
    {
     "name": "stderr",
     "output_type": "stream",
     "text": [
      "Unclosed client session\n",
      "client_session: <aiohttp.client.ClientSession object at 0x00000195685B64C0>\n",
      "Unclosed connector\n",
      "connections: ['[(<aiohttp.client_proto.ResponseHandler object at 0x00000195699BD460>, 116960.828)]']\n",
      "connector: <aiohttp.connector.TCPConnector object at 0x00000195685B6D60>\n"
     ]
    },
    {
     "name": "stdout",
     "output_type": "stream",
     "text": [
      "113 Brighton Manchester United 18.03.2023\n"
     ]
    },
    {
     "name": "stderr",
     "output_type": "stream",
     "text": [
      "Unclosed client session\n",
      "client_session: <aiohttp.client.ClientSession object at 0x00000195685B66A0>\n",
      "Unclosed connector\n",
      "connections: ['[(<aiohttp.client_proto.ResponseHandler object at 0x00000195687DA520>, 116962.015)]']\n",
      "connector: <aiohttp.connector.TCPConnector object at 0x00000195685B64F0>\n"
     ]
    },
    {
     "name": "stdout",
     "output_type": "stream",
     "text": [
      "114 Chelsea Everton 18.03.2023\n"
     ]
    },
    {
     "name": "stderr",
     "output_type": "stream",
     "text": [
      "Unclosed client session\n",
      "client_session: <aiohttp.client.ClientSession object at 0x00000195685055B0>\n",
      "Unclosed connector\n",
      "connections: ['[(<aiohttp.client_proto.ResponseHandler object at 0x00000195687DA520>, 116962.921)]']\n",
      "connector: <aiohttp.connector.TCPConnector object at 0x0000019568505DF0>\n"
     ]
    },
    {
     "name": "stdout",
     "output_type": "stream",
     "text": [
      "115 Liverpool Fulham 18.03.2023\n"
     ]
    },
    {
     "name": "stderr",
     "output_type": "stream",
     "text": [
      "Unclosed client session\n",
      "client_session: <aiohttp.client.ClientSession object at 0x00000195689B8C10>\n",
      "Unclosed connector\n",
      "connections: ['[(<aiohttp.client_proto.ResponseHandler object at 0x00000195687DA520>, 116964.156)]']\n",
      "connector: <aiohttp.connector.TCPConnector object at 0x00000195689B83D0>\n"
     ]
    },
    {
     "name": "stdout",
     "output_type": "stream",
     "text": [
      "116 Manchester City West Ham 18.03.2023\n"
     ]
    },
    {
     "name": "stderr",
     "output_type": "stream",
     "text": [
      "Unclosed client session\n",
      "client_session: <aiohttp.client.ClientSession object at 0x00000195686F58E0>\n",
      "Unclosed connector\n",
      "connections: ['[(<aiohttp.client_proto.ResponseHandler object at 0x00000195687DA520>, 116965.468)]']\n",
      "connector: <aiohttp.connector.TCPConnector object at 0x00000195686F5A30>\n"
     ]
    },
    {
     "name": "stdout",
     "output_type": "stream",
     "text": [
      "117 Nottingham Forest Newcastle United 18.03.2023\n"
     ]
    },
    {
     "name": "stderr",
     "output_type": "stream",
     "text": [
      "Unclosed client session\n",
      "client_session: <aiohttp.client.ClientSession object at 0x000001956882D7F0>\n",
      "Unclosed connector\n",
      "connections: ['[(<aiohttp.client_proto.ResponseHandler object at 0x0000019568194D60>, 116966.437)]']\n",
      "connector: <aiohttp.connector.TCPConnector object at 0x000001956882D3D0>\n"
     ]
    },
    {
     "name": "stdout",
     "output_type": "stream",
     "text": [
      "118 Southampton Tottenham 18.03.2023\n"
     ]
    },
    {
     "name": "stderr",
     "output_type": "stream",
     "text": [
      "Unclosed client session\n",
      "client_session: <aiohttp.client.ClientSession object at 0x00000195684E7490>\n",
      "Unclosed connector\n",
      "connections: ['[(<aiohttp.client_proto.ResponseHandler object at 0x0000019568194D60>, 116967.453)]']\n",
      "connector: <aiohttp.connector.TCPConnector object at 0x00000195684E7D30>\n"
     ]
    },
    {
     "name": "stdout",
     "output_type": "stream",
     "text": [
      "119 Wolverhampton Wanderers Leeds 18.03.2023\n"
     ]
    },
    {
     "name": "stderr",
     "output_type": "stream",
     "text": [
      "Unclosed client session\n",
      "client_session: <aiohttp.client.ClientSession object at 0x00000195688B4730>\n",
      "Unclosed connector\n",
      "connections: ['[(<aiohttp.client_proto.ResponseHandler object at 0x0000019568194D60>, 116968.671)]']\n",
      "connector: <aiohttp.connector.TCPConnector object at 0x00000195688B4F70>\n"
     ]
    },
    {
     "name": "stdout",
     "output_type": "stream",
     "text": [
      "120 Arsenal Leeds 01.04.2023\n"
     ]
    },
    {
     "name": "stderr",
     "output_type": "stream",
     "text": [
      "Unclosed client session\n",
      "client_session: <aiohttp.client.ClientSession object at 0x000001956881F6D0>\n",
      "Unclosed connector\n",
      "connections: ['[(<aiohttp.client_proto.ResponseHandler object at 0x0000019568486E80>, 116969.906)]']\n",
      "connector: <aiohttp.connector.TCPConnector object at 0x000001956881F7F0>\n"
     ]
    },
    {
     "name": "stdout",
     "output_type": "stream",
     "text": [
      "121 Bournemouth Fulham 01.04.2023\n"
     ]
    },
    {
     "name": "stderr",
     "output_type": "stream",
     "text": [
      "Unclosed client session\n",
      "client_session: <aiohttp.client.ClientSession object at 0x00000195689B83A0>\n",
      "Unclosed connector\n",
      "connections: ['[(<aiohttp.client_proto.ResponseHandler object at 0x00000195688BD520>, 116971.0)]']\n",
      "connector: <aiohttp.connector.TCPConnector object at 0x00000195689B8EE0>\n"
     ]
    },
    {
     "name": "stdout",
     "output_type": "stream",
     "text": [
      "122 Brighton Brentford 01.04.2023\n"
     ]
    },
    {
     "name": "stderr",
     "output_type": "stream",
     "text": [
      "Unclosed client session\n",
      "client_session: <aiohttp.client.ClientSession object at 0x00000195689B8280>\n",
      "Unclosed connector\n",
      "connections: ['[(<aiohttp.client_proto.ResponseHandler object at 0x0000019568486E80>, 116972.375)]']\n",
      "connector: <aiohttp.connector.TCPConnector object at 0x00000195689B8A60>\n"
     ]
    },
    {
     "name": "stdout",
     "output_type": "stream",
     "text": [
      "123 Chelsea Aston Villa 01.04.2023\n"
     ]
    },
    {
     "name": "stderr",
     "output_type": "stream",
     "text": [
      "Unclosed client session\n",
      "client_session: <aiohttp.client.ClientSession object at 0x0000019568550E80>\n",
      "Unclosed connector\n",
      "connections: ['[(<aiohttp.client_proto.ResponseHandler object at 0x0000019569A5BE80>, 116973.593)]']\n",
      "connector: <aiohttp.connector.TCPConnector object at 0x00000195685506A0>\n"
     ]
    },
    {
     "name": "stdout",
     "output_type": "stream",
     "text": [
      "124 Crystal Palace Leicester 01.04.2023\n"
     ]
    },
    {
     "name": "stderr",
     "output_type": "stream",
     "text": [
      "Unclosed client session\n",
      "client_session: <aiohttp.client.ClientSession object at 0x0000019568730D60>\n",
      "Unclosed connector\n",
      "connections: ['[(<aiohttp.client_proto.ResponseHandler object at 0x0000019569A5BE80>, 116974.703)]']\n",
      "connector: <aiohttp.connector.TCPConnector object at 0x0000019568730B20>\n"
     ]
    },
    {
     "name": "stdout",
     "output_type": "stream",
     "text": [
      "125 Everton Tottenham 01.04.2023\n"
     ]
    },
    {
     "name": "stderr",
     "output_type": "stream",
     "text": [
      "Unclosed client session\n",
      "client_session: <aiohttp.client.ClientSession object at 0x00000195688B40D0>\n",
      "Unclosed connector\n",
      "connections: ['[(<aiohttp.client_proto.ResponseHandler object at 0x0000019568486E80>, 116975.64)]']\n",
      "connector: <aiohttp.connector.TCPConnector object at 0x00000195688B41C0>\n"
     ]
    },
    {
     "name": "stdout",
     "output_type": "stream",
     "text": [
      "126 Manchester City Liverpool 01.04.2023\n"
     ]
    },
    {
     "name": "stderr",
     "output_type": "stream",
     "text": [
      "Unclosed client session\n",
      "client_session: <aiohttp.client.ClientSession object at 0x000001956863D070>\n",
      "Unclosed connector\n",
      "connections: ['[(<aiohttp.client_proto.ResponseHandler object at 0x0000019568486E80>, 116976.671)]']\n",
      "connector: <aiohttp.connector.TCPConnector object at 0x000001956863D220>\n"
     ]
    },
    {
     "name": "stdout",
     "output_type": "stream",
     "text": [
      "127 Newcastle United Manchester United 01.04.2023\n"
     ]
    },
    {
     "name": "stderr",
     "output_type": "stream",
     "text": [
      "Unclosed client session\n",
      "client_session: <aiohttp.client.ClientSession object at 0x00000195684B81F0>\n",
      "Unclosed connector\n",
      "connections: ['[(<aiohttp.client_proto.ResponseHandler object at 0x0000019568486E80>, 116977.578)]']\n",
      "connector: <aiohttp.connector.TCPConnector object at 0x00000195684B8E80>\n"
     ]
    },
    {
     "name": "stdout",
     "output_type": "stream",
     "text": [
      "128 Nottingham Forest Wolverhampton Wanderers 01.04.2023\n"
     ]
    },
    {
     "name": "stderr",
     "output_type": "stream",
     "text": [
      "Unclosed client session\n",
      "client_session: <aiohttp.client.ClientSession object at 0x000001956AA70640>\n",
      "Unclosed connector\n",
      "connections: ['[(<aiohttp.client_proto.ResponseHandler object at 0x0000019568486E80>, 116978.484)]']\n",
      "connector: <aiohttp.connector.TCPConnector object at 0x000001956AA709D0>\n"
     ]
    },
    {
     "name": "stdout",
     "output_type": "stream",
     "text": [
      "129 West Ham Southampton 01.04.2023\n"
     ]
    },
    {
     "name": "stderr",
     "output_type": "stream",
     "text": [
      "Unclosed client session\n",
      "client_session: <aiohttp.client.ClientSession object at 0x00000195689B8FA0>\n",
      "Unclosed connector\n",
      "connections: ['[(<aiohttp.client_proto.ResponseHandler object at 0x0000019568486E80>, 116980.125)]']\n",
      "connector: <aiohttp.connector.TCPConnector object at 0x00000195689B8250>\n"
     ]
    },
    {
     "name": "stdout",
     "output_type": "stream",
     "text": [
      "130 Aston Villa Nottingham Forest 08.04.2023\n"
     ]
    },
    {
     "name": "stderr",
     "output_type": "stream",
     "text": [
      "Unclosed client session\n",
      "client_session: <aiohttp.client.ClientSession object at 0x00000195687DD3A0>\n",
      "Unclosed connector\n",
      "connections: ['[(<aiohttp.client_proto.ResponseHandler object at 0x0000019568486E80>, 116981.156)]']\n",
      "connector: <aiohttp.connector.TCPConnector object at 0x00000195689B88B0>\n"
     ]
    },
    {
     "name": "stdout",
     "output_type": "stream",
     "text": [
      "131 Brentford Newcastle United 08.04.2023\n"
     ]
    },
    {
     "name": "stderr",
     "output_type": "stream",
     "text": [
      "Unclosed client session\n",
      "client_session: <aiohttp.client.ClientSession object at 0x00000195689B87F0>\n",
      "Unclosed connector\n",
      "connections: ['[(<aiohttp.client_proto.ResponseHandler object at 0x0000019568769A00>, 116982.296)]']\n",
      "connector: <aiohttp.connector.TCPConnector object at 0x00000195689B8AC0>\n"
     ]
    },
    {
     "name": "stdout",
     "output_type": "stream",
     "text": [
      "132 Fulham West Ham 08.04.2023\n"
     ]
    },
    {
     "name": "stderr",
     "output_type": "stream",
     "text": [
      "Unclosed client session\n",
      "client_session: <aiohttp.client.ClientSession object at 0x000001956ACD3AC0>\n",
      "Unclosed connector\n",
      "connections: ['[(<aiohttp.client_proto.ResponseHandler object at 0x0000019569A5BFA0>, 116983.328)]']\n",
      "connector: <aiohttp.connector.TCPConnector object at 0x000001956ACD3B20>\n"
     ]
    },
    {
     "name": "stdout",
     "output_type": "stream",
     "text": [
      "133 Leeds Crystal Palace 08.04.2023\n"
     ]
    },
    {
     "name": "stderr",
     "output_type": "stream",
     "text": [
      "Unclosed client session\n",
      "client_session: <aiohttp.client.ClientSession object at 0x00000195684B8490>\n",
      "Unclosed connector\n",
      "connections: ['[(<aiohttp.client_proto.ResponseHandler object at 0x0000019569A1E880>, 116984.546)]']\n",
      "connector: <aiohttp.connector.TCPConnector object at 0x00000195684B8760>\n"
     ]
    },
    {
     "name": "stdout",
     "output_type": "stream",
     "text": [
      "134 Leicester Bournemouth 08.04.2023\n"
     ]
    },
    {
     "name": "stderr",
     "output_type": "stream",
     "text": [
      "Unclosed client session\n",
      "client_session: <aiohttp.client.ClientSession object at 0x00000195685506D0>\n",
      "Unclosed connector\n",
      "connections: ['[(<aiohttp.client_proto.ResponseHandler object at 0x0000019568486E80>, 116986.921)]']\n",
      "connector: <aiohttp.connector.TCPConnector object at 0x00000195685504F0>\n"
     ]
    },
    {
     "name": "stdout",
     "output_type": "stream",
     "text": [
      "135 Liverpool Arsenal 08.04.2023\n"
     ]
    },
    {
     "name": "stderr",
     "output_type": "stream",
     "text": [
      "Unclosed client session\n",
      "client_session: <aiohttp.client.ClientSession object at 0x0000019568779F40>\n",
      "Unclosed connector\n",
      "connections: ['[(<aiohttp.client_proto.ResponseHandler object at 0x0000019568486E80>, 116988.125)]']\n",
      "connector: <aiohttp.connector.TCPConnector object at 0x0000019568779370>\n"
     ]
    },
    {
     "name": "stdout",
     "output_type": "stream",
     "text": [
      "136 Manchester United Everton 08.04.2023\n"
     ]
    },
    {
     "name": "stderr",
     "output_type": "stream",
     "text": [
      "Unclosed client session\n",
      "client_session: <aiohttp.client.ClientSession object at 0x000001956850DD30>\n",
      "Unclosed connector\n",
      "connections: ['[(<aiohttp.client_proto.ResponseHandler object at 0x0000019568486E80>, 116989.14)]']\n",
      "connector: <aiohttp.connector.TCPConnector object at 0x000001956850D7F0>\n"
     ]
    },
    {
     "name": "stdout",
     "output_type": "stream",
     "text": [
      "137 Southampton Manchester City 08.04.2023\n"
     ]
    },
    {
     "name": "stderr",
     "output_type": "stream",
     "text": [
      "Unclosed client session\n",
      "client_session: <aiohttp.client.ClientSession object at 0x00000195689B8F10>\n",
      "Unclosed connector\n",
      "connections: ['[(<aiohttp.client_proto.ResponseHandler object at 0x00000195687691C0>, 116990.39)]']\n",
      "connector: <aiohttp.connector.TCPConnector object at 0x00000195689B8E20>\n"
     ]
    },
    {
     "name": "stdout",
     "output_type": "stream",
     "text": [
      "138 Tottenham Brighton 08.04.2023\n"
     ]
    },
    {
     "name": "stderr",
     "output_type": "stream",
     "text": [
      "Unclosed client session\n",
      "client_session: <aiohttp.client.ClientSession object at 0x000001956881C700>\n",
      "Unclosed connector\n",
      "connections: ['[(<aiohttp.client_proto.ResponseHandler object at 0x0000019568486E80>, 116991.406)]']\n",
      "connector: <aiohttp.connector.TCPConnector object at 0x000001956881C610>\n"
     ]
    },
    {
     "name": "stdout",
     "output_type": "stream",
     "text": [
      "139 Wolverhampton Wanderers Chelsea 08.04.2023\n"
     ]
    },
    {
     "name": "stderr",
     "output_type": "stream",
     "text": [
      "Unclosed client session\n",
      "client_session: <aiohttp.client.ClientSession object at 0x0000019568228DF0>\n",
      "Unclosed connector\n",
      "connections: ['[(<aiohttp.client_proto.ResponseHandler object at 0x0000019568486E80>, 116992.453)]']\n",
      "connector: <aiohttp.connector.TCPConnector object at 0x0000019568228910>\n"
     ]
    },
    {
     "name": "stdout",
     "output_type": "stream",
     "text": [
      "140 Aston Villa Newcastle United 15.04.2023\n"
     ]
    },
    {
     "name": "stderr",
     "output_type": "stream",
     "text": [
      "Unclosed client session\n",
      "client_session: <aiohttp.client.ClientSession object at 0x00000195689B8DF0>\n",
      "Unclosed connector\n",
      "connections: ['[(<aiohttp.client_proto.ResponseHandler object at 0x0000019569A5BF40>, 116993.671)]']\n",
      "connector: <aiohttp.connector.TCPConnector object at 0x00000195689B8FD0>\n"
     ]
    },
    {
     "name": "stdout",
     "output_type": "stream",
     "text": [
      "141 Chelsea Brighton 15.04.2023\n"
     ]
    },
    {
     "name": "stderr",
     "output_type": "stream",
     "text": [
      "Unclosed client session\n",
      "client_session: <aiohttp.client.ClientSession object at 0x00000195684B8C10>\n",
      "Unclosed connector\n",
      "connections: ['[(<aiohttp.client_proto.ResponseHandler object at 0x0000019569A1E8E0>, 116995.0)]']\n",
      "connector: <aiohttp.connector.TCPConnector object at 0x00000195684B8640>\n"
     ]
    },
    {
     "name": "stdout",
     "output_type": "stream",
     "text": [
      "142 Everton Fulham 15.04.2023\n"
     ]
    },
    {
     "name": "stderr",
     "output_type": "stream",
     "text": [
      "Unclosed client session\n",
      "client_session: <aiohttp.client.ClientSession object at 0x0000019568550BE0>\n",
      "Unclosed connector\n",
      "connections: ['[(<aiohttp.client_proto.ResponseHandler object at 0x0000019568486E80>, 116995.968)]']\n",
      "connector: <aiohttp.connector.TCPConnector object at 0x000001956843A730>\n"
     ]
    },
    {
     "name": "stdout",
     "output_type": "stream",
     "text": [
      "143 Leeds Liverpool 15.04.2023\n"
     ]
    },
    {
     "name": "stderr",
     "output_type": "stream",
     "text": [
      "Unclosed client session\n",
      "client_session: <aiohttp.client.ClientSession object at 0x00000195687A29A0>\n",
      "Unclosed connector\n",
      "connections: ['[(<aiohttp.client_proto.ResponseHandler object at 0x0000019568486E80>, 116996.906)]']\n",
      "connector: <aiohttp.connector.TCPConnector object at 0x00000195687A2A60>\n"
     ]
    },
    {
     "name": "stdout",
     "output_type": "stream",
     "text": [
      "144 Manchester City Leicester 15.04.2023\n"
     ]
    },
    {
     "name": "stderr",
     "output_type": "stream",
     "text": [
      "Unclosed client session\n",
      "client_session: <aiohttp.client.ClientSession object at 0x00000195684AF340>\n",
      "Unclosed connector\n",
      "connections: ['[(<aiohttp.client_proto.ResponseHandler object at 0x0000019569A5BE80>, 116998.062)]']\n",
      "connector: <aiohttp.connector.TCPConnector object at 0x00000195684AF3A0>\n"
     ]
    },
    {
     "name": "stdout",
     "output_type": "stream",
     "text": [
      "145 Nottingham Forest Manchester United 15.04.2023\n"
     ]
    },
    {
     "name": "stderr",
     "output_type": "stream",
     "text": [
      "Unclosed client session\n",
      "client_session: <aiohttp.client.ClientSession object at 0x000001956881C850>\n",
      "Unclosed connector\n",
      "connections: ['[(<aiohttp.client_proto.ResponseHandler object at 0x0000019568769A00>, 116999.156)]']\n",
      "connector: <aiohttp.connector.TCPConnector object at 0x000001956881C3D0>\n"
     ]
    },
    {
     "name": "stdout",
     "output_type": "stream",
     "text": [
      "146 Southampton Crystal Palace 15.04.2023\n"
     ]
    },
    {
     "name": "stderr",
     "output_type": "stream",
     "text": [
      "Unclosed client session\n",
      "client_session: <aiohttp.client.ClientSession object at 0x0000019568429A00>\n",
      "Unclosed connector\n",
      "connections: ['[(<aiohttp.client_proto.ResponseHandler object at 0x0000019568486E80>, 117000.296)]']\n",
      "connector: <aiohttp.connector.TCPConnector object at 0x0000019568429BB0>\n"
     ]
    },
    {
     "name": "stdout",
     "output_type": "stream",
     "text": [
      "147 Tottenham Bournemouth 15.04.2023\n"
     ]
    },
    {
     "name": "stderr",
     "output_type": "stream",
     "text": [
      "Unclosed client session\n",
      "client_session: <aiohttp.client.ClientSession object at 0x000001956872E460>\n",
      "Unclosed connector\n",
      "connections: ['[(<aiohttp.client_proto.ResponseHandler object at 0x0000019568390E20>, 117001.375)]']\n",
      "connector: <aiohttp.connector.TCPConnector object at 0x000001956872E160>\n"
     ]
    },
    {
     "name": "stdout",
     "output_type": "stream",
     "text": [
      "148 West Ham Arsenal 15.04.2023\n"
     ]
    },
    {
     "name": "stderr",
     "output_type": "stream",
     "text": [
      "Unclosed client session\n",
      "client_session: <aiohttp.client.ClientSession object at 0x000001956AA542E0>\n",
      "Unclosed connector\n",
      "connections: ['[(<aiohttp.client_proto.ResponseHandler object at 0x000001956868DF40>, 117002.453)]']\n",
      "connector: <aiohttp.connector.TCPConnector object at 0x000001956AA54430>\n"
     ]
    },
    {
     "name": "stdout",
     "output_type": "stream",
     "text": [
      "149 Wolverhampton Wanderers Brentford 15.04.2023\n"
     ]
    },
    {
     "name": "stderr",
     "output_type": "stream",
     "text": [
      "Unclosed client session\n",
      "client_session: <aiohttp.client.ClientSession object at 0x00000195687A2C70>\n",
      "Unclosed connector\n",
      "connections: ['[(<aiohttp.client_proto.ResponseHandler object at 0x0000019568486E80>, 117003.5)]']\n",
      "connector: <aiohttp.connector.TCPConnector object at 0x00000195687A2CD0>\n"
     ]
    },
    {
     "name": "stdout",
     "output_type": "stream",
     "text": [
      "150 Arsenal Southampton 22.04.2023\n"
     ]
    },
    {
     "name": "stderr",
     "output_type": "stream",
     "text": [
      "Unclosed client session\n",
      "client_session: <aiohttp.client.ClientSession object at 0x000001956883E9D0>\n",
      "Unclosed connector\n",
      "connections: ['[(<aiohttp.client_proto.ResponseHandler object at 0x000001956868DDC0>, 117004.718)]']\n",
      "connector: <aiohttp.connector.TCPConnector object at 0x000001956883EC40>\n"
     ]
    },
    {
     "name": "stdout",
     "output_type": "stream",
     "text": [
      "151 Bournemouth West Ham 22.04.2023\n"
     ]
    },
    {
     "name": "stderr",
     "output_type": "stream",
     "text": [
      "Unclosed client session\n",
      "client_session: <aiohttp.client.ClientSession object at 0x0000019568779A60>\n",
      "Unclosed connector\n",
      "connections: ['[(<aiohttp.client_proto.ResponseHandler object at 0x0000019568534400>, 117005.734)]']\n",
      "connector: <aiohttp.connector.TCPConnector object at 0x0000019568779250>\n"
     ]
    },
    {
     "name": "stdout",
     "output_type": "stream",
     "text": [
      "152 Brentford Aston Villa 22.04.2023\n"
     ]
    },
    {
     "name": "stderr",
     "output_type": "stream",
     "text": [
      "Unclosed client session\n",
      "client_session: <aiohttp.client.ClientSession object at 0x0000019568779A90>\n",
      "Unclosed connector\n",
      "connections: ['[(<aiohttp.client_proto.ResponseHandler object at 0x000001956868DDC0>, 117006.812)]']\n",
      "connector: <aiohttp.connector.TCPConnector object at 0x0000019568429340>\n"
     ]
    },
    {
     "name": "stdout",
     "output_type": "stream",
     "text": [
      "153 Brighton Manchester City 22.04.2023\n"
     ]
    },
    {
     "name": "stderr",
     "output_type": "stream",
     "text": [
      "Unclosed client session\n",
      "client_session: <aiohttp.client.ClientSession object at 0x000001956ABBBF40>\n",
      "Unclosed connector\n",
      "connections: ['[(<aiohttp.client_proto.ResponseHandler object at 0x0000019568486E80>, 117008.015)]']\n",
      "connector: <aiohttp.connector.TCPConnector object at 0x000001956ABBBF70>\n"
     ]
    },
    {
     "name": "stdout",
     "output_type": "stream",
     "text": [
      "154 Crystal Palace Everton 22.04.2023\n"
     ]
    },
    {
     "name": "stderr",
     "output_type": "stream",
     "text": [
      "Unclosed client session\n",
      "client_session: <aiohttp.client.ClientSession object at 0x0000019568429B80>\n",
      "Unclosed connector\n",
      "connections: ['[(<aiohttp.client_proto.ResponseHandler object at 0x0000019568486E80>, 117009.187)]']\n",
      "connector: <aiohttp.connector.TCPConnector object at 0x0000019568429400>\n"
     ]
    },
    {
     "name": "stdout",
     "output_type": "stream",
     "text": [
      "155 Fulham Leeds 22.04.2023\n"
     ]
    },
    {
     "name": "stderr",
     "output_type": "stream",
     "text": [
      "Unclosed client session\n",
      "client_session: <aiohttp.client.ClientSession object at 0x000001956872EB80>\n",
      "Unclosed connector\n",
      "connections: ['[(<aiohttp.client_proto.ResponseHandler object at 0x0000019569A5BE20>, 117010.156)]']\n",
      "connector: <aiohttp.connector.TCPConnector object at 0x000001956872E040>\n"
     ]
    },
    {
     "name": "stdout",
     "output_type": "stream",
     "text": [
      "156 Leicester Wolverhampton Wanderers 22.04.2023\n"
     ]
    },
    {
     "name": "stderr",
     "output_type": "stream",
     "text": [
      "Unclosed client session\n",
      "client_session: <aiohttp.client.ClientSession object at 0x000001956AB7D820>\n",
      "Unclosed connector\n",
      "connections: ['[(<aiohttp.client_proto.ResponseHandler object at 0x0000019568769B20>, 117011.375)]']\n",
      "connector: <aiohttp.connector.TCPConnector object at 0x000001956AB7D760>\n"
     ]
    },
    {
     "name": "stdout",
     "output_type": "stream",
     "text": [
      "157 Liverpool Nottingham Forest 22.04.2023\n"
     ]
    },
    {
     "name": "stderr",
     "output_type": "stream",
     "text": [
      "Unclosed client session\n",
      "client_session: <aiohttp.client.ClientSession object at 0x00000195687A2A00>\n",
      "Unclosed connector\n",
      "connections: ['[(<aiohttp.client_proto.ResponseHandler object at 0x0000019568769B20>, 117012.703)]']\n",
      "connector: <aiohttp.connector.TCPConnector object at 0x00000195687A2CD0>\n"
     ]
    },
    {
     "name": "stdout",
     "output_type": "stream",
     "text": [
      "158 Manchester United Chelsea 22.04.2023\n"
     ]
    },
    {
     "name": "stderr",
     "output_type": "stream",
     "text": [
      "Unclosed client session\n",
      "client_session: <aiohttp.client.ClientSession object at 0x000001956883E3D0>\n",
      "Unclosed connector\n",
      "connections: ['[(<aiohttp.client_proto.ResponseHandler object at 0x00000195687DA280>, 117014.031)]']\n",
      "connector: <aiohttp.connector.TCPConnector object at 0x000001956883E070>\n"
     ]
    },
    {
     "name": "stdout",
     "output_type": "stream",
     "text": [
      "159 Newcastle United Tottenham 22.04.2023\n"
     ]
    },
    {
     "name": "stderr",
     "output_type": "stream",
     "text": [
      "Unclosed client session\n",
      "client_session: <aiohttp.client.ClientSession object at 0x00000195687799D0>\n",
      "Unclosed connector\n",
      "connections: ['[(<aiohttp.client_proto.ResponseHandler object at 0x0000019568486E80>, 117015.156)]']\n",
      "connector: <aiohttp.connector.TCPConnector object at 0x00000195687793D0>\n"
     ]
    },
    {
     "name": "stdout",
     "output_type": "stream",
     "text": [
      "160 Everton Newcastle United 25.04.2023\n"
     ]
    },
    {
     "name": "stderr",
     "output_type": "stream",
     "text": [
      "Unclosed client session\n",
      "client_session: <aiohttp.client.ClientSession object at 0x000001956872ED30>\n",
      "Unclosed connector\n",
      "connections: ['[(<aiohttp.client_proto.ResponseHandler object at 0x00000195687DA280>, 117016.437)]']\n",
      "connector: <aiohttp.connector.TCPConnector object at 0x00000195687A2430>\n"
     ]
    },
    {
     "name": "stdout",
     "output_type": "stream",
     "text": [
      "161 Leeds Leicester 25.04.2023\n"
     ]
    },
    {
     "name": "stderr",
     "output_type": "stream",
     "text": [
      "Unclosed client session\n",
      "client_session: <aiohttp.client.ClientSession object at 0x000001956881CEE0>\n",
      "Unclosed connector\n",
      "connections: ['[(<aiohttp.client_proto.ResponseHandler object at 0x0000019568649F40>, 117017.359)]']\n",
      "connector: <aiohttp.connector.TCPConnector object at 0x000001956881CAC0>\n"
     ]
    },
    {
     "name": "stdout",
     "output_type": "stream",
     "text": [
      "162 Nottingham Forest Brighton 25.04.2023\n"
     ]
    },
    {
     "name": "stderr",
     "output_type": "stream",
     "text": [
      "Unclosed client session\n",
      "client_session: <aiohttp.client.ClientSession object at 0x0000019568429490>\n",
      "Unclosed connector\n",
      "connections: ['[(<aiohttp.client_proto.ResponseHandler object at 0x0000019568649F40>, 117018.437)]']\n",
      "connector: <aiohttp.connector.TCPConnector object at 0x00000195684299D0>\n"
     ]
    },
    {
     "name": "stdout",
     "output_type": "stream",
     "text": [
      "163 Tottenham Manchester United 25.04.2023\n"
     ]
    },
    {
     "name": "stderr",
     "output_type": "stream",
     "text": [
      "Unclosed client session\n",
      "client_session: <aiohttp.client.ClientSession object at 0x000001956882D670>\n",
      "Unclosed connector\n",
      "connections: ['[(<aiohttp.client_proto.ResponseHandler object at 0x00000195687DA280>, 117019.562)]']\n",
      "connector: <aiohttp.connector.TCPConnector object at 0x000001956882DC10>\n"
     ]
    },
    {
     "name": "stdout",
     "output_type": "stream",
     "text": [
      "164 West Ham Liverpool 25.04.2023\n"
     ]
    },
    {
     "name": "stderr",
     "output_type": "stream",
     "text": [
      "Unclosed client session\n",
      "client_session: <aiohttp.client.ClientSession object at 0x000001956882D0D0>\n",
      "Unclosed connector\n",
      "connections: ['[(<aiohttp.client_proto.ResponseHandler object at 0x00000195681748E0>, 117020.906)]']\n",
      "connector: <aiohttp.connector.TCPConnector object at 0x000001956882D400>\n"
     ]
    },
    {
     "name": "stdout",
     "output_type": "stream",
     "text": [
      "165 Wolverhampton Wanderers Crystal Palace 25.04.2023\n"
     ]
    },
    {
     "name": "stderr",
     "output_type": "stream",
     "text": [
      "Unclosed client session\n",
      "client_session: <aiohttp.client.ClientSession object at 0x000001956ACA5F40>\n",
      "Unclosed connector\n",
      "connections: ['[(<aiohttp.client_proto.ResponseHandler object at 0x0000019568911F40>, 117022.187)]']\n",
      "connector: <aiohttp.connector.TCPConnector object at 0x000001956883E610>\n"
     ]
    },
    {
     "name": "stdout",
     "output_type": "stream",
     "text": [
      "166 Aston Villa Fulham 25.04.2023\n"
     ]
    },
    {
     "name": "stderr",
     "output_type": "stream",
     "text": [
      "Unclosed client session\n",
      "client_session: <aiohttp.client.ClientSession object at 0x0000019568386A60>\n",
      "Unclosed connector\n",
      "connections: ['[(<aiohttp.client_proto.ResponseHandler object at 0x00000195687DA280>, 117023.281)]']\n",
      "connector: <aiohttp.connector.TCPConnector object at 0x0000019557563C40>\n"
     ]
    },
    {
     "name": "stdout",
     "output_type": "stream",
     "text": [
      "167 Chelsea Brentford 26.04.2023\n"
     ]
    },
    {
     "name": "stderr",
     "output_type": "stream",
     "text": [
      "Unclosed client session\n",
      "client_session: <aiohttp.client.ClientSession object at 0x000001956883E700>\n",
      "Unclosed connector\n",
      "connections: ['[(<aiohttp.client_proto.ResponseHandler object at 0x0000019568911F40>, 117024.203)]']\n",
      "connector: <aiohttp.connector.TCPConnector object at 0x000001956883EB20>\n"
     ]
    },
    {
     "name": "stdout",
     "output_type": "stream",
     "text": [
      "168 Southampton Bournemouth 26.04.2023\n"
     ]
    },
    {
     "name": "stderr",
     "output_type": "stream",
     "text": [
      "Unclosed client session\n",
      "client_session: <aiohttp.client.ClientSession object at 0x000001956AC55AF0>\n",
      "Unclosed connector\n",
      "connections: ['[(<aiohttp.client_proto.ResponseHandler object at 0x00000195699BDE20>, 117025.312)]']\n",
      "connector: <aiohttp.connector.TCPConnector object at 0x000001956AC55A90>\n"
     ]
    },
    {
     "name": "stdout",
     "output_type": "stream",
     "text": [
      "169 Manchester City Arsenal 26.04.2023\n"
     ]
    },
    {
     "name": "stderr",
     "output_type": "stream",
     "text": [
      "Unclosed client session\n",
      "client_session: <aiohttp.client.ClientSession object at 0x000001956881C670>\n",
      "Unclosed connector\n",
      "connections: ['[(<aiohttp.client_proto.ResponseHandler object at 0x0000019568534A00>, 117026.531)]']\n",
      "connector: <aiohttp.connector.TCPConnector object at 0x000001956881CF10>\n"
     ]
    },
    {
     "name": "stdout",
     "output_type": "stream",
     "text": [
      "170 Arsenal Chelsea 29.04.2023\n"
     ]
    },
    {
     "name": "stderr",
     "output_type": "stream",
     "text": [
      "Unclosed client session\n",
      "client_session: <aiohttp.client.ClientSession object at 0x0000019568702A90>\n",
      "Unclosed connector\n",
      "connections: ['[(<aiohttp.client_proto.ResponseHandler object at 0x0000019568534A00>, 117027.484)]']\n",
      "connector: <aiohttp.connector.TCPConnector object at 0x0000019568702AF0>\n"
     ]
    },
    {
     "name": "stdout",
     "output_type": "stream",
     "text": [
      "171 Bournemouth Leeds 29.04.2023\n"
     ]
    },
    {
     "name": "stderr",
     "output_type": "stream",
     "text": [
      "Unclosed client session\n",
      "client_session: <aiohttp.client.ClientSession object at 0x00000195684C6E50>\n",
      "Unclosed connector\n",
      "connections: ['[(<aiohttp.client_proto.ResponseHandler object at 0x0000019568534A00>, 117028.5)]']\n",
      "connector: <aiohttp.connector.TCPConnector object at 0x00000195684C6670>\n"
     ]
    },
    {
     "name": "stdout",
     "output_type": "stream",
     "text": [
      "172 Brentford Nottingham Forest 29.04.2023\n"
     ]
    },
    {
     "name": "stderr",
     "output_type": "stream",
     "text": [
      "Unclosed client session\n",
      "client_session: <aiohttp.client.ClientSession object at 0x00000195684E6850>\n",
      "Unclosed connector\n",
      "connections: ['[(<aiohttp.client_proto.ResponseHandler object at 0x00000195681748E0>, 117029.921)]']\n",
      "connector: <aiohttp.connector.TCPConnector object at 0x00000195684E6280>\n"
     ]
    },
    {
     "name": "stdout",
     "output_type": "stream",
     "text": [
      "173 Brighton Wolverhampton Wanderers 29.04.2023\n"
     ]
    },
    {
     "name": "stderr",
     "output_type": "stream",
     "text": [
      "Unclosed client session\n",
      "client_session: <aiohttp.client.ClientSession object at 0x0000019568624280>\n",
      "Unclosed connector\n",
      "connections: ['[(<aiohttp.client_proto.ResponseHandler object at 0x00000195687691C0>, 117031.093)]']\n",
      "connector: <aiohttp.connector.TCPConnector object at 0x00000195686245E0>\n"
     ]
    },
    {
     "name": "stdout",
     "output_type": "stream",
     "text": [
      "174 Crystal Palace West Ham 29.04.2023\n"
     ]
    },
    {
     "name": "stderr",
     "output_type": "stream",
     "text": [
      "Unclosed client session\n",
      "client_session: <aiohttp.client.ClientSession object at 0x00000195686CC670>\n",
      "Unclosed connector\n",
      "connections: ['[(<aiohttp.client_proto.ResponseHandler object at 0x0000019568534040>, 117032.093)]']\n",
      "connector: <aiohttp.connector.TCPConnector object at 0x00000195686CC7C0>\n"
     ]
    },
    {
     "name": "stdout",
     "output_type": "stream",
     "text": [
      "175 Fulham Manchester City 29.04.2023\n"
     ]
    },
    {
     "name": "stderr",
     "output_type": "stream",
     "text": [
      "Unclosed client session\n",
      "client_session: <aiohttp.client.ClientSession object at 0x0000019568589EB0>\n",
      "Unclosed connector\n",
      "connections: ['[(<aiohttp.client_proto.ResponseHandler object at 0x0000019568534040>, 117033.078)]']\n",
      "connector: <aiohttp.connector.TCPConnector object at 0x00000195685898B0>\n"
     ]
    },
    {
     "name": "stdout",
     "output_type": "stream",
     "text": [
      "176 Leicester Everton 29.04.2023\n"
     ]
    },
    {
     "name": "stderr",
     "output_type": "stream",
     "text": [
      "Unclosed client session\n",
      "client_session: <aiohttp.client.ClientSession object at 0x000001956850DF10>\n",
      "Unclosed connector\n",
      "connections: ['[(<aiohttp.client_proto.ResponseHandler object at 0x0000019568534040>, 117034.015)]']\n",
      "connector: <aiohttp.connector.TCPConnector object at 0x000001956850DA60>\n"
     ]
    },
    {
     "name": "stdout",
     "output_type": "stream",
     "text": [
      "177 Liverpool Tottenham 29.04.2023\n"
     ]
    },
    {
     "name": "stderr",
     "output_type": "stream",
     "text": [
      "Unclosed client session\n",
      "client_session: <aiohttp.client.ClientSession object at 0x0000019568468100>\n",
      "Unclosed connector\n",
      "connections: ['[(<aiohttp.client_proto.ResponseHandler object at 0x0000019568534040>, 117035.125)]']\n",
      "connector: <aiohttp.connector.TCPConnector object at 0x0000019568468280>\n"
     ]
    },
    {
     "name": "stdout",
     "output_type": "stream",
     "text": [
      "178 Manchester United Aston Villa 29.04.2023\n"
     ]
    },
    {
     "name": "stderr",
     "output_type": "stream",
     "text": [
      "Unclosed client session\n",
      "client_session: <aiohttp.client.ClientSession object at 0x00000195687028E0>\n",
      "Unclosed connector\n",
      "connections: ['[(<aiohttp.client_proto.ResponseHandler object at 0x00000195687690A0>, 117036.14)]']\n",
      "connector: <aiohttp.connector.TCPConnector object at 0x0000019568702F40>\n"
     ]
    },
    {
     "name": "stdout",
     "output_type": "stream",
     "text": [
      "179 Newcastle United Southampton 29.04.2023\n"
     ]
    },
    {
     "name": "stderr",
     "output_type": "stream",
     "text": [
      "Unclosed client session\n",
      "client_session: <aiohttp.client.ClientSession object at 0x00000195684C6550>\n",
      "Unclosed connector\n",
      "connections: ['[(<aiohttp.client_proto.ResponseHandler object at 0x0000019568534040>, 117037.515)]']\n",
      "connector: <aiohttp.connector.TCPConnector object at 0x00000195684C6640>\n"
     ]
    },
    {
     "name": "stdout",
     "output_type": "stream",
     "text": [
      "180 Bournemouth Chelsea 06.05.2023\n"
     ]
    },
    {
     "name": "stderr",
     "output_type": "stream",
     "text": [
      "Unclosed client session\n",
      "client_session: <aiohttp.client.ClientSession object at 0x00000195684E6730>\n",
      "Unclosed connector\n",
      "connections: ['[(<aiohttp.client_proto.ResponseHandler object at 0x0000019568534040>, 117038.625)]']\n",
      "connector: <aiohttp.connector.TCPConnector object at 0x00000195684E6DF0>\n"
     ]
    },
    {
     "name": "stdout",
     "output_type": "stream",
     "text": [
      "181 Brighton Everton 06.05.2023\n"
     ]
    },
    {
     "name": "stderr",
     "output_type": "stream",
     "text": [
      "Unclosed client session\n",
      "client_session: <aiohttp.client.ClientSession object at 0x00000195683C8D90>\n",
      "Unclosed connector\n",
      "connections: ['[(<aiohttp.client_proto.ResponseHandler object at 0x0000019568534040>, 117039.625)]']\n",
      "connector: <aiohttp.connector.TCPConnector object at 0x00000195683C88B0>\n"
     ]
    },
    {
     "name": "stdout",
     "output_type": "stream",
     "text": [
      "182 Fulham Leicester 06.05.2023\n"
     ]
    },
    {
     "name": "stderr",
     "output_type": "stream",
     "text": [
      "Unclosed client session\n",
      "client_session: <aiohttp.client.ClientSession object at 0x00000195686CC850>\n",
      "Unclosed connector\n",
      "connections: ['[(<aiohttp.client_proto.ResponseHandler object at 0x0000019568486E80>, 117041.062)]']\n",
      "connector: <aiohttp.connector.TCPConnector object at 0x00000195686CCC70>\n"
     ]
    },
    {
     "name": "stdout",
     "output_type": "stream",
     "text": [
      "183 Liverpool Brentford 06.05.2023\n"
     ]
    },
    {
     "name": "stderr",
     "output_type": "stream",
     "text": [
      "Unclosed client session\n",
      "client_session: <aiohttp.client.ClientSession object at 0x0000019568589070>\n",
      "Unclosed connector\n",
      "connections: ['[(<aiohttp.client_proto.ResponseHandler object at 0x0000019568769820>, 117042.093)]']\n",
      "connector: <aiohttp.connector.TCPConnector object at 0x0000019568589430>\n"
     ]
    },
    {
     "name": "stdout",
     "output_type": "stream",
     "text": [
      "184 Manchester City Leeds 06.05.2023\n"
     ]
    },
    {
     "name": "stderr",
     "output_type": "stream",
     "text": [
      "Unclosed client session\n",
      "client_session: <aiohttp.client.ClientSession object at 0x000001956850DF10>\n",
      "Unclosed connector\n",
      "connections: ['[(<aiohttp.client_proto.ResponseHandler object at 0x0000019569A5BD00>, 117043.312)]']\n",
      "connector: <aiohttp.connector.TCPConnector object at 0x000001956850DC10>\n"
     ]
    },
    {
     "name": "stdout",
     "output_type": "stream",
     "text": [
      "185 Newcastle United Arsenal 06.05.2023\n"
     ]
    },
    {
     "name": "stderr",
     "output_type": "stream",
     "text": [
      "Unclosed client session\n",
      "client_session: <aiohttp.client.ClientSession object at 0x0000019568779D00>\n",
      "Unclosed connector\n",
      "connections: ['[(<aiohttp.client_proto.ResponseHandler object at 0x0000019568390BE0>, 117044.875)]']\n",
      "connector: <aiohttp.connector.TCPConnector object at 0x0000019568779F40>\n"
     ]
    },
    {
     "name": "stdout",
     "output_type": "stream",
     "text": [
      "186 Nottingham Forest Southampton 06.05.2023\n"
     ]
    },
    {
     "name": "stderr",
     "output_type": "stream",
     "text": [
      "Unclosed client session\n",
      "client_session: <aiohttp.client.ClientSession object at 0x0000019568468A30>\n",
      "Unclosed connector\n",
      "connections: ['[(<aiohttp.client_proto.ResponseHandler object at 0x00000195687DA520>, 117046.14)]']\n",
      "connector: <aiohttp.connector.TCPConnector object at 0x00000195684684F0>\n"
     ]
    },
    {
     "name": "stdout",
     "output_type": "stream",
     "text": [
      "187 Tottenham Crystal Palace 06.05.2023\n"
     ]
    },
    {
     "name": "stderr",
     "output_type": "stream",
     "text": [
      "Unclosed client session\n",
      "client_session: <aiohttp.client.ClientSession object at 0x0000019568468CA0>\n",
      "Unclosed connector\n",
      "connections: ['[(<aiohttp.client_proto.ResponseHandler object at 0x0000019568486E80>, 117047.156)]']\n",
      "connector: <aiohttp.connector.TCPConnector object at 0x00000195687DD850>\n"
     ]
    },
    {
     "name": "stdout",
     "output_type": "stream",
     "text": [
      "188 West Ham Manchester United 06.05.2023\n"
     ]
    },
    {
     "name": "stderr",
     "output_type": "stream",
     "text": [
      "Unclosed client session\n",
      "client_session: <aiohttp.client.ClientSession object at 0x00000195684E6880>\n",
      "Unclosed connector\n",
      "connections: ['[(<aiohttp.client_proto.ResponseHandler object at 0x000001956895B580>, 117048.14)]']\n",
      "connector: <aiohttp.connector.TCPConnector object at 0x00000195684E6A60>\n"
     ]
    },
    {
     "name": "stdout",
     "output_type": "stream",
     "text": [
      "189 Wolverhampton Wanderers Aston Villa 06.05.2023\n"
     ]
    },
    {
     "name": "stderr",
     "output_type": "stream",
     "text": [
      "Unclosed client session\n",
      "client_session: <aiohttp.client.ClientSession object at 0x0000019568228A60>\n",
      "Unclosed connector\n",
      "connections: ['[(<aiohttp.client_proto.ResponseHandler object at 0x00000195681748E0>, 117049.109)]']\n",
      "connector: <aiohttp.connector.TCPConnector object at 0x0000019568228EB0>\n"
     ]
    },
    {
     "name": "stdout",
     "output_type": "stream",
     "text": [
      "190 Arsenal Brighton 13.05.2023\n"
     ]
    },
    {
     "name": "stderr",
     "output_type": "stream",
     "text": [
      "Unclosed client session\n",
      "client_session: <aiohttp.client.ClientSession object at 0x0000019568595FD0>\n",
      "Unclosed connector\n",
      "connections: ['[(<aiohttp.client_proto.ResponseHandler object at 0x00000195681748E0>, 117050.281)]']\n",
      "connector: <aiohttp.connector.TCPConnector object at 0x0000019568595190>\n"
     ]
    },
    {
     "name": "stdout",
     "output_type": "stream",
     "text": [
      "191 Aston Villa Tottenham 13.05.2023\n"
     ]
    },
    {
     "name": "stderr",
     "output_type": "stream",
     "text": [
      "Unclosed client session\n",
      "client_session: <aiohttp.client.ClientSession object at 0x00000195685899D0>\n",
      "Unclosed connector\n",
      "connections: ['[(<aiohttp.client_proto.ResponseHandler object at 0x00000195681748E0>, 117051.609)]']\n",
      "connector: <aiohttp.connector.TCPConnector object at 0x0000019568589850>\n"
     ]
    },
    {
     "name": "stdout",
     "output_type": "stream",
     "text": [
      "192 Brentford West Ham 13.05.2023\n"
     ]
    },
    {
     "name": "stderr",
     "output_type": "stream",
     "text": [
      "Unclosed client session\n",
      "client_session: <aiohttp.client.ClientSession object at 0x000001956850DFA0>\n",
      "Unclosed connector\n",
      "connections: ['[(<aiohttp.client_proto.ResponseHandler object at 0x0000019568486E20>, 117053.14)]']\n",
      "connector: <aiohttp.connector.TCPConnector object at 0x000001956850D5E0>\n"
     ]
    },
    {
     "name": "stdout",
     "output_type": "stream",
     "text": [
      "193 Chelsea Nottingham Forest 13.05.2023\n"
     ]
    },
    {
     "name": "stderr",
     "output_type": "stream",
     "text": [
      "Unclosed client session\n",
      "client_session: <aiohttp.client.ClientSession object at 0x00000195688B46D0>\n",
      "Unclosed connector\n",
      "connections: ['[(<aiohttp.client_proto.ResponseHandler object at 0x0000019569A1E880>, 117054.218)]']\n",
      "connector: <aiohttp.connector.TCPConnector object at 0x00000195688B4370>\n"
     ]
    },
    {
     "name": "stdout",
     "output_type": "stream",
     "text": [
      "194 Crystal Palace Bournemouth 13.05.2023\n"
     ]
    },
    {
     "name": "stderr",
     "output_type": "stream",
     "text": [
      "Unclosed client session\n",
      "client_session: <aiohttp.client.ClientSession object at 0x00000195687792B0>\n",
      "Unclosed connector\n",
      "connections: ['[(<aiohttp.client_proto.ResponseHandler object at 0x0000019568486E20>, 117055.515)]']\n",
      "connector: <aiohttp.connector.TCPConnector object at 0x0000019568779BE0>\n"
     ]
    },
    {
     "name": "stdout",
     "output_type": "stream",
     "text": [
      "195 Everton Manchester City 13.05.2023\n"
     ]
    },
    {
     "name": "stderr",
     "output_type": "stream",
     "text": [
      "Unclosed client session\n",
      "client_session: <aiohttp.client.ClientSession object at 0x00000195684C68E0>\n",
      "Unclosed connector\n",
      "connections: ['[(<aiohttp.client_proto.ResponseHandler object at 0x0000019568194D60>, 117056.531)]']\n",
      "connector: <aiohttp.connector.TCPConnector object at 0x00000195684C61C0>\n"
     ]
    },
    {
     "name": "stdout",
     "output_type": "stream",
     "text": [
      "196 Leeds Newcastle United 13.05.2023\n"
     ]
    },
    {
     "name": "stderr",
     "output_type": "stream",
     "text": [
      "Unclosed client session\n",
      "client_session: <aiohttp.client.ClientSession object at 0x0000019568779EB0>\n",
      "Unclosed connector\n",
      "connections: ['[(<aiohttp.client_proto.ResponseHandler object at 0x00000195681748E0>, 117060.25)]']\n",
      "connector: <aiohttp.connector.TCPConnector object at 0x0000019568779C70>\n"
     ]
    },
    {
     "name": "stdout",
     "output_type": "stream",
     "text": [
      "197 Leicester Liverpool 13.05.2023\n"
     ]
    },
    {
     "name": "stderr",
     "output_type": "stream",
     "text": [
      "Unclosed client session\n",
      "client_session: <aiohttp.client.ClientSession object at 0x00000195683DF8E0>\n",
      "Unclosed connector\n",
      "connections: ['[(<aiohttp.client_proto.ResponseHandler object at 0x0000019568649D00>, 117061.187)]']\n",
      "connector: <aiohttp.connector.TCPConnector object at 0x00000195683DF970>\n"
     ]
    },
    {
     "name": "stdout",
     "output_type": "stream",
     "text": [
      "198 Manchester United Wolverhampton Wanderers 13.05.2023\n"
     ]
    },
    {
     "name": "stderr",
     "output_type": "stream",
     "text": [
      "Unclosed client session\n",
      "client_session: <aiohttp.client.ClientSession object at 0x0000019568595AF0>\n",
      "Unclosed connector\n",
      "connections: ['[(<aiohttp.client_proto.ResponseHandler object at 0x0000019569A1E880>, 117062.156)]']\n",
      "connector: <aiohttp.connector.TCPConnector object at 0x0000019568595940>\n"
     ]
    },
    {
     "name": "stdout",
     "output_type": "stream",
     "text": [
      "199 Southampton Fulham 13.05.2023\n"
     ]
    },
    {
     "name": "stderr",
     "output_type": "stream",
     "text": [
      "Unclosed client session\n",
      "client_session: <aiohttp.client.ClientSession object at 0x0000019568589130>\n",
      "Unclosed connector\n",
      "connections: ['[(<aiohttp.client_proto.ResponseHandler object at 0x0000019568486E20>, 117063.296)]']\n",
      "connector: <aiohttp.connector.TCPConnector object at 0x00000195685899A0>\n"
     ]
    },
    {
     "name": "stdout",
     "output_type": "stream",
     "text": [
      "200 Bournemouth Manchester United 20.05.2023\n"
     ]
    },
    {
     "name": "stderr",
     "output_type": "stream",
     "text": [
      "Unclosed client session\n",
      "client_session: <aiohttp.client.ClientSession object at 0x000001956850DE80>\n",
      "Unclosed connector\n",
      "connections: ['[(<aiohttp.client_proto.ResponseHandler object at 0x0000019568486E20>, 117064.203)]']\n",
      "connector: <aiohttp.connector.TCPConnector object at 0x000001956850D8E0>\n"
     ]
    },
    {
     "name": "stdout",
     "output_type": "stream",
     "text": [
      "201 Brighton Southampton 20.05.2023\n"
     ]
    },
    {
     "name": "stderr",
     "output_type": "stream",
     "text": [
      "Unclosed client session\n",
      "client_session: <aiohttp.client.ClientSession object at 0x00000195683CD2E0>\n",
      "Unclosed connector\n",
      "connections: ['[(<aiohttp.client_proto.ResponseHandler object at 0x0000019568486E20>, 117065.359)]']\n",
      "connector: <aiohttp.connector.TCPConnector object at 0x00000195683CDB20>\n"
     ]
    },
    {
     "name": "stdout",
     "output_type": "stream",
     "text": [
      "202 Fulham Crystal Palace 20.05.2023\n"
     ]
    },
    {
     "name": "stderr",
     "output_type": "stream",
     "text": [
      "Unclosed client session\n",
      "client_session: <aiohttp.client.ClientSession object at 0x0000019568463970>\n",
      "Unclosed connector\n",
      "connections: ['[(<aiohttp.client_proto.ResponseHandler object at 0x0000019568194D60>, 117066.578)]']\n",
      "connector: <aiohttp.connector.TCPConnector object at 0x000001956850DE50>\n"
     ]
    },
    {
     "name": "stdout",
     "output_type": "stream",
     "text": [
      "203 Liverpool Aston Villa 20.05.2023\n"
     ]
    },
    {
     "name": "stderr",
     "output_type": "stream",
     "text": [
      "Unclosed client session\n",
      "client_session: <aiohttp.client.ClientSession object at 0x00000195683CDD90>\n",
      "Unclosed connector\n",
      "connections: ['[(<aiohttp.client_proto.ResponseHandler object at 0x0000019568649D00>, 117067.593)]']\n",
      "connector: <aiohttp.connector.TCPConnector object at 0x00000195683CD550>\n"
     ]
    },
    {
     "name": "stdout",
     "output_type": "stream",
     "text": [
      "204 Manchester City Chelsea 20.05.2023\n"
     ]
    },
    {
     "name": "stderr",
     "output_type": "stream",
     "text": [
      "Unclosed client session\n",
      "client_session: <aiohttp.client.ClientSession object at 0x00000195685951C0>\n",
      "Unclosed connector\n",
      "connections: ['[(<aiohttp.client_proto.ResponseHandler object at 0x00000195687691C0>, 117068.531)]']\n",
      "connector: <aiohttp.connector.TCPConnector object at 0x0000019568595C70>\n"
     ]
    },
    {
     "name": "stdout",
     "output_type": "stream",
     "text": [
      "205 Newcastle United Leicester 20.05.2023\n"
     ]
    },
    {
     "name": "stderr",
     "output_type": "stream",
     "text": [
      "Unclosed client session\n",
      "client_session: <aiohttp.client.ClientSession object at 0x000001956ACFF580>\n",
      "Unclosed connector\n",
      "connections: ['[(<aiohttp.client_proto.ResponseHandler object at 0x00000195687691C0>, 117069.546)]']\n",
      "connector: <aiohttp.connector.TCPConnector object at 0x000001956ACFF520>\n"
     ]
    },
    {
     "name": "stdout",
     "output_type": "stream",
     "text": [
      "206 Nottingham Forest Arsenal 20.05.2023\n"
     ]
    },
    {
     "name": "stderr",
     "output_type": "stream",
     "text": [
      "Unclosed client session\n",
      "client_session: <aiohttp.client.ClientSession object at 0x00000195687218E0>\n",
      "Unclosed connector\n",
      "connections: ['[(<aiohttp.client_proto.ResponseHandler object at 0x00000195686128E0>, 117070.562)]']\n",
      "connector: <aiohttp.connector.TCPConnector object at 0x0000019568721E50>\n"
     ]
    },
    {
     "name": "stdout",
     "output_type": "stream",
     "text": [
      "207 Tottenham Brentford 20.05.2023\n"
     ]
    },
    {
     "name": "stderr",
     "output_type": "stream",
     "text": [
      "Unclosed client session\n",
      "client_session: <aiohttp.client.ClientSession object at 0x00000195684C64F0>\n",
      "Unclosed connector\n",
      "connections: ['[(<aiohttp.client_proto.ResponseHandler object at 0x00000195686128E0>, 117071.531)]']\n",
      "connector: <aiohttp.connector.TCPConnector object at 0x00000195684C6DC0>\n"
     ]
    },
    {
     "name": "stdout",
     "output_type": "stream",
     "text": [
      "208 West Ham Leeds 20.05.2023\n"
     ]
    },
    {
     "name": "stderr",
     "output_type": "stream",
     "text": [
      "Unclosed client session\n",
      "client_session: <aiohttp.client.ClientSession object at 0x00000195683CA6D0>\n",
      "Unclosed connector\n",
      "connections: ['[(<aiohttp.client_proto.ResponseHandler object at 0x0000019568194D60>, 117072.656)]']\n",
      "connector: <aiohttp.connector.TCPConnector object at 0x00000195683CA760>\n"
     ]
    },
    {
     "name": "stdout",
     "output_type": "stream",
     "text": [
      "209 Wolverhampton Wanderers Everton 20.05.2023\n"
     ]
    },
    {
     "name": "stderr",
     "output_type": "stream",
     "text": [
      "Unclosed client session\n",
      "client_session: <aiohttp.client.ClientSession object at 0x000001956AC43C10>\n",
      "Unclosed connector\n",
      "connections: ['[(<aiohttp.client_proto.ResponseHandler object at 0x0000019568649640>, 117073.968)]']\n",
      "connector: <aiohttp.connector.TCPConnector object at 0x000001956AC43BE0>\n"
     ]
    },
    {
     "name": "stdout",
     "output_type": "stream",
     "text": [
      "210 Arsenal Wolverhampton Wanderers 28.05.2023\n"
     ]
    },
    {
     "name": "stderr",
     "output_type": "stream",
     "text": [
      "Unclosed client session\n",
      "client_session: <aiohttp.client.ClientSession object at 0x000001956850DAC0>\n",
      "Unclosed connector\n",
      "connections: ['[(<aiohttp.client_proto.ResponseHandler object at 0x00000195687DA520>, 117075.078)]']\n",
      "connector: <aiohttp.connector.TCPConnector object at 0x000001956850D6D0>\n"
     ]
    },
    {
     "name": "stdout",
     "output_type": "stream",
     "text": [
      "211 Aston Villa Brighton 28.05.2023\n"
     ]
    },
    {
     "name": "stderr",
     "output_type": "stream",
     "text": [
      "Unclosed client session\n",
      "client_session: <aiohttp.client.ClientSession object at 0x00000195683CA430>\n",
      "Unclosed connector\n",
      "connections: ['[(<aiohttp.client_proto.ResponseHandler object at 0x00000195687DA520>, 117076.078)]']\n",
      "connector: <aiohttp.connector.TCPConnector object at 0x0000019568589A60>\n"
     ]
    },
    {
     "name": "stdout",
     "output_type": "stream",
     "text": [
      "212 Brentford Manchester City 28.05.2023\n"
     ]
    },
    {
     "name": "stderr",
     "output_type": "stream",
     "text": [
      "Unclosed client session\n",
      "client_session: <aiohttp.client.ClientSession object at 0x000001956AAAABB0>\n",
      "Unclosed connector\n",
      "connections: ['[(<aiohttp.client_proto.ResponseHandler object at 0x0000019568390E20>, 117077.046)]']\n",
      "connector: <aiohttp.connector.TCPConnector object at 0x000001956AAAAD60>\n"
     ]
    },
    {
     "name": "stdout",
     "output_type": "stream",
     "text": [
      "213 Chelsea Newcastle United 28.05.2023\n"
     ]
    },
    {
     "name": "stderr",
     "output_type": "stream",
     "text": [
      "Unclosed client session\n",
      "client_session: <aiohttp.client.ClientSession object at 0x000001956AA3B0D0>\n",
      "Unclosed connector\n",
      "connections: ['[(<aiohttp.client_proto.ResponseHandler object at 0x0000019568390E20>, 117078.14)]']\n",
      "connector: <aiohttp.connector.TCPConnector object at 0x000001956AA3B1F0>\n"
     ]
    },
    {
     "name": "stdout",
     "output_type": "stream",
     "text": [
      "214 Crystal Palace Nottingham Forest 28.05.2023\n"
     ]
    },
    {
     "name": "stderr",
     "output_type": "stream",
     "text": [
      "Unclosed client session\n",
      "client_session: <aiohttp.client.ClientSession object at 0x000001956AA70DF0>\n",
      "Unclosed connector\n",
      "connections: ['[(<aiohttp.client_proto.ResponseHandler object at 0x00000195686499A0>, 117079.109)]']\n",
      "connector: <aiohttp.connector.TCPConnector object at 0x000001956AA70E50>\n"
     ]
    },
    {
     "name": "stdout",
     "output_type": "stream",
     "text": [
      "215 Everton Bournemouth 28.05.2023\n"
     ]
    },
    {
     "name": "stderr",
     "output_type": "stream",
     "text": [
      "Unclosed client session\n",
      "client_session: <aiohttp.client.ClientSession object at 0x000001956884C190>\n",
      "Unclosed connector\n",
      "connections: ['[(<aiohttp.client_proto.ResponseHandler object at 0x0000019568649640>, 117080.312)]']\n",
      "connector: <aiohttp.connector.TCPConnector object at 0x000001956884CD00>\n"
     ]
    },
    {
     "name": "stdout",
     "output_type": "stream",
     "text": [
      "216 Leeds Tottenham 28.05.2023\n"
     ]
    },
    {
     "name": "stderr",
     "output_type": "stream",
     "text": [
      "Unclosed client session\n",
      "client_session: <aiohttp.client.ClientSession object at 0x000001956884CD30>\n",
      "Unclosed connector\n",
      "connections: ['[(<aiohttp.client_proto.ResponseHandler object at 0x0000019568911F40>, 117081.75)]']\n",
      "connector: <aiohttp.connector.TCPConnector object at 0x000001956AA703D0>\n"
     ]
    },
    {
     "name": "stdout",
     "output_type": "stream",
     "text": [
      "217 Leicester West Ham 28.05.2023\n"
     ]
    },
    {
     "name": "stderr",
     "output_type": "stream",
     "text": [
      "Unclosed client session\n",
      "client_session: <aiohttp.client.ClientSession object at 0x000001956AC81FA0>\n",
      "Unclosed connector\n",
      "connections: ['[(<aiohttp.client_proto.ResponseHandler object at 0x0000019568649640>, 117082.937)]']\n",
      "connector: <aiohttp.connector.TCPConnector object at 0x000001956AC816D0>\n"
     ]
    },
    {
     "name": "stdout",
     "output_type": "stream",
     "text": [
      "218 Manchester United Fulham 28.05.2023\n"
     ]
    },
    {
     "name": "stderr",
     "output_type": "stream",
     "text": [
      "Unclosed client session\n",
      "client_session: <aiohttp.client.ClientSession object at 0x00000195683CAA30>\n",
      "Unclosed connector\n",
      "connections: ['[(<aiohttp.client_proto.ResponseHandler object at 0x00000195686128E0>, 117084.046)]']\n",
      "connector: <aiohttp.connector.TCPConnector object at 0x00000195683CA430>\n"
     ]
    },
    {
     "name": "stdout",
     "output_type": "stream",
     "text": [
      "219 Southampton Liverpool 28.05.2023\n"
     ]
    }
   ],
   "source": [
    "for index, row in temp_table.iterrows():\n",
    "    print(index, row['Host'], row['Guest'], row['Date'])\n",
    "    current_match_date = row['Date']\n",
    "\n",
    "    session = aiohttp.ClientSession()\n",
    "    understat = Understat(session)\n",
    "\n",
    "    end_date = reformat(current_match_date)\n",
    "\n",
    "    league_table_on_date =  await understat.get_league_table(league_name=uliga, season=t_season, with_headers=True, end_date=end_date)\n",
    "    session.close()\n",
    "\n",
    "    league_table_on_date = my_understat.trim_async_table(league_table_on_date)\n",
    "    \n",
    "    try:\n",
    "        team_stats_host = my_understat.get_team_stats_ondate(league_table_on_date, row['Host'])\n",
    "        team_stats_host.pop('Team')\n",
    "    except:\n",
    "        print(f'No info on {row[\"Host\"]}')\n",
    "    try:\n",
    "        team_stats_guest = my_understat.get_team_stats_ondate(league_table_on_date, row['Guest'])\n",
    "        team_stats_guest.pop('Team')\n",
    "    except:\n",
    "         print(f'No info on {row[\"Guest\"]}')\n",
    "    for key in team_stats_host:\n",
    "        temp_table.loc[index, f'Host: {key} this season'] = team_stats_host[key]\n",
    "    \n",
    "    for key in team_stats_guest:\n",
    "        temp_table.loc[index, f'Guest: {key} this season'] = team_stats_guest[key]"
   ]
  },
  {
   "cell_type": "code",
   "execution_count": 30,
   "metadata": {},
   "outputs": [
    {
     "data": {
      "text/html": [
       "<div>\n",
       "<style scoped>\n",
       "    .dataframe tbody tr th:only-of-type {\n",
       "        vertical-align: middle;\n",
       "    }\n",
       "\n",
       "    .dataframe tbody tr th {\n",
       "        vertical-align: top;\n",
       "    }\n",
       "\n",
       "    .dataframe thead th {\n",
       "        text-align: right;\n",
       "    }\n",
       "</style>\n",
       "<table border=\"1\" class=\"dataframe\">\n",
       "  <thead>\n",
       "    <tr style=\"text-align: right;\">\n",
       "      <th></th>\n",
       "      <th>Date</th>\n",
       "      <th>Host</th>\n",
       "      <th>Guest</th>\n",
       "      <th>Host: M this season</th>\n",
       "      <th>Host: W this season</th>\n",
       "      <th>Host: D this season</th>\n",
       "      <th>Host: L this season</th>\n",
       "      <th>Host: G this season</th>\n",
       "      <th>Host: GA this season</th>\n",
       "      <th>Host: PTS this season</th>\n",
       "      <th>...</th>\n",
       "      <th>Guest: xG this season</th>\n",
       "      <th>Guest: NPxG this season</th>\n",
       "      <th>Guest: xGA this season</th>\n",
       "      <th>Guest: NPxGA this season</th>\n",
       "      <th>Guest: NPxGD this season</th>\n",
       "      <th>Guest: PPDA this season</th>\n",
       "      <th>Guest: OPPDA this season</th>\n",
       "      <th>Guest: DC this season</th>\n",
       "      <th>Guest: ODC this season</th>\n",
       "      <th>Guest: xPTS this season</th>\n",
       "    </tr>\n",
       "  </thead>\n",
       "  <tbody>\n",
       "    <tr>\n",
       "      <th>0</th>\n",
       "      <td>26.12.2022</td>\n",
       "      <td>Arsenal</td>\n",
       "      <td>West Ham</td>\n",
       "      <td>14.0</td>\n",
       "      <td>12.0</td>\n",
       "      <td>1.0</td>\n",
       "      <td>1.0</td>\n",
       "      <td>33.0</td>\n",
       "      <td>11.0</td>\n",
       "      <td>37.0</td>\n",
       "      <td>...</td>\n",
       "      <td>19.59</td>\n",
       "      <td>16.55</td>\n",
       "      <td>17.53</td>\n",
       "      <td>15.25</td>\n",
       "      <td>1.30</td>\n",
       "      <td>18.37</td>\n",
       "      <td>15.50</td>\n",
       "      <td>66.0</td>\n",
       "      <td>83.0</td>\n",
       "      <td>21.75</td>\n",
       "    </tr>\n",
       "    <tr>\n",
       "      <th>1</th>\n",
       "      <td>26.12.2022</td>\n",
       "      <td>Aston Villa</td>\n",
       "      <td>Liverpool</td>\n",
       "      <td>15.0</td>\n",
       "      <td>5.0</td>\n",
       "      <td>3.0</td>\n",
       "      <td>7.0</td>\n",
       "      <td>16.0</td>\n",
       "      <td>22.0</td>\n",
       "      <td>18.0</td>\n",
       "      <td>...</td>\n",
       "      <td>29.58</td>\n",
       "      <td>29.58</td>\n",
       "      <td>23.10</td>\n",
       "      <td>20.81</td>\n",
       "      <td>8.77</td>\n",
       "      <td>10.30</td>\n",
       "      <td>21.39</td>\n",
       "      <td>165.0</td>\n",
       "      <td>97.0</td>\n",
       "      <td>22.44</td>\n",
       "    </tr>\n",
       "    <tr>\n",
       "      <th>2</th>\n",
       "      <td>26.12.2022</td>\n",
       "      <td>Brentford</td>\n",
       "      <td>Tottenham</td>\n",
       "      <td>15.0</td>\n",
       "      <td>4.0</td>\n",
       "      <td>7.0</td>\n",
       "      <td>4.0</td>\n",
       "      <td>23.0</td>\n",
       "      <td>25.0</td>\n",
       "      <td>19.0</td>\n",
       "      <td>...</td>\n",
       "      <td>26.09</td>\n",
       "      <td>23.80</td>\n",
       "      <td>18.07</td>\n",
       "      <td>17.30</td>\n",
       "      <td>6.50</td>\n",
       "      <td>13.52</td>\n",
       "      <td>16.04</td>\n",
       "      <td>107.0</td>\n",
       "      <td>114.0</td>\n",
       "      <td>25.89</td>\n",
       "    </tr>\n",
       "    <tr>\n",
       "      <th>3</th>\n",
       "      <td>26.12.2022</td>\n",
       "      <td>Chelsea</td>\n",
       "      <td>Bournemouth</td>\n",
       "      <td>14.0</td>\n",
       "      <td>6.0</td>\n",
       "      <td>3.0</td>\n",
       "      <td>5.0</td>\n",
       "      <td>17.0</td>\n",
       "      <td>17.0</td>\n",
       "      <td>21.0</td>\n",
       "      <td>...</td>\n",
       "      <td>13.32</td>\n",
       "      <td>13.32</td>\n",
       "      <td>25.41</td>\n",
       "      <td>21.60</td>\n",
       "      <td>-8.28</td>\n",
       "      <td>18.58</td>\n",
       "      <td>8.51</td>\n",
       "      <td>75.0</td>\n",
       "      <td>149.0</td>\n",
       "      <td>13.09</td>\n",
       "    </tr>\n",
       "    <tr>\n",
       "      <th>4</th>\n",
       "      <td>26.12.2022</td>\n",
       "      <td>Crystal Palace</td>\n",
       "      <td>Fulham</td>\n",
       "      <td>14.0</td>\n",
       "      <td>5.0</td>\n",
       "      <td>4.0</td>\n",
       "      <td>5.0</td>\n",
       "      <td>15.0</td>\n",
       "      <td>18.0</td>\n",
       "      <td>19.0</td>\n",
       "      <td>...</td>\n",
       "      <td>21.51</td>\n",
       "      <td>17.71</td>\n",
       "      <td>32.61</td>\n",
       "      <td>30.32</td>\n",
       "      <td>-12.62</td>\n",
       "      <td>15.23</td>\n",
       "      <td>11.90</td>\n",
       "      <td>71.0</td>\n",
       "      <td>116.0</td>\n",
       "      <td>15.32</td>\n",
       "    </tr>\n",
       "  </tbody>\n",
       "</table>\n",
       "<p>5 rows × 37 columns</p>\n",
       "</div>"
      ],
      "text/plain": [
       "         Date            Host        Guest  Host: M this season  \\\n",
       "0  26.12.2022         Arsenal     West Ham                 14.0   \n",
       "1  26.12.2022     Aston Villa    Liverpool                 15.0   \n",
       "2  26.12.2022       Brentford    Tottenham                 15.0   \n",
       "3  26.12.2022         Chelsea  Bournemouth                 14.0   \n",
       "4  26.12.2022  Crystal Palace       Fulham                 14.0   \n",
       "\n",
       "   Host: W this season  Host: D this season  Host: L this season  \\\n",
       "0                 12.0                  1.0                  1.0   \n",
       "1                  5.0                  3.0                  7.0   \n",
       "2                  4.0                  7.0                  4.0   \n",
       "3                  6.0                  3.0                  5.0   \n",
       "4                  5.0                  4.0                  5.0   \n",
       "\n",
       "   Host: G this season  Host: GA this season  Host: PTS this season  ...  \\\n",
       "0                 33.0                  11.0                   37.0  ...   \n",
       "1                 16.0                  22.0                   18.0  ...   \n",
       "2                 23.0                  25.0                   19.0  ...   \n",
       "3                 17.0                  17.0                   21.0  ...   \n",
       "4                 15.0                  18.0                   19.0  ...   \n",
       "\n",
       "   Guest: xG this season  Guest: NPxG this season  Guest: xGA this season  \\\n",
       "0                  19.59                    16.55                   17.53   \n",
       "1                  29.58                    29.58                   23.10   \n",
       "2                  26.09                    23.80                   18.07   \n",
       "3                  13.32                    13.32                   25.41   \n",
       "4                  21.51                    17.71                   32.61   \n",
       "\n",
       "   Guest: NPxGA this season  Guest: NPxGD this season  \\\n",
       "0                     15.25                      1.30   \n",
       "1                     20.81                      8.77   \n",
       "2                     17.30                      6.50   \n",
       "3                     21.60                     -8.28   \n",
       "4                     30.32                    -12.62   \n",
       "\n",
       "   Guest: PPDA this season  Guest: OPPDA this season  Guest: DC this season  \\\n",
       "0                    18.37                     15.50                   66.0   \n",
       "1                    10.30                     21.39                  165.0   \n",
       "2                    13.52                     16.04                  107.0   \n",
       "3                    18.58                      8.51                   75.0   \n",
       "4                    15.23                     11.90                   71.0   \n",
       "\n",
       "   Guest: ODC this season  Guest: xPTS this season  \n",
       "0                    83.0                    21.75  \n",
       "1                    97.0                    22.44  \n",
       "2                   114.0                    25.89  \n",
       "3                   149.0                    13.09  \n",
       "4                   116.0                    15.32  \n",
       "\n",
       "[5 rows x 37 columns]"
      ]
     },
     "execution_count": 30,
     "metadata": {},
     "output_type": "execute_result"
    }
   ],
   "source": [
    "# пусто\n",
    "temp_table[['Date', 'Host', 'Guest','Host: M this season', 'Host: W this season', 'Host: D this season',\n",
    "       'Host: L this season', 'Host: G this season', 'Host: GA this season',\n",
    "       'Host: PTS this season', 'Host: xG this season',\n",
    "       'Host: NPxG this season', 'Host: xGA this season',\n",
    "       'Host: NPxGA this season', 'Host: NPxGD this season',\n",
    "       'Host: PPDA this season', 'Host: OPPDA this season',\n",
    "       'Host: DC this season', 'Host: ODC this season',\n",
    "       'Host: xPTS this season', 'Guest: M this season',\n",
    "       'Guest: W this season', 'Guest: D this season', 'Guest: L this season',\n",
    "       'Guest: G this season', 'Guest: GA this season',\n",
    "       'Guest: PTS this season', 'Guest: xG this season',\n",
    "       'Guest: NPxG this season', 'Guest: xGA this season',\n",
    "       'Guest: NPxGA this season', 'Guest: NPxGD this season',\n",
    "       'Guest: PPDA this season', 'Guest: OPPDA this season',\n",
    "       'Guest: DC this season', 'Guest: ODC this season',\n",
    "       'Guest: xPTS this season']].head()"
   ]
  },
  {
   "cell_type": "code",
   "execution_count": null,
   "metadata": {},
   "outputs": [],
   "source": [
    "# h2h\n",
    "# 'Host: h2h average xG 3y', 'Guest: h2h average xG 3y, 'Host: h2h average G 3y', 'Host: h2h average GA 3y'"
   ]
  },
  {
   "cell_type": "code",
   "execution_count": 32,
   "metadata": {},
   "outputs": [
    {
     "name": "stdout",
     "output_type": "stream",
     "text": [
      "0 Arsenal West Ham 26.12.2022\n"
     ]
    },
    {
     "name": "stderr",
     "output_type": "stream",
     "text": [
      "Unclosed client session\n",
      "client_session: <aiohttp.client.ClientSession object at 0x0000019568463E20>\n",
      "Unclosed connector\n",
      "connections: ['[(<aiohttp.client_proto.ResponseHandler object at 0x0000019568486E20>, 117256.921)]']\n",
      "connector: <aiohttp.connector.TCPConnector object at 0x00000195684637F0>\n"
     ]
    },
    {
     "name": "stdout",
     "output_type": "stream",
     "text": [
      "1 Aston Villa Liverpool 26.12.2022\n"
     ]
    },
    {
     "name": "stderr",
     "output_type": "stream",
     "text": [
      "Unclosed client session\n",
      "client_session: <aiohttp.client.ClientSession object at 0x0000019568827880>\n",
      "Unclosed connector\n",
      "connections: ['[(<aiohttp.client_proto.ResponseHandler object at 0x0000019569A5BDC0>, 117259.781)]']\n",
      "connector: <aiohttp.connector.TCPConnector object at 0x0000019568827580>\n"
     ]
    },
    {
     "name": "stdout",
     "output_type": "stream",
     "text": [
      "2 Brentford Tottenham 26.12.2022\n"
     ]
    },
    {
     "name": "stderr",
     "output_type": "stream",
     "text": [
      "Unclosed client session\n",
      "client_session: <aiohttp.client.ClientSession object at 0x00000195686F5730>\n",
      "Unclosed connector\n",
      "connections: ['[(<aiohttp.client_proto.ResponseHandler object at 0x0000019568486E20>, 117261.75)]']\n",
      "connector: <aiohttp.connector.TCPConnector object at 0x00000195686F5760>\n"
     ]
    },
    {
     "name": "stdout",
     "output_type": "stream",
     "text": [
      "3 Chelsea Bournemouth 26.12.2022\n"
     ]
    },
    {
     "name": "stderr",
     "output_type": "stream",
     "text": [
      "Unclosed client session\n",
      "client_session: <aiohttp.client.ClientSession object at 0x0000019568924BE0>\n",
      "Unclosed connector\n",
      "connections: ['[(<aiohttp.client_proto.ResponseHandler object at 0x0000019569A33340>, 117264.703)]']\n",
      "connector: <aiohttp.connector.TCPConnector object at 0x0000019568924B80>\n"
     ]
    },
    {
     "name": "stdout",
     "output_type": "stream",
     "text": [
      "4 Crystal Palace Fulham 26.12.2022\n"
     ]
    },
    {
     "name": "stderr",
     "output_type": "stream",
     "text": [
      "Unclosed client session\n",
      "client_session: <aiohttp.client.ClientSession object at 0x00000195686FA610>\n",
      "Unclosed connector\n",
      "connections: ['[(<aiohttp.client_proto.ResponseHandler object at 0x0000019569A33340>, 117267.671)]']\n",
      "connector: <aiohttp.connector.TCPConnector object at 0x00000195686FAD30>\n"
     ]
    },
    {
     "name": "stdout",
     "output_type": "stream",
     "text": [
      "5 Everton Wolverhampton Wanderers 26.12.2022\n"
     ]
    },
    {
     "name": "stderr",
     "output_type": "stream",
     "text": [
      "Unclosed client session\n",
      "client_session: <aiohttp.client.ClientSession object at 0x0000019568824A00>\n",
      "Unclosed connector\n",
      "connections: ['[(<aiohttp.client_proto.ResponseHandler object at 0x0000019568780EE0>, 117270.406)]']\n",
      "connector: <aiohttp.connector.TCPConnector object at 0x00000195688247C0>\n"
     ]
    },
    {
     "name": "stdout",
     "output_type": "stream",
     "text": [
      "6 Leeds Manchester City 26.12.2022\n"
     ]
    },
    {
     "name": "stderr",
     "output_type": "stream",
     "text": [
      "Unclosed client session\n",
      "client_session: <aiohttp.client.ClientSession object at 0x000001956850DD00>\n",
      "Unclosed connector\n",
      "connections: ['[(<aiohttp.client_proto.ResponseHandler object at 0x0000019568780EE0>, 117272.484)]']\n",
      "connector: <aiohttp.connector.TCPConnector object at 0x000001956850D8B0>\n"
     ]
    },
    {
     "name": "stdout",
     "output_type": "stream",
     "text": [
      "7 Leicester Newcastle United 26.12.2022\n"
     ]
    },
    {
     "name": "stderr",
     "output_type": "stream",
     "text": [
      "Unclosed client session\n",
      "client_session: <aiohttp.client.ClientSession object at 0x00000195684E7AC0>\n",
      "Unclosed connector\n",
      "connections: ['[(<aiohttp.client_proto.ResponseHandler object at 0x0000019568486E20>, 117275.109)]']\n",
      "connector: <aiohttp.connector.TCPConnector object at 0x00000195684E7610>\n"
     ]
    },
    {
     "name": "stdout",
     "output_type": "stream",
     "text": [
      "8 Manchester United Nottingham Forest 26.12.2022\n"
     ]
    },
    {
     "name": "stderr",
     "output_type": "stream",
     "text": [
      "Unclosed client session\n",
      "client_session: <aiohttp.client.ClientSession object at 0x0000019568824940>\n",
      "Unclosed connector\n",
      "connections: ['[(<aiohttp.client_proto.ResponseHandler object at 0x0000019569A33340>, 117278.125)]']\n",
      "connector: <aiohttp.connector.TCPConnector object at 0x0000019568824970>\n"
     ]
    },
    {
     "name": "stdout",
     "output_type": "stream",
     "text": [
      "9 Southampton Brighton 26.12.2022\n"
     ]
    },
    {
     "name": "stderr",
     "output_type": "stream",
     "text": [
      "Unclosed client session\n",
      "client_session: <aiohttp.client.ClientSession object at 0x0000019568740D90>\n",
      "Unclosed connector\n",
      "connections: ['[(<aiohttp.client_proto.ResponseHandler object at 0x0000019569A1EAC0>, 117280.671)]']\n",
      "connector: <aiohttp.connector.TCPConnector object at 0x0000019568740F70>\n"
     ]
    },
    {
     "name": "stdout",
     "output_type": "stream",
     "text": [
      "10 Bournemouth Crystal Palace 31.12.2022\n"
     ]
    },
    {
     "name": "stderr",
     "output_type": "stream",
     "text": [
      "Unclosed client session\n",
      "client_session: <aiohttp.client.ClientSession object at 0x0000019568721910>\n",
      "Unclosed connector\n",
      "connections: ['[(<aiohttp.client_proto.ResponseHandler object at 0x0000019569A1EAC0>, 117282.64)]']\n",
      "connector: <aiohttp.connector.TCPConnector object at 0x0000019568721730>\n"
     ]
    },
    {
     "name": "stdout",
     "output_type": "stream",
     "text": [
      "11 Brighton Arsenal 31.12.2022\n"
     ]
    },
    {
     "name": "stderr",
     "output_type": "stream",
     "text": [
      "Unclosed client session\n",
      "client_session: <aiohttp.client.ClientSession object at 0x000001956AC28730>\n",
      "Unclosed connector\n",
      "connections: ['[(<aiohttp.client_proto.ResponseHandler object at 0x0000019569A1EAC0>, 117285.796)]']\n",
      "connector: <aiohttp.connector.TCPConnector object at 0x000001956AC28760>\n"
     ]
    },
    {
     "name": "stdout",
     "output_type": "stream",
     "text": [
      "12 Fulham Southampton 31.12.2022\n"
     ]
    },
    {
     "name": "stderr",
     "output_type": "stream",
     "text": [
      "Unclosed client session\n",
      "client_session: <aiohttp.client.ClientSession object at 0x000001956863DB20>\n",
      "Unclosed connector\n",
      "connections: ['[(<aiohttp.client_proto.ResponseHandler object at 0x0000019569A1EAC0>, 117287.75)]']\n",
      "connector: <aiohttp.connector.TCPConnector object at 0x000001956863D160>\n"
     ]
    },
    {
     "name": "stdout",
     "output_type": "stream",
     "text": [
      "13 Liverpool Leicester 31.12.2022\n"
     ]
    },
    {
     "name": "stderr",
     "output_type": "stream",
     "text": [
      "Unclosed client session\n",
      "client_session: <aiohttp.client.ClientSession object at 0x00000195683C8E80>\n",
      "Unclosed connector\n",
      "connections: ['[(<aiohttp.client_proto.ResponseHandler object at 0x0000019569A1EAC0>, 117290.359)]']\n",
      "connector: <aiohttp.connector.TCPConnector object at 0x00000195683C84F0>\n"
     ]
    },
    {
     "name": "stdout",
     "output_type": "stream",
     "text": [
      "14 Manchester City Everton 31.12.2022\n"
     ]
    },
    {
     "name": "stderr",
     "output_type": "stream",
     "text": [
      "Unclosed client session\n",
      "client_session: <aiohttp.client.ClientSession object at 0x0000019568644520>\n",
      "Unclosed connector\n",
      "connections: ['[(<aiohttp.client_proto.ResponseHandler object at 0x0000019568911E20>, 117293.281)]']\n",
      "connector: <aiohttp.connector.TCPConnector object at 0x00000195686448E0>\n"
     ]
    },
    {
     "name": "stdout",
     "output_type": "stream",
     "text": [
      "15 Newcastle United Leeds 31.12.2022\n"
     ]
    },
    {
     "name": "stderr",
     "output_type": "stream",
     "text": [
      "Unclosed client session\n",
      "client_session: <aiohttp.client.ClientSession object at 0x00000195684B8F40>\n",
      "Unclosed connector\n",
      "connections: ['[(<aiohttp.client_proto.ResponseHandler object at 0x00000195687DAB20>, 117296.234)]']\n",
      "connector: <aiohttp.connector.TCPConnector object at 0x00000195684B8610>\n"
     ]
    },
    {
     "name": "stdout",
     "output_type": "stream",
     "text": [
      "16 Nottingham Forest Chelsea 31.12.2022\n"
     ]
    },
    {
     "name": "stderr",
     "output_type": "stream",
     "text": [
      "Unclosed client session\n",
      "client_session: <aiohttp.client.ClientSession object at 0x000001956AAC1F70>\n",
      "Unclosed connector\n",
      "connections: ['[(<aiohttp.client_proto.ResponseHandler object at 0x0000019569A33AC0>, 117297.875)]']\n",
      "connector: <aiohttp.connector.TCPConnector object at 0x000001956AAC1FA0>\n"
     ]
    },
    {
     "name": "stdout",
     "output_type": "stream",
     "text": [
      "17 Tottenham Aston Villa 31.12.2022\n"
     ]
    },
    {
     "name": "stderr",
     "output_type": "stream",
     "text": [
      "Unclosed client session\n",
      "client_session: <aiohttp.client.ClientSession object at 0x0000019568550130>\n",
      "Unclosed connector\n",
      "connections: ['[(<aiohttp.client_proto.ResponseHandler object at 0x0000019568911E20>, 117300.718)]']\n",
      "connector: <aiohttp.connector.TCPConnector object at 0x0000019568550F40>\n"
     ]
    },
    {
     "name": "stdout",
     "output_type": "stream",
     "text": [
      "18 West Ham Brentford 31.12.2022\n"
     ]
    },
    {
     "name": "stderr",
     "output_type": "stream",
     "text": [
      "Unclosed client session\n",
      "client_session: <aiohttp.client.ClientSession object at 0x0000019568433280>\n",
      "Unclosed connector\n",
      "connections: ['[(<aiohttp.client_proto.ResponseHandler object at 0x00000195683C6B20>, 117303.453)]']\n",
      "connector: <aiohttp.connector.TCPConnector object at 0x0000019568433550>\n"
     ]
    },
    {
     "name": "stdout",
     "output_type": "stream",
     "text": [
      "19 Wolverhampton Wanderers Manchester United 31.12.2022\n"
     ]
    },
    {
     "name": "stderr",
     "output_type": "stream",
     "text": [
      "Unclosed client session\n",
      "client_session: <aiohttp.client.ClientSession object at 0x000001956AC3C670>\n",
      "Unclosed connector\n",
      "connections: ['[(<aiohttp.client_proto.ResponseHandler object at 0x0000019568911E20>, 117305.984)]']\n",
      "connector: <aiohttp.connector.TCPConnector object at 0x000001956AC3C610>\n"
     ]
    },
    {
     "name": "stdout",
     "output_type": "stream",
     "text": [
      "20 Arsenal Newcastle United 02.01.2023\n"
     ]
    },
    {
     "name": "stderr",
     "output_type": "stream",
     "text": [
      "Unclosed client session\n",
      "client_session: <aiohttp.client.ClientSession object at 0x000001956AD4A220>\n",
      "Unclosed connector\n",
      "connections: ['[(<aiohttp.client_proto.ResponseHandler object at 0x0000019568911E20>, 117308.625)]']\n",
      "connector: <aiohttp.connector.TCPConnector object at 0x000001956AD4A1F0>\n"
     ]
    },
    {
     "name": "stdout",
     "output_type": "stream",
     "text": [
      "21 Aston Villa Wolverhampton Wanderers 02.01.2023\n"
     ]
    },
    {
     "name": "stderr",
     "output_type": "stream",
     "text": [
      "Unclosed client session\n",
      "client_session: <aiohttp.client.ClientSession object at 0x000001956ADB33A0>\n",
      "Unclosed connector\n",
      "connections: ['[(<aiohttp.client_proto.ResponseHandler object at 0x0000019568911E20>, 117312.062)]']\n",
      "connector: <aiohttp.connector.TCPConnector object at 0x000001956ADB3250>\n"
     ]
    },
    {
     "name": "stdout",
     "output_type": "stream",
     "text": [
      "22 Brentford Liverpool 02.01.2023\n"
     ]
    },
    {
     "name": "stderr",
     "output_type": "stream",
     "text": [
      "Unclosed client session\n",
      "client_session: <aiohttp.client.ClientSession object at 0x0000019568970D30>\n",
      "Unclosed connector\n",
      "connections: ['[(<aiohttp.client_proto.ResponseHandler object at 0x0000019568911E20>, 117314.468)]']\n",
      "connector: <aiohttp.connector.TCPConnector object at 0x0000019568970400>\n"
     ]
    },
    {
     "name": "stdout",
     "output_type": "stream",
     "text": [
      "23 Chelsea Manchester City 02.01.2023\n"
     ]
    },
    {
     "name": "stderr",
     "output_type": "stream",
     "text": [
      "Unclosed client session\n",
      "client_session: <aiohttp.client.ClientSession object at 0x000001956AC1B190>\n",
      "Unclosed connector\n",
      "connections: ['[(<aiohttp.client_proto.ResponseHandler object at 0x000001956ADCB640>, 117317.125)]']\n",
      "connector: <aiohttp.connector.TCPConnector object at 0x000001956AC1B160>\n"
     ]
    },
    {
     "name": "stdout",
     "output_type": "stream",
     "text": [
      "24 Crystal Palace Tottenham 02.01.2023\n"
     ]
    },
    {
     "name": "stderr",
     "output_type": "stream",
     "text": [
      "Unclosed client session\n",
      "client_session: <aiohttp.client.ClientSession object at 0x00000195699D7E80>\n",
      "Unclosed connector\n",
      "connections: ['[(<aiohttp.client_proto.ResponseHandler object at 0x0000019568911E20>, 117319.875)]']\n",
      "connector: <aiohttp.connector.TCPConnector object at 0x00000195699D7D00>\n"
     ]
    },
    {
     "name": "stdout",
     "output_type": "stream",
     "text": [
      "25 Everton Brighton 02.01.2023\n"
     ]
    },
    {
     "name": "stderr",
     "output_type": "stream",
     "text": [
      "Unclosed client session\n",
      "client_session: <aiohttp.client.ClientSession object at 0x000001956AC4EB50>\n",
      "Unclosed connector\n",
      "connections: ['[(<aiohttp.client_proto.ResponseHandler object at 0x0000019568780DC0>, 117322.859)]']\n",
      "connector: <aiohttp.connector.TCPConnector object at 0x000001956AC4E580>\n"
     ]
    },
    {
     "name": "stdout",
     "output_type": "stream",
     "text": [
      "26 Leeds West Ham 02.01.2023\n"
     ]
    },
    {
     "name": "stderr",
     "output_type": "stream",
     "text": [
      "Unclosed client session\n",
      "client_session: <aiohttp.client.ClientSession object at 0x0000019568505F10>\n",
      "Unclosed connector\n",
      "connections: ['[(<aiohttp.client_proto.ResponseHandler object at 0x0000019568780DC0>, 117324.843)]']\n",
      "connector: <aiohttp.connector.TCPConnector object at 0x0000019568505F40>\n"
     ]
    },
    {
     "name": "stdout",
     "output_type": "stream",
     "text": [
      "27 Leicester Fulham 02.01.2023\n"
     ]
    },
    {
     "name": "stderr",
     "output_type": "stream",
     "text": [
      "Unclosed client session\n",
      "client_session: <aiohttp.client.ClientSession object at 0x000001956884CC10>\n",
      "Unclosed connector\n",
      "connections: ['[(<aiohttp.client_proto.ResponseHandler object at 0x0000019568486E20>, 117327.5)]']\n",
      "connector: <aiohttp.connector.TCPConnector object at 0x000001956884CC40>\n"
     ]
    },
    {
     "name": "stdout",
     "output_type": "stream",
     "text": [
      "28 Manchester United Bournemouth 02.01.2023\n"
     ]
    },
    {
     "name": "stderr",
     "output_type": "stream",
     "text": [
      "Unclosed client session\n",
      "client_session: <aiohttp.client.ClientSession object at 0x000001956845CE50>\n",
      "Unclosed connector\n",
      "connections: ['[(<aiohttp.client_proto.ResponseHandler object at 0x00000195687DAB20>, 117330.593)]']\n",
      "connector: <aiohttp.connector.TCPConnector object at 0x000001956845C340>\n"
     ]
    },
    {
     "name": "stdout",
     "output_type": "stream",
     "text": [
      "29 Southampton Nottingham Forest 02.01.2023\n"
     ]
    },
    {
     "name": "stderr",
     "output_type": "stream",
     "text": [
      "Unclosed client session\n",
      "client_session: <aiohttp.client.ClientSession object at 0x000001956884C430>\n",
      "Unclosed connector\n",
      "connections: ['[(<aiohttp.client_proto.ResponseHandler object at 0x0000019568486E20>, 117332.984)]']\n",
      "connector: <aiohttp.connector.TCPConnector object at 0x000001956884C0A0>\n"
     ]
    },
    {
     "name": "stdout",
     "output_type": "stream",
     "text": [
      "30 Aston Villa Leeds 14.01.2023\n"
     ]
    },
    {
     "name": "stderr",
     "output_type": "stream",
     "text": [
      "Unclosed client session\n",
      "client_session: <aiohttp.client.ClientSession object at 0x00000195685955E0>\n",
      "Unclosed connector\n",
      "connections: ['[(<aiohttp.client_proto.ResponseHandler object at 0x0000019568911E20>, 117335.89)]']\n",
      "connector: <aiohttp.connector.TCPConnector object at 0x00000195684C81C0>\n"
     ]
    },
    {
     "name": "stdout",
     "output_type": "stream",
     "text": [
      "31 Brentford Bournemouth 14.01.2023\n"
     ]
    },
    {
     "name": "stderr",
     "output_type": "stream",
     "text": [
      "Unclosed client session\n",
      "client_session: <aiohttp.client.ClientSession object at 0x000001956AB6FA60>\n",
      "Unclosed connector\n",
      "connections: ['[(<aiohttp.client_proto.ResponseHandler object at 0x0000019568486E20>, 117337.765)]']\n",
      "connector: <aiohttp.connector.TCPConnector object at 0x000001956AB6FA00>\n"
     ]
    },
    {
     "name": "stdout",
     "output_type": "stream",
     "text": [
      "32 Brighton Liverpool 14.01.2023\n"
     ]
    },
    {
     "name": "stderr",
     "output_type": "stream",
     "text": [
      "Unclosed client session\n",
      "client_session: <aiohttp.client.ClientSession object at 0x000001956AA70B50>\n",
      "Unclosed connector\n",
      "connections: ['[(<aiohttp.client_proto.ResponseHandler object at 0x0000019568780DC0>, 117340.578)]']\n",
      "connector: <aiohttp.connector.TCPConnector object at 0x000001956AA70D00>\n"
     ]
    },
    {
     "name": "stdout",
     "output_type": "stream",
     "text": [
      "33 Chelsea Crystal Palace 14.01.2023\n"
     ]
    },
    {
     "name": "stderr",
     "output_type": "stream",
     "text": [
      "Unclosed client session\n",
      "client_session: <aiohttp.client.ClientSession object at 0x00000195685055B0>\n",
      "Unclosed connector\n",
      "connections: ['[(<aiohttp.client_proto.ResponseHandler object at 0x0000019568911E20>, 117343.578)]']\n",
      "connector: <aiohttp.connector.TCPConnector object at 0x0000019568505DF0>\n"
     ]
    },
    {
     "name": "stdout",
     "output_type": "stream",
     "text": [
      "34 Everton Southampton 14.01.2023\n"
     ]
    },
    {
     "name": "stderr",
     "output_type": "stream",
     "text": [
      "Unclosed client session\n",
      "client_session: <aiohttp.client.ClientSession object at 0x000001956888C850>\n",
      "Unclosed connector\n",
      "connections: ['[(<aiohttp.client_proto.ResponseHandler object at 0x0000019568486E20>, 117346.109)]']\n",
      "connector: <aiohttp.connector.TCPConnector object at 0x000001956888CCA0>\n"
     ]
    },
    {
     "name": "stdout",
     "output_type": "stream",
     "text": [
      "35 Manchester United Manchester City 14.01.2023\n"
     ]
    },
    {
     "name": "stderr",
     "output_type": "stream",
     "text": [
      "Unclosed client session\n",
      "client_session: <aiohttp.client.ClientSession object at 0x00000195687A2A30>\n",
      "Unclosed connector\n",
      "connections: ['[(<aiohttp.client_proto.ResponseHandler object at 0x000001956895B2E0>, 117349.187)]']\n",
      "connector: <aiohttp.connector.TCPConnector object at 0x00000195687A2E20>\n"
     ]
    },
    {
     "name": "stdout",
     "output_type": "stream",
     "text": [
      "36 Newcastle United Fulham 14.01.2023\n"
     ]
    },
    {
     "name": "stderr",
     "output_type": "stream",
     "text": [
      "Unclosed client session\n",
      "client_session: <aiohttp.client.ClientSession object at 0x0000019568505700>\n",
      "Unclosed connector\n",
      "connections: ['[(<aiohttp.client_proto.ResponseHandler object at 0x0000019568486E20>, 117351.796)]']\n",
      "connector: <aiohttp.connector.TCPConnector object at 0x00000195685058B0>\n"
     ]
    },
    {
     "name": "stdout",
     "output_type": "stream",
     "text": [
      "37 Nottingham Forest Leicester 14.01.2023\n"
     ]
    },
    {
     "name": "stderr",
     "output_type": "stream",
     "text": [
      "Unclosed client session\n",
      "client_session: <aiohttp.client.ClientSession object at 0x000001956AC43B80>\n",
      "Unclosed connector\n",
      "connections: ['[(<aiohttp.client_proto.ResponseHandler object at 0x0000019568486E20>, 117353.234)]']\n",
      "connector: <aiohttp.connector.TCPConnector object at 0x000001956AC43580>\n"
     ]
    },
    {
     "name": "stdout",
     "output_type": "stream",
     "text": [
      "38 Tottenham Arsenal 14.01.2023\n"
     ]
    },
    {
     "name": "stderr",
     "output_type": "stream",
     "text": [
      "Unclosed client session\n",
      "client_session: <aiohttp.client.ClientSession object at 0x000001956AA5DBE0>\n",
      "Unclosed connector\n",
      "connections: ['[(<aiohttp.client_proto.ResponseHandler object at 0x0000019568486E20>, 117356.312)]']\n",
      "connector: <aiohttp.connector.TCPConnector object at 0x000001956AA5DB20>\n"
     ]
    },
    {
     "name": "stdout",
     "output_type": "stream",
     "text": [
      "39 Wolverhampton Wanderers West Ham 14.01.2023\n"
     ]
    },
    {
     "name": "stderr",
     "output_type": "stream",
     "text": [
      "Unclosed client session\n",
      "client_session: <aiohttp.client.ClientSession object at 0x000001956AC430D0>\n",
      "Unclosed connector\n",
      "connections: ['[(<aiohttp.client_proto.ResponseHandler object at 0x0000019568911E20>, 117358.968)]']\n",
      "connector: <aiohttp.connector.TCPConnector object at 0x000001956AC439A0>\n"
     ]
    },
    {
     "name": "stdout",
     "output_type": "stream",
     "text": [
      "40 Arsenal Manchester United 21.01.2023\n"
     ]
    },
    {
     "name": "stderr",
     "output_type": "stream",
     "text": [
      "Unclosed client session\n",
      "client_session: <aiohttp.client.ClientSession object at 0x00000195689B84C0>\n",
      "Unclosed connector\n",
      "connections: ['[(<aiohttp.client_proto.ResponseHandler object at 0x0000019568658940>, 117361.468)]']\n",
      "connector: <aiohttp.connector.TCPConnector object at 0x00000195689B82E0>\n"
     ]
    },
    {
     "name": "stdout",
     "output_type": "stream",
     "text": [
      "41 Bournemouth Nottingham Forest 21.01.2023\n"
     ]
    },
    {
     "name": "stderr",
     "output_type": "stream",
     "text": [
      "Unclosed client session\n",
      "client_session: <aiohttp.client.ClientSession object at 0x000001956AC3F5E0>\n",
      "Unclosed connector\n",
      "connections: ['[(<aiohttp.client_proto.ResponseHandler object at 0x0000019568780CA0>, 117363.687)]']\n",
      "connector: <aiohttp.connector.TCPConnector object at 0x000001956AC3F610>\n"
     ]
    },
    {
     "name": "stdout",
     "output_type": "stream",
     "text": [
      "42 Crystal Palace Newcastle United 21.01.2023\n"
     ]
    },
    {
     "name": "stderr",
     "output_type": "stream",
     "text": [
      "Unclosed client session\n",
      "client_session: <aiohttp.client.ClientSession object at 0x0000019568413A60>\n",
      "Unclosed connector\n",
      "connections: ['[(<aiohttp.client_proto.ResponseHandler object at 0x0000019569A1E880>, 117366.375)]']\n",
      "connector: <aiohttp.connector.TCPConnector object at 0x0000019568413FA0>\n"
     ]
    },
    {
     "name": "stdout",
     "output_type": "stream",
     "text": [
      "43 Fulham Tottenham 21.01.2023\n"
     ]
    },
    {
     "name": "stderr",
     "output_type": "stream",
     "text": [
      "Unclosed client session\n",
      "client_session: <aiohttp.client.ClientSession object at 0x000001956ACD4E80>\n",
      "Unclosed connector\n",
      "connections: ['[(<aiohttp.client_proto.ResponseHandler object at 0x0000019568658940>, 117368.437)]']\n",
      "connector: <aiohttp.connector.TCPConnector object at 0x000001956ACD4D00>\n"
     ]
    },
    {
     "name": "stdout",
     "output_type": "stream",
     "text": [
      "44 Leeds Brentford 21.01.2023\n"
     ]
    },
    {
     "name": "stderr",
     "output_type": "stream",
     "text": [
      "Unclosed client session\n",
      "client_session: <aiohttp.client.ClientSession object at 0x000001956867B970>\n",
      "Unclosed connector\n",
      "connections: ['[(<aiohttp.client_proto.ResponseHandler object at 0x000001956ADCB9A0>, 117371.328)]']\n",
      "connector: <aiohttp.connector.TCPConnector object at 0x000001956867BBB0>\n"
     ]
    },
    {
     "name": "stdout",
     "output_type": "stream",
     "text": [
      "45 Leicester Brighton 21.01.2023\n"
     ]
    },
    {
     "name": "stderr",
     "output_type": "stream",
     "text": [
      "Unclosed client session\n",
      "client_session: <aiohttp.client.ClientSession object at 0x00000195683CA250>\n",
      "Unclosed connector\n",
      "connections: ['[(<aiohttp.client_proto.ResponseHandler object at 0x00000195699BD520>, 117374.171)]']\n",
      "connector: <aiohttp.connector.TCPConnector object at 0x00000195683CAD30>\n"
     ]
    },
    {
     "name": "stdout",
     "output_type": "stream",
     "text": [
      "46 Liverpool Chelsea 21.01.2023\n"
     ]
    },
    {
     "name": "stderr",
     "output_type": "stream",
     "text": [
      "Unclosed client session\n",
      "client_session: <aiohttp.client.ClientSession object at 0x000001956ACF6850>\n",
      "Unclosed connector\n",
      "connections: ['[(<aiohttp.client_proto.ResponseHandler object at 0x0000019568658940>, 117376.968)]']\n",
      "connector: <aiohttp.connector.TCPConnector object at 0x000001956ACF6880>\n"
     ]
    },
    {
     "name": "stdout",
     "output_type": "stream",
     "text": [
      "47 Manchester City Wolverhampton Wanderers 21.01.2023\n"
     ]
    },
    {
     "name": "stderr",
     "output_type": "stream",
     "text": [
      "Unclosed client session\n",
      "client_session: <aiohttp.client.ClientSession object at 0x0000019568400A60>\n",
      "Unclosed connector\n",
      "connections: ['[(<aiohttp.client_proto.ResponseHandler object at 0x0000019568486E20>, 117380.0)]']\n",
      "connector: <aiohttp.connector.TCPConnector object at 0x0000019568400B80>\n"
     ]
    },
    {
     "name": "stdout",
     "output_type": "stream",
     "text": [
      "48 Southampton Aston Villa 21.01.2023\n"
     ]
    },
    {
     "name": "stderr",
     "output_type": "stream",
     "text": [
      "Unclosed client session\n",
      "client_session: <aiohttp.client.ClientSession object at 0x000001956AC2D640>\n",
      "Unclosed connector\n",
      "connections: ['[(<aiohttp.client_proto.ResponseHandler object at 0x0000019568658940>, 117382.875)]']\n",
      "connector: <aiohttp.connector.TCPConnector object at 0x000001956AC2D550>\n"
     ]
    },
    {
     "name": "stdout",
     "output_type": "stream",
     "text": [
      "49 West Ham Everton 21.01.2023\n"
     ]
    },
    {
     "name": "stderr",
     "output_type": "stream",
     "text": [
      "Unclosed client session\n",
      "client_session: <aiohttp.client.ClientSession object at 0x000001956ACE0790>\n",
      "Unclosed connector\n",
      "connections: ['[(<aiohttp.client_proto.ResponseHandler object at 0x0000019568486E20>, 117385.656)]']\n",
      "connector: <aiohttp.connector.TCPConnector object at 0x000001956ACE07C0>\n"
     ]
    },
    {
     "name": "stdout",
     "output_type": "stream",
     "text": [
      "50 Aston Villa Leicester 04.02.2023\n"
     ]
    },
    {
     "name": "stderr",
     "output_type": "stream",
     "text": [
      "Unclosed client session\n",
      "client_session: <aiohttp.client.ClientSession object at 0x000001956AE1D280>\n",
      "Unclosed connector\n",
      "connections: ['[(<aiohttp.client_proto.ResponseHandler object at 0x0000019568486E20>, 117388.609)]']\n",
      "connector: <aiohttp.connector.TCPConnector object at 0x00000195686334F0>\n"
     ]
    },
    {
     "name": "stdout",
     "output_type": "stream",
     "text": [
      "51 Brentford Southampton 04.02.2023\n"
     ]
    },
    {
     "name": "stderr",
     "output_type": "stream",
     "text": [
      "Unclosed client session\n",
      "client_session: <aiohttp.client.ClientSession object at 0x000001956AB4EEE0>\n",
      "Unclosed connector\n",
      "connections: ['[(<aiohttp.client_proto.ResponseHandler object at 0x0000019568486E20>, 117390.546)]']\n",
      "connector: <aiohttp.connector.TCPConnector object at 0x000001956AB4ED60>\n"
     ]
    },
    {
     "name": "stdout",
     "output_type": "stream",
     "text": [
      "52 Brighton Bournemouth 04.02.2023\n"
     ]
    },
    {
     "name": "stderr",
     "output_type": "stream",
     "text": [
      "Unclosed client session\n",
      "client_session: <aiohttp.client.ClientSession object at 0x0000019568228970>\n",
      "Unclosed connector\n",
      "connections: ['[(<aiohttp.client_proto.ResponseHandler object at 0x0000019568486E20>, 117393.546)]']\n",
      "connector: <aiohttp.connector.TCPConnector object at 0x0000019568228670>\n"
     ]
    },
    {
     "name": "stdout",
     "output_type": "stream",
     "text": [
      "53 Chelsea Fulham 04.02.2023\n"
     ]
    },
    {
     "name": "stderr",
     "output_type": "stream",
     "text": [
      "Unclosed client session\n",
      "client_session: <aiohttp.client.ClientSession object at 0x0000019568411130>\n",
      "Unclosed connector\n",
      "connections: ['[(<aiohttp.client_proto.ResponseHandler object at 0x0000019569A23760>, 117396.093)]']\n",
      "connector: <aiohttp.connector.TCPConnector object at 0x0000019568411820>\n"
     ]
    },
    {
     "name": "stdout",
     "output_type": "stream",
     "text": [
      "54 Everton Arsenal 04.02.2023\n"
     ]
    },
    {
     "name": "stderr",
     "output_type": "stream",
     "text": [
      "Unclosed client session\n",
      "client_session: <aiohttp.client.ClientSession object at 0x0000019568644220>\n",
      "Unclosed connector\n",
      "connections: ['[(<aiohttp.client_proto.ResponseHandler object at 0x00000195699BD520>, 117399.046)]']\n",
      "connector: <aiohttp.connector.TCPConnector object at 0x0000019568644820>\n"
     ]
    },
    {
     "name": "stdout",
     "output_type": "stream",
     "text": [
      "55 Manchester United Crystal Palace 04.02.2023\n"
     ]
    },
    {
     "name": "stderr",
     "output_type": "stream",
     "text": [
      "Unclosed client session\n",
      "client_session: <aiohttp.client.ClientSession object at 0x0000019568779610>\n",
      "Unclosed connector\n",
      "connections: ['[(<aiohttp.client_proto.ResponseHandler object at 0x00000195687DAA00>, 117401.921)]']\n",
      "connector: <aiohttp.connector.TCPConnector object at 0x0000019568779910>\n"
     ]
    },
    {
     "name": "stdout",
     "output_type": "stream",
     "text": [
      "56 Newcastle United West Ham 04.02.2023\n"
     ]
    },
    {
     "name": "stderr",
     "output_type": "stream",
     "text": [
      "Unclosed client session\n",
      "client_session: <aiohttp.client.ClientSession object at 0x00000195687EB640>\n",
      "Unclosed connector\n",
      "connections: ['[(<aiohttp.client_proto.ResponseHandler object at 0x0000019568486E20>, 117404.671)]']\n",
      "connector: <aiohttp.connector.TCPConnector object at 0x00000195687EB4C0>\n"
     ]
    },
    {
     "name": "stdout",
     "output_type": "stream",
     "text": [
      "57 Nottingham Forest Leeds 04.02.2023\n"
     ]
    },
    {
     "name": "stderr",
     "output_type": "stream",
     "text": [
      "Unclosed client session\n",
      "client_session: <aiohttp.client.ClientSession object at 0x000001956877F2B0>\n",
      "Unclosed connector\n",
      "connections: ['[(<aiohttp.client_proto.ResponseHandler object at 0x00000195687DAA00>, 117406.109)]']\n",
      "connector: <aiohttp.connector.TCPConnector object at 0x000001956877F490>\n"
     ]
    },
    {
     "name": "stdout",
     "output_type": "stream",
     "text": [
      "58 Tottenham Manchester City 04.02.2023\n"
     ]
    },
    {
     "name": "stderr",
     "output_type": "stream",
     "text": [
      "Unclosed client session\n",
      "client_session: <aiohttp.client.ClientSession object at 0x00000195683D1E80>\n",
      "Unclosed connector\n",
      "connections: ['[(<aiohttp.client_proto.ResponseHandler object at 0x0000019568194D60>, 117408.984)]']\n",
      "connector: <aiohttp.connector.TCPConnector object at 0x00000195683D1A30>\n"
     ]
    },
    {
     "name": "stdout",
     "output_type": "stream",
     "text": [
      "59 Wolverhampton Wanderers Liverpool 04.02.2023\n"
     ]
    },
    {
     "name": "stderr",
     "output_type": "stream",
     "text": [
      "Unclosed client session\n",
      "client_session: <aiohttp.client.ClientSession object at 0x00000195686F5190>\n",
      "Unclosed connector\n",
      "connections: ['[(<aiohttp.client_proto.ResponseHandler object at 0x00000195686A7D00>, 117411.75)]']\n",
      "connector: <aiohttp.connector.TCPConnector object at 0x00000195686F56D0>\n"
     ]
    },
    {
     "name": "stdout",
     "output_type": "stream",
     "text": [
      "60 Arsenal Brentford 11.02.2023\n"
     ]
    },
    {
     "name": "stderr",
     "output_type": "stream",
     "text": [
      "Unclosed client session\n",
      "client_session: <aiohttp.client.ClientSession object at 0x0000019568550C70>\n",
      "Unclosed connector\n",
      "connections: ['[(<aiohttp.client_proto.ResponseHandler object at 0x0000019569A33B20>, 117414.328)]']\n",
      "connector: <aiohttp.connector.TCPConnector object at 0x0000019568550730>\n"
     ]
    },
    {
     "name": "stdout",
     "output_type": "stream",
     "text": [
      "61 Bournemouth Newcastle United 11.02.2023\n"
     ]
    },
    {
     "name": "stderr",
     "output_type": "stream",
     "text": [
      "Unclosed client session\n",
      "client_session: <aiohttp.client.ClientSession object at 0x000001956ACEA5B0>\n",
      "Unclosed connector\n",
      "connections: ['[(<aiohttp.client_proto.ResponseHandler object at 0x0000019568780D00>, 117416.25)]']\n",
      "connector: <aiohttp.connector.TCPConnector object at 0x000001956ACEA730>\n"
     ]
    },
    {
     "name": "stdout",
     "output_type": "stream",
     "text": [
      "62 Crystal Palace Brighton 11.02.2023\n"
     ]
    },
    {
     "name": "stderr",
     "output_type": "stream",
     "text": [
      "Unclosed client session\n",
      "client_session: <aiohttp.client.ClientSession object at 0x0000019568228910>\n",
      "Unclosed connector\n",
      "connections: ['[(<aiohttp.client_proto.ResponseHandler object at 0x00000195687DAA00>, 117418.921)]']\n",
      "connector: <aiohttp.connector.TCPConnector object at 0x0000019568228BB0>\n"
     ]
    },
    {
     "name": "stdout",
     "output_type": "stream",
     "text": [
      "63 Fulham Nottingham Forest 11.02.2023\n"
     ]
    },
    {
     "name": "stderr",
     "output_type": "stream",
     "text": [
      "Unclosed client session\n",
      "client_session: <aiohttp.client.ClientSession object at 0x000001956AC432E0>\n",
      "Unclosed connector\n",
      "connections: ['[(<aiohttp.client_proto.ResponseHandler object at 0x00000195687DAA00>, 117420.718)]']\n",
      "connector: <aiohttp.connector.TCPConnector object at 0x000001956AC43790>\n"
     ]
    },
    {
     "name": "stdout",
     "output_type": "stream",
     "text": [
      "64 Leeds Manchester United 11.02.2023\n"
     ]
    },
    {
     "name": "stderr",
     "output_type": "stream",
     "text": [
      "Unclosed client session\n",
      "client_session: <aiohttp.client.ClientSession object at 0x0000019568730190>\n",
      "Unclosed connector\n",
      "connections: ['[(<aiohttp.client_proto.ResponseHandler object at 0x0000019569A23760>, 117422.984)]']\n",
      "connector: <aiohttp.connector.TCPConnector object at 0x0000019568730130>\n"
     ]
    },
    {
     "name": "stdout",
     "output_type": "stream",
     "text": [
      "65 Leicester Tottenham 11.02.2023\n"
     ]
    },
    {
     "name": "stderr",
     "output_type": "stream",
     "text": [
      "Unclosed client session\n",
      "client_session: <aiohttp.client.ClientSession object at 0x0000019568779910>\n",
      "Unclosed connector\n",
      "connections: ['[(<aiohttp.client_proto.ResponseHandler object at 0x00000195686A7D00>, 117425.625)]']\n",
      "connector: <aiohttp.connector.TCPConnector object at 0x0000019568779400>\n"
     ]
    },
    {
     "name": "stdout",
     "output_type": "stream",
     "text": [
      "66 Liverpool Everton 11.02.2023\n"
     ]
    },
    {
     "name": "stderr",
     "output_type": "stream",
     "text": [
      "Unclosed client session\n",
      "client_session: <aiohttp.client.ClientSession object at 0x00000195684E7AC0>\n",
      "Unclosed connector\n",
      "connections: ['[(<aiohttp.client_proto.ResponseHandler object at 0x0000019569A23760>, 117428.468)]']\n",
      "connector: <aiohttp.connector.TCPConnector object at 0x00000195684E74C0>\n"
     ]
    },
    {
     "name": "stdout",
     "output_type": "stream",
     "text": [
      "67 Manchester City Aston Villa 11.02.2023\n"
     ]
    },
    {
     "name": "stderr",
     "output_type": "stream",
     "text": [
      "Unclosed client session\n",
      "client_session: <aiohttp.client.ClientSession object at 0x000001956863D9A0>\n",
      "Unclosed connector\n",
      "connections: ['[(<aiohttp.client_proto.ResponseHandler object at 0x00000195687DAA00>, 117431.125)]']\n",
      "connector: <aiohttp.connector.TCPConnector object at 0x000001956863DE80>\n"
     ]
    },
    {
     "name": "stdout",
     "output_type": "stream",
     "text": [
      "68 Southampton Wolverhampton Wanderers 11.02.2023\n"
     ]
    },
    {
     "name": "stderr",
     "output_type": "stream",
     "text": [
      "Unclosed client session\n",
      "client_session: <aiohttp.client.ClientSession object at 0x000001956AD98D30>\n",
      "Unclosed connector\n",
      "connections: ['[(<aiohttp.client_proto.ResponseHandler object at 0x00000195687DAA00>, 117434.062)]']\n",
      "connector: <aiohttp.connector.TCPConnector object at 0x000001956ADC3460>\n"
     ]
    },
    {
     "name": "stdout",
     "output_type": "stream",
     "text": [
      "69 West Ham Chelsea 11.02.2023\n"
     ]
    },
    {
     "name": "stderr",
     "output_type": "stream",
     "text": [
      "Unclosed client session\n",
      "client_session: <aiohttp.client.ClientSession object at 0x000001956AA6B0D0>\n",
      "Unclosed connector\n",
      "connections: ['[(<aiohttp.client_proto.ResponseHandler object at 0x0000019569A1E880>, 117436.968)]']\n",
      "connector: <aiohttp.connector.TCPConnector object at 0x000001956AA6B340>\n"
     ]
    },
    {
     "name": "stdout",
     "output_type": "stream",
     "text": [
      "70 Aston Villa Arsenal 18.02.2023\n"
     ]
    },
    {
     "name": "stderr",
     "output_type": "stream",
     "text": [
      "Unclosed client session\n",
      "client_session: <aiohttp.client.ClientSession object at 0x000001956AD988E0>\n",
      "Unclosed connector\n",
      "connections: ['[(<aiohttp.client_proto.ResponseHandler object at 0x00000195687DAA00>, 117439.703)]']\n",
      "connector: <aiohttp.connector.TCPConnector object at 0x000001956AD98640>\n"
     ]
    },
    {
     "name": "stdout",
     "output_type": "stream",
     "text": [
      "71 Brentford Crystal Palace 18.02.2023\n"
     ]
    },
    {
     "name": "stderr",
     "output_type": "stream",
     "text": [
      "Unclosed client session\n",
      "client_session: <aiohttp.client.ClientSession object at 0x000001956ACD4670>\n",
      "Unclosed connector\n",
      "connections: ['[(<aiohttp.client_proto.ResponseHandler object at 0x00000195687DAB20>, 117441.984)]']\n",
      "connector: <aiohttp.connector.TCPConnector object at 0x000001956ACD46A0>\n"
     ]
    },
    {
     "name": "stdout",
     "output_type": "stream",
     "text": [
      "72 Brighton Fulham 18.02.2023\n"
     ]
    },
    {
     "name": "stderr",
     "output_type": "stream",
     "text": [
      "Unclosed client session\n",
      "client_session: <aiohttp.client.ClientSession object at 0x000001956ABD2CD0>\n",
      "Unclosed connector\n",
      "connections: ['[(<aiohttp.client_proto.ResponseHandler object at 0x0000019568194D60>, 117444.921)]']\n",
      "connector: <aiohttp.connector.TCPConnector object at 0x000001956ABD2BE0>\n"
     ]
    },
    {
     "name": "stdout",
     "output_type": "stream",
     "text": [
      "73 Chelsea Southampton 18.02.2023\n"
     ]
    },
    {
     "name": "stderr",
     "output_type": "stream",
     "text": [
      "Unclosed client session\n",
      "client_session: <aiohttp.client.ClientSession object at 0x000001956AE2AD00>\n",
      "Unclosed connector\n",
      "connections: ['[(<aiohttp.client_proto.ResponseHandler object at 0x0000019568194D60>, 117447.437)]']\n",
      "connector: <aiohttp.connector.TCPConnector object at 0x000001956AE2AD30>\n"
     ]
    },
    {
     "name": "stdout",
     "output_type": "stream",
     "text": [
      "74 Everton Leeds 18.02.2023\n"
     ]
    },
    {
     "name": "stderr",
     "output_type": "stream",
     "text": [
      "Unclosed client session\n",
      "client_session: <aiohttp.client.ClientSession object at 0x000001956850D610>\n",
      "Unclosed connector\n",
      "connections: ['[(<aiohttp.client_proto.ResponseHandler object at 0x00000195683C5FA0>, 117450.171)]']\n",
      "connector: <aiohttp.connector.TCPConnector object at 0x000001956850DEB0>\n"
     ]
    },
    {
     "name": "stdout",
     "output_type": "stream",
     "text": [
      "75 Manchester United Leicester 18.02.2023\n"
     ]
    },
    {
     "name": "stderr",
     "output_type": "stream",
     "text": [
      "Unclosed client session\n",
      "client_session: <aiohttp.client.ClientSession object at 0x000001956AD4AB50>\n",
      "Unclosed connector\n",
      "connections: ['[(<aiohttp.client_proto.ResponseHandler object at 0x0000019568194D60>, 117453.14)]']\n",
      "connector: <aiohttp.connector.TCPConnector object at 0x000001956AD4AB20>\n"
     ]
    },
    {
     "name": "stdout",
     "output_type": "stream",
     "text": [
      "76 Newcastle United Liverpool 18.02.2023\n"
     ]
    },
    {
     "name": "stderr",
     "output_type": "stream",
     "text": [
      "Unclosed client session\n",
      "client_session: <aiohttp.client.ClientSession object at 0x00000195684E7A30>\n",
      "Unclosed connector\n",
      "connections: ['[(<aiohttp.client_proto.ResponseHandler object at 0x0000019568194D60>, 117455.671)]']\n",
      "connector: <aiohttp.connector.TCPConnector object at 0x00000195684E74F0>\n"
     ]
    },
    {
     "name": "stdout",
     "output_type": "stream",
     "text": [
      "77 Nottingham Forest Manchester City 18.02.2023\n"
     ]
    },
    {
     "name": "stderr",
     "output_type": "stream",
     "text": [
      "Unclosed client session\n",
      "client_session: <aiohttp.client.ClientSession object at 0x000001956850D490>\n",
      "Unclosed connector\n",
      "connections: ['[(<aiohttp.client_proto.ResponseHandler object at 0x00000195686289A0>, 117457.343)]']\n",
      "connector: <aiohttp.connector.TCPConnector object at 0x000001956850D970>\n"
     ]
    },
    {
     "name": "stdout",
     "output_type": "stream",
     "text": [
      "78 Tottenham West Ham 18.02.2023\n"
     ]
    },
    {
     "name": "stderr",
     "output_type": "stream",
     "text": [
      "Unclosed client session\n",
      "client_session: <aiohttp.client.ClientSession object at 0x0000019568228430>\n",
      "Unclosed connector\n",
      "connections: ['[(<aiohttp.client_proto.ResponseHandler object at 0x0000019568194D60>, 117460.281)]']\n",
      "connector: <aiohttp.connector.TCPConnector object at 0x00000195682283D0>\n"
     ]
    },
    {
     "name": "stdout",
     "output_type": "stream",
     "text": [
      "79 Wolverhampton Wanderers Bournemouth 18.02.2023\n"
     ]
    },
    {
     "name": "stderr",
     "output_type": "stream",
     "text": [
      "Unclosed client session\n",
      "client_session: <aiohttp.client.ClientSession object at 0x00000195684E61C0>\n",
      "Unclosed connector\n",
      "connections: ['[(<aiohttp.client_proto.ResponseHandler object at 0x0000019568486E20>, 117463.062)]']\n",
      "connector: <aiohttp.connector.TCPConnector object at 0x00000195684E6370>\n"
     ]
    },
    {
     "name": "stdout",
     "output_type": "stream",
     "text": [
      "80 Bournemouth Manchester City 25.02.2023\n"
     ]
    },
    {
     "name": "stderr",
     "output_type": "stream",
     "text": [
      "Unclosed client session\n",
      "client_session: <aiohttp.client.ClientSession object at 0x00000195689B8280>\n",
      "Unclosed connector\n",
      "connections: ['[(<aiohttp.client_proto.ResponseHandler object at 0x0000019568194D60>, 117465.125)]']\n",
      "connector: <aiohttp.connector.TCPConnector object at 0x00000195689B89A0>\n"
     ]
    },
    {
     "name": "stdout",
     "output_type": "stream",
     "text": [
      "81 Crystal Palace Liverpool 25.02.2023\n"
     ]
    },
    {
     "name": "stderr",
     "output_type": "stream",
     "text": [
      "Unclosed client session\n",
      "client_session: <aiohttp.client.ClientSession object at 0x0000019568413100>\n",
      "Unclosed connector\n",
      "connections: ['[(<aiohttp.client_proto.ResponseHandler object at 0x0000019568194D60>, 117467.484)]']\n",
      "connector: <aiohttp.connector.TCPConnector object at 0x0000019568413EE0>\n"
     ]
    },
    {
     "name": "stdout",
     "output_type": "stream",
     "text": [
      "82 Everton Aston Villa 25.02.2023\n"
     ]
    },
    {
     "name": "stderr",
     "output_type": "stream",
     "text": [
      "Unclosed client session\n",
      "client_session: <aiohttp.client.ClientSession object at 0x000001956AABCA60>\n",
      "Unclosed connector\n",
      "connections: ['[(<aiohttp.client_proto.ResponseHandler object at 0x0000019568486E20>, 117470.578)]']\n",
      "connector: <aiohttp.connector.TCPConnector object at 0x000001956AABCF10>\n"
     ]
    },
    {
     "name": "stdout",
     "output_type": "stream",
     "text": [
      "83 Fulham Wolverhampton Wanderers 25.02.2023\n"
     ]
    },
    {
     "name": "stderr",
     "output_type": "stream",
     "text": [
      "Unclosed client session\n",
      "client_session: <aiohttp.client.ClientSession object at 0x0000019568433D90>\n",
      "Unclosed connector\n",
      "connections: ['[(<aiohttp.client_proto.ResponseHandler object at 0x0000019568194D60>, 117472.468)]']\n",
      "connector: <aiohttp.connector.TCPConnector object at 0x000001956881FF70>\n"
     ]
    },
    {
     "name": "stdout",
     "output_type": "stream",
     "text": [
      "84 Leeds Southampton 25.02.2023\n"
     ]
    },
    {
     "name": "stderr",
     "output_type": "stream",
     "text": [
      "Unclosed client session\n",
      "client_session: <aiohttp.client.ClientSession object at 0x00000195685052B0>\n",
      "Unclosed connector\n",
      "connections: ['[(<aiohttp.client_proto.ResponseHandler object at 0x0000019568658940>, 117474.531)]']\n",
      "connector: <aiohttp.connector.TCPConnector object at 0x00000195685059D0>\n"
     ]
    },
    {
     "name": "stdout",
     "output_type": "stream",
     "text": [
      "85 Leicester Arsenal 25.02.2023\n"
     ]
    },
    {
     "name": "stderr",
     "output_type": "stream",
     "text": [
      "Unclosed client session\n",
      "client_session: <aiohttp.client.ClientSession object at 0x000001956872E820>\n",
      "Unclosed connector\n",
      "connections: ['[(<aiohttp.client_proto.ResponseHandler object at 0x0000019568658940>, 117477.0)]']\n",
      "connector: <aiohttp.connector.TCPConnector object at 0x000001956872EE50>\n"
     ]
    },
    {
     "name": "stdout",
     "output_type": "stream",
     "text": [
      "86 Manchester United Brentford 25.02.2023\n"
     ]
    },
    {
     "name": "stderr",
     "output_type": "stream",
     "text": [
      "Unclosed client session\n",
      "client_session: <aiohttp.client.ClientSession object at 0x000001956882D2B0>\n",
      "Unclosed connector\n",
      "connections: ['[(<aiohttp.client_proto.ResponseHandler object at 0x0000019568486E20>, 117479.875)]']\n",
      "connector: <aiohttp.connector.TCPConnector object at 0x000001956882D5E0>\n"
     ]
    },
    {
     "name": "stdout",
     "output_type": "stream",
     "text": [
      "87 Newcastle United Brighton 25.02.2023\n"
     ]
    },
    {
     "name": "stderr",
     "output_type": "stream",
     "text": [
      "Unclosed client session\n",
      "client_session: <aiohttp.client.ClientSession object at 0x000001956ABC5340>\n",
      "Unclosed connector\n",
      "connections: ['[(<aiohttp.client_proto.ResponseHandler object at 0x0000019568658940>, 117482.609)]']\n",
      "connector: <aiohttp.connector.TCPConnector object at 0x000001956ABC5070>\n"
     ]
    },
    {
     "name": "stdout",
     "output_type": "stream",
     "text": [
      "88 Tottenham Chelsea 25.02.2023\n"
     ]
    },
    {
     "name": "stderr",
     "output_type": "stream",
     "text": [
      "Unclosed client session\n",
      "client_session: <aiohttp.client.ClientSession object at 0x00000195575789D0>\n",
      "Unclosed connector\n",
      "connections: ['[(<aiohttp.client_proto.ResponseHandler object at 0x0000019568486E20>, 117485.187)]']\n",
      "connector: <aiohttp.connector.TCPConnector object at 0x000001956884CBE0>\n"
     ]
    },
    {
     "name": "stdout",
     "output_type": "stream",
     "text": [
      "89 West Ham Nottingham Forest 25.02.2023\n"
     ]
    },
    {
     "name": "stderr",
     "output_type": "stream",
     "text": [
      "Unclosed client session\n",
      "client_session: <aiohttp.client.ClientSession object at 0x0000019568413160>\n",
      "Unclosed connector\n",
      "connections: ['[(<aiohttp.client_proto.ResponseHandler object at 0x0000019568780C40>, 117488.046)]']\n",
      "connector: <aiohttp.connector.TCPConnector object at 0x0000019568413700>\n"
     ]
    },
    {
     "name": "stdout",
     "output_type": "stream",
     "text": [
      "90 Arsenal Bournemouth 04.03.2023\n"
     ]
    },
    {
     "name": "stderr",
     "output_type": "stream",
     "text": [
      "Unclosed client session\n",
      "client_session: <aiohttp.client.ClientSession object at 0x000001956ACD4340>\n",
      "Unclosed connector\n",
      "connections: ['[(<aiohttp.client_proto.ResponseHandler object at 0x000001956AB46BE0>, 117490.656)]']\n",
      "connector: <aiohttp.connector.TCPConnector object at 0x000001956ACD4B80>\n"
     ]
    },
    {
     "name": "stdout",
     "output_type": "stream",
     "text": [
      "91 Aston Villa Crystal Palace 04.03.2023\n"
     ]
    },
    {
     "name": "stderr",
     "output_type": "stream",
     "text": [
      "Unclosed client session\n",
      "client_session: <aiohttp.client.ClientSession object at 0x00000195688861F0>\n",
      "Unclosed connector\n",
      "connections: ['[(<aiohttp.client_proto.ResponseHandler object at 0x0000019568658940>, 117493.796)]']\n",
      "connector: <aiohttp.connector.TCPConnector object at 0x0000019568886A60>\n"
     ]
    },
    {
     "name": "stdout",
     "output_type": "stream",
     "text": [
      "92 Brentford Fulham 04.03.2023\n"
     ]
    },
    {
     "name": "stderr",
     "output_type": "stream",
     "text": [
      "Unclosed client session\n",
      "client_session: <aiohttp.client.ClientSession object at 0x000001956881CA90>\n",
      "Unclosed connector\n",
      "connections: ['[(<aiohttp.client_proto.ResponseHandler object at 0x000001956AB46BE0>, 117495.531)]']\n",
      "connector: <aiohttp.connector.TCPConnector object at 0x000001956881CBB0>\n"
     ]
    },
    {
     "name": "stdout",
     "output_type": "stream",
     "text": [
      "93 Brighton West Ham 04.03.2023\n"
     ]
    },
    {
     "name": "stderr",
     "output_type": "stream",
     "text": [
      "Unclosed client session\n",
      "client_session: <aiohttp.client.ClientSession object at 0x0000019568542CD0>\n",
      "Unclosed connector\n",
      "connections: ['[(<aiohttp.client_proto.ResponseHandler object at 0x0000019568780C40>, 117498.156)]']\n",
      "connector: <aiohttp.connector.TCPConnector object at 0x000001956ABE12B0>\n"
     ]
    },
    {
     "name": "stdout",
     "output_type": "stream",
     "text": [
      "94 Chelsea Leeds 04.03.2023\n"
     ]
    },
    {
     "name": "stderr",
     "output_type": "stream",
     "text": [
      "Unclosed client session\n",
      "client_session: <aiohttp.client.ClientSession object at 0x0000019568505760>\n",
      "Unclosed connector\n",
      "connections: ['[(<aiohttp.client_proto.ResponseHandler object at 0x00000195683C5FA0>, 117501.14)]']\n",
      "connector: <aiohttp.connector.TCPConnector object at 0x00000195685053D0>\n"
     ]
    },
    {
     "name": "stdout",
     "output_type": "stream",
     "text": [
      "95 Liverpool Manchester United 04.03.2023\n"
     ]
    },
    {
     "name": "stderr",
     "output_type": "stream",
     "text": [
      "Unclosed client session\n",
      "client_session: <aiohttp.client.ClientSession object at 0x000001956AC9D460>\n",
      "Unclosed connector\n",
      "connections: ['[(<aiohttp.client_proto.ResponseHandler object at 0x0000019568780C40>, 117503.906)]']\n",
      "connector: <aiohttp.connector.TCPConnector object at 0x000001956AC9D490>\n"
     ]
    },
    {
     "name": "stdout",
     "output_type": "stream",
     "text": [
      "96 Manchester City Newcastle United 04.03.2023\n"
     ]
    },
    {
     "name": "stderr",
     "output_type": "stream",
     "text": [
      "Unclosed client session\n",
      "client_session: <aiohttp.client.ClientSession object at 0x000001956845CDC0>\n",
      "Unclosed connector\n",
      "connections: ['[(<aiohttp.client_proto.ResponseHandler object at 0x00000195699BD1C0>, 117506.89)]']\n",
      "connector: <aiohttp.connector.TCPConnector object at 0x000001956845C220>\n"
     ]
    },
    {
     "name": "stdout",
     "output_type": "stream",
     "text": [
      "97 Nottingham Forest Everton 04.03.2023\n"
     ]
    },
    {
     "name": "stderr",
     "output_type": "stream",
     "text": [
      "Unclosed client session\n",
      "client_session: <aiohttp.client.ClientSession object at 0x000001956881F160>\n",
      "Unclosed connector\n",
      "connections: ['[(<aiohttp.client_proto.ResponseHandler object at 0x0000019568194D60>, 117508.5)]']\n",
      "connector: <aiohttp.connector.TCPConnector object at 0x000001956881F1F0>\n"
     ]
    },
    {
     "name": "stdout",
     "output_type": "stream",
     "text": [
      "98 Southampton Leicester 04.03.2023\n"
     ]
    },
    {
     "name": "stderr",
     "output_type": "stream",
     "text": [
      "Unclosed client session\n",
      "client_session: <aiohttp.client.ClientSession object at 0x000001956ABA2790>\n",
      "Unclosed connector\n",
      "connections: ['[(<aiohttp.client_proto.ResponseHandler object at 0x00000195683C5C40>, 117511.281)]']\n",
      "connector: <aiohttp.connector.TCPConnector object at 0x000001956ABA27C0>\n"
     ]
    },
    {
     "name": "stdout",
     "output_type": "stream",
     "text": [
      "99 Wolverhampton Wanderers Tottenham 04.03.2023\n"
     ]
    },
    {
     "name": "stderr",
     "output_type": "stream",
     "text": [
      "Unclosed client session\n",
      "client_session: <aiohttp.client.ClientSession object at 0x0000019568505850>\n",
      "Unclosed connector\n",
      "connections: ['[(<aiohttp.client_proto.ResponseHandler object at 0x000001956AB46BE0>, 117513.781)]']\n",
      "connector: <aiohttp.connector.TCPConnector object at 0x0000019568505C70>\n"
     ]
    },
    {
     "name": "stdout",
     "output_type": "stream",
     "text": [
      "100 Bournemouth Liverpool 11.03.2023\n"
     ]
    },
    {
     "name": "stderr",
     "output_type": "stream",
     "text": [
      "Unclosed client session\n",
      "client_session: <aiohttp.client.ClientSession object at 0x0000019568413F40>\n",
      "Unclosed connector\n",
      "connections: ['[(<aiohttp.client_proto.ResponseHandler object at 0x00000195683C5C40>, 117515.828)]']\n",
      "connector: <aiohttp.connector.TCPConnector object at 0x0000019568413100>\n"
     ]
    },
    {
     "name": "stdout",
     "output_type": "stream",
     "text": [
      "101 Crystal Palace Manchester City 11.03.2023\n"
     ]
    },
    {
     "name": "stderr",
     "output_type": "stream",
     "text": [
      "Unclosed client session\n",
      "client_session: <aiohttp.client.ClientSession object at 0x00000195684A4F40>\n",
      "Unclosed connector\n",
      "connections: ['[(<aiohttp.client_proto.ResponseHandler object at 0x00000195683C5C40>, 117518.546)]']\n",
      "connector: <aiohttp.connector.TCPConnector object at 0x00000195684A4D90>\n"
     ]
    },
    {
     "name": "stdout",
     "output_type": "stream",
     "text": [
      "102 Everton Brentford 11.03.2023\n"
     ]
    },
    {
     "name": "stderr",
     "output_type": "stream",
     "text": [
      "Unclosed client session\n",
      "client_session: <aiohttp.client.ClientSession object at 0x00000195684A4BB0>\n",
      "Unclosed connector\n",
      "connections: ['[(<aiohttp.client_proto.ResponseHandler object at 0x00000195683C5C40>, 117521.703)]']\n",
      "connector: <aiohttp.connector.TCPConnector object at 0x00000195684A4D00>\n"
     ]
    },
    {
     "name": "stdout",
     "output_type": "stream",
     "text": [
      "103 Fulham Arsenal 11.03.2023\n"
     ]
    },
    {
     "name": "stderr",
     "output_type": "stream",
     "text": [
      "Unclosed client session\n",
      "client_session: <aiohttp.client.ClientSession object at 0x000001956ACEFEB0>\n",
      "Unclosed connector\n",
      "connections: ['[(<aiohttp.client_proto.ResponseHandler object at 0x0000019568649520>, 117523.781)]']\n",
      "connector: <aiohttp.connector.TCPConnector object at 0x000001956ACEFEE0>\n"
     ]
    },
    {
     "name": "stdout",
     "output_type": "stream",
     "text": [
      "104 Leeds Brighton 11.03.2023\n"
     ]
    },
    {
     "name": "stderr",
     "output_type": "stream",
     "text": [
      "Unclosed client session\n",
      "client_session: <aiohttp.client.ClientSession object at 0x00000195685057F0>\n",
      "Unclosed connector\n",
      "connections: ['[(<aiohttp.client_proto.ResponseHandler object at 0x0000019568780BE0>, 117526.328)]']\n",
      "connector: <aiohttp.connector.TCPConnector object at 0x00000195685052E0>\n"
     ]
    },
    {
     "name": "stdout",
     "output_type": "stream",
     "text": [
      "105 Leicester Chelsea 11.03.2023\n"
     ]
    },
    {
     "name": "stderr",
     "output_type": "stream",
     "text": [
      "Unclosed client session\n",
      "client_session: <aiohttp.client.ClientSession object at 0x000001956AE2D970>\n",
      "Unclosed connector\n",
      "connections: ['[(<aiohttp.client_proto.ResponseHandler object at 0x0000019568649520>, 117528.875)]']\n",
      "connector: <aiohttp.connector.TCPConnector object at 0x000001956AE2D9A0>\n"
     ]
    },
    {
     "name": "stdout",
     "output_type": "stream",
     "text": [
      "106 Manchester United Southampton 11.03.2023\n"
     ]
    },
    {
     "name": "stderr",
     "output_type": "stream",
     "text": [
      "Unclosed client session\n",
      "client_session: <aiohttp.client.ClientSession object at 0x0000019568550F70>\n",
      "Unclosed connector\n",
      "connections: ['[(<aiohttp.client_proto.ResponseHandler object at 0x0000019568649520>, 117531.656)]']\n",
      "connector: <aiohttp.connector.TCPConnector object at 0x00000195685505B0>\n"
     ]
    },
    {
     "name": "stdout",
     "output_type": "stream",
     "text": [
      "107 Newcastle United Wolverhampton Wanderers 11.03.2023\n"
     ]
    },
    {
     "name": "stderr",
     "output_type": "stream",
     "text": [
      "Unclosed client session\n",
      "client_session: <aiohttp.client.ClientSession object at 0x000001956877F5B0>\n",
      "Unclosed connector\n",
      "connections: ['[(<aiohttp.client_proto.ResponseHandler object at 0x00000195686A7CA0>, 117534.421)]']\n",
      "connector: <aiohttp.connector.TCPConnector object at 0x000001956877FB20>\n"
     ]
    },
    {
     "name": "stdout",
     "output_type": "stream",
     "text": [
      "108 Tottenham Nottingham Forest 11.03.2023\n"
     ]
    },
    {
     "name": "stderr",
     "output_type": "stream",
     "text": [
      "Unclosed client session\n",
      "client_session: <aiohttp.client.ClientSession object at 0x00000195688848B0>\n",
      "Unclosed connector\n",
      "connections: ['[(<aiohttp.client_proto.ResponseHandler object at 0x0000019568649520>, 117537.187)]']\n",
      "connector: <aiohttp.connector.TCPConnector object at 0x0000019568884430>\n"
     ]
    },
    {
     "name": "stdout",
     "output_type": "stream",
     "text": [
      "109 West Ham Aston Villa 11.03.2023\n"
     ]
    },
    {
     "name": "stderr",
     "output_type": "stream",
     "text": [
      "Unclosed client session\n",
      "client_session: <aiohttp.client.ClientSession object at 0x000001956AB95EE0>\n",
      "Unclosed connector\n",
      "connections: ['[(<aiohttp.client_proto.ResponseHandler object at 0x0000019568649520>, 117539.718)]']\n",
      "connector: <aiohttp.connector.TCPConnector object at 0x000001956AB95970>\n"
     ]
    },
    {
     "name": "stdout",
     "output_type": "stream",
     "text": [
      "110 Arsenal Crystal Palace 18.03.2023\n"
     ]
    },
    {
     "name": "stderr",
     "output_type": "stream",
     "text": [
      "Unclosed client session\n",
      "client_session: <aiohttp.client.ClientSession object at 0x00000195685958B0>\n",
      "Unclosed connector\n",
      "connections: ['[(<aiohttp.client_proto.ResponseHandler object at 0x00000195686A7CA0>, 117542.312)]']\n",
      "connector: <aiohttp.connector.TCPConnector object at 0x0000019568595B80>\n"
     ]
    },
    {
     "name": "stdout",
     "output_type": "stream",
     "text": [
      "111 Aston Villa Bournemouth 18.03.2023\n"
     ]
    },
    {
     "name": "stderr",
     "output_type": "stream",
     "text": [
      "Unclosed client session\n",
      "client_session: <aiohttp.client.ClientSession object at 0x0000019568550670>\n",
      "Unclosed connector\n",
      "connections: ['[(<aiohttp.client_proto.ResponseHandler object at 0x0000019568649520>, 117545.0)]']\n",
      "connector: <aiohttp.connector.TCPConnector object at 0x00000195685505B0>\n"
     ]
    },
    {
     "name": "stdout",
     "output_type": "stream",
     "text": [
      "112 Brentford Leicester 18.03.2023\n"
     ]
    },
    {
     "name": "stderr",
     "output_type": "stream",
     "text": [
      "Unclosed client session\n",
      "client_session: <aiohttp.client.ClientSession object at 0x000001956AB95820>\n",
      "Unclosed connector\n",
      "connections: ['[(<aiohttp.client_proto.ResponseHandler object at 0x00000195686A7CA0>, 117546.89)]']\n",
      "connector: <aiohttp.connector.TCPConnector object at 0x000001956AB95850>\n"
     ]
    },
    {
     "name": "stdout",
     "output_type": "stream",
     "text": [
      "113 Brighton Manchester United 18.03.2023\n"
     ]
    },
    {
     "name": "stderr",
     "output_type": "stream",
     "text": [
      "Unclosed client session\n",
      "client_session: <aiohttp.client.ClientSession object at 0x0000019568740D90>\n",
      "Unclosed connector\n",
      "connections: ['[(<aiohttp.client_proto.ResponseHandler object at 0x000001956895BB80>, 117549.703)]']\n",
      "connector: <aiohttp.connector.TCPConnector object at 0x00000195683714C0>\n"
     ]
    },
    {
     "name": "stdout",
     "output_type": "stream",
     "text": [
      "114 Chelsea Everton 18.03.2023\n"
     ]
    },
    {
     "name": "stderr",
     "output_type": "stream",
     "text": [
      "Unclosed client session\n",
      "client_session: <aiohttp.client.ClientSession object at 0x00000195687A29A0>\n",
      "Unclosed connector\n",
      "connections: ['[(<aiohttp.client_proto.ResponseHandler object at 0x0000019568649520>, 117552.781)]']\n",
      "connector: <aiohttp.connector.TCPConnector object at 0x00000195687A2430>\n"
     ]
    },
    {
     "name": "stdout",
     "output_type": "stream",
     "text": [
      "115 Liverpool Fulham 18.03.2023\n"
     ]
    },
    {
     "name": "stderr",
     "output_type": "stream",
     "text": [
      "Unclosed client session\n",
      "client_session: <aiohttp.client.ClientSession object at 0x0000019568595550>\n",
      "Unclosed connector\n",
      "connections: ['[(<aiohttp.client_proto.ResponseHandler object at 0x00000195686289A0>, 117555.687)]']\n",
      "connector: <aiohttp.connector.TCPConnector object at 0x00000195685958B0>\n"
     ]
    },
    {
     "name": "stdout",
     "output_type": "stream",
     "text": [
      "116 Manchester City West Ham 18.03.2023\n"
     ]
    },
    {
     "name": "stderr",
     "output_type": "stream",
     "text": [
      "Unclosed client session\n",
      "client_session: <aiohttp.client.ClientSession object at 0x00000195686F52B0>\n",
      "Unclosed connector\n",
      "connections: ['[(<aiohttp.client_proto.ResponseHandler object at 0x00000195686289A0>, 117558.265)]']\n",
      "connector: <aiohttp.connector.TCPConnector object at 0x00000195686F5F40>\n"
     ]
    },
    {
     "name": "stdout",
     "output_type": "stream",
     "text": [
      "117 Nottingham Forest Newcastle United 18.03.2023\n"
     ]
    },
    {
     "name": "stderr",
     "output_type": "stream",
     "text": [
      "Unclosed client session\n",
      "client_session: <aiohttp.client.ClientSession object at 0x0000019568824280>\n",
      "Unclosed connector\n",
      "connections: ['[(<aiohttp.client_proto.ResponseHandler object at 0x000001956AB46A60>, 117560.125)]']\n",
      "connector: <aiohttp.connector.TCPConnector object at 0x0000019568824AF0>\n"
     ]
    },
    {
     "name": "stdout",
     "output_type": "stream",
     "text": [
      "118 Southampton Tottenham 18.03.2023\n"
     ]
    },
    {
     "name": "stderr",
     "output_type": "stream",
     "text": [
      "Unclosed client session\n",
      "client_session: <aiohttp.client.ClientSession object at 0x00000195686F52E0>\n",
      "Unclosed connector\n",
      "connections: ['[(<aiohttp.client_proto.ResponseHandler object at 0x000001956AB46A60>, 117563.0)]']\n",
      "connector: <aiohttp.connector.TCPConnector object at 0x00000195686F57F0>\n"
     ]
    },
    {
     "name": "stdout",
     "output_type": "stream",
     "text": [
      "119 Wolverhampton Wanderers Leeds 18.03.2023\n"
     ]
    },
    {
     "name": "stderr",
     "output_type": "stream",
     "text": [
      "Unclosed client session\n",
      "client_session: <aiohttp.client.ClientSession object at 0x000001956AC430D0>\n",
      "Unclosed connector\n",
      "connections: ['[(<aiohttp.client_proto.ResponseHandler object at 0x000001956AB46A60>, 117565.328)]']\n",
      "connector: <aiohttp.connector.TCPConnector object at 0x000001956AC43FA0>\n"
     ]
    },
    {
     "name": "stdout",
     "output_type": "stream",
     "text": [
      "120 Arsenal Leeds 01.04.2023\n"
     ]
    },
    {
     "name": "stderr",
     "output_type": "stream",
     "text": [
      "Unclosed client session\n",
      "client_session: <aiohttp.client.ClientSession object at 0x000001956AC75640>\n",
      "Unclosed connector\n",
      "connections: ['[(<aiohttp.client_proto.ResponseHandler object at 0x000001956895BB80>, 117568.625)]']\n",
      "connector: <aiohttp.connector.TCPConnector object at 0x000001956AC75670>\n"
     ]
    },
    {
     "name": "stdout",
     "output_type": "stream",
     "text": [
      "121 Bournemouth Fulham 01.04.2023\n"
     ]
    },
    {
     "name": "stderr",
     "output_type": "stream",
     "text": [
      "Unclosed client session\n",
      "client_session: <aiohttp.client.ClientSession object at 0x000001956AAF8B20>\n",
      "Unclosed connector\n",
      "connections: ['[(<aiohttp.client_proto.ResponseHandler object at 0x00000195699BD520>, 117570.437)]']\n",
      "connector: <aiohttp.connector.TCPConnector object at 0x000001956AAF8610>\n"
     ]
    },
    {
     "name": "stdout",
     "output_type": "stream",
     "text": [
      "122 Brighton Brentford 01.04.2023\n"
     ]
    },
    {
     "name": "stderr",
     "output_type": "stream",
     "text": [
      "Unclosed client session\n",
      "client_session: <aiohttp.client.ClientSession object at 0x00000195684336A0>\n",
      "Unclosed connector\n",
      "connections: ['[(<aiohttp.client_proto.ResponseHandler object at 0x00000195699BD520>, 117573.265)]']\n",
      "connector: <aiohttp.connector.TCPConnector object at 0x0000019568433E80>\n"
     ]
    },
    {
     "name": "stdout",
     "output_type": "stream",
     "text": [
      "123 Chelsea Aston Villa 01.04.2023\n"
     ]
    },
    {
     "name": "stderr",
     "output_type": "stream",
     "text": [
      "Unclosed client session\n",
      "client_session: <aiohttp.client.ClientSession object at 0x0000019568542460>\n",
      "Unclosed connector\n",
      "connections: ['[(<aiohttp.client_proto.ResponseHandler object at 0x0000019568658940>, 117575.953)]']\n",
      "connector: <aiohttp.connector.TCPConnector object at 0x00000195685424C0>\n"
     ]
    },
    {
     "name": "stdout",
     "output_type": "stream",
     "text": [
      "124 Crystal Palace Leicester 01.04.2023\n"
     ]
    },
    {
     "name": "stderr",
     "output_type": "stream",
     "text": [
      "Unclosed client session\n",
      "client_session: <aiohttp.client.ClientSession object at 0x000001956AD79850>\n",
      "Unclosed connector\n",
      "connections: ['[(<aiohttp.client_proto.ResponseHandler object at 0x0000019568658940>, 117578.812)]']\n",
      "connector: <aiohttp.connector.TCPConnector object at 0x000001956AD792B0>\n"
     ]
    },
    {
     "name": "stdout",
     "output_type": "stream",
     "text": [
      "125 Everton Tottenham 01.04.2023\n"
     ]
    },
    {
     "name": "stderr",
     "output_type": "stream",
     "text": [
      "Unclosed client session\n",
      "client_session: <aiohttp.client.ClientSession object at 0x000001956ADBC5E0>\n",
      "Unclosed connector\n",
      "connections: ['[(<aiohttp.client_proto.ResponseHandler object at 0x0000019568780EE0>, 117582.046)]']\n",
      "connector: <aiohttp.connector.TCPConnector object at 0x000001956ADBC610>\n"
     ]
    },
    {
     "name": "stdout",
     "output_type": "stream",
     "text": [
      "126 Manchester City Liverpool 01.04.2023\n"
     ]
    },
    {
     "name": "stderr",
     "output_type": "stream",
     "text": [
      "Unclosed client session\n",
      "client_session: <aiohttp.client.ClientSession object at 0x000001956AAF8430>\n",
      "Unclosed connector\n",
      "connections: ['[(<aiohttp.client_proto.ResponseHandler object at 0x000001956AB462E0>, 117585.015)]']\n",
      "connector: <aiohttp.connector.TCPConnector object at 0x000001956AAF8340>\n"
     ]
    },
    {
     "name": "stdout",
     "output_type": "stream",
     "text": [
      "127 Newcastle United Manchester United 01.04.2023\n"
     ]
    },
    {
     "name": "stderr",
     "output_type": "stream",
     "text": [
      "Unclosed client session\n",
      "client_session: <aiohttp.client.ClientSession object at 0x000001956AD79160>\n",
      "Unclosed connector\n",
      "connections: ['[(<aiohttp.client_proto.ResponseHandler object at 0x000001956AB462E0>, 117587.796)]']\n",
      "connector: <aiohttp.connector.TCPConnector object at 0x000001956AD796A0>\n"
     ]
    },
    {
     "name": "stdout",
     "output_type": "stream",
     "text": [
      "128 Nottingham Forest Wolverhampton Wanderers 01.04.2023\n"
     ]
    },
    {
     "name": "stderr",
     "output_type": "stream",
     "text": [
      "Unclosed client session\n",
      "client_session: <aiohttp.client.ClientSession object at 0x00000195682288E0>\n",
      "Unclosed connector\n",
      "connections: ['[(<aiohttp.client_proto.ResponseHandler object at 0x00000195699BD520>, 117589.484)]']\n",
      "connector: <aiohttp.connector.TCPConnector object at 0x0000019568228430>\n"
     ]
    },
    {
     "name": "stdout",
     "output_type": "stream",
     "text": [
      "129 West Ham Southampton 01.04.2023\n"
     ]
    },
    {
     "name": "stderr",
     "output_type": "stream",
     "text": [
      "Unclosed client session\n",
      "client_session: <aiohttp.client.ClientSession object at 0x000001956881CD00>\n",
      "Unclosed connector\n",
      "connections: ['[(<aiohttp.client_proto.ResponseHandler object at 0x00000195699BD520>, 117592.093)]']\n",
      "connector: <aiohttp.connector.TCPConnector object at 0x000001956881CE80>\n"
     ]
    },
    {
     "name": "stdout",
     "output_type": "stream",
     "text": [
      "130 Aston Villa Nottingham Forest 08.04.2023\n"
     ]
    },
    {
     "name": "stderr",
     "output_type": "stream",
     "text": [
      "Unclosed client session\n",
      "client_session: <aiohttp.client.ClientSession object at 0x00000195684C8400>\n",
      "Unclosed connector\n",
      "connections: ['[(<aiohttp.client_proto.ResponseHandler object at 0x000001956AB462E0>, 117594.89)]']\n",
      "connector: <aiohttp.connector.TCPConnector object at 0x00000195684C8340>\n"
     ]
    },
    {
     "name": "stdout",
     "output_type": "stream",
     "text": [
      "131 Brentford Newcastle United 08.04.2023\n"
     ]
    },
    {
     "name": "stderr",
     "output_type": "stream",
     "text": [
      "Unclosed client session\n",
      "client_session: <aiohttp.client.ClientSession object at 0x0000019568468850>\n",
      "Unclosed connector\n",
      "connections: ['[(<aiohttp.client_proto.ResponseHandler object at 0x00000195699BD1C0>, 117596.859)]']\n",
      "connector: <aiohttp.connector.TCPConnector object at 0x0000019568468520>\n"
     ]
    },
    {
     "name": "stdout",
     "output_type": "stream",
     "text": [
      "132 Fulham West Ham 08.04.2023\n"
     ]
    },
    {
     "name": "stderr",
     "output_type": "stream",
     "text": [
      "Unclosed client session\n",
      "client_session: <aiohttp.client.ClientSession object at 0x000001956AA36B80>\n",
      "Unclosed connector\n",
      "connections: ['[(<aiohttp.client_proto.ResponseHandler object at 0x00000195699BD1C0>, 117598.765)]']\n",
      "connector: <aiohttp.connector.TCPConnector object at 0x000001956AA36CA0>\n"
     ]
    },
    {
     "name": "stdout",
     "output_type": "stream",
     "text": [
      "133 Leeds Crystal Palace 08.04.2023\n"
     ]
    },
    {
     "name": "stderr",
     "output_type": "stream",
     "text": [
      "Unclosed client session\n",
      "client_session: <aiohttp.client.ClientSession object at 0x0000019568400310>\n",
      "Unclosed connector\n",
      "connections: ['[(<aiohttp.client_proto.ResponseHandler object at 0x0000019569A33B80>, 117601.0)]']\n",
      "connector: <aiohttp.connector.TCPConnector object at 0x0000019568400CD0>\n"
     ]
    },
    {
     "name": "stdout",
     "output_type": "stream",
     "text": [
      "134 Leicester Bournemouth 08.04.2023\n"
     ]
    },
    {
     "name": "stderr",
     "output_type": "stream",
     "text": [
      "Unclosed client session\n",
      "client_session: <aiohttp.client.ClientSession object at 0x000001956AB0D2E0>\n",
      "Unclosed connector\n",
      "connections: ['[(<aiohttp.client_proto.ResponseHandler object at 0x0000019569A33B80>, 117603.953)]']\n",
      "connector: <aiohttp.connector.TCPConnector object at 0x000001956AB0D8E0>\n"
     ]
    },
    {
     "name": "stdout",
     "output_type": "stream",
     "text": [
      "135 Liverpool Arsenal 08.04.2023\n"
     ]
    },
    {
     "name": "stderr",
     "output_type": "stream",
     "text": [
      "Unclosed client session\n",
      "client_session: <aiohttp.client.ClientSession object at 0x00000195684296D0>\n",
      "Unclosed connector\n",
      "connections: ['[(<aiohttp.client_proto.ResponseHandler object at 0x00000195687DAA00>, 117606.406)]']\n",
      "connector: <aiohttp.connector.TCPConnector object at 0x00000195684299D0>\n"
     ]
    },
    {
     "name": "stdout",
     "output_type": "stream",
     "text": [
      "136 Manchester United Everton 08.04.2023\n"
     ]
    },
    {
     "name": "stderr",
     "output_type": "stream",
     "text": [
      "Unclosed client session\n",
      "client_session: <aiohttp.client.ClientSession object at 0x000001956AA702B0>\n",
      "Unclosed connector\n",
      "connections: ['[(<aiohttp.client_proto.ResponseHandler object at 0x0000019568780D00>, 117609.515)]']\n",
      "connector: <aiohttp.connector.TCPConnector object at 0x000001956AA70100>\n"
     ]
    },
    {
     "name": "stdout",
     "output_type": "stream",
     "text": [
      "137 Southampton Manchester City 08.04.2023\n"
     ]
    },
    {
     "name": "stderr",
     "output_type": "stream",
     "text": [
      "Unclosed client session\n",
      "client_session: <aiohttp.client.ClientSession object at 0x00000195684330A0>\n",
      "Unclosed connector\n",
      "connections: ['[(<aiohttp.client_proto.ResponseHandler object at 0x00000195687DAA00>, 117612.453)]']\n",
      "connector: <aiohttp.connector.TCPConnector object at 0x0000019568433340>\n"
     ]
    },
    {
     "name": "stdout",
     "output_type": "stream",
     "text": [
      "138 Tottenham Brighton 08.04.2023\n"
     ]
    },
    {
     "name": "stderr",
     "output_type": "stream",
     "text": [
      "Unclosed client session\n",
      "client_session: <aiohttp.client.ClientSession object at 0x000001956AB0B100>\n",
      "Unclosed connector\n",
      "connections: ['[(<aiohttp.client_proto.ResponseHandler object at 0x0000019568780D00>, 117615.281)]']\n",
      "connector: <aiohttp.connector.TCPConnector object at 0x000001956AB0BC10>\n"
     ]
    },
    {
     "name": "stdout",
     "output_type": "stream",
     "text": [
      "139 Wolverhampton Wanderers Chelsea 08.04.2023\n"
     ]
    },
    {
     "name": "stderr",
     "output_type": "stream",
     "text": [
      "Unclosed client session\n",
      "client_session: <aiohttp.client.ClientSession object at 0x00000195687EB9D0>\n",
      "Unclosed connector\n",
      "connections: ['[(<aiohttp.client_proto.ResponseHandler object at 0x00000195687B1460>, 117618.187)]']\n",
      "connector: <aiohttp.connector.TCPConnector object at 0x00000195687EBD00>\n"
     ]
    },
    {
     "name": "stdout",
     "output_type": "stream",
     "text": [
      "140 Aston Villa Newcastle United 15.04.2023\n"
     ]
    },
    {
     "name": "stderr",
     "output_type": "stream",
     "text": [
      "Unclosed client session\n",
      "client_session: <aiohttp.client.ClientSession object at 0x00000195684334C0>\n",
      "Unclosed connector\n",
      "connections: ['[(<aiohttp.client_proto.ResponseHandler object at 0x00000195687DAA00>, 117621.062)]']\n",
      "connector: <aiohttp.connector.TCPConnector object at 0x0000019568433B80>\n"
     ]
    },
    {
     "name": "stdout",
     "output_type": "stream",
     "text": [
      "141 Chelsea Brighton 15.04.2023\n"
     ]
    },
    {
     "name": "stderr",
     "output_type": "stream",
     "text": [
      "Unclosed client session\n",
      "client_session: <aiohttp.client.ClientSession object at 0x00000195683CA700>\n",
      "Unclosed connector\n",
      "connections: ['[(<aiohttp.client_proto.ResponseHandler object at 0x00000195686A7D00>, 117623.843)]']\n",
      "connector: <aiohttp.connector.TCPConnector object at 0x00000195683CA940>\n"
     ]
    },
    {
     "name": "stdout",
     "output_type": "stream",
     "text": [
      "142 Everton Fulham 15.04.2023\n"
     ]
    },
    {
     "name": "stderr",
     "output_type": "stream",
     "text": [
      "Unclosed client session\n",
      "client_session: <aiohttp.client.ClientSession object at 0x000001956AD108E0>\n",
      "Unclosed connector\n",
      "connections: ['[(<aiohttp.client_proto.ResponseHandler object at 0x000001956AB46A60>, 117626.484)]']\n",
      "connector: <aiohttp.connector.TCPConnector object at 0x000001956AD10910>\n"
     ]
    },
    {
     "name": "stdout",
     "output_type": "stream",
     "text": [
      "143 Leeds Liverpool 15.04.2023\n"
     ]
    },
    {
     "name": "stderr",
     "output_type": "stream",
     "text": [
      "Unclosed client session\n",
      "client_session: <aiohttp.client.ClientSession object at 0x00000195684007F0>\n",
      "Unclosed connector\n",
      "connections: ['[(<aiohttp.client_proto.ResponseHandler object at 0x000001956AB46A60>, 117628.531)]']\n",
      "connector: <aiohttp.connector.TCPConnector object at 0x00000195684002E0>\n"
     ]
    },
    {
     "name": "stdout",
     "output_type": "stream",
     "text": [
      "144 Manchester City Leicester 15.04.2023\n"
     ]
    },
    {
     "name": "stderr",
     "output_type": "stream",
     "text": [
      "Unclosed client session\n",
      "client_session: <aiohttp.client.ClientSession object at 0x0000019568433AF0>\n",
      "Unclosed connector\n",
      "connections: ['[(<aiohttp.client_proto.ResponseHandler object at 0x000001956AB46A60>, 117630.984)]']\n",
      "connector: <aiohttp.connector.TCPConnector object at 0x00000195684332E0>\n"
     ]
    },
    {
     "name": "stdout",
     "output_type": "stream",
     "text": [
      "145 Nottingham Forest Manchester United 15.04.2023\n"
     ]
    },
    {
     "name": "stderr",
     "output_type": "stream",
     "text": [
      "Unclosed client session\n",
      "client_session: <aiohttp.client.ClientSession object at 0x00000195687EB370>\n",
      "Unclosed connector\n",
      "connections: ['[(<aiohttp.client_proto.ResponseHandler object at 0x0000019568911E20>, 117632.625)]']\n",
      "connector: <aiohttp.connector.TCPConnector object at 0x00000195687EB9D0>\n"
     ]
    },
    {
     "name": "stdout",
     "output_type": "stream",
     "text": [
      "146 Southampton Crystal Palace 15.04.2023\n"
     ]
    },
    {
     "name": "stderr",
     "output_type": "stream",
     "text": [
      "Unclosed client session\n",
      "client_session: <aiohttp.client.ClientSession object at 0x0000019568702A30>\n",
      "Unclosed connector\n",
      "connections: ['[(<aiohttp.client_proto.ResponseHandler object at 0x00000195686A7D00>, 117635.343)]']\n",
      "connector: <aiohttp.connector.TCPConnector object at 0x0000019568702730>\n"
     ]
    },
    {
     "name": "stdout",
     "output_type": "stream",
     "text": [
      "147 Tottenham Bournemouth 15.04.2023\n"
     ]
    },
    {
     "name": "stderr",
     "output_type": "stream",
     "text": [
      "Unclosed client session\n",
      "client_session: <aiohttp.client.ClientSession object at 0x000001956AB61A30>\n",
      "Unclosed connector\n",
      "connections: ['[(<aiohttp.client_proto.ResponseHandler object at 0x0000019568486E80>, 117638.187)]']\n",
      "connector: <aiohttp.connector.TCPConnector object at 0x000001956AB61910>\n"
     ]
    },
    {
     "name": "stdout",
     "output_type": "stream",
     "text": [
      "148 West Ham Arsenal 15.04.2023\n"
     ]
    },
    {
     "name": "stderr",
     "output_type": "stream",
     "text": [
      "Unclosed client session\n",
      "client_session: <aiohttp.client.ClientSession object at 0x000001956883E760>\n",
      "Unclosed connector\n",
      "connections: ['[(<aiohttp.client_proto.ResponseHandler object at 0x00000195687DAA00>, 117641.015)]']\n",
      "connector: <aiohttp.connector.TCPConnector object at 0x000001956883E3D0>\n"
     ]
    },
    {
     "name": "stdout",
     "output_type": "stream",
     "text": [
      "149 Wolverhampton Wanderers Brentford 15.04.2023\n"
     ]
    },
    {
     "name": "stderr",
     "output_type": "stream",
     "text": [
      "Unclosed client session\n",
      "client_session: <aiohttp.client.ClientSession object at 0x0000019568779910>\n",
      "Unclosed connector\n",
      "connections: ['[(<aiohttp.client_proto.ResponseHandler object at 0x00000195687DAA00>, 117643.937)]']\n",
      "connector: <aiohttp.connector.TCPConnector object at 0x00000195687798B0>\n"
     ]
    },
    {
     "name": "stdout",
     "output_type": "stream",
     "text": [
      "150 Arsenal Southampton 22.04.2023\n"
     ]
    },
    {
     "name": "stderr",
     "output_type": "stream",
     "text": [
      "Unclosed client session\n",
      "client_session: <aiohttp.client.ClientSession object at 0x000001956AAB3520>\n",
      "Unclosed connector\n",
      "connections: ['[(<aiohttp.client_proto.ResponseHandler object at 0x0000019568911E20>, 117646.968)]']\n",
      "connector: <aiohttp.connector.TCPConnector object at 0x000001956AAB3550>\n"
     ]
    },
    {
     "name": "stdout",
     "output_type": "stream",
     "text": [
      "151 Bournemouth West Ham 22.04.2023\n"
     ]
    },
    {
     "name": "stderr",
     "output_type": "stream",
     "text": [
      "Unclosed client session\n",
      "client_session: <aiohttp.client.ClientSession object at 0x000001956AB0B3A0>\n",
      "Unclosed connector\n",
      "connections: ['[(<aiohttp.client_proto.ResponseHandler object at 0x00000195683C5700>, 117649.015)]']\n",
      "connector: <aiohttp.connector.TCPConnector object at 0x000001956AB0BE20>\n"
     ]
    },
    {
     "name": "stdout",
     "output_type": "stream",
     "text": [
      "152 Brentford Aston Villa 22.04.2023\n"
     ]
    },
    {
     "name": "stderr",
     "output_type": "stream",
     "text": [
      "Unclosed client session\n",
      "client_session: <aiohttp.client.ClientSession object at 0x000001956AC4A580>\n",
      "Unclosed connector\n",
      "connections: ['[(<aiohttp.client_proto.ResponseHandler object at 0x0000019568911E20>, 117651.062)]']\n",
      "connector: <aiohttp.connector.TCPConnector object at 0x000001956AC4A430>\n"
     ]
    },
    {
     "name": "stdout",
     "output_type": "stream",
     "text": [
      "153 Brighton Manchester City 22.04.2023\n"
     ]
    },
    {
     "name": "stderr",
     "output_type": "stream",
     "text": [
      "Unclosed client session\n",
      "client_session: <aiohttp.client.ClientSession object at 0x000001956AB03C10>\n",
      "Unclosed connector\n",
      "connections: ['[(<aiohttp.client_proto.ResponseHandler object at 0x00000195687DAA00>, 117654.234)]']\n",
      "connector: <aiohttp.connector.TCPConnector object at 0x0000019568468850>\n"
     ]
    },
    {
     "name": "stdout",
     "output_type": "stream",
     "text": [
      "154 Crystal Palace Everton 22.04.2023\n"
     ]
    },
    {
     "name": "stderr",
     "output_type": "stream",
     "text": [
      "Unclosed client session\n",
      "client_session: <aiohttp.client.ClientSession object at 0x00000195686FA190>\n",
      "Unclosed connector\n",
      "connections: ['[(<aiohttp.client_proto.ResponseHandler object at 0x00000195699BD1C0>, 117657.0)]']\n",
      "connector: <aiohttp.connector.TCPConnector object at 0x000001956AD35370>\n"
     ]
    },
    {
     "name": "stdout",
     "output_type": "stream",
     "text": [
      "155 Fulham Leeds 22.04.2023\n"
     ]
    },
    {
     "name": "stderr",
     "output_type": "stream",
     "text": [
      "Unclosed client session\n",
      "client_session: <aiohttp.client.ClientSession object at 0x000001956ABE4280>\n",
      "Unclosed connector\n",
      "connections: ['[(<aiohttp.client_proto.ResponseHandler object at 0x0000019568780EE0>, 117659.468)]']\n",
      "connector: <aiohttp.connector.TCPConnector object at 0x000001956ABE42B0>\n"
     ]
    },
    {
     "name": "stdout",
     "output_type": "stream",
     "text": [
      "156 Leicester Wolverhampton Wanderers 22.04.2023\n"
     ]
    },
    {
     "name": "stderr",
     "output_type": "stream",
     "text": [
      "Unclosed client session\n",
      "client_session: <aiohttp.client.ClientSession object at 0x000001956AB0BB50>\n",
      "Unclosed connector\n",
      "connections: ['[(<aiohttp.client_proto.ResponseHandler object at 0x00000195687DAA00>, 117662.203)]']\n",
      "connector: <aiohttp.connector.TCPConnector object at 0x000001956AB0BE80>\n"
     ]
    },
    {
     "name": "stdout",
     "output_type": "stream",
     "text": [
      "157 Liverpool Nottingham Forest 22.04.2023\n"
     ]
    },
    {
     "name": "stderr",
     "output_type": "stream",
     "text": [
      "Unclosed client session\n",
      "client_session: <aiohttp.client.ClientSession object at 0x000001956ADF76A0>\n",
      "Unclosed connector\n",
      "connections: ['[(<aiohttp.client_proto.ResponseHandler object at 0x00000195687DAA00>, 117664.984)]']\n",
      "connector: <aiohttp.connector.TCPConnector object at 0x000001956ADF76D0>\n"
     ]
    },
    {
     "name": "stdout",
     "output_type": "stream",
     "text": [
      "158 Manchester United Chelsea 22.04.2023\n"
     ]
    },
    {
     "name": "stderr",
     "output_type": "stream",
     "text": [
      "Unclosed client session\n",
      "client_session: <aiohttp.client.ClientSession object at 0x0000019568595430>\n",
      "Unclosed connector\n",
      "connections: ['[(<aiohttp.client_proto.ResponseHandler object at 0x0000019568911E20>, 117667.671)]']\n",
      "connector: <aiohttp.connector.TCPConnector object at 0x00000195685959D0>\n"
     ]
    },
    {
     "name": "stdout",
     "output_type": "stream",
     "text": [
      "159 Newcastle United Tottenham 22.04.2023\n"
     ]
    },
    {
     "name": "stderr",
     "output_type": "stream",
     "text": [
      "Unclosed client session\n",
      "client_session: <aiohttp.client.ClientSession object at 0x0000019568505CD0>\n",
      "Unclosed connector\n",
      "connections: ['[(<aiohttp.client_proto.ResponseHandler object at 0x0000019568911E20>, 117670.609)]']\n",
      "connector: <aiohttp.connector.TCPConnector object at 0x0000019568505E80>\n"
     ]
    },
    {
     "name": "stdout",
     "output_type": "stream",
     "text": [
      "160 Everton Newcastle United 25.04.2023\n"
     ]
    },
    {
     "name": "stderr",
     "output_type": "stream",
     "text": [
      "Unclosed client session\n",
      "client_session: <aiohttp.client.ClientSession object at 0x000001956AC7A280>\n",
      "Unclosed connector\n",
      "connections: ['[(<aiohttp.client_proto.ResponseHandler object at 0x0000019568194D60>, 117673.187)]']\n",
      "connector: <aiohttp.connector.TCPConnector object at 0x000001956AC7A190>\n"
     ]
    },
    {
     "name": "stdout",
     "output_type": "stream",
     "text": [
      "161 Leeds Leicester 25.04.2023\n"
     ]
    },
    {
     "name": "stderr",
     "output_type": "stream",
     "text": [
      "Unclosed client session\n",
      "client_session: <aiohttp.client.ClientSession object at 0x000001956881CE50>\n",
      "Unclosed connector\n",
      "connections: ['[(<aiohttp.client_proto.ResponseHandler object at 0x0000019568911E20>, 117676.14)]']\n",
      "connector: <aiohttp.connector.TCPConnector object at 0x000001956881CF40>\n"
     ]
    },
    {
     "name": "stdout",
     "output_type": "stream",
     "text": [
      "162 Nottingham Forest Brighton 25.04.2023\n"
     ]
    },
    {
     "name": "stderr",
     "output_type": "stream",
     "text": [
      "Unclosed client session\n",
      "client_session: <aiohttp.client.ClientSession object at 0x000001956AD79E80>\n",
      "Unclosed connector\n",
      "connections: ['[(<aiohttp.client_proto.ResponseHandler object at 0x0000019568911E20>, 117677.703)]']\n",
      "connector: <aiohttp.connector.TCPConnector object at 0x000001956AD79760>\n"
     ]
    },
    {
     "name": "stdout",
     "output_type": "stream",
     "text": [
      "163 Tottenham Manchester United 25.04.2023\n"
     ]
    },
    {
     "name": "stderr",
     "output_type": "stream",
     "text": [
      "Unclosed client session\n",
      "client_session: <aiohttp.client.ClientSession object at 0x0000019568411EE0>\n",
      "Unclosed connector\n",
      "connections: ['[(<aiohttp.client_proto.ResponseHandler object at 0x0000019568194D60>, 117680.453)]']\n",
      "connector: <aiohttp.connector.TCPConnector object at 0x0000019568411970>\n"
     ]
    },
    {
     "name": "stdout",
     "output_type": "stream",
     "text": [
      "164 West Ham Liverpool 25.04.2023\n"
     ]
    },
    {
     "name": "stderr",
     "output_type": "stream",
     "text": [
      "Unclosed client session\n",
      "client_session: <aiohttp.client.ClientSession object at 0x0000019568595B80>\n",
      "Unclosed connector\n",
      "connections: ['[(<aiohttp.client_proto.ResponseHandler object at 0x0000019569A33DC0>, 117683.734)]']\n",
      "connector: <aiohttp.connector.TCPConnector object at 0x0000019568595190>\n"
     ]
    },
    {
     "name": "stdout",
     "output_type": "stream",
     "text": [
      "165 Wolverhampton Wanderers Crystal Palace 25.04.2023\n"
     ]
    },
    {
     "name": "stderr",
     "output_type": "stream",
     "text": [
      "Unclosed client session\n",
      "client_session: <aiohttp.client.ClientSession object at 0x00000195684E6370>\n",
      "Unclosed connector\n",
      "connections: ['[(<aiohttp.client_proto.ResponseHandler object at 0x0000019569A33AC0>, 117686.343)]']\n",
      "connector: <aiohttp.connector.TCPConnector object at 0x00000195684E67C0>\n"
     ]
    },
    {
     "name": "stdout",
     "output_type": "stream",
     "text": [
      "166 Aston Villa Fulham 25.04.2023\n"
     ]
    },
    {
     "name": "stderr",
     "output_type": "stream",
     "text": [
      "Unclosed client session\n",
      "client_session: <aiohttp.client.ClientSession object at 0x000001956865E070>\n",
      "Unclosed connector\n",
      "connections: ['[(<aiohttp.client_proto.ResponseHandler object at 0x000001956AB46A60>, 117689.171)]']\n",
      "connector: <aiohttp.connector.TCPConnector object at 0x000001956865E190>\n"
     ]
    },
    {
     "name": "stdout",
     "output_type": "stream",
     "text": [
      "167 Chelsea Brentford 26.04.2023\n"
     ]
    },
    {
     "name": "stderr",
     "output_type": "stream",
     "text": [
      "Unclosed client session\n",
      "client_session: <aiohttp.client.ClientSession object at 0x00000195687DD280>\n",
      "Unclosed connector\n",
      "connections: ['[(<aiohttp.client_proto.ResponseHandler object at 0x0000019568194D60>, 117692.328)]']\n",
      "connector: <aiohttp.connector.TCPConnector object at 0x00000195687DDD00>\n"
     ]
    },
    {
     "name": "stdout",
     "output_type": "stream",
     "text": [
      "168 Southampton Bournemouth 26.04.2023\n"
     ]
    },
    {
     "name": "stderr",
     "output_type": "stream",
     "text": [
      "Unclosed client session\n",
      "client_session: <aiohttp.client.ClientSession object at 0x0000019568550280>\n",
      "Unclosed connector\n",
      "connections: ['[(<aiohttp.client_proto.ResponseHandler object at 0x0000019568911E20>, 117694.937)]']\n",
      "connector: <aiohttp.connector.TCPConnector object at 0x0000019568550760>\n"
     ]
    },
    {
     "name": "stdout",
     "output_type": "stream",
     "text": [
      "169 Manchester City Arsenal 26.04.2023\n"
     ]
    },
    {
     "name": "stderr",
     "output_type": "stream",
     "text": [
      "Unclosed client session\n",
      "client_session: <aiohttp.client.ClientSession object at 0x000001956AA700A0>\n",
      "Unclosed connector\n",
      "connections: ['[(<aiohttp.client_proto.ResponseHandler object at 0x00000195686289A0>, 117697.734)]']\n",
      "connector: <aiohttp.connector.TCPConnector object at 0x000001956AA70670>\n"
     ]
    },
    {
     "name": "stdout",
     "output_type": "stream",
     "text": [
      "170 Arsenal Chelsea 29.04.2023\n"
     ]
    },
    {
     "name": "stderr",
     "output_type": "stream",
     "text": [
      "Unclosed client session\n",
      "client_session: <aiohttp.client.ClientSession object at 0x000001956AD35550>\n",
      "Unclosed connector\n",
      "connections: ['[(<aiohttp.client_proto.ResponseHandler object at 0x0000019568194D60>, 117700.312)]']\n",
      "connector: <aiohttp.connector.TCPConnector object at 0x000001956AD354F0>\n"
     ]
    },
    {
     "name": "stdout",
     "output_type": "stream",
     "text": [
      "171 Bournemouth Leeds 29.04.2023\n"
     ]
    },
    {
     "name": "stderr",
     "output_type": "stream",
     "text": [
      "Unclosed client session\n",
      "client_session: <aiohttp.client.ClientSession object at 0x000001956881FA00>\n",
      "Unclosed connector\n",
      "connections: ['[(<aiohttp.client_proto.ResponseHandler object at 0x0000019568194D60>, 117702.359)]']\n",
      "connector: <aiohttp.connector.TCPConnector object at 0x000001956881F760>\n"
     ]
    },
    {
     "name": "stdout",
     "output_type": "stream",
     "text": [
      "172 Brentford Nottingham Forest 29.04.2023\n"
     ]
    },
    {
     "name": "stderr",
     "output_type": "stream",
     "text": [
      "Unclosed client session\n",
      "client_session: <aiohttp.client.ClientSession object at 0x000001956850D490>\n",
      "Unclosed connector\n",
      "connections: ['[(<aiohttp.client_proto.ResponseHandler object at 0x0000019568194D60>, 117704.328)]']\n",
      "connector: <aiohttp.connector.TCPConnector object at 0x000001956850D8B0>\n"
     ]
    },
    {
     "name": "stdout",
     "output_type": "stream",
     "text": [
      "173 Brighton Wolverhampton Wanderers 29.04.2023\n"
     ]
    },
    {
     "name": "stderr",
     "output_type": "stream",
     "text": [
      "Unclosed client session\n",
      "client_session: <aiohttp.client.ClientSession object at 0x0000019568740340>\n",
      "Unclosed connector\n",
      "connections: ['[(<aiohttp.client_proto.ResponseHandler object at 0x00000195699BD220>, 117707.312)]']\n",
      "connector: <aiohttp.connector.TCPConnector object at 0x0000019568740670>\n"
     ]
    },
    {
     "name": "stdout",
     "output_type": "stream",
     "text": [
      "174 Crystal Palace West Ham 29.04.2023\n"
     ]
    },
    {
     "name": "stderr",
     "output_type": "stream",
     "text": [
      "Unclosed client session\n",
      "client_session: <aiohttp.client.ClientSession object at 0x000001956AE1C490>\n",
      "Unclosed connector\n",
      "connections: ['[(<aiohttp.client_proto.ResponseHandler object at 0x00000195699BD220>, 117710.328)]']\n",
      "connector: <aiohttp.connector.TCPConnector object at 0x000001956AE1C4C0>\n"
     ]
    },
    {
     "name": "stdout",
     "output_type": "stream",
     "text": [
      "175 Fulham Manchester City 29.04.2023\n"
     ]
    },
    {
     "name": "stderr",
     "output_type": "stream",
     "text": [
      "Unclosed client session\n",
      "client_session: <aiohttp.client.ClientSession object at 0x000001956AAF8E20>\n",
      "Unclosed connector\n",
      "connections: ['[(<aiohttp.client_proto.ResponseHandler object at 0x00000195699BD220>, 117712.39)]']\n",
      "connector: <aiohttp.connector.TCPConnector object at 0x000001956AAF8EE0>\n"
     ]
    },
    {
     "name": "stdout",
     "output_type": "stream",
     "text": [
      "176 Leicester Everton 29.04.2023\n"
     ]
    },
    {
     "name": "stderr",
     "output_type": "stream",
     "text": [
      "Unclosed client session\n",
      "client_session: <aiohttp.client.ClientSession object at 0x00000195686CC2B0>\n",
      "Unclosed connector\n",
      "connections: ['[(<aiohttp.client_proto.ResponseHandler object at 0x000001956895BC40>, 117715.671)]']\n",
      "connector: <aiohttp.connector.TCPConnector object at 0x00000195686CCA00>\n"
     ]
    },
    {
     "name": "stdout",
     "output_type": "stream",
     "text": [
      "177 Liverpool Tottenham 29.04.2023\n"
     ]
    },
    {
     "name": "stderr",
     "output_type": "stream",
     "text": [
      "Unclosed client session\n",
      "client_session: <aiohttp.client.ClientSession object at 0x000001956AB05130>\n",
      "Unclosed connector\n",
      "connections: ['[(<aiohttp.client_proto.ResponseHandler object at 0x00000195687B1580>, 117718.468)]']\n",
      "connector: <aiohttp.connector.TCPConnector object at 0x000001956AB05160>\n"
     ]
    },
    {
     "name": "stdout",
     "output_type": "stream",
     "text": [
      "178 Manchester United Aston Villa 29.04.2023\n"
     ]
    },
    {
     "name": "stderr",
     "output_type": "stream",
     "text": [
      "Unclosed client session\n",
      "client_session: <aiohttp.client.ClientSession object at 0x000001956865ED00>\n",
      "Unclosed connector\n",
      "connections: ['[(<aiohttp.client_proto.ResponseHandler object at 0x00000195686289A0>, 117721.968)]']\n",
      "connector: <aiohttp.connector.TCPConnector object at 0x000001956865E3A0>\n"
     ]
    },
    {
     "name": "stdout",
     "output_type": "stream",
     "text": [
      "179 Newcastle United Southampton 29.04.2023\n"
     ]
    },
    {
     "name": "stderr",
     "output_type": "stream",
     "text": [
      "Unclosed client session\n",
      "client_session: <aiohttp.client.ClientSession object at 0x000001956AC27550>\n",
      "Unclosed connector\n",
      "connections: ['[(<aiohttp.client_proto.ResponseHandler object at 0x0000019569A23760>, 117725.218)]']\n",
      "connector: <aiohttp.connector.TCPConnector object at 0x000001956AC27910>\n"
     ]
    },
    {
     "name": "stdout",
     "output_type": "stream",
     "text": [
      "180 Bournemouth Chelsea 06.05.2023\n"
     ]
    },
    {
     "name": "stderr",
     "output_type": "stream",
     "text": [
      "Unclosed client session\n",
      "client_session: <aiohttp.client.ClientSession object at 0x000001956ACB24C0>\n",
      "Unclosed connector\n",
      "connections: ['[(<aiohttp.client_proto.ResponseHandler object at 0x00000195699BD220>, 117727.546)]']\n",
      "connector: <aiohttp.connector.TCPConnector object at 0x000001956ACB2490>\n"
     ]
    },
    {
     "name": "stdout",
     "output_type": "stream",
     "text": [
      "181 Brighton Everton 06.05.2023\n"
     ]
    },
    {
     "name": "stderr",
     "output_type": "stream",
     "text": [
      "Unclosed client session\n",
      "client_session: <aiohttp.client.ClientSession object at 0x00000195682288E0>\n",
      "Unclosed connector\n",
      "connections: ['[(<aiohttp.client_proto.ResponseHandler object at 0x00000195699BD220>, 117730.281)]']\n",
      "connector: <aiohttp.connector.TCPConnector object at 0x000001956881CC10>\n"
     ]
    },
    {
     "name": "stdout",
     "output_type": "stream",
     "text": [
      "182 Fulham Leicester 06.05.2023\n"
     ]
    },
    {
     "name": "stderr",
     "output_type": "stream",
     "text": [
      "Unclosed client session\n",
      "client_session: <aiohttp.client.ClientSession object at 0x000001956AC09610>\n",
      "Unclosed connector\n",
      "connections: ['[(<aiohttp.client_proto.ResponseHandler object at 0x0000019568486E80>, 117732.187)]']\n",
      "connector: <aiohttp.connector.TCPConnector object at 0x000001956AC09550>\n"
     ]
    },
    {
     "name": "stdout",
     "output_type": "stream",
     "text": [
      "183 Liverpool Brentford 06.05.2023\n"
     ]
    },
    {
     "name": "stderr",
     "output_type": "stream",
     "text": [
      "Unclosed client session\n",
      "client_session: <aiohttp.client.ClientSession object at 0x00000195684116D0>\n",
      "Unclosed connector\n",
      "connections: ['[(<aiohttp.client_proto.ResponseHandler object at 0x0000019568486E80>, 117735.234)]']\n",
      "connector: <aiohttp.connector.TCPConnector object at 0x0000019568411C40>\n"
     ]
    },
    {
     "name": "stdout",
     "output_type": "stream",
     "text": [
      "184 Manchester City Leeds 06.05.2023\n"
     ]
    },
    {
     "name": "stderr",
     "output_type": "stream",
     "text": [
      "Unclosed client session\n",
      "client_session: <aiohttp.client.ClientSession object at 0x000001956AD0C2B0>\n",
      "Unclosed connector\n",
      "connections: ['[(<aiohttp.client_proto.ResponseHandler object at 0x0000019568486E80>, 117738.0)]']\n",
      "connector: <aiohttp.connector.TCPConnector object at 0x000001956AD0C250>\n"
     ]
    },
    {
     "name": "stdout",
     "output_type": "stream",
     "text": [
      "185 Newcastle United Arsenal 06.05.2023\n"
     ]
    },
    {
     "name": "stderr",
     "output_type": "stream",
     "text": [
      "Unclosed client session\n",
      "client_session: <aiohttp.client.ClientSession object at 0x0000019568228B80>\n",
      "Unclosed connector\n",
      "connections: ['[(<aiohttp.client_proto.ResponseHandler object at 0x0000019568486E80>, 117740.578)]']\n",
      "connector: <aiohttp.connector.TCPConnector object at 0x0000019568970DC0>\n"
     ]
    },
    {
     "name": "stdout",
     "output_type": "stream",
     "text": [
      "186 Nottingham Forest Southampton 06.05.2023\n"
     ]
    },
    {
     "name": "stderr",
     "output_type": "stream",
     "text": [
      "Unclosed client session\n",
      "client_session: <aiohttp.client.ClientSession object at 0x00000195686CC310>\n",
      "Unclosed connector\n",
      "connections: ['[(<aiohttp.client_proto.ResponseHandler object at 0x0000019569A1E880>, 117742.296)]']\n",
      "connector: <aiohttp.connector.TCPConnector object at 0x00000195686CC640>\n"
     ]
    },
    {
     "name": "stdout",
     "output_type": "stream",
     "text": [
      "187 Tottenham Crystal Palace 06.05.2023\n"
     ]
    },
    {
     "name": "stderr",
     "output_type": "stream",
     "text": [
      "Unclosed client session\n",
      "client_session: <aiohttp.client.ClientSession object at 0x00000195688AAD90>\n",
      "Unclosed connector\n",
      "connections: ['[(<aiohttp.client_proto.ResponseHandler object at 0x0000019569A33AC0>, 117745.062)]']\n",
      "connector: <aiohttp.connector.TCPConnector object at 0x00000195688AA8B0>\n"
     ]
    },
    {
     "name": "stdout",
     "output_type": "stream",
     "text": [
      "188 West Ham Manchester United 06.05.2023\n"
     ]
    },
    {
     "name": "stderr",
     "output_type": "stream",
     "text": [
      "Unclosed client session\n",
      "client_session: <aiohttp.client.ClientSession object at 0x000001956884C730>\n",
      "Unclosed connector\n",
      "connections: ['[(<aiohttp.client_proto.ResponseHandler object at 0x00000195686A7CA0>, 117747.953)]']\n",
      "connector: <aiohttp.connector.TCPConnector object at 0x000001956884C0A0>\n"
     ]
    },
    {
     "name": "stdout",
     "output_type": "stream",
     "text": [
      "189 Wolverhampton Wanderers Aston Villa 06.05.2023\n"
     ]
    },
    {
     "name": "stderr",
     "output_type": "stream",
     "text": [
      "Unclosed client session\n",
      "client_session: <aiohttp.client.ClientSession object at 0x0000019568433760>\n",
      "Unclosed connector\n",
      "connections: ['[(<aiohttp.client_proto.ResponseHandler object at 0x000001956895B2E0>, 117750.875)]']\n",
      "connector: <aiohttp.connector.TCPConnector object at 0x0000019568433D30>\n"
     ]
    },
    {
     "name": "stdout",
     "output_type": "stream",
     "text": [
      "190 Arsenal Brighton 13.05.2023\n"
     ]
    },
    {
     "name": "stderr",
     "output_type": "stream",
     "text": [
      "Unclosed client session\n",
      "client_session: <aiohttp.client.ClientSession object at 0x0000019568886C10>\n",
      "Unclosed connector\n",
      "connections: ['[(<aiohttp.client_proto.ResponseHandler object at 0x00000195686A7CA0>, 117753.968)]']\n",
      "connector: <aiohttp.connector.TCPConnector object at 0x0000019568886CA0>\n"
     ]
    },
    {
     "name": "stdout",
     "output_type": "stream",
     "text": [
      "191 Aston Villa Tottenham 13.05.2023\n"
     ]
    },
    {
     "name": "stderr",
     "output_type": "stream",
     "text": [
      "Unclosed client session\n",
      "client_session: <aiohttp.client.ClientSession object at 0x00000195688B4370>\n",
      "Unclosed connector\n",
      "connections: ['[(<aiohttp.client_proto.ResponseHandler object at 0x0000019568780D60>, 117756.859)]']\n",
      "connector: <aiohttp.connector.TCPConnector object at 0x00000195688B4190>\n"
     ]
    },
    {
     "name": "stdout",
     "output_type": "stream",
     "text": [
      "192 Brentford West Ham 13.05.2023\n"
     ]
    },
    {
     "name": "stderr",
     "output_type": "stream",
     "text": [
      "Unclosed client session\n",
      "client_session: <aiohttp.client.ClientSession object at 0x00000195687A2CA0>\n",
      "Unclosed connector\n",
      "connections: ['[(<aiohttp.client_proto.ResponseHandler object at 0x00000195687B1CA0>, 117758.89)]']\n",
      "connector: <aiohttp.connector.TCPConnector object at 0x00000195687A2130>\n"
     ]
    },
    {
     "name": "stdout",
     "output_type": "stream",
     "text": [
      "193 Chelsea Nottingham Forest 13.05.2023\n"
     ]
    },
    {
     "name": "stderr",
     "output_type": "stream",
     "text": [
      "Unclosed client session\n",
      "client_session: <aiohttp.client.ClientSession object at 0x0000019568779A90>\n",
      "Unclosed connector\n",
      "connections: ['[(<aiohttp.client_proto.ResponseHandler object at 0x0000019568486E80>, 117762.828)]']\n",
      "connector: <aiohttp.connector.TCPConnector object at 0x0000019568779970>\n"
     ]
    },
    {
     "name": "stdout",
     "output_type": "stream",
     "text": [
      "194 Crystal Palace Bournemouth 13.05.2023\n"
     ]
    },
    {
     "name": "stderr",
     "output_type": "stream",
     "text": [
      "Unclosed client session\n",
      "client_session: <aiohttp.client.ClientSession object at 0x0000019568413490>\n",
      "Unclosed connector\n",
      "connections: ['[(<aiohttp.client_proto.ResponseHandler object at 0x0000019568486E80>, 117765.953)]']\n",
      "connector: <aiohttp.connector.TCPConnector object at 0x0000019568413760>\n"
     ]
    },
    {
     "name": "stdout",
     "output_type": "stream",
     "text": [
      "195 Everton Manchester City 13.05.2023\n"
     ]
    },
    {
     "name": "stderr",
     "output_type": "stream",
     "text": [
      "Unclosed client session\n",
      "client_session: <aiohttp.client.ClientSession object at 0x000001956850DAC0>\n",
      "Unclosed connector\n",
      "connections: ['[(<aiohttp.client_proto.ResponseHandler object at 0x0000019568649520>, 117768.625)]']\n",
      "connector: <aiohttp.connector.TCPConnector object at 0x000001956850DD90>\n"
     ]
    },
    {
     "name": "stdout",
     "output_type": "stream",
     "text": [
      "196 Leeds Newcastle United 13.05.2023\n"
     ]
    },
    {
     "name": "stderr",
     "output_type": "stream",
     "text": [
      "Unclosed client session\n",
      "client_session: <aiohttp.client.ClientSession object at 0x000001956AD13700>\n",
      "Unclosed connector\n",
      "connections: ['[(<aiohttp.client_proto.ResponseHandler object at 0x000001956AB46BE0>, 117771.078)]']\n",
      "connector: <aiohttp.connector.TCPConnector object at 0x000001956AD13DF0>\n"
     ]
    },
    {
     "name": "stdout",
     "output_type": "stream",
     "text": [
      "197 Leicester Liverpool 13.05.2023\n"
     ]
    },
    {
     "name": "stderr",
     "output_type": "stream",
     "text": [
      "Unclosed client session\n",
      "client_session: <aiohttp.client.ClientSession object at 0x0000019568884850>\n",
      "Unclosed connector\n",
      "connections: ['[(<aiohttp.client_proto.ResponseHandler object at 0x0000019568486E80>, 117773.937)]']\n",
      "connector: <aiohttp.connector.TCPConnector object at 0x00000195688841F0>\n"
     ]
    },
    {
     "name": "stdout",
     "output_type": "stream",
     "text": [
      "198 Manchester United Wolverhampton Wanderers 13.05.2023\n"
     ]
    },
    {
     "name": "stderr",
     "output_type": "stream",
     "text": [
      "Unclosed client session\n",
      "client_session: <aiohttp.client.ClientSession object at 0x0000019568633DF0>\n",
      "Unclosed connector\n",
      "connections: ['[(<aiohttp.client_proto.ResponseHandler object at 0x0000019569A33DC0>, 117777.031)]']\n",
      "connector: <aiohttp.connector.TCPConnector object at 0x0000019568633AC0>\n"
     ]
    },
    {
     "name": "stdout",
     "output_type": "stream",
     "text": [
      "199 Southampton Fulham 13.05.2023\n"
     ]
    },
    {
     "name": "stderr",
     "output_type": "stream",
     "text": [
      "Unclosed client session\n",
      "client_session: <aiohttp.client.ClientSession object at 0x000001956AA61550>\n",
      "Unclosed connector\n",
      "connections: ['[(<aiohttp.client_proto.ResponseHandler object at 0x000001956AB46BE0>, 117779.89)]']\n",
      "connector: <aiohttp.connector.TCPConnector object at 0x000001956AA614F0>\n"
     ]
    },
    {
     "name": "stdout",
     "output_type": "stream",
     "text": [
      "200 Bournemouth Manchester United 20.05.2023\n"
     ]
    },
    {
     "name": "stderr",
     "output_type": "stream",
     "text": [
      "Unclosed client session\n",
      "client_session: <aiohttp.client.ClientSession object at 0x00000195685508E0>\n",
      "Unclosed connector\n",
      "connections: ['[(<aiohttp.client_proto.ResponseHandler object at 0x0000019569A23760>, 117781.828)]']\n",
      "connector: <aiohttp.connector.TCPConnector object at 0x0000019568550310>\n"
     ]
    },
    {
     "name": "stdout",
     "output_type": "stream",
     "text": [
      "201 Brighton Southampton 20.05.2023\n"
     ]
    },
    {
     "name": "stderr",
     "output_type": "stream",
     "text": [
      "Unclosed client session\n",
      "client_session: <aiohttp.client.ClientSession object at 0x00000195688AA1F0>\n",
      "Unclosed connector\n",
      "connections: ['[(<aiohttp.client_proto.ResponseHandler object at 0x0000019569A23760>, 117785.406)]']\n",
      "connector: <aiohttp.connector.TCPConnector object at 0x00000195688AA100>\n"
     ]
    },
    {
     "name": "stdout",
     "output_type": "stream",
     "text": [
      "202 Fulham Crystal Palace 20.05.2023\n"
     ]
    },
    {
     "name": "stderr",
     "output_type": "stream",
     "text": [
      "Unclosed client session\n",
      "client_session: <aiohttp.client.ClientSession object at 0x000001956AA68D60>\n",
      "Unclosed connector\n",
      "connections: ['[(<aiohttp.client_proto.ResponseHandler object at 0x00000195699BD460>, 117787.25)]']\n",
      "connector: <aiohttp.connector.TCPConnector object at 0x000001956AA68070>\n"
     ]
    },
    {
     "name": "stdout",
     "output_type": "stream",
     "text": [
      "203 Liverpool Aston Villa 20.05.2023\n"
     ]
    },
    {
     "name": "stderr",
     "output_type": "stream",
     "text": [
      "Unclosed client session\n",
      "client_session: <aiohttp.client.ClientSession object at 0x0000019568468070>\n",
      "Unclosed connector\n",
      "connections: ['[(<aiohttp.client_proto.ResponseHandler object at 0x0000019569A23760>, 117790.89)]']\n",
      "connector: <aiohttp.connector.TCPConnector object at 0x0000019568468F70>\n"
     ]
    },
    {
     "name": "stdout",
     "output_type": "stream",
     "text": [
      "204 Manchester City Chelsea 20.05.2023\n"
     ]
    },
    {
     "name": "stderr",
     "output_type": "stream",
     "text": [
      "Unclosed client session\n",
      "client_session: <aiohttp.client.ClientSession object at 0x000001956AD61DC0>\n",
      "Unclosed connector\n",
      "connections: ['[(<aiohttp.client_proto.ResponseHandler object at 0x00000195699BD460>, 117794.015)]']\n",
      "connector: <aiohttp.connector.TCPConnector object at 0x000001956AD61C70>\n"
     ]
    },
    {
     "name": "stdout",
     "output_type": "stream",
     "text": [
      "205 Newcastle United Leicester 20.05.2023\n"
     ]
    },
    {
     "name": "stderr",
     "output_type": "stream",
     "text": [
      "Unclosed client session\n",
      "client_session: <aiohttp.client.ClientSession object at 0x000001956AABF370>\n",
      "Unclosed connector\n",
      "connections: ['[(<aiohttp.client_proto.ResponseHandler object at 0x0000019569A1EAC0>, 117796.765)]']\n",
      "connector: <aiohttp.connector.TCPConnector object at 0x000001956AABF3A0>\n"
     ]
    },
    {
     "name": "stdout",
     "output_type": "stream",
     "text": [
      "206 Nottingham Forest Arsenal 20.05.2023\n"
     ]
    },
    {
     "name": "stderr",
     "output_type": "stream",
     "text": [
      "Unclosed client session\n",
      "client_session: <aiohttp.client.ClientSession object at 0x0000019568779B20>\n",
      "Unclosed connector\n",
      "connections: ['[(<aiohttp.client_proto.ResponseHandler object at 0x0000019569A1EAC0>, 117798.546)]']\n",
      "connector: <aiohttp.connector.TCPConnector object at 0x00000195687791C0>\n"
     ]
    },
    {
     "name": "stdout",
     "output_type": "stream",
     "text": [
      "207 Tottenham Brentford 20.05.2023\n"
     ]
    },
    {
     "name": "stderr",
     "output_type": "stream",
     "text": [
      "Unclosed client session\n",
      "client_session: <aiohttp.client.ClientSession object at 0x000001956AD6EF70>\n",
      "Unclosed connector\n",
      "connections: ['[(<aiohttp.client_proto.ResponseHandler object at 0x0000019569A23760>, 117801.484)]']\n",
      "connector: <aiohttp.connector.TCPConnector object at 0x000001956AD6EEE0>\n"
     ]
    },
    {
     "name": "stdout",
     "output_type": "stream",
     "text": [
      "208 West Ham Leeds 20.05.2023\n"
     ]
    },
    {
     "name": "stderr",
     "output_type": "stream",
     "text": [
      "Unclosed client session\n",
      "client_session: <aiohttp.client.ClientSession object at 0x000001956AD4FDF0>\n",
      "Unclosed connector\n",
      "connections: ['[(<aiohttp.client_proto.ResponseHandler object at 0x0000019568780FA0>, 117804.296)]']\n",
      "connector: <aiohttp.connector.TCPConnector object at 0x00000195686F9760>\n"
     ]
    },
    {
     "name": "stdout",
     "output_type": "stream",
     "text": [
      "209 Wolverhampton Wanderers Everton 20.05.2023\n"
     ]
    },
    {
     "name": "stderr",
     "output_type": "stream",
     "text": [
      "Unclosed client session\n",
      "client_session: <aiohttp.client.ClientSession object at 0x000001956AB40A90>\n",
      "Unclosed connector\n",
      "connections: ['[(<aiohttp.client_proto.ResponseHandler object at 0x0000019569A23760>, 117806.921)]']\n",
      "connector: <aiohttp.connector.TCPConnector object at 0x000001956AB40AC0>\n"
     ]
    },
    {
     "name": "stdout",
     "output_type": "stream",
     "text": [
      "210 Arsenal Wolverhampton Wanderers 28.05.2023\n"
     ]
    },
    {
     "name": "stderr",
     "output_type": "stream",
     "text": [
      "Unclosed client session\n",
      "client_session: <aiohttp.client.ClientSession object at 0x000001956AB026D0>\n",
      "Unclosed connector\n",
      "connections: ['[(<aiohttp.client_proto.ResponseHandler object at 0x00000195688BD160>, 117810.187)]']\n",
      "connector: <aiohttp.connector.TCPConnector object at 0x000001956AB02700>\n"
     ]
    },
    {
     "name": "stdout",
     "output_type": "stream",
     "text": [
      "211 Aston Villa Brighton 28.05.2023\n"
     ]
    },
    {
     "name": "stderr",
     "output_type": "stream",
     "text": [
      "Unclosed client session\n",
      "client_session: <aiohttp.client.ClientSession object at 0x000001956884CEB0>\n",
      "Unclosed connector\n",
      "connections: ['[(<aiohttp.client_proto.ResponseHandler object at 0x0000019568649520>, 117813.359)]']\n",
      "connector: <aiohttp.connector.TCPConnector object at 0x000001956884C6D0>\n"
     ]
    },
    {
     "name": "stdout",
     "output_type": "stream",
     "text": [
      "212 Brentford Manchester City 28.05.2023\n"
     ]
    },
    {
     "name": "stderr",
     "output_type": "stream",
     "text": [
      "Unclosed client session\n",
      "client_session: <aiohttp.client.ClientSession object at 0x000001956AEA63A0>\n",
      "Unclosed connector\n",
      "connections: ['[(<aiohttp.client_proto.ResponseHandler object at 0x0000019569A23760>, 117815.718)]']\n",
      "connector: <aiohttp.connector.TCPConnector object at 0x000001956AEA6250>\n"
     ]
    },
    {
     "name": "stdout",
     "output_type": "stream",
     "text": [
      "213 Chelsea Newcastle United 28.05.2023\n"
     ]
    },
    {
     "name": "stderr",
     "output_type": "stream",
     "text": [
      "Unclosed client session\n",
      "client_session: <aiohttp.client.ClientSession object at 0x000001956881FA30>\n",
      "Unclosed connector\n",
      "connections: ['[(<aiohttp.client_proto.ResponseHandler object at 0x00000195687DAB20>, 117818.484)]']\n",
      "connector: <aiohttp.connector.TCPConnector object at 0x000001956881F910>\n"
     ]
    },
    {
     "name": "stdout",
     "output_type": "stream",
     "text": [
      "214 Crystal Palace Nottingham Forest 28.05.2023\n"
     ]
    },
    {
     "name": "stderr",
     "output_type": "stream",
     "text": [
      "Unclosed client session\n",
      "client_session: <aiohttp.client.ClientSession object at 0x00000195684E7280>\n",
      "Unclosed connector\n",
      "connections: ['[(<aiohttp.client_proto.ResponseHandler object at 0x0000019568486EE0>, 117821.281)]']\n",
      "connector: <aiohttp.connector.TCPConnector object at 0x00000195684E7E20>\n"
     ]
    },
    {
     "name": "stdout",
     "output_type": "stream",
     "text": [
      "215 Everton Bournemouth 28.05.2023\n"
     ]
    },
    {
     "name": "stderr",
     "output_type": "stream",
     "text": [
      "Unclosed client session\n",
      "client_session: <aiohttp.client.ClientSession object at 0x00000195683CD280>\n",
      "Unclosed connector\n",
      "connections: ['[(<aiohttp.client_proto.ResponseHandler object at 0x00000195699BD220>, 117823.984)]']\n",
      "connector: <aiohttp.connector.TCPConnector object at 0x00000195683CDB50>\n"
     ]
    },
    {
     "name": "stdout",
     "output_type": "stream",
     "text": [
      "216 Leeds Tottenham 28.05.2023\n"
     ]
    },
    {
     "name": "stderr",
     "output_type": "stream",
     "text": [
      "Unclosed client session\n",
      "client_session: <aiohttp.client.ClientSession object at 0x0000019568827E80>\n",
      "Unclosed connector\n",
      "connections: ['[(<aiohttp.client_proto.ResponseHandler object at 0x0000019568486EE0>, 117826.156)]']\n",
      "connector: <aiohttp.connector.TCPConnector object at 0x0000019568827640>\n"
     ]
    },
    {
     "name": "stdout",
     "output_type": "stream",
     "text": [
      "217 Leicester West Ham 28.05.2023\n"
     ]
    },
    {
     "name": "stderr",
     "output_type": "stream",
     "text": [
      "Unclosed client session\n",
      "client_session: <aiohttp.client.ClientSession object at 0x00000195684E74C0>\n",
      "Unclosed connector\n",
      "connections: ['[(<aiohttp.client_proto.ResponseHandler object at 0x0000019569A1E880>, 117828.796)]']\n",
      "connector: <aiohttp.connector.TCPConnector object at 0x00000195684E7550>\n"
     ]
    },
    {
     "name": "stdout",
     "output_type": "stream",
     "text": [
      "218 Manchester United Fulham 28.05.2023\n"
     ]
    },
    {
     "name": "stderr",
     "output_type": "stream",
     "text": [
      "Unclosed client session\n",
      "client_session: <aiohttp.client.ClientSession object at 0x000001956AB0BB20>\n",
      "Unclosed connector\n",
      "connections: ['[(<aiohttp.client_proto.ResponseHandler object at 0x000001956AB46BE0>, 117831.796)]']\n",
      "connector: <aiohttp.connector.TCPConnector object at 0x000001956AB0B730>\n"
     ]
    },
    {
     "name": "stdout",
     "output_type": "stream",
     "text": [
      "219 Southampton Liverpool 28.05.2023\n"
     ]
    }
   ],
   "source": [
    "for index, row in temp_table.iterrows():\n",
    "    t_minus_1_season = int(Ofstat.season_mapping[season.value-1].split('-')[0])\n",
    "    t_minus_2_season = int(Ofstat.season_mapping[season.value-2].split('-')[0])\n",
    "    t_minus_3_season = int(Ofstat.season_mapping[season.value-3].split('-')[0])\n",
    "\n",
    "    print(index, row['Host'], row['Guest'], row['Date'])\n",
    "    session = aiohttp.ClientSession()\n",
    "    understat = Understat(session)\n",
    "    h2h_3_years = pd.DataFrame(columns=['target team','opposite team','date','target team goals','target team xG','opposite team goals','opposite team xG'])\n",
    "    \n",
    "    for year in [t_minus_1_season, t_minus_2_season, t_minus_3_season]:\n",
    "        host_stats_year = await understat.get_team_results(row['Host'], year)\n",
    "        host_stats_year = pd.DataFrame(host_stats_year)\n",
    "        year_h2h = my_understat.get_season_h2h(host_stats_year, row[\"Guest\"])\n",
    "        h2h_3_years = h2h_3_years.append(year_h2h)\n",
    "    \n",
    "    temp_table.loc[index, 'Host: h2h average xG 3y'] = pd.DataFrame(h2h_3_years)['target team xG'].values.mean() if sum(pd.DataFrame(h2h_3_years)['target team xG'].values) != 0 else 0\n",
    "    temp_table.loc[index, 'Guest: h2h average xG 3y'] = pd.DataFrame(h2h_3_years)['opposite team xG'].values.mean() if sum(pd.DataFrame(h2h_3_years)['opposite team xG'].values) != 0 else 0\n",
    "    \n",
    "    temp_table.loc[index, 'Host: h2h average G 3y'] = pd.DataFrame(h2h_3_years)['target team goals'].values.mean() if sum(pd.DataFrame(h2h_3_years)['target team goals'].values) != 0 else 0\n",
    "    temp_table.loc[index, 'Host: h2h average GA 3y'] = pd.DataFrame(h2h_3_years)['opposite team goals'].values.mean() if sum(pd.DataFrame(h2h_3_years)['opposite team goals'].values) != 0 else 0"
   ]
  },
  {
   "cell_type": "code",
   "execution_count": 35,
   "metadata": {},
   "outputs": [
    {
     "data": {
      "text/html": [
       "<div>\n",
       "<style scoped>\n",
       "    .dataframe tbody tr th:only-of-type {\n",
       "        vertical-align: middle;\n",
       "    }\n",
       "\n",
       "    .dataframe tbody tr th {\n",
       "        vertical-align: top;\n",
       "    }\n",
       "\n",
       "    .dataframe thead th {\n",
       "        text-align: right;\n",
       "    }\n",
       "</style>\n",
       "<table border=\"1\" class=\"dataframe\">\n",
       "  <thead>\n",
       "    <tr style=\"text-align: right;\">\n",
       "      <th></th>\n",
       "      <th>Date</th>\n",
       "      <th>Host</th>\n",
       "      <th>Guest</th>\n",
       "      <th>Host: h2h average xG 3y</th>\n",
       "      <th>Guest: h2h average xG 3y</th>\n",
       "      <th>Host: h2h average G 3y</th>\n",
       "      <th>Host: h2h average GA 3y</th>\n",
       "    </tr>\n",
       "  </thead>\n",
       "  <tbody>\n",
       "    <tr>\n",
       "      <th>0</th>\n",
       "      <td>26.12.2022</td>\n",
       "      <td>Arsenal</td>\n",
       "      <td>West Ham</td>\n",
       "      <td>1.635354</td>\n",
       "      <td>1.249815</td>\n",
       "      <td>2.166667</td>\n",
       "      <td>1.000000</td>\n",
       "    </tr>\n",
       "    <tr>\n",
       "      <th>1</th>\n",
       "      <td>26.12.2022</td>\n",
       "      <td>Aston Villa</td>\n",
       "      <td>Liverpool</td>\n",
       "      <td>1.142684</td>\n",
       "      <td>1.956815</td>\n",
       "      <td>1.666667</td>\n",
       "      <td>1.833333</td>\n",
       "    </tr>\n",
       "    <tr>\n",
       "      <th>2</th>\n",
       "      <td>26.12.2022</td>\n",
       "      <td>Brentford</td>\n",
       "      <td>Tottenham</td>\n",
       "      <td>0.770396</td>\n",
       "      <td>1.295117</td>\n",
       "      <td>0.000000</td>\n",
       "      <td>1.000000</td>\n",
       "    </tr>\n",
       "    <tr>\n",
       "      <th>3</th>\n",
       "      <td>26.12.2022</td>\n",
       "      <td>Chelsea</td>\n",
       "      <td>Bournemouth</td>\n",
       "      <td>2.001950</td>\n",
       "      <td>1.396360</td>\n",
       "      <td>1.000000</td>\n",
       "      <td>1.500000</td>\n",
       "    </tr>\n",
       "    <tr>\n",
       "      <th>4</th>\n",
       "      <td>26.12.2022</td>\n",
       "      <td>Crystal Palace</td>\n",
       "      <td>Fulham</td>\n",
       "      <td>1.449252</td>\n",
       "      <td>0.932857</td>\n",
       "      <td>1.000000</td>\n",
       "      <td>0.500000</td>\n",
       "    </tr>\n",
       "  </tbody>\n",
       "</table>\n",
       "</div>"
      ],
      "text/plain": [
       "         Date            Host        Guest  Host: h2h average xG 3y  \\\n",
       "0  26.12.2022         Arsenal     West Ham                 1.635354   \n",
       "1  26.12.2022     Aston Villa    Liverpool                 1.142684   \n",
       "2  26.12.2022       Brentford    Tottenham                 0.770396   \n",
       "3  26.12.2022         Chelsea  Bournemouth                 2.001950   \n",
       "4  26.12.2022  Crystal Palace       Fulham                 1.449252   \n",
       "\n",
       "   Guest: h2h average xG 3y  Host: h2h average G 3y  Host: h2h average GA 3y  \n",
       "0                  1.249815                2.166667                 1.000000  \n",
       "1                  1.956815                1.666667                 1.833333  \n",
       "2                  1.295117                0.000000                 1.000000  \n",
       "3                  1.396360                1.000000                 1.500000  \n",
       "4                  0.932857                1.000000                 0.500000  "
      ]
     },
     "execution_count": 35,
     "metadata": {},
     "output_type": "execute_result"
    }
   ],
   "source": [
    "temp_table[['Date', 'Host', 'Guest', 'Host: h2h average xG 3y', 'Guest: h2h average xG 3y', 'Host: h2h average G 3y', 'Host: h2h average GA 3y']].head()"
   ]
  },
  {
   "cell_type": "code",
   "execution_count": 38,
   "metadata": {},
   "outputs": [],
   "source": [
    "# temp_table.to_csv('') имя файла куда сохранить"
   ]
  },
  {
   "cell_type": "code",
   "execution_count": 36,
   "metadata": {},
   "outputs": [],
   "source": [
    "temp_table.to_csv('22_23_unlabeled_data_epl.csv')"
   ]
  }
 ],
 "metadata": {
  "kernelspec": {
   "display_name": "Python 3",
   "language": "python",
   "name": "python3"
  },
  "language_info": {
   "codemirror_mode": {
    "name": "ipython",
    "version": 3
   },
   "file_extension": ".py",
   "mimetype": "text/x-python",
   "name": "python",
   "nbconvert_exporter": "python",
   "pygments_lexer": "ipython3",
   "version": "3.8.0"
  }
 },
 "nbformat": 4,
 "nbformat_minor": 4
}
